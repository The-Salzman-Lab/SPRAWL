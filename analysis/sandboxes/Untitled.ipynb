{
 "cells": [
  {
   "cell_type": "code",
   "execution_count": 1,
   "id": "2391bb4f",
   "metadata": {},
   "outputs": [],
   "source": [
    "import sprawl"
   ]
  },
  {
   "cell_type": "code",
   "execution_count": 3,
   "id": "100746d3",
   "metadata": {},
   "outputs": [
    {
     "data": {
      "text/plain": [
       "sprawl.hdf5.HDF5"
      ]
     },
     "execution_count": 3,
     "metadata": {},
     "output_type": "execute_result"
    }
   ],
   "source": [
    "sprawl.HDF5"
   ]
  }
 ],
 "metadata": {
  "kernelspec": {
   "display_name": "sprawl",
   "language": "python",
   "name": "srrs"
  },
  "language_info": {
   "codemirror_mode": {
    "name": "ipython",
    "version": 3
   },
   "file_extension": ".py",
   "mimetype": "text/x-python",
   "name": "python",
   "nbconvert_exporter": "python",
   "pygments_lexer": "ipython3",
   "version": "3.9.0"
  }
 },
 "nbformat": 4,
 "nbformat_minor": 5
}
