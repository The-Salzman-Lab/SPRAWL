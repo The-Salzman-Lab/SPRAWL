{
 "cells": [
  {
   "cell_type": "code",
   "execution_count": 1,
   "id": "4163b9dc",
   "metadata": {},
   "outputs": [
    {
     "data": {
      "text/plain": [
       "['/scratch/users/rbierman/spatial_collaboration/work/29/b58158eb7b05df5d0684df645de7e3/spot_assigned_fov.hdf5',\n",
       " '/scratch/users/rbierman/spatial_collaboration/work/29/b58158eb7b05df5d0684df645de7e3/spot_assigned_fov_gv.hdf5']"
      ]
     },
     "execution_count": 1,
     "metadata": {},
     "output_type": "execute_result"
    }
   ],
   "source": [
    "import h5py\n",
    "import glob\n",
    "import shapely\n",
    "import matplotlib.pyplot as plt\n",
    "\n",
    "import sprawl\n",
    "from sprawl import plotting\n",
    "\n",
    "glob.glob('/scratch/users/rbierman/spatial_collaboration/work/29/b58158eb7b05df5d0684df645de7e3/*')"
   ]
  },
  {
   "cell_type": "code",
   "execution_count": 2,
   "id": "fae4f8c4",
   "metadata": {},
   "outputs": [
    {
     "name": "stdout",
     "output_type": "stream",
     "text": [
      "<KeysViewHDF5 ['cell_ids', 'cells', 'genes']>\n",
      "[b'101893369730137534934277062422669960009'\n",
      " b'103033477859306864900208580085719782529']\n",
      "[b'0' b'1' b'10' b'100' b'103' b'105' b'107' b'109' b'11' b'111' b'112'\n",
      " b'114' b'115' b'116' b'117' b'12' b'120' b'121' b'123' b'126' b'128'\n",
      " b'129' b'130' b'131' b'132' b'133' b'134' b'136' b'137' b'138' b'14'\n",
      " b'140' b'143' b'144' b'145' b'146' b'147' b'151' b'153' b'154' b'156'\n",
      " b'158' b'159' b'16' b'164' b'169' b'17' b'171' b'175' b'179' b'18' b'19'\n",
      " b'2' b'20' b'21' b'22' b'23' b'24' b'26' b'27' b'28' b'29' b'3' b'30'\n",
      " b'31' b'32' b'33' b'34' b'35' b'36' b'38' b'39' b'4' b'41' b'42' b'43'\n",
      " b'44' b'45' b'46' b'47' b'48' b'49' b'5' b'50' b'52' b'53' b'54' b'55'\n",
      " b'56' b'57' b'58' b'59' b'6' b'60' b'61' b'62' b'63' b'64' b'65' b'66'\n",
      " b'67' b'68' b'7' b'71' b'73' b'75' b'76' b'78' b'79' b'8' b'80' b'81'\n",
      " b'82' b'83' b'84' b'86' b'87' b'88' b'89' b'9' b'90' b'91' b'92' b'93'\n",
      " b'94' b'96' b'97' b'98' b'99']\n",
      "<KeysViewHDF5 ['boundaries', 'spot_coords', 'spot_genes']>\n"
     ]
    }
   ],
   "source": [
    "#this is the file before filtering and variance calculation\n",
    "f_in = h5py.File(\n",
    "    '/scratch/users/rbierman/spatial_collaboration/work/29/b58158eb7b05df5d0684df645de7e3/spot_assigned_fov.hdf5',\n",
    "    'r',\n",
    ")\n",
    "\n",
    "print(f_in.keys())\n",
    "print(f_in['cell_ids'][:2]) #there are ~144, just printing the first two\n",
    "print(f_in['genes'][:])\n",
    "print(f_in['cells']['101893369730137534934277062422669960009'].keys())\n",
    "f_in.close()"
   ]
  },
  {
   "cell_type": "code",
   "execution_count": 3,
   "id": "1f8948fd",
   "metadata": {},
   "outputs": [
    {
     "data": {
      "text/plain": [
       "HDF5 /scratch/users/rbierman/spatial_collaboration/work/29/b58158eb7b05df5d0684df645de7e3/spot_assigned_fov.hdf5"
      ]
     },
     "execution_count": 3,
     "metadata": {},
     "output_type": "execute_result"
    }
   ],
   "source": [
    "#???\n",
    "sample = sprawl.HDF5(\n",
    "    '/scratch/users/rbierman/spatial_collaboration/work/29/b58158eb7b05df5d0684df645de7e3/spot_assigned_fov.hdf5',\n",
    ")\n",
    "sample"
   ]
  },
  {
   "cell_type": "code",
   "execution_count": 4,
   "id": "5392f151",
   "metadata": {},
   "outputs": [],
   "source": [
    "plotting.plot_cell_3D?"
   ]
  },
  {
   "cell_type": "code",
   "execution_count": 5,
   "id": "fbe05025",
   "metadata": {},
   "outputs": [
    {
     "name": "stdout",
     "output_type": "stream",
     "text": [
      "14\n",
      "1\n",
      "1\n",
      "6\n",
      "1\n",
      "6\n",
      "1\n",
      "12\n",
      "1\n",
      "8\n",
      "6\n",
      "1\n",
      "34\n",
      "13\n",
      "1\n",
      "7\n",
      "2\n",
      "15\n",
      "3\n",
      "2\n",
      "6\n",
      "4\n",
      "2\n",
      "4\n",
      "6\n",
      "40\n",
      "11\n",
      "1\n",
      "1\n",
      "9\n",
      "1\n",
      "7\n",
      "4\n",
      "3\n",
      "4\n",
      "1\n",
      "1\n",
      "13\n",
      "3\n",
      "4\n",
      "6\n",
      "3\n",
      "21\n",
      "1\n",
      "5\n",
      "42\n",
      "2\n",
      "1\n",
      "5\n",
      "8\n",
      "1\n",
      "3\n",
      "34\n",
      "28\n",
      "4\n",
      "2\n",
      "39\n",
      "2\n",
      "4\n",
      "11\n",
      "1\n",
      "35\n",
      "2\n",
      "1\n",
      "48\n",
      "58\n",
      "9\n",
      "10\n",
      "15\n",
      "17\n",
      "8\n",
      "4\n",
      "40\n",
      "14\n",
      "3\n",
      "7\n",
      "2\n",
      "1\n",
      "2\n",
      "4\n",
      "8\n",
      "36\n",
      "3\n",
      "1\n",
      "4\n",
      "14\n",
      "33\n",
      "4\n",
      "6\n",
      "8\n",
      "8\n",
      "5\n",
      "2\n",
      "3\n",
      "1\n",
      "1\n",
      "3\n",
      "1\n",
      "3\n",
      "67\n",
      "1\n",
      "3\n",
      "44\n",
      "21\n",
      "1\n",
      "2\n",
      "17\n",
      "29\n",
      "8\n",
      "5\n",
      "3\n",
      "1\n",
      "33\n",
      "4\n"
     ]
    }
   ],
   "source": [
    "#none of the cell have 100 spots, so they are all filtered out\n",
    "#I can change this threshold if too much data is thrown away\n",
    "for cell in sample.cells():\n",
    "    num_spots = sum(cell.gene_counts.values())\n",
    "    print(num_spots)\n",
    "#     fig,ax = plotting.plot_cell_3D(cell)\n",
    "#     plt.title(num_spots)\n",
    "#     plt.show()\n",
    "#     plt.close()"
   ]
  },
  {
   "cell_type": "code",
   "execution_count": 6,
   "id": "df91d2e6",
   "metadata": {},
   "outputs": [
    {
     "name": "stdout",
     "output_type": "stream",
     "text": [
      "<KeysViewHDF5 ['cell_ids', 'cells', 'genes']>\n",
      "<HDF5 dataset \"cell_ids\": shape (0,), type \"<f8\">\n"
     ]
    }
   ],
   "source": [
    "#this is the file AFTER filtering and variance calculation (all the cells are lost)\n",
    "f_filt = h5py.File(\n",
    "    '/scratch/users/rbierman/spatial_collaboration/work/29/b58158eb7b05df5d0684df645de7e3/spot_assigned_fov_gv.hdf5',\n",
    "    'r',\n",
    ")\n",
    "\n",
    "print(f_filt.keys())\n",
    "print(f_filt['cell_ids'])\n",
    "f_filt.close()"
   ]
  },
  {
   "cell_type": "code",
   "execution_count": 7,
   "id": "a617449c",
   "metadata": {},
   "outputs": [
    {
     "data": {
      "text/plain": [
       "67"
      ]
     },
     "execution_count": 7,
     "metadata": {},
     "output_type": "execute_result"
    }
   ],
   "source": [
    "#here's a dataset where there are cells remaining after filtering\n",
    "\n",
    "sample = sprawl.HDF5(\n",
    "    '/scratch/users/rbierman/spatial_collaboration/work/fe/1fb5f56fc6c94d614e8ea6dff5c4c6/spot_assigned_fov_gv.hdf5',\n",
    ")\n",
    "sample.num_cells"
   ]
  },
  {
   "cell_type": "code",
   "execution_count": 8,
   "id": "0e9681d4",
   "metadata": {},
   "outputs": [
    {
     "data": {
      "image/png": "[encoded data removed]",
      "text/plain": [
       "<Figure size 600x600 with 1 Axes>"
      ]
     },
     "metadata": {},
     "output_type": "display_data"
    }
   ],
   "source": [
    "for cell in sample.iter_cells():\n",
    "    fig,ax = plotting.plot_cell_3D(cell)\n",
    "    plt.show()\n",
    "    plt.close()\n",
    "    break"
   ]
  },
  {
   "cell_type": "code",
   "execution_count": 31,
   "id": "12a31d49",
   "metadata": {},
   "outputs": [
    {
     "data": {
      "text/plain": [
       "{'10': 0.009543154378012005,\n",
       " '100': 0.16734138553380534,\n",
       " '130': 0.16734138553380534,\n",
       " '16': 0.16734138553380534,\n",
       " '17': 0.19998667221990843,\n",
       " '18': 0.13277578786616692,\n",
       " '2': 0.16734138553380534,\n",
       " '22': 0.08705409782960803,\n",
       " '23': 0.16734138553380534,\n",
       " '26': 0.10927483918737571,\n",
       " '30': 0.055689018464528645,\n",
       " '31': 0.19998667221990843,\n",
       " '34': 0.1416719224132801,\n",
       " '35': 0.13277578786616692,\n",
       " '36': 0.19998667221990843,\n",
       " '39': 0.015206082432973195,\n",
       " '42': 0.19998667221990843,\n",
       " '47': 0.19998667221990843,\n",
       " '56': 0.16734138553380534,\n",
       " '60': 0.19998667221990843,\n",
       " '62': 0.02212591600346702,\n",
       " '67': 0.08705409782960803,\n",
       " '68': 0.16734138553380534,\n",
       " '71': 0.16734138553380534,\n",
       " '87': 0.16734138553380534,\n",
       " '92': 0.16734138553380534}"
      ]
     },
     "execution_count": 31,
     "metadata": {},
     "output_type": "execute_result"
    }
   ],
   "source": [
    "cell.gene_vars"
   ]
  },
  {
   "cell_type": "code",
   "execution_count": 36,
   "id": "9253271f",
   "metadata": {},
   "outputs": [
    {
     "name": "stdout",
     "output_type": "stream",
     "text": [
      "HuOvarianCancer_VS14_22365_2_CP_A1_08-30-2021.hdf5 has 3699 cells and 178 genes\n",
      "HuOvarianCancer_VS14_20438_2_CP_A1_08-31-2021.hdf5 has 17863 cells and 180 genes\n",
      "HuOvarianCancer_VS14_23923_2_CP_A1_09-01-2021.hdf5 has 5778 cells and 179 genes\n",
      "HuOvarianCancer_VS14_21361_3_CP_A6_08-31-2021.hdf5 has 23483 cells and 180 genes\n",
      "HuOvarianCancer_VS14_23359_3_CP_A3_09-01-2021.hdf5 has 97033 cells and 180 genes\n"
     ]
    }
   ],
   "source": [
    "import os\n",
    "\n",
    "hdf5_paths = glob.glob(\n",
    "    '/oak/stanford/groups/horence/rob/isoform_localizations/sprawl/preprocessing/Livnat_Ovarian_Cancer_preprocessing/finished_outputs/*.hdf5',\n",
    ")\n",
    "\n",
    "for hdf5_path in hdf5_paths:\n",
    "    sample = sprawl.HDF5(hdf5_path)\n",
    "    print(os.path.basename(hdf5_path),'has',sample.num_cells,'cells and',sample.num_genes,'genes')\n",
    "    \n"
   ]
  },
  {
   "cell_type": "code",
   "execution_count": 38,
   "id": "9988a7e1",
   "metadata": {},
   "outputs": [],
   "source": [
    "pd.read_csv?"
   ]
  },
  {
   "cell_type": "markdown",
   "id": "e4e6f244",
   "metadata": {},
   "source": [
    "# Converting barcode_id to gene name in the final outputs\n",
    "\n",
    "Need to get a mapping from barcode_id to gene_name which is already present in the detected_transcripts csvs\n",
    "\n",
    "Making sure that each barcode-id corresponds to the same gene in all samples\n",
    "\n",
    "There is also a transcript_id column so I'll check if it's possible to have many-to-many relations between the columns"
   ]
  },
  {
   "cell_type": "code",
   "execution_count": 42,
   "id": "9bf052b3",
   "metadata": {},
   "outputs": [
    {
     "name": "stdout",
     "output_type": "stream",
     "text": [
      "/scratch/users/rbierman/spatial_collaboration/detected_transcripts/HuOvarianCancer_VS14_23923_2_CP_A1_09-01-2021_detected_transcripts.csv\n",
      "/scratch/users/rbierman/spatial_collaboration/detected_transcripts/HuOvarianCancer_VS14_21361_3_CP_A6_08-31-2021_detected_transcripts.csv\n",
      "/scratch/users/rbierman/spatial_collaboration/detected_transcripts/HuOvarianCancer_VS14_22365_2_CP_A1_08-30-2021_detected_transcripts.csv\n",
      "/scratch/users/rbierman/spatial_collaboration/detected_transcripts/HuOvarianCancer_VS14_23359_3_CP_A3_09-01-2021_detected_transcripts.csv\n",
      "/scratch/users/rbierman/spatial_collaboration/detected_transcripts/HuOvarianCancer_VS14_20438_2_CP_A1_08-31-2021_detected_transcripts.csv\n",
      "CPU times: user 41 s, sys: 7.32 s, total: 48.3 s\n",
      "Wall time: 48.8 s\n"
     ]
    },
    {
     "data": {
      "text/html": [
       "<div>\n",
       "<style scoped>\n",
       "    .dataframe tbody tr th:only-of-type {\n",
       "        vertical-align: middle;\n",
       "    }\n",
       "\n",
       "    .dataframe tbody tr th {\n",
       "        vertical-align: top;\n",
       "    }\n",
       "\n",
       "    .dataframe thead th {\n",
       "        text-align: right;\n",
       "    }\n",
       "</style>\n",
       "<table border=\"1\" class=\"dataframe\">\n",
       "  <thead>\n",
       "    <tr style=\"text-align: right;\">\n",
       "      <th></th>\n",
       "      <th>barcode_id</th>\n",
       "      <th>gene</th>\n",
       "      <th>transcript_id</th>\n",
       "      <th>sample</th>\n",
       "    </tr>\n",
       "  </thead>\n",
       "  <tbody>\n",
       "    <tr>\n",
       "      <th>0</th>\n",
       "      <td>0</td>\n",
       "      <td>SAT1</td>\n",
       "      <td>379270</td>\n",
       "      <td>HuOvarianCancer_VS14_23923_2_CP_A1_09-01-2021_...</td>\n",
       "    </tr>\n",
       "    <tr>\n",
       "      <th>23</th>\n",
       "      <td>1</td>\n",
       "      <td>CD24</td>\n",
       "      <td>606017</td>\n",
       "      <td>HuOvarianCancer_VS14_23923_2_CP_A1_09-01-2021_...</td>\n",
       "    </tr>\n",
       "    <tr>\n",
       "      <th>67</th>\n",
       "      <td>2</td>\n",
       "      <td>GPX4</td>\n",
       "      <td>611653</td>\n",
       "      <td>HuOvarianCancer_VS14_23923_2_CP_A1_09-01-2021_...</td>\n",
       "    </tr>\n",
       "    <tr>\n",
       "      <th>80</th>\n",
       "      <td>3</td>\n",
       "      <td>EPCAM</td>\n",
       "      <td>263735</td>\n",
       "      <td>HuOvarianCancer_VS14_23923_2_CP_A1_09-01-2021_...</td>\n",
       "    </tr>\n",
       "    <tr>\n",
       "      <th>86</th>\n",
       "      <td>4</td>\n",
       "      <td>VIM</td>\n",
       "      <td>224237</td>\n",
       "      <td>HuOvarianCancer_VS14_23923_2_CP_A1_09-01-2021_...</td>\n",
       "    </tr>\n",
       "    <tr>\n",
       "      <th>...</th>\n",
       "      <td>...</td>\n",
       "      <td>...</td>\n",
       "      <td>...</td>\n",
       "      <td>...</td>\n",
       "    </tr>\n",
       "    <tr>\n",
       "      <th>38539</th>\n",
       "      <td>142</td>\n",
       "      <td>Blank-2</td>\n",
       "      <td>-1</td>\n",
       "      <td>HuOvarianCancer_VS14_20438_2_CP_A1_08-31-2021_...</td>\n",
       "    </tr>\n",
       "    <tr>\n",
       "      <th>38543</th>\n",
       "      <td>144</td>\n",
       "      <td>Blank-4</td>\n",
       "      <td>-1</td>\n",
       "      <td>HuOvarianCancer_VS14_20438_2_CP_A1_08-31-2021_...</td>\n",
       "    </tr>\n",
       "    <tr>\n",
       "      <th>38613</th>\n",
       "      <td>161</td>\n",
       "      <td>Blank-21</td>\n",
       "      <td>-1</td>\n",
       "      <td>HuOvarianCancer_VS14_20438_2_CP_A1_08-31-2021_...</td>\n",
       "    </tr>\n",
       "    <tr>\n",
       "      <th>38618</th>\n",
       "      <td>164</td>\n",
       "      <td>Blank-24</td>\n",
       "      <td>-1</td>\n",
       "      <td>HuOvarianCancer_VS14_20438_2_CP_A1_08-31-2021_...</td>\n",
       "    </tr>\n",
       "    <tr>\n",
       "      <th>38731</th>\n",
       "      <td>176</td>\n",
       "      <td>Blank-36</td>\n",
       "      <td>-1</td>\n",
       "      <td>HuOvarianCancer_VS14_20438_2_CP_A1_08-31-2021_...</td>\n",
       "    </tr>\n",
       "  </tbody>\n",
       "</table>\n",
       "<p>900 rows × 4 columns</p>\n",
       "</div>"
      ],
      "text/plain": [
       "       barcode_id      gene  transcript_id  \\\n",
       "0               0      SAT1         379270   \n",
       "23              1      CD24         606017   \n",
       "67              2      GPX4         611653   \n",
       "80              3     EPCAM         263735   \n",
       "86              4       VIM         224237   \n",
       "...           ...       ...            ...   \n",
       "38539         142   Blank-2             -1   \n",
       "38543         144   Blank-4             -1   \n",
       "38613         161  Blank-21             -1   \n",
       "38618         164  Blank-24             -1   \n",
       "38731         176  Blank-36             -1   \n",
       "\n",
       "                                                  sample  \n",
       "0      HuOvarianCancer_VS14_23923_2_CP_A1_09-01-2021_...  \n",
       "23     HuOvarianCancer_VS14_23923_2_CP_A1_09-01-2021_...  \n",
       "67     HuOvarianCancer_VS14_23923_2_CP_A1_09-01-2021_...  \n",
       "80     HuOvarianCancer_VS14_23923_2_CP_A1_09-01-2021_...  \n",
       "86     HuOvarianCancer_VS14_23923_2_CP_A1_09-01-2021_...  \n",
       "...                                                  ...  \n",
       "38539  HuOvarianCancer_VS14_20438_2_CP_A1_08-31-2021_...  \n",
       "38543  HuOvarianCancer_VS14_20438_2_CP_A1_08-31-2021_...  \n",
       "38613  HuOvarianCancer_VS14_20438_2_CP_A1_08-31-2021_...  \n",
       "38618  HuOvarianCancer_VS14_20438_2_CP_A1_08-31-2021_...  \n",
       "38731  HuOvarianCancer_VS14_20438_2_CP_A1_08-31-2021_...  \n",
       "\n",
       "[900 rows x 4 columns]"
      ]
     },
     "execution_count": 42,
     "metadata": {},
     "output_type": "execute_result"
    }
   ],
   "source": [
    "%%time\n",
    "import pandas as pd\n",
    "import glob\n",
    "import os\n",
    "\n",
    "spot_paths = glob.glob('/scratch/users/rbierman/spatial_collaboration/detected_transcripts/*.csv')\n",
    "\n",
    "df = pd.DataFrame()\n",
    "\n",
    "for spot_path in spot_paths:\n",
    "    print(spot_path)\n",
    "    \n",
    "    sub_df = pd.read_csv(\n",
    "        spot_path,\n",
    "        usecols=['barcode_id','gene','transcript_id'],\n",
    "    ).drop_duplicates()\n",
    "    \n",
    "    sub_df['sample'] = os.path.basename(spot_path)\n",
    "    df = pd.concat((df, sub_df))\n",
    "    \n",
    "df"
   ]
  },
  {
   "cell_type": "code",
   "execution_count": 50,
   "id": "462b4bbc",
   "metadata": {},
   "outputs": [
    {
     "data": {
      "text/plain": [
       "1"
      ]
     },
     "execution_count": 50,
     "metadata": {},
     "output_type": "execute_result"
    }
   ],
   "source": [
    "#Each barcode_id corresponds to the same single gene across all samples\n",
    "df.groupby('barcode_id')['gene'].nunique().max()"
   ]
  },
  {
   "cell_type": "code",
   "execution_count": 51,
   "id": "b22a187f",
   "metadata": {},
   "outputs": [
    {
     "data": {
      "text/plain": [
       "1"
      ]
     },
     "execution_count": 51,
     "metadata": {},
     "output_type": "execute_result"
    }
   ],
   "source": [
    "#excluding the transcript_id's that equal -1 (seems to be used for the Blanks..)\n",
    "#THEN each transcript id has a unique gene\n",
    "df[df['transcript_id'].ne(-1)].groupby('transcript_id')['gene'].nunique().max()"
   ]
  },
  {
   "cell_type": "code",
   "execution_count": 53,
   "id": "18fc0ab4",
   "metadata": {},
   "outputs": [
    {
     "data": {
      "text/plain": [
       "1"
      ]
     },
     "execution_count": 53,
     "metadata": {},
     "output_type": "execute_result"
    }
   ],
   "source": [
    "#Each bc corresponds to a single transcript\n",
    "df.groupby('barcode_id')['transcript_id'].nunique().max()"
   ]
  },
  {
   "cell_type": "code",
   "execution_count": 49,
   "id": "8378f362",
   "metadata": {},
   "outputs": [
    {
     "data": {
      "text/plain": [
       "1"
      ]
     },
     "execution_count": 49,
     "metadata": {},
     "output_type": "execute_result"
    }
   ],
   "source": [
    "#Each gene is only represented by a single barcode_id\n",
    "df.groupby('gene')['barcode_id'].nunique().max()"
   ]
  },
  {
   "cell_type": "code",
   "execution_count": 54,
   "id": "6bbda4b3",
   "metadata": {},
   "outputs": [
    {
     "data": {
      "text/plain": [
       "1"
      ]
     },
     "execution_count": 54,
     "metadata": {},
     "output_type": "execute_result"
    }
   ],
   "source": [
    "#Each gene is only represented by a single transcript_id\n",
    "df.groupby('gene')['transcript_id'].nunique().max()"
   ]
  },
  {
   "cell_type": "code",
   "execution_count": 60,
   "id": "9f89f754",
   "metadata": {},
   "outputs": [
    {
     "data": {
      "text/html": [
       "<div>\n",
       "<style scoped>\n",
       "    .dataframe tbody tr th:only-of-type {\n",
       "        vertical-align: middle;\n",
       "    }\n",
       "\n",
       "    .dataframe tbody tr th {\n",
       "        vertical-align: top;\n",
       "    }\n",
       "\n",
       "    .dataframe thead th {\n",
       "        text-align: right;\n",
       "    }\n",
       "</style>\n",
       "<table border=\"1\" class=\"dataframe\">\n",
       "  <thead>\n",
       "    <tr style=\"text-align: right;\">\n",
       "      <th></th>\n",
       "      <th>barcode_id</th>\n",
       "      <th>gene</th>\n",
       "    </tr>\n",
       "  </thead>\n",
       "  <tbody>\n",
       "    <tr>\n",
       "      <th>0</th>\n",
       "      <td>0</td>\n",
       "      <td>SAT1</td>\n",
       "    </tr>\n",
       "    <tr>\n",
       "      <th>1</th>\n",
       "      <td>1</td>\n",
       "      <td>CD24</td>\n",
       "    </tr>\n",
       "    <tr>\n",
       "      <th>2</th>\n",
       "      <td>2</td>\n",
       "      <td>GPX4</td>\n",
       "    </tr>\n",
       "    <tr>\n",
       "      <th>3</th>\n",
       "      <td>3</td>\n",
       "      <td>EPCAM</td>\n",
       "    </tr>\n",
       "    <tr>\n",
       "      <th>4</th>\n",
       "      <td>4</td>\n",
       "      <td>VIM</td>\n",
       "    </tr>\n",
       "    <tr>\n",
       "      <th>...</th>\n",
       "      <td>...</td>\n",
       "      <td>...</td>\n",
       "    </tr>\n",
       "    <tr>\n",
       "      <th>175</th>\n",
       "      <td>166</td>\n",
       "      <td>Blank-26</td>\n",
       "    </tr>\n",
       "    <tr>\n",
       "      <th>176</th>\n",
       "      <td>170</td>\n",
       "      <td>Blank-30</td>\n",
       "    </tr>\n",
       "    <tr>\n",
       "      <th>177</th>\n",
       "      <td>172</td>\n",
       "      <td>Blank-32</td>\n",
       "    </tr>\n",
       "    <tr>\n",
       "      <th>178</th>\n",
       "      <td>176</td>\n",
       "      <td>Blank-36</td>\n",
       "    </tr>\n",
       "    <tr>\n",
       "      <th>179</th>\n",
       "      <td>178</td>\n",
       "      <td>Blank-38</td>\n",
       "    </tr>\n",
       "  </tbody>\n",
       "</table>\n",
       "<p>180 rows × 2 columns</p>\n",
       "</div>"
      ],
      "text/plain": [
       "     barcode_id      gene\n",
       "0             0      SAT1\n",
       "1             1      CD24\n",
       "2             2      GPX4\n",
       "3             3     EPCAM\n",
       "4             4       VIM\n",
       "..          ...       ...\n",
       "175         166  Blank-26\n",
       "176         170  Blank-30\n",
       "177         172  Blank-32\n",
       "178         176  Blank-36\n",
       "179         178  Blank-38\n",
       "\n",
       "[180 rows x 2 columns]"
      ]
     },
     "execution_count": 60,
     "metadata": {},
     "output_type": "execute_result"
    }
   ],
   "source": [
    "bc_to_gene_table = df[['barcode_id','gene']].drop_duplicates().reset_index(drop=True)\n",
    "bc_to_gene_table"
   ]
  },
  {
   "cell_type": "code",
   "execution_count": 62,
   "id": "04cdb19b",
   "metadata": {},
   "outputs": [],
   "source": [
    "bc_to_gene_table.to_csv(\n",
    "    '/oak/stanford/groups/horence/rob/isoform_localizations/sprawl/preprocessing/Livnat_Ovarian_Cancer_preprocessing/bc_to_gene.csv',\n",
    "    index=False,\n",
    ")"
   ]
  },
  {
   "cell_type": "markdown",
   "id": "99ab2ec7",
   "metadata": {},
   "source": [
    "# Testing gene renaming function"
   ]
  },
  {
   "cell_type": "code",
   "execution_count": null,
   "id": "424d34de",
   "metadata": {},
   "outputs": [],
   "source": [
    "bc_to_gene_table = pd.read_csv(\n",
    "    '/oak/stanford/groups/horence/rob/isoform_localizations/sprawl/preprocessing/Livnat_Ovarian_Cancer_preprocessing/bc_to_gene.csv',\n",
    ")\n",
    "bc_to_gene_table['barcode_id'] = bc_to_gene_table['barcode_id'].astype(str)\n",
    "\n",
    "bc_to_gene = dict(bc_to_gene_table[['barcode_id', 'gene']].values)"
   ]
  },
  {
   "cell_type": "code",
   "execution_count": 7,
   "id": "8c56d84d",
   "metadata": {},
   "outputs": [
    {
     "name": "stdout",
     "output_type": "stream",
     "text": [
      "['1', '10', '100', '105', '12', '121', '139', '14', '16', '18', '2', '22', '23', '25', '26', '27', '3', '30', '31', '34', '35', '36', '38', '44', '46', '49', '55', '56', '57', '59', '6', '60', '62', '64', '67', '68', '7', '71', '75', '78', '8', '90', '93', '94']\n",
      "['ADAR', 'APMAP', 'ARID1A', 'BCAM', 'CD24', 'CD40', 'CD47', 'CDH1', 'CDK12', 'CDK4', 'CTNNB1', 'CXCL16', 'CXCL8', 'DDX5', 'EGR1', 'EP300', 'EPCAM', 'GPX4', 'HDAC1', 'HDAC3', 'HDAC4', 'HDAC5', 'HDAC6', 'IL7', 'JUN', 'KLF4', 'KLF6', 'KMT2C', 'MYC', 'NF1', 'NFKBIA', 'NFKBIZ', 'NOTCH2', 'NSD1', 'PTEN', 'PTPN2', 'SETDB1', 'SIK2', 'SMARCA4', 'STMN1', 'TAF8', 'TAPBP', 'TP53', 'VEGFA']\n"
     ]
    }
   ],
   "source": [
    "import sprawl\n",
    "import pandas as pd\n",
    "\n",
    "#Prepare the mapping\n",
    "bc_to_gene_table = pd.read_csv(\n",
    "    '/oak/stanford/groups/horence/rob/isoform_localizations/sprawl/preprocessing/Livnat_Ovarian_Cancer_preprocessing/bc_to_gene.csv',\n",
    ")\n",
    "bc_to_gene_table['barcode_id'] = bc_to_gene_table['barcode_id'].astype(str)\n",
    "\n",
    "bc_to_gene = dict(bc_to_gene_table[['barcode_id', 'gene']].values)\n",
    "\n",
    "\n",
    "#Read in the sample\n",
    "p = '/oak/stanford/groups/horence/rob/isoform_localizations/sprawl/preprocessing/Livnat_Ovarian_Cancer_preprocessing/finished_outputs/HuOvarianCancer_VS14_20438_2_CP_A1_08-31-2021.hdf5'\n",
    "\n",
    "sample = sprawl.HDF5(p)\n",
    "cell = next(sample.iter_cells())\n",
    "\n",
    "#List genes before mapping, map, and after\n",
    "print(cell.genes)\n",
    "cell.rename_genes(bc_to_gene)\n",
    "print(cell.genes)"
   ]
  },
  {
   "cell_type": "code",
   "execution_count": 9,
   "id": "b3a8aa67",
   "metadata": {},
   "outputs": [
    {
     "data": {
      "text/plain": [
       "{'CD24': 0.14157631070437451,\n",
       " 'JUN': 0.14157631070437451,\n",
       " 'TAF8': 0.13273043658263625,\n",
       " 'HDAC4': 0.16739441220801243,\n",
       " 'BCAM': 0.19998447476178474,\n",
       " 'IL7': 0.16739441220801243,\n",
       " 'PTEN': 0.16739441220801243,\n",
       " 'CDK4': 0.13273043658263625,\n",
       " 'HDAC1': 0.14157631070437451,\n",
       " 'DDX5': 0.07418227525351673,\n",
       " 'GPX4': 0.10570607951694333,\n",
       " 'VEGFA': 0.07339497558597478,\n",
       " 'TAPBP': 0.10570607951694333,\n",
       " 'CXCL16': 0.19998447476178474,\n",
       " 'KLF6': 0.07418227525351673,\n",
       " 'APMAP': 0.13273043658263625,\n",
       " 'EPCAM': 0.19998447476178474,\n",
       " 'SMARCA4': 0.08847797974309261,\n",
       " 'ADAR': 0.10570607951694333,\n",
       " 'CDH1': 0.07418227525351673,\n",
       " 'CTNNB1': 0.10912733067248,\n",
       " 'ARID1A': 0.10570607951694333,\n",
       " 'HDAC3': 0.13273043658263625,\n",
       " 'HDAC6': 0.13273043658263625,\n",
       " 'PTPN2': 0.19998447476178474,\n",
       " 'MYC': 0.04001613347806755,\n",
       " 'CD40': 0.16739441220801243,\n",
       " 'SIK2': 0.16739441220801243,\n",
       " 'CXCL8': 0.14157631070437451,\n",
       " 'SETDB1': 0.13273043658263625,\n",
       " 'STMN1': 0.19998447476178474,\n",
       " 'HDAC5': 0.16739441220801243,\n",
       " 'EGR1': 0.16739441220801243,\n",
       " 'KMT2C': 0.16739441220801243,\n",
       " 'NFKBIZ': 0.10570607951694333,\n",
       " 'NOTCH2': 0.19998447476178474,\n",
       " 'CD47': 0.16739441220801243,\n",
       " 'TP53': 0.0636987586278277,\n",
       " 'NSD1': 0.13273043658263625,\n",
       " 'EP300': 0.14157631070437451,\n",
       " 'NFKBIA': 0.16739441220801243,\n",
       " 'CDK12': 0.07418227525351673,\n",
       " 'NF1': 0.16739441220801243,\n",
       " 'KLF4': 0.16739441220801243}"
      ]
     },
     "execution_count": 9,
     "metadata": {},
     "output_type": "execute_result"
    }
   ],
   "source": [
    "#Do the gene mapping for all files as sbatch scripts, too slow to do here"
   ]
  },
  {
   "cell_type": "code",
   "execution_count": 3,
   "id": "23dc1a7f",
   "metadata": {},
   "outputs": [
    {
     "data": {
      "text/plain": [
       "['1',\n",
       " '10',\n",
       " '100',\n",
       " '105',\n",
       " '12',\n",
       " '121',\n",
       " '139',\n",
       " '14',\n",
       " '16',\n",
       " '18',\n",
       " '2',\n",
       " '22',\n",
       " '23',\n",
       " '25',\n",
       " '26',\n",
       " '27',\n",
       " '3',\n",
       " '30',\n",
       " '31',\n",
       " '34',\n",
       " '35',\n",
       " '36',\n",
       " '38',\n",
       " '44',\n",
       " '46',\n",
       " '49',\n",
       " '55',\n",
       " '56',\n",
       " '57',\n",
       " '59',\n",
       " '6',\n",
       " '60',\n",
       " '62',\n",
       " '64',\n",
       " '67',\n",
       " '68',\n",
       " '7',\n",
       " '71',\n",
       " '75',\n",
       " '78',\n",
       " '8',\n",
       " '90',\n",
       " '93',\n",
       " '94']"
      ]
     },
     "execution_count": 3,
     "metadata": {},
     "output_type": "execute_result"
    }
   ],
   "source": [
    "cell.genes"
   ]
  },
  {
   "cell_type": "code",
   "execution_count": 4,
   "id": "9489b4b9",
   "metadata": {},
   "outputs": [],
   "source": [
    "cell.rename_genes(bc_to_gene)"
   ]
  },
  {
   "cell_type": "code",
   "execution_count": 10,
   "id": "a24fd1d7",
   "metadata": {},
   "outputs": [
    {
     "data": {
      "text/plain": [
       "Cell-100289848731271086243241542816791073787-100289848731271086243241542816791073787"
      ]
     },
     "execution_count": 10,
     "metadata": {},
     "output_type": "execute_result"
    }
   ],
   "source": [
    "#check that the gene renaming worked\n",
    "sample = sprawl.HDF5('/oak/stanford/groups/horence/rob/isoform_localizations/sprawl/preprocessing/Livnat_Ovarian_Cancer_preprocessing/finished_outputs/HuOvarianCancer_VS14_22365_2_CP_A1_08-30-2021.hdf5.gene_renames')\n",
    "cell = next(sample.iter_cells())\n",
    "cell"
   ]
  },
  {
   "cell_type": "code",
   "execution_count": 11,
   "id": "2719bf9b",
   "metadata": {},
   "outputs": [
    {
     "data": {
      "text/plain": [
       "['ADAR',\n",
       " 'APMAP',\n",
       " 'ARID1A',\n",
       " 'BCAM',\n",
       " 'BRCA1',\n",
       " 'CD24',\n",
       " 'CDH1',\n",
       " 'CDK12',\n",
       " 'CDK4',\n",
       " 'CXCL8',\n",
       " 'DDX5',\n",
       " 'EP300',\n",
       " 'EPCAM',\n",
       " 'EZH2',\n",
       " 'GADD45B',\n",
       " 'GPX4',\n",
       " 'HDAC1',\n",
       " 'HDAC4',\n",
       " 'HDAC5',\n",
       " 'ICOSLG',\n",
       " 'JUN',\n",
       " 'KLF6',\n",
       " 'LAG3',\n",
       " 'MYC',\n",
       " 'NFKBIZ',\n",
       " 'NOTCH3',\n",
       " 'NR4A1',\n",
       " 'NSD1',\n",
       " 'RAD51',\n",
       " 'SETDB1',\n",
       " 'SIK2',\n",
       " 'SMARCA4',\n",
       " 'SMARCD1',\n",
       " 'SNAI1',\n",
       " 'STMN1',\n",
       " 'TAF2',\n",
       " 'TAF7',\n",
       " 'TAPBP',\n",
       " 'TGFB1',\n",
       " 'TP53',\n",
       " 'VEGFA']"
      ]
     },
     "execution_count": 11,
     "metadata": {},
     "output_type": "execute_result"
    }
   ],
   "source": [
    "cell.genes"
   ]
  },
  {
   "cell_type": "code",
   "execution_count": 17,
   "id": "ff34ed03",
   "metadata": {},
   "outputs": [],
   "source": [
    "x = pd.DataFrame({\n",
    "    'gene':cell.gene_counts.keys(),\n",
    "    'count':cell.gene_counts.values(),\n",
    "})"
   ]
  },
  {
   "cell_type": "code",
   "execution_count": 19,
   "id": "5447ad7f",
   "metadata": {},
   "outputs": [
    {
     "data": {
      "text/html": [
       "<div>\n",
       "<style scoped>\n",
       "    .dataframe tbody tr th:only-of-type {\n",
       "        vertical-align: middle;\n",
       "    }\n",
       "\n",
       "    .dataframe tbody tr th {\n",
       "        vertical-align: top;\n",
       "    }\n",
       "\n",
       "    .dataframe thead th {\n",
       "        text-align: right;\n",
       "    }\n",
       "</style>\n",
       "<table border=\"1\" class=\"dataframe\">\n",
       "  <thead>\n",
       "    <tr style=\"text-align: right;\">\n",
       "      <th></th>\n",
       "      <th>gene</th>\n",
       "      <th>count</th>\n",
       "      <th>var</th>\n",
       "    </tr>\n",
       "  </thead>\n",
       "  <tbody>\n",
       "    <tr>\n",
       "      <th>12</th>\n",
       "      <td>TGFB1</td>\n",
       "      <td>2</td>\n",
       "      <td>0.167500</td>\n",
       "    </tr>\n",
       "    <tr>\n",
       "      <th>39</th>\n",
       "      <td>SETDB1</td>\n",
       "      <td>2</td>\n",
       "      <td>0.167500</td>\n",
       "    </tr>\n",
       "    <tr>\n",
       "      <th>13</th>\n",
       "      <td>TAF7</td>\n",
       "      <td>2</td>\n",
       "      <td>0.167500</td>\n",
       "    </tr>\n",
       "    <tr>\n",
       "      <th>24</th>\n",
       "      <td>LAG3</td>\n",
       "      <td>2</td>\n",
       "      <td>0.167500</td>\n",
       "    </tr>\n",
       "    <tr>\n",
       "      <th>31</th>\n",
       "      <td>APMAP</td>\n",
       "      <td>2</td>\n",
       "      <td>0.167500</td>\n",
       "    </tr>\n",
       "    <tr>\n",
       "      <th>9</th>\n",
       "      <td>TAF2</td>\n",
       "      <td>2</td>\n",
       "      <td>0.167500</td>\n",
       "    </tr>\n",
       "    <tr>\n",
       "      <th>19</th>\n",
       "      <td>EZH2</td>\n",
       "      <td>2</td>\n",
       "      <td>0.167500</td>\n",
       "    </tr>\n",
       "    <tr>\n",
       "      <th>32</th>\n",
       "      <td>SIK2</td>\n",
       "      <td>2</td>\n",
       "      <td>0.167500</td>\n",
       "    </tr>\n",
       "    <tr>\n",
       "      <th>23</th>\n",
       "      <td>SNAI1</td>\n",
       "      <td>2</td>\n",
       "      <td>0.167500</td>\n",
       "    </tr>\n",
       "    <tr>\n",
       "      <th>35</th>\n",
       "      <td>SMARCD1</td>\n",
       "      <td>2</td>\n",
       "      <td>0.167500</td>\n",
       "    </tr>\n",
       "    <tr>\n",
       "      <th>36</th>\n",
       "      <td>TP53</td>\n",
       "      <td>2</td>\n",
       "      <td>0.167500</td>\n",
       "    </tr>\n",
       "    <tr>\n",
       "      <th>37</th>\n",
       "      <td>HDAC4</td>\n",
       "      <td>2</td>\n",
       "      <td>0.167500</td>\n",
       "    </tr>\n",
       "    <tr>\n",
       "      <th>2</th>\n",
       "      <td>GADD45B</td>\n",
       "      <td>2</td>\n",
       "      <td>0.167500</td>\n",
       "    </tr>\n",
       "    <tr>\n",
       "      <th>38</th>\n",
       "      <td>NR4A1</td>\n",
       "      <td>2</td>\n",
       "      <td>0.167500</td>\n",
       "    </tr>\n",
       "    <tr>\n",
       "      <th>22</th>\n",
       "      <td>ICOSLG</td>\n",
       "      <td>2</td>\n",
       "      <td>0.167500</td>\n",
       "    </tr>\n",
       "    <tr>\n",
       "      <th>21</th>\n",
       "      <td>BRCA1</td>\n",
       "      <td>3</td>\n",
       "      <td>0.199980</td>\n",
       "    </tr>\n",
       "    <tr>\n",
       "      <th>27</th>\n",
       "      <td>CDK4</td>\n",
       "      <td>3</td>\n",
       "      <td>0.199980</td>\n",
       "    </tr>\n",
       "    <tr>\n",
       "      <th>40</th>\n",
       "      <td>STMN1</td>\n",
       "      <td>3</td>\n",
       "      <td>0.199980</td>\n",
       "    </tr>\n",
       "    <tr>\n",
       "      <th>28</th>\n",
       "      <td>GPX4</td>\n",
       "      <td>3</td>\n",
       "      <td>0.199980</td>\n",
       "    </tr>\n",
       "    <tr>\n",
       "      <th>14</th>\n",
       "      <td>KLF6</td>\n",
       "      <td>3</td>\n",
       "      <td>0.199980</td>\n",
       "    </tr>\n",
       "    <tr>\n",
       "      <th>33</th>\n",
       "      <td>HDAC5</td>\n",
       "      <td>3</td>\n",
       "      <td>0.199980</td>\n",
       "    </tr>\n",
       "    <tr>\n",
       "      <th>17</th>\n",
       "      <td>EPCAM</td>\n",
       "      <td>3</td>\n",
       "      <td>0.199980</td>\n",
       "    </tr>\n",
       "    <tr>\n",
       "      <th>26</th>\n",
       "      <td>RAD51</td>\n",
       "      <td>3</td>\n",
       "      <td>0.199980</td>\n",
       "    </tr>\n",
       "    <tr>\n",
       "      <th>29</th>\n",
       "      <td>HDAC1</td>\n",
       "      <td>4</td>\n",
       "      <td>0.132640</td>\n",
       "    </tr>\n",
       "    <tr>\n",
       "      <th>30</th>\n",
       "      <td>TAPBP</td>\n",
       "      <td>4</td>\n",
       "      <td>0.132640</td>\n",
       "    </tr>\n",
       "    <tr>\n",
       "      <th>34</th>\n",
       "      <td>NSD1</td>\n",
       "      <td>4</td>\n",
       "      <td>0.132640</td>\n",
       "    </tr>\n",
       "    <tr>\n",
       "      <th>0</th>\n",
       "      <td>CXCL8</td>\n",
       "      <td>4</td>\n",
       "      <td>0.132640</td>\n",
       "    </tr>\n",
       "    <tr>\n",
       "      <th>16</th>\n",
       "      <td>ARID1A</td>\n",
       "      <td>4</td>\n",
       "      <td>0.132640</td>\n",
       "    </tr>\n",
       "    <tr>\n",
       "      <th>11</th>\n",
       "      <td>JUN</td>\n",
       "      <td>4</td>\n",
       "      <td>0.132640</td>\n",
       "    </tr>\n",
       "    <tr>\n",
       "      <th>20</th>\n",
       "      <td>SMARCA4</td>\n",
       "      <td>4</td>\n",
       "      <td>0.132640</td>\n",
       "    </tr>\n",
       "    <tr>\n",
       "      <th>15</th>\n",
       "      <td>CDH1</td>\n",
       "      <td>5</td>\n",
       "      <td>0.141385</td>\n",
       "    </tr>\n",
       "    <tr>\n",
       "      <th>4</th>\n",
       "      <td>ADAR</td>\n",
       "      <td>5</td>\n",
       "      <td>0.141385</td>\n",
       "    </tr>\n",
       "    <tr>\n",
       "      <th>3</th>\n",
       "      <td>MYC</td>\n",
       "      <td>6</td>\n",
       "      <td>0.105492</td>\n",
       "    </tr>\n",
       "    <tr>\n",
       "      <th>25</th>\n",
       "      <td>EP300</td>\n",
       "      <td>6</td>\n",
       "      <td>0.105492</td>\n",
       "    </tr>\n",
       "    <tr>\n",
       "      <th>18</th>\n",
       "      <td>CD24</td>\n",
       "      <td>7</td>\n",
       "      <td>0.108832</td>\n",
       "    </tr>\n",
       "    <tr>\n",
       "      <th>10</th>\n",
       "      <td>BCAM</td>\n",
       "      <td>7</td>\n",
       "      <td>0.108832</td>\n",
       "    </tr>\n",
       "    <tr>\n",
       "      <th>6</th>\n",
       "      <td>NOTCH3</td>\n",
       "      <td>7</td>\n",
       "      <td>0.108832</td>\n",
       "    </tr>\n",
       "    <tr>\n",
       "      <th>7</th>\n",
       "      <td>CDK12</td>\n",
       "      <td>12</td>\n",
       "      <td>0.062900</td>\n",
       "    </tr>\n",
       "    <tr>\n",
       "      <th>1</th>\n",
       "      <td>VEGFA</td>\n",
       "      <td>13</td>\n",
       "      <td>0.063259</td>\n",
       "    </tr>\n",
       "    <tr>\n",
       "      <th>5</th>\n",
       "      <td>DDX5</td>\n",
       "      <td>17</td>\n",
       "      <td>0.048867</td>\n",
       "    </tr>\n",
       "    <tr>\n",
       "      <th>8</th>\n",
       "      <td>NFKBIZ</td>\n",
       "      <td>32</td>\n",
       "      <td>0.024298</td>\n",
       "    </tr>\n",
       "  </tbody>\n",
       "</table>\n",
       "</div>"
      ],
      "text/plain": [
       "       gene  count       var\n",
       "12    TGFB1      2  0.167500\n",
       "39   SETDB1      2  0.167500\n",
       "13     TAF7      2  0.167500\n",
       "24     LAG3      2  0.167500\n",
       "31    APMAP      2  0.167500\n",
       "9      TAF2      2  0.167500\n",
       "19     EZH2      2  0.167500\n",
       "32     SIK2      2  0.167500\n",
       "23    SNAI1      2  0.167500\n",
       "35  SMARCD1      2  0.167500\n",
       "36     TP53      2  0.167500\n",
       "37    HDAC4      2  0.167500\n",
       "2   GADD45B      2  0.167500\n",
       "38    NR4A1      2  0.167500\n",
       "22   ICOSLG      2  0.167500\n",
       "21    BRCA1      3  0.199980\n",
       "27     CDK4      3  0.199980\n",
       "40    STMN1      3  0.199980\n",
       "28     GPX4      3  0.199980\n",
       "14     KLF6      3  0.199980\n",
       "33    HDAC5      3  0.199980\n",
       "17    EPCAM      3  0.199980\n",
       "26    RAD51      3  0.199980\n",
       "29    HDAC1      4  0.132640\n",
       "30    TAPBP      4  0.132640\n",
       "34     NSD1      4  0.132640\n",
       "0     CXCL8      4  0.132640\n",
       "16   ARID1A      4  0.132640\n",
       "11      JUN      4  0.132640\n",
       "20  SMARCA4      4  0.132640\n",
       "15     CDH1      5  0.141385\n",
       "4      ADAR      5  0.141385\n",
       "3       MYC      6  0.105492\n",
       "25    EP300      6  0.105492\n",
       "18     CD24      7  0.108832\n",
       "10     BCAM      7  0.108832\n",
       "6    NOTCH3      7  0.108832\n",
       "7     CDK12     12  0.062900\n",
       "1     VEGFA     13  0.063259\n",
       "5      DDX5     17  0.048867\n",
       "8    NFKBIZ     32  0.024298"
      ]
     },
     "execution_count": 19,
     "metadata": {},
     "output_type": "execute_result"
    }
   ],
   "source": [
    "x['var'] = x['gene'].map(cell.gene_vars)\n",
    "x.sort_values('count')"
   ]
  },
  {
   "cell_type": "code",
   "execution_count": 20,
   "id": "5af17425",
   "metadata": {},
   "outputs": [
    {
     "data": {
      "text/plain": [
       "'100289848731271086243241542816791073787'"
      ]
     },
     "execution_count": 20,
     "metadata": {},
     "output_type": "execute_result"
    }
   ],
   "source": [
    "cell.cell_id"
   ]
  },
  {
   "cell_type": "code",
   "execution_count": 12,
   "id": "6632a7d2",
   "metadata": {},
   "outputs": [
    {
     "data": {
      "text/plain": [
       "{'ADAR': 0.14138498986983833,\n",
       " 'APMAP': 0.1674999149746625,\n",
       " 'ARID1A': 0.13263952657892047,\n",
       " 'BCAM': 0.10883243206475532,\n",
       " 'BRCA1': 0.19997959391898792,\n",
       " 'CD24': 0.10883243206475532,\n",
       " 'CDH1': 0.14138498986983833,\n",
       " 'CDK12': 0.06290006290006289,\n",
       " 'CDK4': 0.19997959391898792,\n",
       " 'CXCL8': 0.13263952657892047,\n",
       " 'DDX5': 0.048867194002760204,\n",
       " 'EP300': 0.10549215094669642,\n",
       " 'EPCAM': 0.19997959391898792,\n",
       " 'EZH2': 0.1674999149746625,\n",
       " 'GADD45B': 0.1674999149746625,\n",
       " 'GPX4': 0.19997959391898792,\n",
       " 'HDAC1': 0.13263952657892047,\n",
       " 'HDAC4': 0.1674999149746625,\n",
       " 'HDAC5': 0.19997959391898792,\n",
       " 'ICOSLG': 0.1674999149746625,\n",
       " 'JUN': 0.13263952657892047,\n",
       " 'KLF6': 0.19997959391898792,\n",
       " 'LAG3': 0.1674999149746625,\n",
       " 'MYC': 0.10549215094669642,\n",
       " 'NFKBIZ': 0.024298149939591087,\n",
       " 'NOTCH3': 0.10883243206475532,\n",
       " 'NR4A1': 0.1674999149746625,\n",
       " 'NSD1': 0.13263952657892047,\n",
       " 'RAD51': 0.19997959391898792,\n",
       " 'SETDB1': 0.1674999149746625,\n",
       " 'SIK2': 0.1674999149746625,\n",
       " 'SMARCA4': 0.13263952657892047,\n",
       " 'SMARCD1': 0.1674999149746625,\n",
       " 'SNAI1': 0.1674999149746625,\n",
       " 'STMN1': 0.19997959391898792,\n",
       " 'TAF2': 0.1674999149746625,\n",
       " 'TAF7': 0.1674999149746625,\n",
       " 'TAPBP': 0.13263952657892047,\n",
       " 'TGFB1': 0.1674999149746625,\n",
       " 'TP53': 0.1674999149746625,\n",
       " 'VEGFA': 0.06325885113763902}"
      ]
     },
     "execution_count": 12,
     "metadata": {},
     "output_type": "execute_result"
    }
   ],
   "source": [
    "cell.gene_vars"
   ]
  }
 ],
 "metadata": {
  "kernelspec": {
   "display_name": "sprawl",
   "language": "python",
   "name": "sprawl"
  },
  "language_info": {
   "codemirror_mode": {
    "name": "ipython",
    "version": 3
   },
   "file_extension": ".py",
   "mimetype": "text/x-python",
   "name": "python",
   "nbconvert_exporter": "python",
   "pygments_lexer": "ipython3",
   "version": "3.8.8"
  }
 },
 "nbformat": 4,
 "nbformat_minor": 5
}
