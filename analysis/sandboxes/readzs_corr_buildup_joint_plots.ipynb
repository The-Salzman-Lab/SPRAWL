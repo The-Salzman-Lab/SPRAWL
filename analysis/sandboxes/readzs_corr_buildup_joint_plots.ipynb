{
 "cells": [
  {
   "cell_type": "markdown",
   "id": "4f59a7da",
   "metadata": {},
   "source": [
    "# Goal\n",
    "\n",
    "Simple code to create two-panel plots that have SRRS score and ReadZs score correlation along with read buildup plots to facilitate making many plots quickly\n",
    "\n",
    "Inputs\n",
    "1. SRRS gene/cell score table\n",
    "2. ReadZs score table (median score?)\n",
    "3. ReadZs count table\n",
    "\n",
    "It feels difficult to manage to have 3 large input files\n",
    "\n",
    "Can I use the bam's instead of the ReadZs outputs? The bams don't have cell-type info however. I could add the cell-type info to the bam's using the flag field, or a custom field. Then I'd have to calculate ReadZs myself though. This would be very helpful but could be a time-sink so I'll spend one only 1 hour on it and start with just a single file"
   ]
  },
  {
   "cell_type": "code",
   "execution_count": null,
   "id": "fbc94eab",
   "metadata": {},
   "outputs": [],
   "source": []
  }
 ],
 "metadata": {
  "kernelspec": {
   "display_name": "Python 3",
   "language": "python",
   "name": "python3"
  },
  "language_info": {
   "codemirror_mode": {
    "name": "ipython",
    "version": 3
   },
   "file_extension": ".py",
   "mimetype": "text/x-python",
   "name": "python",
   "nbconvert_exporter": "python",
   "pygments_lexer": "ipython3",
   "version": "3.6.8"
  }
 },
 "nbformat": 4,
 "nbformat_minor": 5
}
