{
 "cells": [
  {
   "cell_type": "code",
   "execution_count": 5,
   "metadata": {
    "collapsed": true
   },
   "outputs": [],
   "source": [
    "import pandas as pd\n",
    "import numpy as np\n",
    "import matplotlib.pyplot as plt\n",
    "import seaborn as sns\n",
    "import scanpy as scp\n",
    "import collections\n",
    "import h5py"
   ]
  },
  {
   "cell_type": "markdown",
   "metadata": {},
   "source": [
    "# Kidney/Liver SLRRP scoring"
   ]
  },
  {
   "cell_type": "code",
   "execution_count": 6,
   "metadata": {},
   "outputs": [
    {
     "data": {
      "text/html": [
       "<div>\n",
       "<style scoped>\n",
       "    .dataframe tbody tr th:only-of-type {\n",
       "        vertical-align: middle;\n",
       "    }\n",
       "\n",
       "    .dataframe tbody tr th {\n",
       "        vertical-align: top;\n",
       "    }\n",
       "\n",
       "    .dataframe thead th {\n",
       "        text-align: right;\n",
       "    }\n",
       "</style>\n",
       "<table border=\"1\" class=\"dataframe\">\n",
       "  <thead>\n",
       "    <tr style=\"text-align: right;\">\n",
       "      <th></th>\n",
       "      <th>metric</th>\n",
       "      <th>cell_id</th>\n",
       "      <th>annotation</th>\n",
       "      <th>num_spots</th>\n",
       "      <th>gene</th>\n",
       "      <th>num_gene_spots</th>\n",
       "      <th>median_rank</th>\n",
       "      <th>score</th>\n",
       "      <th>variance</th>\n",
       "    </tr>\n",
       "  </thead>\n",
       "  <tbody>\n",
       "    <tr>\n",
       "      <th>0</th>\n",
       "      <td>peripheral</td>\n",
       "      <td>100038311040592126253478462795232776943</td>\n",
       "      <td>pericentral hepatocyte</td>\n",
       "      <td>130</td>\n",
       "      <td>153.0</td>\n",
       "      <td>9</td>\n",
       "      <td>72.0</td>\n",
       "      <td>-0.100775</td>\n",
       "      <td>0.086593</td>\n",
       "    </tr>\n",
       "    <tr>\n",
       "      <th>1</th>\n",
       "      <td>peripheral</td>\n",
       "      <td>100038311040592126253478462795232776943</td>\n",
       "      <td>pericentral hepatocyte</td>\n",
       "      <td>130</td>\n",
       "      <td>126.0</td>\n",
       "      <td>11</td>\n",
       "      <td>110.0</td>\n",
       "      <td>-0.689922</td>\n",
       "      <td>0.072060</td>\n",
       "    </tr>\n",
       "    <tr>\n",
       "      <th>2</th>\n",
       "      <td>peripheral</td>\n",
       "      <td>100038311040592126253478462795232776943</td>\n",
       "      <td>pericentral hepatocyte</td>\n",
       "      <td>130</td>\n",
       "      <td>154.0</td>\n",
       "      <td>12</td>\n",
       "      <td>37.5</td>\n",
       "      <td>0.434109</td>\n",
       "      <td>0.061247</td>\n",
       "    </tr>\n",
       "    <tr>\n",
       "      <th>3</th>\n",
       "      <td>peripheral</td>\n",
       "      <td>100038311040592126253478462795232776943</td>\n",
       "      <td>pericentral hepatocyte</td>\n",
       "      <td>130</td>\n",
       "      <td>175.0</td>\n",
       "      <td>1</td>\n",
       "      <td>116.0</td>\n",
       "      <td>-0.782946</td>\n",
       "      <td>0.338501</td>\n",
       "    </tr>\n",
       "    <tr>\n",
       "      <th>4</th>\n",
       "      <td>peripheral</td>\n",
       "      <td>100038311040592126253478462795232776943</td>\n",
       "      <td>pericentral hepatocyte</td>\n",
       "      <td>130</td>\n",
       "      <td>149.0</td>\n",
       "      <td>13</td>\n",
       "      <td>90.0</td>\n",
       "      <td>-0.379845</td>\n",
       "      <td>0.061403</td>\n",
       "    </tr>\n",
       "  </tbody>\n",
       "</table>\n",
       "</div>"
      ],
      "text/plain": [
       "       metric                                  cell_id  \\\n",
       "0  peripheral  100038311040592126253478462795232776943   \n",
       "1  peripheral  100038311040592126253478462795232776943   \n",
       "2  peripheral  100038311040592126253478462795232776943   \n",
       "3  peripheral  100038311040592126253478462795232776943   \n",
       "4  peripheral  100038311040592126253478462795232776943   \n",
       "\n",
       "               annotation  num_spots   gene  num_gene_spots  median_rank  \\\n",
       "0  pericentral hepatocyte        130  153.0               9         72.0   \n",
       "1  pericentral hepatocyte        130  126.0              11        110.0   \n",
       "2  pericentral hepatocyte        130  154.0              12         37.5   \n",
       "3  pericentral hepatocyte        130  175.0               1        116.0   \n",
       "4  pericentral hepatocyte        130  149.0              13         90.0   \n",
       "\n",
       "      score  variance  \n",
       "0 -0.100775  0.086593  \n",
       "1 -0.689922  0.072060  \n",
       "2  0.434109  0.061247  \n",
       "3 -0.782946  0.338501  \n",
       "4 -0.379845  0.061403  "
      ]
     },
     "execution_count": 6,
     "metadata": {},
     "output_type": "execute_result"
    }
   ],
   "source": [
    "liv_periph = pd.read_csv('../outputs/gene_cell/liver_peripheral.csv')\n",
    "liv_periph.head()"
   ]
  },
  {
   "cell_type": "code",
   "execution_count": 7,
   "metadata": {},
   "outputs": [
    {
     "data": {
      "text/plain": [
       "(865936, 9)"
      ]
     },
     "execution_count": 7,
     "metadata": {},
     "output_type": "execute_result"
    }
   ],
   "source": [
    "liv_periph.shape"
   ]
  },
  {
   "cell_type": "code",
   "execution_count": 8,
   "metadata": {},
   "outputs": [
    {
     "data": {
      "text/plain": [
       "16175"
      ]
     },
     "execution_count": 8,
     "metadata": {},
     "output_type": "execute_result"
    }
   ],
   "source": [
    "liv_periph['cell_id'].nunique()"
   ]
  },
  {
   "cell_type": "code",
   "execution_count": 10,
   "metadata": {},
   "outputs": [
    {
     "data": {
      "text/plain": [
       "periportal hepatocyte           268697\n",
       "pericentral hepatocyte          256994\n",
       "unannotated                     103847\n",
       "Kupffer cell                     55943\n",
       "other endothelial cell           48935\n",
       "pericentral endothelial cell     42825\n",
       "hepatic stellate cell            29763\n",
       "other hepatocyte                 26709\n",
       "periportal endothelial cell      16504\n",
       "NK cell                          15355\n",
       "myeloid leukocyte                  364\n",
       "Name: annotation, dtype: int64"
      ]
     },
     "execution_count": 10,
     "metadata": {},
     "output_type": "execute_result"
    }
   ],
   "source": [
    "liv_periph['annotation'].value_counts()"
   ]
  },
  {
   "cell_type": "code",
   "execution_count": 13,
   "metadata": {},
   "outputs": [
    {
     "data": {
      "text/plain": [
       "307"
      ]
     },
     "execution_count": 13,
     "metadata": {},
     "output_type": "execute_result"
    }
   ],
   "source": [
    "liv_periph['gene'].nunique()"
   ]
  },
  {
   "cell_type": "code",
   "execution_count": null,
   "metadata": {
    "collapsed": true
   },
   "outputs": [],
   "source": []
  },
  {
   "cell_type": "markdown",
   "metadata": {},
   "source": [
    "# I've decided I'm going to use the scANVI cell-type annotations\n",
    "\n",
    "I can make multiple files with multiple annotations, but scANVI and scVI seem to be very similar and also have more similar annotations to Tabula Muris which I'll need to compare to with ReadZs\n",
    "\n",
    "I'm going to open the SLRRP-formatted hdf5's and re-annotate the cells from the h5ad objects"
   ]
  },
  {
   "cell_type": "code",
   "execution_count": 80,
   "metadata": {},
   "outputs": [
    {
     "data": {
      "text/plain": [
       "AnnData object with n_obs × n_vars = 34387 × 306\n",
       "    obs: 'age', 'cell', 'cell_ontology_class', 'cell_ontology_id', 'free_annotation', 'method', 'mouse.id', 'n_genes', 'sex', 'subtissue', 'tissue', 'tissue_free_annotation', 'n_counts', 'fov', 'volume', 'center_x', 'center_y', 'min_x', 'max_x', 'min_y', 'max_y', 'median average DAPI', 'mean average DAPI', 'dataset', 'barcodeCount', 'tech', 'celltype_scanvi', '_scvi_batch', '_scvi_labels', 'predicted_cell_type'\n",
       "    var: 'n_cells-scRNA-seq'\n",
       "    uns: 'C_scANVI_colors', '_scvi', 'neighbors', 'tech_colors', 'umap'\n",
       "    obsm: 'X_scANVI', 'X_umap', 'spatial'\n",
       "    layers: 'counts'\n",
       "    obsp: 'connectivities', 'distances'"
      ]
     },
     "execution_count": 80,
     "metadata": {},
     "output_type": "execute_result"
    }
   ],
   "source": [
    "kidney_anndata = scp.read_h5ad('/oak/stanford/groups/horence/rob/isoform_localizations/sprawl/preprocessing/KidneyLiver_preprocessing/data/cell_gene_counts/scANVI_kidney_object.h5ad')\n",
    "kidney_anndata"
   ]
  },
  {
   "cell_type": "code",
   "execution_count": 81,
   "metadata": {},
   "outputs": [
    {
     "data": {
      "text/plain": [
       "34387"
      ]
     },
     "execution_count": 81,
     "metadata": {},
     "output_type": "execute_result"
    }
   ],
   "source": [
    "onts = kidney_anndata.obs['predicted_cell_type'].values\n",
    "cell_ids = kidney_anndata.obs['predicted_cell_type'].index.str.split('-').str[0]\n",
    "cell_id_to_ont = {c:o for c,o in zip(cell_ids,onts)}\n",
    "len(cell_id_to_ont)"
   ]
  },
  {
   "cell_type": "code",
   "execution_count": 82,
   "metadata": {},
   "outputs": [
    {
     "name": "stdout",
     "output_type": "stream",
     "text": [
      "31253\n"
     ]
    }
   ],
   "source": [
    "f = h5py.File('../inputs/kidney_111921_gv_filt.hdf5','r')\n",
    "\n",
    "#how many cells in the hdf5 have an ont mapping\n",
    "num_cells_mapping = sum(1 for cell_id in f['cell_ids'] if cell_id.decode() in cell_id_to_ont)\n",
    "print(num_cells_mapping)\n",
    "\n",
    "f.close()"
   ]
  },
  {
   "cell_type": "code",
   "execution_count": 83,
   "metadata": {},
   "outputs": [
    {
     "name": "stdout",
     "output_type": "stream",
     "text": [
      "0\n"
     ]
    }
   ],
   "source": [
    "#no cells in this other kidney file have an ontology mapping\n",
    "f = h5py.File('../inputs/kidney_121021_gv_filt.hdf5','r')\n",
    "\n",
    "#how many cells in the hdf5 have an ont mapping\n",
    "num_cells_mapping = sum(1 for cell_id in f['cell_ids'] if cell_id.decode() in cell_id_to_ont)\n",
    "print(num_cells_mapping)\n",
    "\n",
    "f.close()"
   ]
  },
  {
   "cell_type": "code",
   "execution_count": 92,
   "metadata": {},
   "outputs": [],
   "source": [
    "#iterate annotating all cells\n",
    "f = h5py.File('../inputs/kidney_111921_gv_filt.hdf5','a')\n",
    "\n",
    "for cell_id in f['cell_ids']:\n",
    "    cell_id = cell_id.decode()\n",
    "    ont = cell_id_to_ont[cell_id] if cell_id in cell_id_to_ont else 'unannotated'\n",
    "    f['cells'][cell_id].attrs['annotation'] = ont\n",
    "\n",
    "\n",
    "f.close()"
   ]
  },
  {
   "cell_type": "code",
   "execution_count": 93,
   "metadata": {
    "collapsed": true
   },
   "outputs": [],
   "source": [
    "#now doing the same thing for the liver\n",
    "liver_anndata = scp.read_h5ad('/oak/stanford/groups/horence/rob/isoform_localizations/sprawl/preprocessing/KidneyLiver_preprocessing/data/cell_gene_counts/scANVI_liver_object.h5ad')\n",
    "onts = liver_anndata.obs['predicted_cell_type'].values\n",
    "cell_ids = liver_anndata.obs['predicted_cell_type'].index.str.split('-').str[0]\n",
    "cell_id_to_ont = {c:o for c,o in zip(cell_ids,onts)}\n",
    "\n",
    "f = h5py.File('../inputs/liver_gv_filt.hdf5','a')\n",
    "\n",
    "used_onts = collections.Counter()\n",
    "\n",
    "for cell_id in f['cell_ids']:\n",
    "    cell_id = cell_id.decode()\n",
    "    ont = cell_id_to_ont[cell_id] if cell_id in cell_id_to_ont else 'unannotated'\n",
    "    used_onts[ont] += 1\n",
    "    f['cells'][cell_id].attrs['annotation'] = ont\n",
    "\n",
    "\n",
    "f.close()"
   ]
  },
  {
   "cell_type": "code",
   "execution_count": 94,
   "metadata": {},
   "outputs": [
    {
     "data": {
      "text/plain": [
       "Counter({'Kupffer cell': 1060,\n",
       "         'NK cell': 276,\n",
       "         'hepatic stellate cell': 541,\n",
       "         'myeloid leukocyte': 7,\n",
       "         'other endothelial cell': 870,\n",
       "         'other hepatocyte': 441,\n",
       "         'pericentral endothelial cell': 760,\n",
       "         'pericentral hepatocyte': 4892,\n",
       "         'periportal endothelial cell': 273,\n",
       "         'periportal hepatocyte': 5325,\n",
       "         'unannotated': 1730})"
      ]
     },
     "execution_count": 94,
     "metadata": {},
     "output_type": "execute_result"
    }
   ],
   "source": [
    "used_onts"
   ]
  },
  {
   "cell_type": "markdown",
   "metadata": {},
   "source": [
    "# Debugging SLRRM issue in scoring (how did this issue arrise?)"
   ]
  },
  {
   "cell_type": "code",
   "execution_count": 1,
   "metadata": {},
   "outputs": [
    {
     "data": {
      "text/plain": [
       "Cell-100005199661550619447465419803033850982-pericentral hepatocyte"
      ]
     },
     "execution_count": 1,
     "metadata": {},
     "output_type": "execute_result"
    }
   ],
   "source": [
    "import sys\n",
    "sys.path.append('../src')\n",
    "import sprawl\n",
    "from sprawl import scoring\n",
    "\n",
    "import importlib\n",
    "importlib.reload(sprawl)\n",
    "\n",
    "sample = sprawl.HDF5('../inputs/liver_gv_filt.hdf5')\n",
    "\n",
    "cell_ids = [\n",
    "    '100005199661550619447465419803033850982',\n",
    "    '100038311040592126253478462795232776943',\n",
    "    '100053577078057646947687333568984053913',\n",
    "    '100099503537996968024320038623424846280',\n",
    "    '100129014936507204072415930555467950524',\n",
    "    '100146770389838818636969302040055032402',\n",
    "    '100162920576728168099408864835859286684',\n",
    "    '100202832352906207372119570941630619327',\n",
    "    '100328528037744692615065366839920065024',\n",
    "    '100329676076613869680699081068056965514'\n",
    "]\n",
    "\n",
    "cells = sample.get_cells_by_id(cell_ids)\n",
    "cells[0]"
   ]
  },
  {
   "cell_type": "code",
   "execution_count": 2,
   "metadata": {},
   "outputs": [
    {
     "data": {
      "text/plain": [
       "314"
      ]
     },
     "execution_count": 2,
     "metadata": {},
     "output_type": "execute_result"
    }
   ],
   "source": [
    "cells[0].n"
   ]
  },
  {
   "cell_type": "code",
   "execution_count": null,
   "metadata": {
    "collapsed": true
   },
   "outputs": [],
   "source": [
    "cell.med_"
   ]
  },
  {
   "cell_type": "code",
   "execution_count": 31,
   "metadata": {},
   "outputs": [
    {
     "data": {
      "text/plain": [
       "Cell-100005199661550619447465419803033850982-pericentral hepatocyte"
      ]
     },
     "execution_count": 31,
     "metadata": {},
     "output_type": "execute_result"
    }
   ],
   "source": [
    "x = list(scoring._iter_scores([cells[0]],'peripheral'))\n",
    "c = x[0]\n",
    "c"
   ]
  },
  {
   "cell_type": "code",
   "execution_count": 25,
   "metadata": {},
   "outputs": [
    {
     "data": {
      "text/plain": [
       "{}"
      ]
     },
     "execution_count": 25,
     "metadata": {},
     "output_type": "execute_result"
    }
   ],
   "source": [
    "cells[0].gene_med_ranks"
   ]
  },
  {
   "cell_type": "code",
   "execution_count": 3,
   "metadata": {},
   "outputs": [
    {
     "name": "stdout",
     "output_type": "stream",
     "text": [
      "woo 314\n",
      "hello\n",
      "157.5\n",
      "157.5 112.0\n",
      "woo 314\n",
      "hello\n",
      "157.5\n",
      "157.5 106.5\n",
      "woo 314\n",
      "hello\n",
      "157.5\n",
      "157.5 141.0\n",
      "woo 314\n",
      "hello\n",
      "157.5\n",
      "157.5 178.0\n",
      "woo 314\n",
      "hello\n",
      "157.5\n",
      "157.5 77.0\n",
      "woo 314\n",
      "hello\n",
      "157.5\n",
      "157.5 231.0\n",
      "woo 314\n",
      "hello\n",
      "157.5\n",
      "157.5 142.0\n",
      "woo 314\n",
      "hello\n",
      "157.5\n",
      "157.5 94.0\n",
      "woo 314\n",
      "hello\n",
      "157.5\n",
      "157.5 150.0\n",
      "woo 314\n",
      "hello\n",
      "157.5\n",
      "157.5 230.0\n",
      "woo 314\n",
      "hello\n",
      "157.5\n",
      "157.5 112.5\n",
      "woo 314\n",
      "hello\n",
      "157.5\n",
      "157.5 285.0\n",
      "woo 314\n",
      "hello\n",
      "157.5\n",
      "157.5 308.0\n",
      "woo 314\n",
      "hello\n",
      "157.5\n",
      "157.5 257.0\n",
      "woo 314\n",
      "hello\n",
      "157.5\n",
      "157.5 195.0\n",
      "woo 314\n",
      "hello\n",
      "157.5\n",
      "157.5 273.0\n",
      "woo 314\n",
      "hello\n",
      "157.5\n",
      "157.5 138.0\n",
      "woo 314\n",
      "hello\n",
      "157.5\n",
      "157.5 147.0\n",
      "woo 314\n",
      "hello\n",
      "157.5\n",
      "157.5 47.0\n",
      "woo 314\n",
      "hello\n",
      "157.5\n",
      "157.5 194.0\n",
      "woo 314\n",
      "hello\n",
      "157.5\n",
      "157.5 207.5\n",
      "woo 314\n",
      "hello\n",
      "157.5\n",
      "157.5 215.0\n",
      "woo 314\n",
      "hello\n",
      "157.5\n",
      "157.5 226.5\n",
      "woo 314\n",
      "hello\n",
      "157.5\n",
      "157.5 143.0\n",
      "woo 314\n",
      "hello\n",
      "157.5\n",
      "157.5 245.0\n",
      "woo 314\n",
      "hello\n",
      "157.5\n",
      "157.5 8.0\n",
      "woo 314\n",
      "hello\n",
      "157.5\n",
      "157.5 208.0\n",
      "woo 314\n",
      "hello\n",
      "157.5\n",
      "157.5 262.0\n",
      "woo 314\n",
      "hello\n",
      "157.5\n",
      "157.5 176.0\n",
      "woo 314\n",
      "hello\n",
      "157.5\n",
      "157.5 264.0\n",
      "woo 314\n",
      "hello\n",
      "157.5\n",
      "157.5 294.0\n",
      "woo 314\n",
      "hello\n",
      "157.5\n",
      "157.5 117.5\n",
      "woo 314\n",
      "hello\n",
      "157.5\n",
      "157.5 240.0\n",
      "woo 314\n",
      "hello\n",
      "157.5\n",
      "157.5 230.0\n",
      "woo 314\n",
      "hello\n",
      "157.5\n",
      "157.5 170.0\n",
      "woo 314\n",
      "hello\n",
      "157.5\n",
      "157.5 242.0\n",
      "woo 314\n",
      "hello\n",
      "157.5\n",
      "157.5 2.0\n",
      "woo 314\n",
      "hello\n",
      "157.5\n",
      "157.5 63.5\n",
      "woo 314\n",
      "hello\n",
      "157.5\n",
      "157.5 285.0\n",
      "woo 314\n",
      "hello\n",
      "157.5\n",
      "157.5 225.0\n",
      "woo 314\n",
      "hello\n",
      "157.5\n",
      "157.5 58.0\n",
      "woo 314\n",
      "hello\n",
      "157.5\n",
      "157.5 121.0\n",
      "woo 314\n",
      "hello\n",
      "157.5\n",
      "157.5 124.5\n",
      "woo 314\n",
      "hello\n",
      "157.5\n",
      "157.5 212.0\n",
      "woo 314\n",
      "hello\n",
      "157.5\n",
      "157.5 78.0\n",
      "woo 314\n",
      "hello\n",
      "157.5\n",
      "157.5 312.0\n",
      "woo 314\n",
      "hello\n",
      "157.5\n",
      "157.5 220.0\n",
      "woo 314\n",
      "hello\n",
      "157.5\n",
      "157.5 89.0\n",
      "woo 314\n",
      "hello\n",
      "157.5\n",
      "157.5 265.0\n",
      "woo 314\n",
      "hello\n",
      "157.5\n",
      "157.5 252.0\n",
      "woo 314\n",
      "hello\n",
      "157.5\n",
      "157.5 299.0\n",
      "woo 314\n",
      "hello\n",
      "157.5\n",
      "157.5 310.0\n",
      "woo 314\n",
      "hello\n",
      "157.5\n",
      "157.5 228.0\n",
      "woo 314\n",
      "hello\n",
      "157.5\n",
      "157.5 305.0\n",
      "woo 314\n",
      "hello\n",
      "157.5\n",
      "157.5 243.0\n"
     ]
    },
    {
     "data": {
      "text/plain": [
       "[        metric                                  cell_id  \\\n",
       " 0   peripheral  100005199661550619447465419803033850982   \n",
       " 1   peripheral  100005199661550619447465419803033850982   \n",
       " 2   peripheral  100005199661550619447465419803033850982   \n",
       " 3   peripheral  100005199661550619447465419803033850982   \n",
       " 4   peripheral  100005199661550619447465419803033850982   \n",
       " 5   peripheral  100005199661550619447465419803033850982   \n",
       " 6   peripheral  100005199661550619447465419803033850982   \n",
       " 7   peripheral  100005199661550619447465419803033850982   \n",
       " 8   peripheral  100005199661550619447465419803033850982   \n",
       " 9   peripheral  100005199661550619447465419803033850982   \n",
       " 10  peripheral  100005199661550619447465419803033850982   \n",
       " 11  peripheral  100005199661550619447465419803033850982   \n",
       " 12  peripheral  100005199661550619447465419803033850982   \n",
       " 13  peripheral  100005199661550619447465419803033850982   \n",
       " 14  peripheral  100005199661550619447465419803033850982   \n",
       " 15  peripheral  100005199661550619447465419803033850982   \n",
       " 16  peripheral  100005199661550619447465419803033850982   \n",
       " 17  peripheral  100005199661550619447465419803033850982   \n",
       " 18  peripheral  100005199661550619447465419803033850982   \n",
       " 19  peripheral  100005199661550619447465419803033850982   \n",
       " 20  peripheral  100005199661550619447465419803033850982   \n",
       " 21  peripheral  100005199661550619447465419803033850982   \n",
       " 22  peripheral  100005199661550619447465419803033850982   \n",
       " 23  peripheral  100005199661550619447465419803033850982   \n",
       " 24  peripheral  100005199661550619447465419803033850982   \n",
       " 25  peripheral  100005199661550619447465419803033850982   \n",
       " 26  peripheral  100005199661550619447465419803033850982   \n",
       " 27  peripheral  100005199661550619447465419803033850982   \n",
       " 28  peripheral  100005199661550619447465419803033850982   \n",
       " 29  peripheral  100005199661550619447465419803033850982   \n",
       " 30  peripheral  100005199661550619447465419803033850982   \n",
       " 31  peripheral  100005199661550619447465419803033850982   \n",
       " 32  peripheral  100005199661550619447465419803033850982   \n",
       " 33  peripheral  100005199661550619447465419803033850982   \n",
       " 34  peripheral  100005199661550619447465419803033850982   \n",
       " 35  peripheral  100005199661550619447465419803033850982   \n",
       " 36  peripheral  100005199661550619447465419803033850982   \n",
       " 37  peripheral  100005199661550619447465419803033850982   \n",
       " 38  peripheral  100005199661550619447465419803033850982   \n",
       " 39  peripheral  100005199661550619447465419803033850982   \n",
       " 40  peripheral  100005199661550619447465419803033850982   \n",
       " 41  peripheral  100005199661550619447465419803033850982   \n",
       " 42  peripheral  100005199661550619447465419803033850982   \n",
       " 43  peripheral  100005199661550619447465419803033850982   \n",
       " 44  peripheral  100005199661550619447465419803033850982   \n",
       " 45  peripheral  100005199661550619447465419803033850982   \n",
       " 46  peripheral  100005199661550619447465419803033850982   \n",
       " 47  peripheral  100005199661550619447465419803033850982   \n",
       " 48  peripheral  100005199661550619447465419803033850982   \n",
       " 49  peripheral  100005199661550619447465419803033850982   \n",
       " 50  peripheral  100005199661550619447465419803033850982   \n",
       " 51  peripheral  100005199661550619447465419803033850982   \n",
       " 52  peripheral  100005199661550619447465419803033850982   \n",
       " 53  peripheral  100005199661550619447465419803033850982   \n",
       " 54  peripheral  100005199661550619447465419803033850982   \n",
       " \n",
       "                 annotation  num_spots   gene  num_gene_spots  median_rank  \\\n",
       " 0   pericentral hepatocyte        314  143.0              75        112.0   \n",
       " 1   pericentral hepatocyte        314  154.0              14        106.5   \n",
       " 2   pericentral hepatocyte        314  148.0               3        141.0   \n",
       " 3   pericentral hepatocyte        314  126.0              36        178.0   \n",
       " 4   pericentral hepatocyte        314  202.0               1         77.0   \n",
       " 5   pericentral hepatocyte        314  142.0              11        231.0   \n",
       " 6   pericentral hepatocyte        314  284.0              23        142.0   \n",
       " 7   pericentral hepatocyte        314  303.0              19         94.0   \n",
       " 8   pericentral hepatocyte        314  153.0              13        150.0   \n",
       " 9   pericentral hepatocyte        314   80.0               2        230.0   \n",
       " 10  pericentral hepatocyte        314  238.0               2        112.5   \n",
       " 11  pericentral hepatocyte        314  252.0               8        285.0   \n",
       " 12  pericentral hepatocyte        314  271.0               5        308.0   \n",
       " 13  pericentral hepatocyte        314  280.0               3        257.0   \n",
       " 14  pericentral hepatocyte        314   22.0               2        195.0   \n",
       " 15  pericentral hepatocyte        314  147.0               9        273.0   \n",
       " 16  pericentral hepatocyte        314  149.0               5        138.0   \n",
       " 17  pericentral hepatocyte        314  291.0              11        147.0   \n",
       " 18  pericentral hepatocyte        314   54.0               1         47.0   \n",
       " 19  pericentral hepatocyte        314  146.0               7        194.0   \n",
       " 20  pericentral hepatocyte        314  276.0               4        207.5   \n",
       " 21  pericentral hepatocyte        314  279.0               2        215.0   \n",
       " 22  pericentral hepatocyte        314  286.0               2        226.5   \n",
       " 23  pericentral hepatocyte        314  144.0               3        143.0   \n",
       " 24  pericentral hepatocyte        314  268.0               2        245.0   \n",
       " 25  pericentral hepatocyte        314  128.0               1          8.0   \n",
       " 26  pericentral hepatocyte        314  123.0               2        208.0   \n",
       " 27  pericentral hepatocyte        314   25.0               3        262.0   \n",
       " 28  pericentral hepatocyte        314   63.0               1        176.0   \n",
       " 29  pericentral hepatocyte        314   46.0               5        264.0   \n",
       " 30  pericentral hepatocyte        314  259.0               1        294.0   \n",
       " 31  pericentral hepatocyte        314  285.0               2        117.5   \n",
       " 32  pericentral hepatocyte        314  145.0               5        240.0   \n",
       " 33  pericentral hepatocyte        314   61.0               6        230.0   \n",
       " 34  pericentral hepatocyte        314   67.0               1        170.0   \n",
       " 35  pericentral hepatocyte        314  256.0               1        242.0   \n",
       " 36  pericentral hepatocyte        314   29.0               1          2.0   \n",
       " 37  pericentral hepatocyte        314   98.0               2         63.5   \n",
       " 38  pericentral hepatocyte        314  183.0               1        285.0   \n",
       " 39  pericentral hepatocyte        314   43.0               1        225.0   \n",
       " 40  pericentral hepatocyte        314  100.0               1         58.0   \n",
       " 41  pericentral hepatocyte        314   31.0               3        121.0   \n",
       " 42  pericentral hepatocyte        314  283.0               2        124.5   \n",
       " 43  pericentral hepatocyte        314  178.0               1        212.0   \n",
       " 44  pericentral hepatocyte        314    3.0               1         78.0   \n",
       " 45  pericentral hepatocyte        314  150.0               1        312.0   \n",
       " 46  pericentral hepatocyte        314   81.0               1        220.0   \n",
       " 47  pericentral hepatocyte        314   72.0               1         89.0   \n",
       " 48  pericentral hepatocyte        314  200.0               1        265.0   \n",
       " 49  pericentral hepatocyte        314  247.0               1        252.0   \n",
       " 50  pericentral hepatocyte        314  258.0               1        299.0   \n",
       " 51  pericentral hepatocyte        314  262.0               1        310.0   \n",
       " 52  pericentral hepatocyte        314  169.0               1        228.0   \n",
       " 53  pericentral hepatocyte        314   99.0               1        305.0   \n",
       " 54  pericentral hepatocyte        314  294.0               1        243.0   \n",
       " \n",
       "        score  variance  \n",
       " 0   0.290735  0.009980  \n",
       " 1   0.325879  0.056268  \n",
       " 2   0.105431  0.199992  \n",
       " 3  -0.130990  0.022887  \n",
       " 4   0.514377  0.335463  \n",
       " 5  -0.469649  0.074941  \n",
       " 6   0.099042  0.037426  \n",
       " 7   0.405751  0.045167  \n",
       " 8   0.047923  0.064520  \n",
       " 9  -0.463259  0.167196  \n",
       " 10  0.287540  0.167196  \n",
       " 11 -0.814696  0.087456  \n",
       " 12 -0.961661  0.141933  \n",
       " 13 -0.635783  0.199992  \n",
       " 14 -0.239617  0.167196  \n",
       " 15 -0.738019  0.089152  \n",
       " 16  0.124601  0.141933  \n",
       " 17  0.067093  0.074941  \n",
       " 18  0.706070  0.335463  \n",
       " 19 -0.233227  0.109678  \n",
       " 20 -0.319489  0.132899  \n",
       " 21 -0.367412  0.167196  \n",
       " 22 -0.440895  0.167196  \n",
       " 23  0.092652  0.199992  \n",
       " 24 -0.559105  0.167196  \n",
       " 25  0.955272  0.335463  \n",
       " 26 -0.322684  0.167196  \n",
       " 27 -0.667732  0.199992  \n",
       " 28 -0.118211  0.335463  \n",
       " 29 -0.680511  0.141933  \n",
       " 30 -0.872204  0.335463  \n",
       " 31  0.255591  0.167196  \n",
       " 32 -0.527157  0.141933  \n",
       " 33 -0.463259  0.106105  \n",
       " 34 -0.079872  0.335463  \n",
       " 35 -0.539936  0.335463  \n",
       " 36  0.993610  0.335463  \n",
       " 37  0.600639  0.167196  \n",
       " 38 -0.814696  0.335463  \n",
       " 39 -0.431310  0.335463  \n",
       " 40  0.635783  0.335463  \n",
       " 41  0.233227  0.199992  \n",
       " 42  0.210863  0.167196  \n",
       " 43 -0.348243  0.335463  \n",
       " 44  0.507987  0.335463  \n",
       " 45 -0.987220  0.335463  \n",
       " 46 -0.399361  0.335463  \n",
       " 47  0.437700  0.335463  \n",
       " 48 -0.686901  0.335463  \n",
       " 49 -0.603834  0.335463  \n",
       " 50 -0.904153  0.335463  \n",
       " 51 -0.974441  0.335463  \n",
       " 52 -0.450479  0.335463  \n",
       " 53 -0.942492  0.335463  \n",
       " 54 -0.546326  0.335463  ]"
      ]
     },
     "execution_count": 3,
     "metadata": {},
     "output_type": "execute_result"
    }
   ],
   "source": [
    "list(sprawl.iter_scores([cells[0]], metric='peripheral'))"
   ]
  },
  {
   "cell_type": "code",
   "execution_count": 113,
   "metadata": {
    "collapsed": true
   },
   "outputs": [],
   "source": [
    "sample.get_cells_by_id?"
   ]
  },
  {
   "cell_type": "code",
   "execution_count": 107,
   "metadata": {},
   "outputs": [],
   "source": [
    "sample.get_cells_by_id?"
   ]
  },
  {
   "cell_type": "code",
   "execution_count": 101,
   "metadata": {},
   "outputs": [
    {
     "data": {
      "text/plain": [
       "array([b'100005199661550619447465419803033850982',\n",
       "       b'100038311040592126253478462795232776943',\n",
       "       b'100053577078057646947687333568984053913',\n",
       "       b'100099503537996968024320038623424846280',\n",
       "       b'100129014936507204072415930555467950524',\n",
       "       b'100146770389838818636969302040055032402',\n",
       "       b'100162920576728168099408864835859286684',\n",
       "       b'100202832352906207372119570941630619327',\n",
       "       b'100328528037744692615065366839920065024',\n",
       "       b'100329676076613869680699081068056965514'], dtype='|S39')"
      ]
     },
     "execution_count": 101,
     "metadata": {},
     "output_type": "execute_result"
    }
   ],
   "source": [
    "f['cell_ids'][:10]"
   ]
  },
  {
   "cell_type": "markdown",
   "metadata": {},
   "source": [
    "# Kidney: mapping from Tabula Muris to vizgen ontologies"
   ]
  },
  {
   "cell_type": "code",
   "execution_count": 6,
   "metadata": {},
   "outputs": [
    {
     "name": "stderr",
     "output_type": "stream",
     "text": [
      "/share/software/user/open/py-jupyter/1.0.0_py36/lib/python3.6/site-packages/IPython/core/interactiveshell.py:2698: DtypeWarning: Columns (10) have mixed types.Specify dtype option on import or set low_memory=False.\n",
      "  interactivity=interactivity, compiler=compiler, result=result)\n"
     ]
    },
    {
     "data": {
      "text/html": [
       "<div>\n",
       "<style scoped>\n",
       "    .dataframe tbody tr th:only-of-type {\n",
       "        vertical-align: middle;\n",
       "    }\n",
       "\n",
       "    .dataframe tbody tr th {\n",
       "        vertical-align: top;\n",
       "    }\n",
       "\n",
       "    .dataframe thead th {\n",
       "        text-align: right;\n",
       "    }\n",
       "</style>\n",
       "<table border=\"1\" class=\"dataframe\">\n",
       "  <thead>\n",
       "    <tr style=\"text-align: right;\">\n",
       "      <th></th>\n",
       "      <th>0</th>\n",
       "      <th>1</th>\n",
       "      <th>2</th>\n",
       "      <th>3</th>\n",
       "      <th>4</th>\n",
       "    </tr>\n",
       "  </thead>\n",
       "  <tbody>\n",
       "    <tr>\n",
       "      <th>index</th>\n",
       "      <td>AAACCTGAGTCCTCCT-1-47-1-0</td>\n",
       "      <td>AAACCTGCAGCTATTG-1-47-1-0</td>\n",
       "      <td>AAAGATGAGCAGGCTA-1-47-1-0</td>\n",
       "      <td>AAAGCAAGTCTCTTAT-1-47-1-0</td>\n",
       "      <td>AAAGCAATCCACGAAT-1-47-1-0</td>\n",
       "    </tr>\n",
       "    <tr>\n",
       "      <th>age</th>\n",
       "      <td>1m</td>\n",
       "      <td>1m</td>\n",
       "      <td>1m</td>\n",
       "      <td>1m</td>\n",
       "      <td>1m</td>\n",
       "    </tr>\n",
       "    <tr>\n",
       "      <th>cell</th>\n",
       "      <td>10X_P5_4_AAACCTGAGTCCTCCT</td>\n",
       "      <td>10X_P5_4_AAACCTGCAGCTATTG</td>\n",
       "      <td>10X_P5_4_AAAGATGAGCAGGCTA</td>\n",
       "      <td>10X_P5_4_AAAGCAAGTCTCTTAT</td>\n",
       "      <td>10X_P5_4_AAAGCAATCCACGAAT</td>\n",
       "    </tr>\n",
       "    <tr>\n",
       "      <th>cell_ontology_class</th>\n",
       "      <td>bladder cell</td>\n",
       "      <td>bladder urothelial cell</td>\n",
       "      <td>bladder cell</td>\n",
       "      <td>bladder cell</td>\n",
       "      <td>bladder cell</td>\n",
       "    </tr>\n",
       "    <tr>\n",
       "      <th>cell_ontology_id</th>\n",
       "      <td>CL:1001319</td>\n",
       "      <td>CL:1001428</td>\n",
       "      <td>CL:1001319</td>\n",
       "      <td>CL:1001319</td>\n",
       "      <td>CL:1001319</td>\n",
       "    </tr>\n",
       "    <tr>\n",
       "      <th>free_annotation</th>\n",
       "      <td>bladder mesenchymal cell (Car3+)</td>\n",
       "      <td>luminal bladder epithelial cell (umbrella cell)</td>\n",
       "      <td>bladder mesenchymal cell (Car3+)</td>\n",
       "      <td>bladder mesenchymal cell (Scara5+)</td>\n",
       "      <td>bladder mesenchymal cell (Scara5+)</td>\n",
       "    </tr>\n",
       "    <tr>\n",
       "      <th>method</th>\n",
       "      <td>droplet</td>\n",
       "      <td>droplet</td>\n",
       "      <td>droplet</td>\n",
       "      <td>droplet</td>\n",
       "      <td>droplet</td>\n",
       "    </tr>\n",
       "    <tr>\n",
       "      <th>mouse.id</th>\n",
       "      <td>1-M-63</td>\n",
       "      <td>1-M-63</td>\n",
       "      <td>1-M-63</td>\n",
       "      <td>1-M-63</td>\n",
       "      <td>1-M-63</td>\n",
       "    </tr>\n",
       "    <tr>\n",
       "      <th>n_genes</th>\n",
       "      <td>3301</td>\n",
       "      <td>2236</td>\n",
       "      <td>3670</td>\n",
       "      <td>2699</td>\n",
       "      <td>2742</td>\n",
       "    </tr>\n",
       "    <tr>\n",
       "      <th>sex</th>\n",
       "      <td>male</td>\n",
       "      <td>male</td>\n",
       "      <td>male</td>\n",
       "      <td>male</td>\n",
       "      <td>male</td>\n",
       "    </tr>\n",
       "    <tr>\n",
       "      <th>subtissue</th>\n",
       "      <td>BLADDER</td>\n",
       "      <td>BLADDER</td>\n",
       "      <td>BLADDER</td>\n",
       "      <td>BLADDER</td>\n",
       "      <td>BLADDER</td>\n",
       "    </tr>\n",
       "    <tr>\n",
       "      <th>tissue</th>\n",
       "      <td>Bladder</td>\n",
       "      <td>Bladder</td>\n",
       "      <td>Bladder</td>\n",
       "      <td>Bladder</td>\n",
       "      <td>Bladder</td>\n",
       "    </tr>\n",
       "    <tr>\n",
       "      <th>n_counts</th>\n",
       "      <td>11976</td>\n",
       "      <td>7275</td>\n",
       "      <td>14773</td>\n",
       "      <td>7755</td>\n",
       "      <td>9122</td>\n",
       "    </tr>\n",
       "    <tr>\n",
       "      <th>louvain</th>\n",
       "      <td>2</td>\n",
       "      <td>6</td>\n",
       "      <td>2</td>\n",
       "      <td>3</td>\n",
       "      <td>3</td>\n",
       "    </tr>\n",
       "    <tr>\n",
       "      <th>cluster_names</th>\n",
       "      <td>2_bladder cell</td>\n",
       "      <td>6_bladder urothelial cell</td>\n",
       "      <td>2_bladder cell</td>\n",
       "      <td>3_bladder cell</td>\n",
       "      <td>3_bladder cell</td>\n",
       "    </tr>\n",
       "    <tr>\n",
       "      <th>cell1</th>\n",
       "      <td>10X_P5_4_S5_L00_AAACCTGAGTCCTCCT</td>\n",
       "      <td>10X_P5_4_S5_L00_AAACCTGCAGCTATTG</td>\n",
       "      <td>10X_P5_4_S5_L00_AAAGATGAGCAGGCTA</td>\n",
       "      <td>10X_P5_4_S5_L00_AAAGCAAGTCTCTTAT</td>\n",
       "      <td>10X_P5_4_S5_L00_AAAGCAATCCACGAAT</td>\n",
       "    </tr>\n",
       "  </tbody>\n",
       "</table>\n",
       "</div>"
      ],
      "text/plain": [
       "                                                    0  \\\n",
       "index                       AAACCTGAGTCCTCCT-1-47-1-0   \n",
       "age                                                1m   \n",
       "cell                        10X_P5_4_AAACCTGAGTCCTCCT   \n",
       "cell_ontology_class                      bladder cell   \n",
       "cell_ontology_id                           CL:1001319   \n",
       "free_annotation      bladder mesenchymal cell (Car3+)   \n",
       "method                                        droplet   \n",
       "mouse.id                                       1-M-63   \n",
       "n_genes                                          3301   \n",
       "sex                                              male   \n",
       "subtissue                                     BLADDER   \n",
       "tissue                                        Bladder   \n",
       "n_counts                                        11976   \n",
       "louvain                                             2   \n",
       "cluster_names                          2_bladder cell   \n",
       "cell1                10X_P5_4_S5_L00_AAACCTGAGTCCTCCT   \n",
       "\n",
       "                                                                   1  \\\n",
       "index                                      AAACCTGCAGCTATTG-1-47-1-0   \n",
       "age                                                               1m   \n",
       "cell                                       10X_P5_4_AAACCTGCAGCTATTG   \n",
       "cell_ontology_class                          bladder urothelial cell   \n",
       "cell_ontology_id                                          CL:1001428   \n",
       "free_annotation      luminal bladder epithelial cell (umbrella cell)   \n",
       "method                                                       droplet   \n",
       "mouse.id                                                      1-M-63   \n",
       "n_genes                                                         2236   \n",
       "sex                                                             male   \n",
       "subtissue                                                    BLADDER   \n",
       "tissue                                                       Bladder   \n",
       "n_counts                                                        7275   \n",
       "louvain                                                            6   \n",
       "cluster_names                              6_bladder urothelial cell   \n",
       "cell1                               10X_P5_4_S5_L00_AAACCTGCAGCTATTG   \n",
       "\n",
       "                                                    2  \\\n",
       "index                       AAAGATGAGCAGGCTA-1-47-1-0   \n",
       "age                                                1m   \n",
       "cell                        10X_P5_4_AAAGATGAGCAGGCTA   \n",
       "cell_ontology_class                      bladder cell   \n",
       "cell_ontology_id                           CL:1001319   \n",
       "free_annotation      bladder mesenchymal cell (Car3+)   \n",
       "method                                        droplet   \n",
       "mouse.id                                       1-M-63   \n",
       "n_genes                                          3670   \n",
       "sex                                              male   \n",
       "subtissue                                     BLADDER   \n",
       "tissue                                        Bladder   \n",
       "n_counts                                        14773   \n",
       "louvain                                             2   \n",
       "cluster_names                          2_bladder cell   \n",
       "cell1                10X_P5_4_S5_L00_AAAGATGAGCAGGCTA   \n",
       "\n",
       "                                                      3  \\\n",
       "index                         AAAGCAAGTCTCTTAT-1-47-1-0   \n",
       "age                                                  1m   \n",
       "cell                          10X_P5_4_AAAGCAAGTCTCTTAT   \n",
       "cell_ontology_class                        bladder cell   \n",
       "cell_ontology_id                             CL:1001319   \n",
       "free_annotation      bladder mesenchymal cell (Scara5+)   \n",
       "method                                          droplet   \n",
       "mouse.id                                         1-M-63   \n",
       "n_genes                                            2699   \n",
       "sex                                                male   \n",
       "subtissue                                       BLADDER   \n",
       "tissue                                          Bladder   \n",
       "n_counts                                           7755   \n",
       "louvain                                               3   \n",
       "cluster_names                            3_bladder cell   \n",
       "cell1                  10X_P5_4_S5_L00_AAAGCAAGTCTCTTAT   \n",
       "\n",
       "                                                      4  \n",
       "index                         AAAGCAATCCACGAAT-1-47-1-0  \n",
       "age                                                  1m  \n",
       "cell                          10X_P5_4_AAAGCAATCCACGAAT  \n",
       "cell_ontology_class                        bladder cell  \n",
       "cell_ontology_id                             CL:1001319  \n",
       "free_annotation      bladder mesenchymal cell (Scara5+)  \n",
       "method                                          droplet  \n",
       "mouse.id                                         1-M-63  \n",
       "n_genes                                            2742  \n",
       "sex                                                male  \n",
       "subtissue                                       BLADDER  \n",
       "tissue                                          Bladder  \n",
       "n_counts                                           9122  \n",
       "louvain                                               3  \n",
       "cluster_names                            3_bladder cell  \n",
       "cell1                  10X_P5_4_S5_L00_AAAGCAATCCACGAAT  "
      ]
     },
     "execution_count": 6,
     "metadata": {},
     "output_type": "execute_result"
    }
   ],
   "source": [
    "muris_meta_df = pd.read_csv('/oak/stanford/groups/horence/Roozbeh/single_cell_project/utility_files/meta_data/Tabula_muris_senis/Tabula_muris_droplet_new.csv')\n",
    "muris_meta_df.head().T"
   ]
  },
  {
   "cell_type": "code",
   "execution_count": 12,
   "metadata": {},
   "outputs": [
    {
     "data": {
      "text/plain": [
       "array(['Bladder', 'Fat', 'Heart_and_Aorta', 'Kidney', 'Large_Intestine',\n",
       "       'Limb_Muscle', 'Liver', 'Lung', 'Mammary_Gland', 'Marrow',\n",
       "       'Pancreas', 'Spleen', 'Thymus', 'Tongue', 'Trachea'], dtype=object)"
      ]
     },
     "execution_count": 12,
     "metadata": {},
     "output_type": "execute_result"
    }
   ],
   "source": [
    "muris_meta_df['tissue'].unique()"
   ]
  },
  {
   "cell_type": "code",
   "execution_count": 34,
   "metadata": {},
   "outputs": [
    {
     "name": "stdout",
     "output_type": "stream",
     "text": [
      "There are 18 Kidney cell_ontology_classes by Muris\n"
     ]
    },
    {
     "data": {
      "text/plain": [
       "{'B cell',\n",
       " 'NK cell',\n",
       " 'T cell',\n",
       " 'brush cell',\n",
       " 'epithelial cell of proximal tubule',\n",
       " 'fenestrated cell',\n",
       " 'fibroblast',\n",
       " 'kidney capillary endothelial cell',\n",
       " 'kidney collecting duct principal cell',\n",
       " 'kidney cortex artery cell',\n",
       " 'kidney distal convoluted tubule epithelial cell',\n",
       " 'kidney loop of Henle thick ascending limb epithelial cell',\n",
       " 'kidney mesangial cell',\n",
       " 'kidney proximal convoluted tubule epithelial cell',\n",
       " 'lymphocyte',\n",
       " 'macrophage',\n",
       " 'plasma cell',\n",
       " 'podocyte'}"
      ]
     },
     "execution_count": 34,
     "metadata": {},
     "output_type": "execute_result"
    }
   ],
   "source": [
    "muris_kidney_onts = set(muris_meta_df[\n",
    "    muris_meta_df['tissue'].eq('Kidney')\n",
    "]['cell_ontology_class'])\n",
    "\n",
    "print('There are',len(muris_kidney_onts),'Kidney cell_ontology_classes by Muris')\n",
    "muris_kidney_onts"
   ]
  },
  {
   "cell_type": "code",
   "execution_count": 45,
   "metadata": {},
   "outputs": [
    {
     "name": "stdout",
     "output_type": "stream",
     "text": [
      "6 onts from MERFISH kidney:\n",
      " {'podocyte', 'epithelial cell of proximal tubule', 'kidney distal convoluted tubule epithelial cell', 'kidney loop of Henle epithelial cell', 'endothelial cell', 'kidney collecting duct epithelial cell'}\n",
      "\n",
      "3 shared onts with Muris:\n",
      " {'epithelial cell of proximal tubule', 'kidney distal convoluted tubule epithelial cell', 'podocyte'}\n"
     ]
    }
   ],
   "source": [
    "#First trying the MERFISH_Kidney file\n",
    "viz_anndata = scp.read_h5ad('/oak/stanford/groups/horence/rob/isoform_localizations/sprawl/preprocessing/KidneyLiver_preprocessing/data/cell_gene_counts/MERFISH_kidney_object.h5ad')\n",
    "viz_onts = set(viz_anndata.obs['tentative_annot'].values)\n",
    "shared_onts = muris_kidney_onts.intersection(viz_onts)\n",
    "\n",
    "print('{} onts from MERFISH kidney:\\n'.format(len(viz_onts)),viz_onts)\n",
    "print('')\n",
    "print('{} shared onts with Muris:\\n'.format(len(shared_onts)),shared_onts)"
   ]
  },
  {
   "cell_type": "code",
   "execution_count": 48,
   "metadata": {},
   "outputs": [
    {
     "name": "stdout",
     "output_type": "stream",
     "text": [
      "11 onts from scANVI kidney:\n",
      " {'lymphocyte', 'fibroblast', 'pericyte', 'glomerular capillary endothelial cell', 'podocyte', 'epithelial cell of proximal tubule', 'kidney distal convoluted tubule epithelial cell', 'kidney loop of Henle epithelial cell', 'macrophage', 'kidney blood vessel cell', 'kidney collecting duct epithelial cell'}\n",
      "\n",
      "6 shared onts with Muris:\n",
      " {'lymphocyte', 'fibroblast', 'kidney distal convoluted tubule epithelial cell', 'epithelial cell of proximal tubule', 'podocyte', 'macrophage'}\n"
     ]
    }
   ],
   "source": [
    "#scANVI\n",
    "viz_anndata = scp.read_h5ad('/oak/stanford/groups/horence/rob/isoform_localizations/sprawl/preprocessing/KidneyLiver_preprocessing/data/cell_gene_counts/scANVI_kidney_object.h5ad')\n",
    "viz_onts = set(viz_anndata.obs['predicted_cell_type'].values)\n",
    "shared_onts = muris_kidney_onts.intersection(viz_onts)\n",
    "\n",
    "print('{} onts from scANVI kidney:\\n'.format(len(viz_onts)),viz_onts)\n",
    "print('')\n",
    "print('{} shared onts with Muris:\\n'.format(len(shared_onts)),shared_onts)"
   ]
  },
  {
   "cell_type": "code",
   "execution_count": 49,
   "metadata": {},
   "outputs": [
    {
     "name": "stdout",
     "output_type": "stream",
     "text": [
      "11 onts from scANVI kidney:\n",
      " {'lymphocyte', 'fibroblast', 'pericyte', 'glomerular capillary endothelial cell', 'podocyte', 'epithelial cell of proximal tubule', 'kidney distal convoluted tubule epithelial cell', 'kidney loop of Henle epithelial cell', 'macrophage', 'kidney blood vessel cell', 'kidney collecting duct epithelial cell'}\n",
      "\n",
      "6 shared onts with Muris:\n",
      " {'lymphocyte', 'fibroblast', 'kidney distal convoluted tubule epithelial cell', 'epithelial cell of proximal tubule', 'podocyte', 'macrophage'}\n"
     ]
    }
   ],
   "source": [
    "#scVI\n",
    "viz_anndata = scp.read_h5ad('/oak/stanford/groups/horence/rob/isoform_localizations/sprawl/preprocessing/KidneyLiver_preprocessing/data/cell_gene_counts/scVI_kidney_object.h5ad')\n",
    "viz_onts = set(viz_anndata.obs['predicted_cell_type'].values)\n",
    "shared_onts = muris_kidney_onts.intersection(viz_onts)\n",
    "\n",
    "print('{} onts from scANVI kidney:\\n'.format(len(viz_onts)),viz_onts)\n",
    "print('')\n",
    "print('{} shared onts with Muris:\\n'.format(len(shared_onts)),shared_onts)"
   ]
  },
  {
   "cell_type": "markdown",
   "metadata": {},
   "source": [
    "# Liver: mapping from Tabula Muris to vizgen ontologies"
   ]
  },
  {
   "cell_type": "code",
   "execution_count": 52,
   "metadata": {},
   "outputs": [
    {
     "name": "stdout",
     "output_type": "stream",
     "text": [
      "There are 8 Liver cell_ontology_classes by Muris\n"
     ]
    },
    {
     "data": {
      "text/plain": [
       "{'B cell',\n",
       " 'Kupffer cell',\n",
       " 'NK cell',\n",
       " 'endothelial cell of hepatic sinusoid',\n",
       " 'hepatic stellate cell',\n",
       " 'hepatocyte',\n",
       " 'myeloid leukocyte',\n",
       " 'plasmacytoid dendritic cell'}"
      ]
     },
     "execution_count": 52,
     "metadata": {},
     "output_type": "execute_result"
    }
   ],
   "source": [
    "muris_liver_onts = set(muris_meta_df[\n",
    "    muris_meta_df['tissue'].eq('Liver')\n",
    "]['cell_ontology_class'])\n",
    "\n",
    "print('There are',len(muris_liver_onts),'Liver cell_ontology_classes by Muris')\n",
    "muris_liver_onts"
   ]
  },
  {
   "cell_type": "code",
   "execution_count": 53,
   "metadata": {},
   "outputs": [
    {
     "name": "stdout",
     "output_type": "stream",
     "text": [
      "7 onts from MERFISH liver:\n",
      " {'immune cell', 'periportal endothelial cell', 'hepatic stellate cell', 'pericentral hepatocyte', 'pericentral endothelial cell', 'periportal hepatocyte', 'Kupffer cell'}\n",
      "\n",
      "2 shared onts with Muris:\n",
      " {'Kupffer cell', 'hepatic stellate cell'}\n"
     ]
    }
   ],
   "source": [
    "#First trying the MERFISH_Liver file\n",
    "viz_anndata = scp.read_h5ad('/oak/stanford/groups/horence/rob/isoform_localizations/sprawl/preprocessing/KidneyLiver_preprocessing/data/cell_gene_counts/MERFISH_liver_object.h5ad')\n",
    "viz_onts = set(viz_anndata.obs['tentative_annot'].values)\n",
    "shared_onts = muris_liver_onts.intersection(viz_onts)\n",
    "\n",
    "print('{} onts from MERFISH liver:\\n'.format(len(viz_onts)),viz_onts)\n",
    "print('')\n",
    "print('{} shared onts with Muris:\\n'.format(len(shared_onts)),shared_onts)"
   ]
  },
  {
   "cell_type": "code",
   "execution_count": 54,
   "metadata": {},
   "outputs": [
    {
     "name": "stdout",
     "output_type": "stream",
     "text": [
      "11 onts from scANVI liver:\n",
      " {'myeloid leukocyte', 'periportal endothelial cell', 'other hepatocyte', 'hepatic stellate cell', 'NK cell', 'pericentral hepatocyte', 'pericentral endothelial cell', 'periportal hepatocyte', 'plasmacytoid dendritic cell', 'Kupffer cell', 'other endothelial cell'}\n",
      "\n",
      "5 shared onts with Muris:\n",
      " {'myeloid leukocyte', 'hepatic stellate cell', 'NK cell', 'plasmacytoid dendritic cell', 'Kupffer cell'}\n"
     ]
    }
   ],
   "source": [
    "#scANVI\n",
    "viz_anndata = scp.read_h5ad('/oak/stanford/groups/horence/rob/isoform_localizations/sprawl/preprocessing/KidneyLiver_preprocessing/data/cell_gene_counts/scANVI_liver_object.h5ad')\n",
    "viz_onts = set(viz_anndata.obs['predicted_cell_type'].values)\n",
    "shared_onts = muris_liver_onts.intersection(viz_onts)\n",
    "\n",
    "print('{} onts from scANVI liver:\\n'.format(len(viz_onts)),viz_onts)\n",
    "print('')\n",
    "print('{} shared onts with Muris:\\n'.format(len(shared_onts)),shared_onts)"
   ]
  },
  {
   "cell_type": "code",
   "execution_count": 55,
   "metadata": {},
   "outputs": [
    {
     "name": "stdout",
     "output_type": "stream",
     "text": [
      "11 onts from scVI liver:\n",
      " {'myeloid leukocyte', 'periportal endothelial cell', 'other hepatocyte', 'hepatic stellate cell', 'NK cell', 'pericentral hepatocyte', 'pericentral endothelial cell', 'periportal hepatocyte', 'plasmacytoid dendritic cell', 'Kupffer cell', 'other endothelial cell'}\n",
      "\n",
      "5 shared onts with Muris:\n",
      " {'myeloid leukocyte', 'hepatic stellate cell', 'NK cell', 'plasmacytoid dendritic cell', 'Kupffer cell'}\n"
     ]
    }
   ],
   "source": [
    "#scVI\n",
    "viz_anndata = scp.read_h5ad('/oak/stanford/groups/horence/rob/isoform_localizations/sprawl/preprocessing/KidneyLiver_preprocessing/data/cell_gene_counts/scVI_liver_object.h5ad')\n",
    "viz_onts = set(viz_anndata.obs['predicted_cell_type'].values)\n",
    "shared_onts = muris_liver_onts.intersection(viz_onts)\n",
    "\n",
    "print('{} onts from scVI liver:\\n'.format(len(viz_onts)),viz_onts)\n",
    "print('')\n",
    "print('{} shared onts with Muris:\\n'.format(len(shared_onts)),shared_onts)"
   ]
  }
 ],
 "metadata": {
  "kernelspec": {
   "display_name": "Python 3",
   "language": "python",
   "name": "python3"
  },
  "language_info": {
   "codemirror_mode": {
    "name": "ipython",
    "version": 3
   },
   "file_extension": ".py",
   "mimetype": "text/x-python",
   "name": "python",
   "nbconvert_exporter": "python",
   "pygments_lexer": "ipython3",
   "version": "3.6.1"
  }
 },
 "nbformat": 4,
 "nbformat_minor": 2
}
