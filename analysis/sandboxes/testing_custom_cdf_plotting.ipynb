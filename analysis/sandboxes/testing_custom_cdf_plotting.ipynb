{
 "cells": [
  {
   "cell_type": "code",
   "execution_count": 14,
   "id": "e3f7e71b",
   "metadata": {},
   "outputs": [],
   "source": [
    "import importlib\n",
    "import pandas as pd\n",
    "import pysam\n",
    "\n",
    "import SRRS\n",
    "from SRRS import plotting, utils\n",
    "\n",
    "import matplotlib.pyplot as plt\n",
    "import seaborn as sns"
   ]
  },
  {
   "cell_type": "code",
   "execution_count": 15,
   "id": "d3e180a1",
   "metadata": {},
   "outputs": [],
   "source": [
    "#setup the bam_path and chrom/start/end (Camk2d)\n",
    "bam_path = 'ont_L8TX_181211_01_A01.bam'\n",
    "\n",
    "chrom = 'chr3'\n",
    "start = 126842239\n",
    "end = 126846831"
   ]
  },
  {
   "cell_type": "code",
   "execution_count": 16,
   "id": "c917b36d",
   "metadata": {},
   "outputs": [],
   "source": [
    "#setup the bam_path and chrom/start/end (Ano4)\n",
    "bam_path = 'ont_L8TX_181211_01_A01.bam'\n",
    "\n",
    "chrom = 'chr10'\n",
    "start = 88948995\n",
    "end = 89257590"
   ]
  },
  {
   "cell_type": "code",
   "execution_count": 17,
   "id": "829efb91",
   "metadata": {},
   "outputs": [],
   "source": [
    "#setup the bam_path and chrom/start/end (Bcl11b)\n",
    "bam_path = 'ont_L8TX_181211_01_A01.bam'\n",
    "\n",
    "chrom = 'chr12'\n",
    "start = 107909741\n",
    "end = 107918803"
   ]
  },
  {
   "cell_type": "code",
   "execution_count": 18,
   "id": "7ff6bb1e",
   "metadata": {},
   "outputs": [],
   "source": [
    "#setup the bam_path and chrom/start/end (Chn2)\n",
    "bam_path = 'ont_L8TX_181211_01_A01.bam'\n",
    "\n",
    "chrom = 'chr6'\n",
    "start = 54299496\n",
    "end = 54302308"
   ]
  },
  {
   "cell_type": "code",
   "execution_count": 19,
   "id": "cf09524d",
   "metadata": {},
   "outputs": [],
   "source": [
    "#setup the bam_path and chrom/start/end (Inpp4b)\n",
    "bam_path = 'ont_L8TX_181211_01_A01.bam'\n",
    "\n",
    "chrom = 'chr8'\n",
    "start = 82119031\n",
    "end = 82129890"
   ]
  },
  {
   "cell_type": "code",
   "execution_count": 20,
   "id": "4c498ef4",
   "metadata": {},
   "outputs": [],
   "source": [
    "#setup the bam_path and chrom/start/end (Luzp2)\n",
    "bam_path = 'ont_L8TX_181211_01_A01.bam'\n",
    "\n",
    "chrom = 'chr7'\n",
    "start = 55265030\n",
    "end = 55269021"
   ]
  },
  {
   "cell_type": "code",
   "execution_count": 21,
   "id": "5854c384",
   "metadata": {},
   "outputs": [],
   "source": [
    "#setup the bam_path and chrom/start/end (Pou3f3)\n",
    "bam_path = 'ont_L8TX_181211_01_A01.bam'\n",
    "\n",
    "chrom = 'chr1'\n",
    "start = 42695391\n",
    "end = 42703580"
   ]
  },
  {
   "cell_type": "code",
   "execution_count": 22,
   "id": "ffaa5915",
   "metadata": {},
   "outputs": [],
   "source": [
    "#setup the bam_path and chrom/start/end (Ptprt)\n",
    "bam_path = 'ont_L8TX_181211_01_A01.bam'\n",
    "\n",
    "chrom = 'chr2'\n",
    "start = 161520668\n",
    "end = 161530060"
   ]
  },
  {
   "cell_type": "code",
   "execution_count": 23,
   "id": "0c6b1c98",
   "metadata": {},
   "outputs": [],
   "source": [
    "#setup the bam_path and chrom/start/end (Sulf2)\n",
    "bam_path = 'ont_L8TX_181211_01_A01.bam'\n",
    "\n",
    "chrom = 'chr2'\n",
    "start = 166072498\n",
    "end = 166075426"
   ]
  },
  {
   "cell_type": "code",
   "execution_count": 24,
   "id": "11e983f7",
   "metadata": {},
   "outputs": [],
   "source": [
    "#setup the bam_path and chrom/start/end (below is Timp3)\n",
    "bam_path = 'ont_L8TX_181211_01_A01.bam'\n",
    "\n",
    "chrom = 'chr10'\n",
    "start = 86344341\n",
    "end = 86350020\n"
   ]
  },
  {
   "cell_type": "code",
   "execution_count": null,
   "id": "f6c6d1c0",
   "metadata": {},
   "outputs": [],
   "source": [
    "full_gtf = pd.read_csv(\n",
    "    '/oak/stanford/groups/horence/rob/isoform_localizations/SRRS/inputs/gencode.vM23.annotation.gtf',\n",
    "    comment = '#',\n",
    "    sep = '\\t',\n",
    "    header = None,\n",
    "    names = ['chrom','source','kind','start','end','dot1','strand','dot2','info'],\n",
    ")\n",
    "gtf = full_gtf[full_gtf['kind'].isin(['exon','UTR'])]\n",
    "gtf['label'] = gtf['info'].str.extract('gene_name \"(.*?)\";')\n",
    "gtf['group'] = gtf['info'].str.extract('transcript_id \"(.*?)\";')\n",
    "\n",
    "gtf.head()"
   ]
  },
  {
   "cell_type": "code",
   "execution_count": null,
   "id": "8434c283",
   "metadata": {
    "scrolled": false
   },
   "outputs": [],
   "source": [
    "%%time\n",
    "importlib.reload(plotting)\n",
    "\n",
    "fig = plotting.read_buildup_plot(\n",
    "    bam_path, locus=(chrom, start, end), ann_df=gtf,\n",
    "    stratify_tag='XO', \n",
    "    ws=10, min_ont_counts=100,\n",
    ")\n",
    "\n",
    "\n",
    "plt.show()\n",
    "plt.close()"
   ]
  }
 ],
 "metadata": {
  "kernelspec": {
   "display_name": "Python 3",
   "language": "python",
   "name": "python3"
  },
  "language_info": {
   "codemirror_mode": {
    "name": "ipython",
    "version": 3
   },
   "file_extension": ".py",
   "mimetype": "text/x-python",
   "name": "python",
   "nbconvert_exporter": "python",
   "pygments_lexer": "ipython3",
   "version": "3.6.8"
  }
 },
 "nbformat": 4,
 "nbformat_minor": 5
}
