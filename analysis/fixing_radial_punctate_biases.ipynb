{
 "cells": [
  {
   "cell_type": "code",
   "execution_count": 8,
   "id": "ffc33709",
   "metadata": {},
   "outputs": [],
   "source": [
    "import SRRS\n",
    "from SRRS import scoring, metrics, plotting"
   ]
  },
  {
   "cell_type": "code",
   "execution_count": 9,
   "id": "8278f6cf",
   "metadata": {},
   "outputs": [
    {
     "data": {
      "text/plain": [
       "HDF5 ../inputs/m1s1_subset.hdf5"
      ]
     },
     "execution_count": 9,
     "metadata": {},
     "output_type": "execute_result"
    }
   ],
   "source": [
    "sample = SRRS.HDF5('../inputs/m1s1_subset.hdf5')\n",
    "sample"
   ]
  },
  {
   "cell_type": "code",
   "execution_count": 2,
   "id": "149b87ac",
   "metadata": {},
   "outputs": [
    {
     "name": "stdout",
     "output_type": "stream",
     "text": [
      "hello\n"
     ]
    }
   ],
   "source": [
    "print('hello')"
   ]
  }
 ],
 "metadata": {
  "kernelspec": {
   "display_name": "Python 3 (ipykernel)",
   "language": "python",
   "name": "python3"
  },
  "language_info": {
   "codemirror_mode": {
    "name": "ipython",
    "version": 3
   },
   "file_extension": ".py",
   "mimetype": "text/x-python",
   "name": "python",
   "nbconvert_exporter": "python",
   "pygments_lexer": "ipython3",
   "version": "3.9.0"
  }
 },
 "nbformat": 4,
 "nbformat_minor": 5
}
