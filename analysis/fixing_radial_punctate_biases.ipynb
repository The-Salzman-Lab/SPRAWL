{
 "cells": [
  {
   "cell_type": "markdown",
   "id": "f30ec6d3",
   "metadata": {},
   "source": [
    "## Punctate metric is biasing genes with fewer spots per cell to have more punctate scores\n",
    "\n",
    "Same issue with radial metric\n",
    "\n",
    "Definitely occuring when the number of spots, m = 1\n",
    "\n",
    "Not sure actually if this is occuring when m > 1, but I'll test that now\n",
    "\n",
    "I've added a method to the Cell class to filter out genes with counts below a threshold"
   ]
  },
  {
   "cell_type": "code",
   "execution_count": 1,
   "id": "ffc33709",
   "metadata": {},
   "outputs": [
    {
     "ename": "KeyboardInterrupt",
     "evalue": "",
     "output_type": "error",
     "traceback": [
      "\u001b[0;31m---------------------------------------------------------------------------\u001b[0m",
      "\u001b[0;31mKeyboardInterrupt\u001b[0m                         Traceback (most recent call last)",
      "Input \u001b[0;32mIn [1]\u001b[0m, in \u001b[0;36m<cell line: 2>\u001b[0;34m()\u001b[0m\n\u001b[1;32m      1\u001b[0m \u001b[38;5;28;01mimport\u001b[39;00m \u001b[38;5;21;01mimportlib\u001b[39;00m\n\u001b[0;32m----> 2\u001b[0m \u001b[38;5;28;01mimport\u001b[39;00m \u001b[38;5;21;01mseaborn\u001b[39;00m \u001b[38;5;28;01mas\u001b[39;00m \u001b[38;5;21;01msns\u001b[39;00m\n\u001b[1;32m      3\u001b[0m \u001b[38;5;28;01mimport\u001b[39;00m \u001b[38;5;21;01mmatplotlib\u001b[39;00m\u001b[38;5;21;01m.\u001b[39;00m\u001b[38;5;21;01mpyplot\u001b[39;00m \u001b[38;5;28;01mas\u001b[39;00m \u001b[38;5;21;01mplt\u001b[39;00m\n\u001b[1;32m      4\u001b[0m \u001b[38;5;28;01mimport\u001b[39;00m \u001b[38;5;21;01mpandas\u001b[39;00m \u001b[38;5;28;01mas\u001b[39;00m \u001b[38;5;21;01mpd\u001b[39;00m\n",
      "File \u001b[0;32m/oak/stanford/groups/horence/rob/isoform_localizations/SRRS/dev_env/lib/python3.9/site-packages/seaborn/__init__.py:2\u001b[0m, in \u001b[0;36m<module>\u001b[0;34m\u001b[0m\n\u001b[1;32m      1\u001b[0m \u001b[38;5;66;03m# Import seaborn objects\u001b[39;00m\n\u001b[0;32m----> 2\u001b[0m \u001b[38;5;28;01mfrom\u001b[39;00m \u001b[38;5;21;01m.\u001b[39;00m\u001b[38;5;21;01mrcmod\u001b[39;00m \u001b[38;5;28;01mimport\u001b[39;00m \u001b[38;5;241m*\u001b[39m  \u001b[38;5;66;03m# noqa: F401,F403\u001b[39;00m\n\u001b[1;32m      3\u001b[0m \u001b[38;5;28;01mfrom\u001b[39;00m \u001b[38;5;21;01m.\u001b[39;00m\u001b[38;5;21;01mutils\u001b[39;00m \u001b[38;5;28;01mimport\u001b[39;00m \u001b[38;5;241m*\u001b[39m  \u001b[38;5;66;03m# noqa: F401,F403\u001b[39;00m\n\u001b[1;32m      4\u001b[0m \u001b[38;5;28;01mfrom\u001b[39;00m \u001b[38;5;21;01m.\u001b[39;00m\u001b[38;5;21;01mpalettes\u001b[39;00m \u001b[38;5;28;01mimport\u001b[39;00m \u001b[38;5;241m*\u001b[39m  \u001b[38;5;66;03m# noqa: F401,F403\u001b[39;00m\n",
      "File \u001b[0;32m/oak/stanford/groups/horence/rob/isoform_localizations/SRRS/dev_env/lib/python3.9/site-packages/seaborn/rcmod.py:7\u001b[0m, in \u001b[0;36m<module>\u001b[0;34m\u001b[0m\n\u001b[1;32m      5\u001b[0m \u001b[38;5;28;01mimport\u001b[39;00m \u001b[38;5;21;01mmatplotlib\u001b[39;00m \u001b[38;5;28;01mas\u001b[39;00m \u001b[38;5;21;01mmpl\u001b[39;00m\n\u001b[1;32m      6\u001b[0m \u001b[38;5;28;01mfrom\u001b[39;00m \u001b[38;5;21;01mcycler\u001b[39;00m \u001b[38;5;28;01mimport\u001b[39;00m cycler\n\u001b[0;32m----> 7\u001b[0m \u001b[38;5;28;01mfrom\u001b[39;00m \u001b[38;5;21;01m.\u001b[39;00m \u001b[38;5;28;01mimport\u001b[39;00m palettes\n\u001b[1;32m     10\u001b[0m __all__ \u001b[38;5;241m=\u001b[39m [\u001b[38;5;124m\"\u001b[39m\u001b[38;5;124mset_theme\u001b[39m\u001b[38;5;124m\"\u001b[39m, \u001b[38;5;124m\"\u001b[39m\u001b[38;5;124mset\u001b[39m\u001b[38;5;124m\"\u001b[39m, \u001b[38;5;124m\"\u001b[39m\u001b[38;5;124mreset_defaults\u001b[39m\u001b[38;5;124m\"\u001b[39m, \u001b[38;5;124m\"\u001b[39m\u001b[38;5;124mreset_orig\u001b[39m\u001b[38;5;124m\"\u001b[39m,\n\u001b[1;32m     11\u001b[0m            \u001b[38;5;124m\"\u001b[39m\u001b[38;5;124maxes_style\u001b[39m\u001b[38;5;124m\"\u001b[39m, \u001b[38;5;124m\"\u001b[39m\u001b[38;5;124mset_style\u001b[39m\u001b[38;5;124m\"\u001b[39m, \u001b[38;5;124m\"\u001b[39m\u001b[38;5;124mplotting_context\u001b[39m\u001b[38;5;124m\"\u001b[39m, \u001b[38;5;124m\"\u001b[39m\u001b[38;5;124mset_context\u001b[39m\u001b[38;5;124m\"\u001b[39m,\n\u001b[1;32m     12\u001b[0m            \u001b[38;5;124m\"\u001b[39m\u001b[38;5;124mset_palette\u001b[39m\u001b[38;5;124m\"\u001b[39m]\n\u001b[1;32m     15\u001b[0m _style_keys \u001b[38;5;241m=\u001b[39m [\n\u001b[1;32m     16\u001b[0m \n\u001b[1;32m     17\u001b[0m     \u001b[38;5;124m\"\u001b[39m\u001b[38;5;124maxes.facecolor\u001b[39m\u001b[38;5;124m\"\u001b[39m,\n\u001b[0;32m   (...)\u001b[0m\n\u001b[1;32m     52\u001b[0m \n\u001b[1;32m     53\u001b[0m ]\n",
      "File \u001b[0;32m/oak/stanford/groups/horence/rob/isoform_localizations/SRRS/dev_env/lib/python3.9/site-packages/seaborn/palettes.py:9\u001b[0m, in \u001b[0;36m<module>\u001b[0;34m\u001b[0m\n\u001b[1;32m      5\u001b[0m \u001b[38;5;28;01mimport\u001b[39;00m \u001b[38;5;21;01mmatplotlib\u001b[39;00m \u001b[38;5;28;01mas\u001b[39;00m \u001b[38;5;21;01mmpl\u001b[39;00m\n\u001b[1;32m      7\u001b[0m \u001b[38;5;28;01mfrom\u001b[39;00m \u001b[38;5;21;01m.\u001b[39;00m\u001b[38;5;21;01mexternal\u001b[39;00m \u001b[38;5;28;01mimport\u001b[39;00m husl\n\u001b[0;32m----> 9\u001b[0m \u001b[38;5;28;01mfrom\u001b[39;00m \u001b[38;5;21;01m.\u001b[39;00m\u001b[38;5;21;01mutils\u001b[39;00m \u001b[38;5;28;01mimport\u001b[39;00m desaturate, get_color_cycle\n\u001b[1;32m     10\u001b[0m \u001b[38;5;28;01mfrom\u001b[39;00m \u001b[38;5;21;01m.\u001b[39;00m\u001b[38;5;21;01mcolors\u001b[39;00m \u001b[38;5;28;01mimport\u001b[39;00m xkcd_rgb, crayons\n\u001b[1;32m     13\u001b[0m __all__ \u001b[38;5;241m=\u001b[39m [\u001b[38;5;124m\"\u001b[39m\u001b[38;5;124mcolor_palette\u001b[39m\u001b[38;5;124m\"\u001b[39m, \u001b[38;5;124m\"\u001b[39m\u001b[38;5;124mhls_palette\u001b[39m\u001b[38;5;124m\"\u001b[39m, \u001b[38;5;124m\"\u001b[39m\u001b[38;5;124mhusl_palette\u001b[39m\u001b[38;5;124m\"\u001b[39m, \u001b[38;5;124m\"\u001b[39m\u001b[38;5;124mmpl_palette\u001b[39m\u001b[38;5;124m\"\u001b[39m,\n\u001b[1;32m     14\u001b[0m            \u001b[38;5;124m\"\u001b[39m\u001b[38;5;124mdark_palette\u001b[39m\u001b[38;5;124m\"\u001b[39m, \u001b[38;5;124m\"\u001b[39m\u001b[38;5;124mlight_palette\u001b[39m\u001b[38;5;124m\"\u001b[39m, \u001b[38;5;124m\"\u001b[39m\u001b[38;5;124mdiverging_palette\u001b[39m\u001b[38;5;124m\"\u001b[39m,\n\u001b[1;32m     15\u001b[0m            \u001b[38;5;124m\"\u001b[39m\u001b[38;5;124mblend_palette\u001b[39m\u001b[38;5;124m\"\u001b[39m, \u001b[38;5;124m\"\u001b[39m\u001b[38;5;124mxkcd_palette\u001b[39m\u001b[38;5;124m\"\u001b[39m, \u001b[38;5;124m\"\u001b[39m\u001b[38;5;124mcrayon_palette\u001b[39m\u001b[38;5;124m\"\u001b[39m,\n\u001b[1;32m     16\u001b[0m            \u001b[38;5;124m\"\u001b[39m\u001b[38;5;124mcubehelix_palette\u001b[39m\u001b[38;5;124m\"\u001b[39m, \u001b[38;5;124m\"\u001b[39m\u001b[38;5;124mset_color_codes\u001b[39m\u001b[38;5;124m\"\u001b[39m]\n",
      "File \u001b[0;32m/oak/stanford/groups/horence/rob/isoform_localizations/SRRS/dev_env/lib/python3.9/site-packages/seaborn/utils.py:10\u001b[0m, in \u001b[0;36m<module>\u001b[0;34m\u001b[0m\n\u001b[1;32m      7\u001b[0m \u001b[38;5;28;01mfrom\u001b[39;00m \u001b[38;5;21;01murllib\u001b[39;00m\u001b[38;5;21;01m.\u001b[39;00m\u001b[38;5;21;01mrequest\u001b[39;00m \u001b[38;5;28;01mimport\u001b[39;00m urlopen, urlretrieve\n\u001b[1;32m      9\u001b[0m \u001b[38;5;28;01mimport\u001b[39;00m \u001b[38;5;21;01mnumpy\u001b[39;00m \u001b[38;5;28;01mas\u001b[39;00m \u001b[38;5;21;01mnp\u001b[39;00m\n\u001b[0;32m---> 10\u001b[0m \u001b[38;5;28;01mfrom\u001b[39;00m \u001b[38;5;21;01mscipy\u001b[39;00m \u001b[38;5;28;01mimport\u001b[39;00m stats\n\u001b[1;32m     11\u001b[0m \u001b[38;5;28;01mimport\u001b[39;00m \u001b[38;5;21;01mpandas\u001b[39;00m \u001b[38;5;28;01mas\u001b[39;00m \u001b[38;5;21;01mpd\u001b[39;00m\n\u001b[1;32m     12\u001b[0m \u001b[38;5;28;01mimport\u001b[39;00m \u001b[38;5;21;01mmatplotlib\u001b[39;00m \u001b[38;5;28;01mas\u001b[39;00m \u001b[38;5;21;01mmpl\u001b[39;00m\n",
      "File \u001b[0;32m/oak/stanford/groups/horence/rob/isoform_localizations/SRRS/dev_env/lib/python3.9/site-packages/scipy/stats/__init__.py:444\u001b[0m, in \u001b[0;36m<module>\u001b[0;34m\u001b[0m\n\u001b[1;32m    442\u001b[0m \u001b[38;5;28;01mfrom\u001b[39;00m \u001b[38;5;21;01m.\u001b[39;00m\u001b[38;5;21;01mdistributions\u001b[39;00m \u001b[38;5;28;01mimport\u001b[39;00m \u001b[38;5;241m*\u001b[39m\n\u001b[1;32m    443\u001b[0m \u001b[38;5;28;01mfrom\u001b[39;00m \u001b[38;5;21;01m.\u001b[39;00m\u001b[38;5;21;01mmorestats\u001b[39;00m \u001b[38;5;28;01mimport\u001b[39;00m \u001b[38;5;241m*\u001b[39m\n\u001b[0;32m--> 444\u001b[0m \u001b[38;5;28;01mfrom\u001b[39;00m \u001b[38;5;21;01m.\u001b[39;00m\u001b[38;5;21;01m_binomtest\u001b[39;00m \u001b[38;5;28;01mimport\u001b[39;00m binomtest\n\u001b[1;32m    445\u001b[0m \u001b[38;5;28;01mfrom\u001b[39;00m \u001b[38;5;21;01m.\u001b[39;00m\u001b[38;5;21;01m_binned_statistic\u001b[39;00m \u001b[38;5;28;01mimport\u001b[39;00m \u001b[38;5;241m*\u001b[39m\n\u001b[1;32m    446\u001b[0m \u001b[38;5;28;01mfrom\u001b[39;00m \u001b[38;5;21;01m.\u001b[39;00m\u001b[38;5;21;01mkde\u001b[39;00m \u001b[38;5;28;01mimport\u001b[39;00m gaussian_kde\n",
      "File \u001b[0;32m<frozen importlib._bootstrap>:1007\u001b[0m, in \u001b[0;36m_find_and_load\u001b[0;34m(name, import_)\u001b[0m\n",
      "File \u001b[0;32m<frozen importlib._bootstrap>:986\u001b[0m, in \u001b[0;36m_find_and_load_unlocked\u001b[0;34m(name, import_)\u001b[0m\n",
      "File \u001b[0;32m<frozen importlib._bootstrap>:680\u001b[0m, in \u001b[0;36m_load_unlocked\u001b[0;34m(spec)\u001b[0m\n",
      "File \u001b[0;32m<frozen importlib._bootstrap_external>:786\u001b[0m, in \u001b[0;36mexec_module\u001b[0;34m(self, module)\u001b[0m\n",
      "File \u001b[0;32m<frozen importlib._bootstrap_external>:881\u001b[0m, in \u001b[0;36mget_code\u001b[0;34m(self, fullname)\u001b[0m\n",
      "File \u001b[0;32m<frozen importlib._bootstrap_external>:980\u001b[0m, in \u001b[0;36mget_data\u001b[0;34m(self, path)\u001b[0m\n",
      "\u001b[0;31mKeyboardInterrupt\u001b[0m: "
     ]
    }
   ],
   "source": [
    "import importlib\n",
    "import seaborn as sns\n",
    "import matplotlib.pyplot as plt\n",
    "import pandas as pd\n",
    "import numpy as np\n",
    "\n",
    "import SRRS\n",
    "from SRRS import scoring, metrics, plotting\n",
    "\n",
    "importlib.reload(SRRS)\n",
    "importlib.reload(metrics)\n",
    "importlib.reload(scoring)\n",
    "importlib.reload(plotting)\n",
    "\n",
    "sample = SRRS.HDF5('../inputs/m1s1_subset.hdf5')\n",
    "sample.num_cells"
   ]
  },
  {
   "cell_type": "code",
   "execution_count": null,
   "id": "8278f6cf",
   "metadata": {},
   "outputs": [],
   "source": [
    "%%time\n",
    "#fast\n",
    "unfilt_cells = [c for c in sample.iter_cells() if c.n > 300]\n",
    "unfilt_scored_cells = list(scoring._iter_scores(unfilt_cells, metric_name='radial', processes=3))\n",
    "\n",
    "len(unfilt_scored_cells)"
   ]
  },
  {
   "cell_type": "code",
   "execution_count": null,
   "id": "821169a9",
   "metadata": {},
   "outputs": [],
   "source": [
    "%%time\n",
    "\n",
    "#slow since gene_vars need to be recalculated\n",
    "min_gene_spots = 2\n",
    "filt_cells = [c.filter_low_count_genes(min_gene_spots) for c in sample.iter_cells() if c.n > 300]\n",
    "\n",
    "filt_cells = scoring._iter_vars(filt_cells)    \n",
    "filt_scored_cells = list(scoring._iter_scores(filt_cells, metric_name='radial', processes=3))\n",
    "\n",
    "len(filt_scored_cells)"
   ]
  },
  {
   "cell_type": "code",
   "execution_count": null,
   "id": "209077bf",
   "metadata": {},
   "outputs": [],
   "source": [
    "#get median gene ranks for each cell\n",
    "pd.concat(scoring.iter_scores(filt_scored_cells, metric='radial'))"
   ]
  },
  {
   "cell_type": "code",
   "execution_count": null,
   "id": "88ea9158",
   "metadata": {},
   "outputs": [],
   "source": [
    "#get per spot per cell ranks instead\n",
    "data = {\n",
    "    'filtering':[],\n",
    "    'cell_id':[],\n",
    "    'gene':[],\n",
    "    'rank':[],\n",
    "    'm':[],\n",
    "    'n':[],\n",
    "}\n",
    "\n",
    "for filtering,cells in (('filt',filt_scored_cells),('unfilt',unfilt_scored_cells)):\n",
    "    for cell in cells:\n",
    "        for z in cell.zslices:\n",
    "            for g,r in zip(cell.spot_genes[z], cell.spot_ranks[z]):\n",
    "                data['filtering'].append(filtering)\n",
    "                data['cell_id'].append(cell.cell_id)\n",
    "                data['gene'].append(g)\n",
    "                data['rank'].append(r)\n",
    "                data['m'].append(cell.gene_counts[g])\n",
    "                data['n'].append(cell.n)\n",
    "            \n",
    "spot_ranks = pd.DataFrame(data)\n",
    "spot_ranks  "
   ]
  },
  {
   "cell_type": "code",
   "execution_count": null,
   "id": "da47b086",
   "metadata": {},
   "outputs": [],
   "source": [
    "plot_df = spot_ranks[\n",
    "    spot_ranks['filtering'].eq('unfilt') &\n",
    "    spot_ranks['cell_id'].eq('98094925393968329130254909503130262661')\n",
    "].copy()\n",
    "plot_df['Single count'] = plot_df['m'].eq(1)\n",
    "\n",
    "ax = sns.scatterplot(\n",
    "    x = 'm',\n",
    "    y = 'rank',\n",
    "    alpha = 0.1,\n",
    "    hue = 'Single count',\n",
    "    data = plot_df,\n",
    ")\n",
    "ax.set_title('Unfiltered, Single count-genes (m=0) have biased ranks')\n",
    "plt.show()\n",
    "plt.close()"
   ]
  },
  {
   "cell_type": "code",
   "execution_count": null,
   "id": "9e9035e6",
   "metadata": {},
   "outputs": [],
   "source": [
    "plot_df = spot_ranks[\n",
    "    spot_ranks['filtering'].eq('filt') &\n",
    "    spot_ranks['cell_id'].eq('98094925393968329130254909503130262661')\n",
    "].copy()\n",
    "plot_df['Single count'] = plot_df['m'].eq(1)\n",
    "\n",
    "ax = sns.scatterplot(\n",
    "    x = 'm',\n",
    "    y = 'rank',\n",
    "    alpha = 0.1,\n",
    "    hue = 'Single count',\n",
    "    data = plot_df,\n",
    ")\n",
    "ax.set_title('Filtered no-single count-genes are un-biased(?)')\n",
    "plt.show()\n",
    "plt.close()"
   ]
  },
  {
   "cell_type": "markdown",
   "id": "06d37b90",
   "metadata": {},
   "source": [
    "# Formalizing test for punctate bias by gene-count\n",
    "\n",
    "Now that I've applied the filtering, I can visually see that the bias might be removed\n",
    "\n",
    "But how can I quantitatively be sure?\n",
    "\n",
    "I'm going to start by plotting punctate score vs gene/fraction from all cells and see if it \"looks correct\""
   ]
  },
  {
   "cell_type": "code",
   "execution_count": null,
   "id": "650f3f4c",
   "metadata": {
    "scrolled": false
   },
   "outputs": [],
   "source": [
    "score_df = pd.concat(scoring.iter_scores(filt_scored_cells, metric='radial'),ignore_index=True)\n",
    "score_df"
   ]
  },
  {
   "cell_type": "code",
   "execution_count": null,
   "id": "6cedcf08",
   "metadata": {},
   "outputs": [],
   "source": [
    "score_df['Gene fraction'] = score_df['num_gene_spots'].div(score_df['num_spots'])\n",
    "max_frac = score_df['Gene fraction'].quantile(0.8)\n",
    "\n",
    "p = sns.jointplot(\n",
    "    x = 'Gene fraction',\n",
    "    y = 'score',\n",
    "    kind = 'hex',\n",
    "    color = 'grey',\n",
    "    data = score_df[score_df['Gene fraction'].le(max_frac)],\n",
    ")\n",
    "\n",
    "p.ax_joint.axhline(0,linestyle='dotted',color='blue')\n",
    "p.ax_marg_y.axhline(0,linestyle='dotted',color='blue')\n",
    "\n",
    "#p.ax_joint.set_xlim(0,max_frac)\n",
    "\n",
    "p.fig.suptitle('Radial score vs. gene-fraction in individual cells')\n",
    "p.fig.tight_layout()\n",
    "p.fig.subplots_adjust(top=0.95) # Reduce plot to make room #got code from https://stackoverflow.com/questions/60358228/how-to-set-title-on-seaborn-jointplot\n",
    "\n",
    "plt.show()\n",
    "plt.close()"
   ]
  },
  {
   "cell_type": "markdown",
   "id": "a9bd6c8a",
   "metadata": {},
   "source": [
    "the plot does \"look\" correct, but maybe I can visualize in a different way by binning the gene fractions and plotting CDFs"
   ]
  },
  {
   "cell_type": "code",
   "execution_count": null,
   "id": "efcf1cd5",
   "metadata": {},
   "outputs": [],
   "source": [
    "sns.histplot(score_df['Gene fraction'])\n",
    "plt.show()\n",
    "plt.close()"
   ]
  },
  {
   "cell_type": "code",
   "execution_count": null,
   "id": "7e397e0d",
   "metadata": {},
   "outputs": [],
   "source": [
    "bins = np.arange(0,0.1,0.01)\n",
    "\n",
    "score_df['Gene fraction bin'] = pd.cut(score_df['Gene fraction'], bins=bins)\n",
    "ax = sns.ecdfplot(\n",
    "    x = 'score',\n",
    "    hue = 'Gene fraction bin',\n",
    "    palette = 'Reds',\n",
    "    data = score_df,\n",
    ")\n",
    "ax.axhline(0.5, linestyle='dashed', color='black')\n",
    "ax.axvline(0.0, linestyle='dashed', color='black')\n",
    "plt.xlabel('Radial score')\n",
    "plt.show()\n",
    "plt.close()"
   ]
  },
  {
   "cell_type": "markdown",
   "id": "181f42fd",
   "metadata": {},
   "source": [
    "# \"Choose two\" bootstrapping punctate metric"
   ]
  },
  {
   "cell_type": "code",
   "execution_count": null,
   "id": "e268d944",
   "metadata": {},
   "outputs": [],
   "source": [
    "import importlib\n",
    "import SRRS\n",
    "from SRRS import metrics, plotting, scoring, simulate\n",
    "\n",
    "import pandas as pd\n",
    "import matplotlib.pyplot as plt\n",
    "import seaborn as sns"
   ]
  },
  {
   "cell_type": "code",
   "execution_count": null,
   "id": "45cf210d",
   "metadata": {},
   "outputs": [],
   "source": [
    "sample = SRRS.HDF5('../inputs/filtered_out_one_gene_counts/mouse1sample1.hdf5')\n",
    "sample"
   ]
  },
  {
   "cell_type": "code",
   "execution_count": null,
   "id": "49785829",
   "metadata": {},
   "outputs": [],
   "source": [
    "iter_cells = sample.iter_cells()\n",
    "cell = next(iter_cells)\n",
    "cell = next(iter_cells)\n",
    "cell = next(iter_cells)\n",
    "cell = next(iter_cells)\n",
    "cell = next(iter_cells)\n",
    "cell = next(iter_cells)\n",
    "cell = next(iter_cells)\n",
    "\n",
    "fig,ax = plotting.plot_cell_3D(cell)\n",
    "plt.show()\n",
    "plt.close()"
   ]
  },
  {
   "cell_type": "code",
   "execution_count": null,
   "id": "4067cae7",
   "metadata": {},
   "outputs": [],
   "source": [
    "len(cell.genes)"
   ]
  },
  {
   "cell_type": "code",
   "execution_count": null,
   "id": "66f66c21",
   "metadata": {},
   "outputs": [],
   "source": [
    "importlib.reload(metrics)"
   ]
  },
  {
   "cell_type": "code",
   "execution_count": null,
   "id": "fd68f7c4",
   "metadata": {},
   "outputs": [],
   "source": [
    "%%time\n",
    "cell.ranked = False\n",
    "df = metrics.punctate(cell, num_iterations=1000)\n",
    "df"
   ]
  },
  {
   "cell_type": "code",
   "execution_count": null,
   "id": "e29cb85d",
   "metadata": {
    "scrolled": true
   },
   "outputs": [],
   "source": [
    "# testing if there is bias in the \"choose 2\" approach by permuting gene labels\n",
    "df = pd.Series(dtype='float64')\n",
    "df.index.name = 'gene'\n",
    "\n",
    "for i in range(1000):\n",
    "    if i%10 == 0:\n",
    "        print(i)\n",
    "        \n",
    "    cell = simulate.null_permute_gene_labels(cell, within_z=False)\n",
    "    scores = metrics.punctate(cell, num_iterations=100)\n",
    "    \n",
    "    df = pd.concat((df,scores))\n",
    "    \n",
    "df = df.reset_index(name='score')\n",
    "df"
   ]
  },
  {
   "cell_type": "code",
   "execution_count": null,
   "id": "293bbdae",
   "metadata": {},
   "outputs": [],
   "source": [
    "df.shape"
   ]
  },
  {
   "cell_type": "code",
   "execution_count": null,
   "id": "9d90c95d",
   "metadata": {},
   "outputs": [],
   "source": [
    "df['spot_count'] = df['gene'].map(cell.gene_counts)\n",
    "\n",
    "sns.ecdfplot(\n",
    "    x = 'score',\n",
    "    hue = 'spot_count',\n",
    "    data = df,\n",
    ")\n",
    "plt.axhline(0.5,linestyle='dashed',color='grey')\n",
    "plt.axvline(0.0,linestyle='dashed',color='grey')\n",
    "plt.show()\n",
    "plt.close()"
   ]
  },
  {
   "cell_type": "code",
   "execution_count": null,
   "id": "04e97b21",
   "metadata": {},
   "outputs": [],
   "source": [
    "df['spot_count'] = df['gene'].map(cell.gene_counts)\n",
    "\n",
    "sns.ecdfplot(\n",
    "    x = 'score',\n",
    "    hue = 'gene',\n",
    "    data = df,\n",
    ")\n",
    "plt.axhline(0.5,linestyle='dashed',color='grey')\n",
    "plt.axvline(0.0,linestyle='dashed',color='grey')\n",
    "plt.show()\n",
    "plt.close()"
   ]
  },
  {
   "cell_type": "markdown",
   "id": "0a81f6db",
   "metadata": {},
   "source": [
    "## Searching for bug in \"pick-two\" code that could be leading to bias on null"
   ]
  },
  {
   "cell_type": "code",
   "execution_count": null,
   "id": "a7f9ae95",
   "metadata": {},
   "outputs": [],
   "source": [
    "import random\n",
    "import numpy as np\n",
    "import collections"
   ]
  },
  {
   "cell_type": "code",
   "execution_count": null,
   "id": "cfc512b9",
   "metadata": {},
   "outputs": [],
   "source": [
    "cell.gene_counts"
   ]
  },
  {
   "cell_type": "code",
   "execution_count": null,
   "id": "a784fdf7",
   "metadata": {},
   "outputs": [],
   "source": [
    "len(cell.genes)"
   ]
  },
  {
   "cell_type": "code",
   "execution_count": null,
   "id": "6577711e",
   "metadata": {},
   "outputs": [],
   "source": [
    "gene_ranks_df"
   ]
  },
  {
   "cell_type": "code",
   "execution_count": null,
   "id": "d437db51",
   "metadata": {},
   "outputs": [],
   "source": [
    "gene_dists"
   ]
  },
  {
   "cell_type": "code",
   "execution_count": null,
   "id": "92a8af19",
   "metadata": {},
   "outputs": [],
   "source": []
  },
  {
   "cell_type": "code",
   "execution_count": null,
   "id": "8e6f30c9",
   "metadata": {},
   "outputs": [],
   "source": [
    "num_iterations = 1000\n",
    "\n",
    "spot_gene_coords = [\n",
    "    (g,(x,y)) for z in cell.zslices\n",
    "    for g,(x,y) in zip(cell.spot_genes[z],cell.spot_coords[z])\n",
    "]\n",
    "\n",
    "gene_ranks = {g:[] for g in cell.genes}\n",
    "\n",
    "for i in range(num_iterations):\n",
    "    #shuffle the spot order\n",
    "    random.shuffle(spot_gene_coords)\n",
    "\n",
    "    #choose two spots from each gene to be representatives (NOTE can do this more efficiently!)\n",
    "    g_reps = {g:[] for g in cell.genes}\n",
    "    for gene,xy in spot_gene_coords:\n",
    "        if len(g_reps[gene]) < 2:\n",
    "            g_reps[gene].append(xy)\n",
    "\n",
    "    #measure x,y euclidean distance between two spots (NOTE ignoring z)\n",
    "    gene_dists = []\n",
    "    for gene in g_reps:\n",
    "        x1,y1 = g_reps[gene][0]\n",
    "        x2,y2 = g_reps[gene][1]\n",
    "        dist = (x1-x2)*(x1-x2)+(y1-y2)*(y1-y2)\n",
    "        gene_dists.append((dist,gene))\n",
    "    \n",
    "    #rank by sorting and store results\n",
    "    for i,(d,g) in enumerate(sorted(gene_dists)):\n",
    "        gene_ranks[g].append(i+1)\n",
    "        \n",
    "#Calculate the per-gene score\n",
    "exp_med_rank = (len(cell.genes)+1)/2\n",
    "obs_med_ranks = [np.mean(gene_ranks[gene]) for gene in cell.genes]\n",
    "gene_scores = map(lambda o: (exp_rank-o)/(exp_rank-1), obs_med_ranks)\n",
    "\n",
    "score_df = pd.DataFrame({\n",
    "    'gene':cell.genes,\n",
    "    'obs_med_rank':obs_med_ranks,\n",
    "    'score':gene_scores\n",
    "})\n",
    "\n",
    "score_df"
   ]
  },
  {
   "cell_type": "code",
   "execution_count": null,
   "id": "2f33ac65",
   "metadata": {},
   "outputs": [],
   "source": [
    "exp_rank"
   ]
  },
  {
   "cell_type": "code",
   "execution_count": null,
   "id": "3a9db1cd",
   "metadata": {},
   "outputs": [],
   "source": [
    "score_df['score'].mean()"
   ]
  },
  {
   "cell_type": "code",
   "execution_count": null,
   "id": "4b848d4c",
   "metadata": {},
   "outputs": [],
   "source": [
    "np.array(dists)"
   ]
  },
  {
   "cell_type": "code",
   "execution_count": null,
   "id": "1045993f",
   "metadata": {},
   "outputs": [],
   "source": [
    "np.array(dists).argsort()"
   ]
  },
  {
   "cell_type": "code",
   "execution_count": null,
   "id": "52630556",
   "metadata": {},
   "outputs": [],
   "source": [
    "np.array(dists).argsort().argsort()+1"
   ]
  },
  {
   "cell_type": "code",
   "execution_count": null,
   "id": "0857f815",
   "metadata": {},
   "outputs": [],
   "source": [
    "dists"
   ]
  },
  {
   "cell_type": "code",
   "execution_count": null,
   "id": "7383deb7",
   "metadata": {},
   "outputs": [],
   "source": [
    "spot_usage = pd.DataFrame(all_rep_spots, columns=['gene','x','y']).groupby(['gene','x','y']).size().reset_index(name='count')\n",
    "spot_usage"
   ]
  },
  {
   "cell_type": "code",
   "execution_count": null,
   "id": "56bb6847",
   "metadata": {},
   "outputs": [],
   "source": [
    "gene_order = spot_usage['gene'].value_counts().index\n",
    "\n",
    "fig = plt.figure(figsize=(4,10))\n",
    "sns.barplot(\n",
    "    x = 'count',\n",
    "    y = 'gene',\n",
    "    color = 'grey',\n",
    "    order = gene_order,\n",
    "    data = spot_usage,\n",
    ")\n",
    "plt.title('Gene spots are chosen with equal chance per cell')\n",
    "plt.xlabel('Number of times a spot is chosen')\n",
    "plt.show()\n",
    "plt.close()"
   ]
  },
  {
   "cell_type": "code",
   "execution_count": null,
   "id": "03cd75d0",
   "metadata": {},
   "outputs": [],
   "source": [
    "spot_gene_coords"
   ]
  },
  {
   "cell_type": "code",
   "execution_count": null,
   "id": "21512ca6",
   "metadata": {},
   "outputs": [],
   "source": [
    "plotting.plot_cell_zslices?"
   ]
  },
  {
   "cell_type": "code",
   "execution_count": null,
   "id": "5d8cbb00",
   "metadata": {},
   "outputs": [],
   "source": [
    "importlib.reload(plotting)"
   ]
  },
  {
   "cell_type": "code",
   "execution_count": null,
   "id": "df792588",
   "metadata": {},
   "outputs": [],
   "source": [
    "num_genes = len(cell.genes)\n",
    "cs = sns.color_palette('viridis',num_genes)\n",
    "gcs = {g:c for g,c in zip(cell.genes,cs)}\n",
    "\n",
    "fig,ax = plotting.plot_cell_zslices(cell, gene_colors=gcs)\n",
    "plt.show()\n",
    "plt.close()"
   ]
  },
  {
   "cell_type": "markdown",
   "id": "5ede3a83",
   "metadata": {},
   "source": [
    "## \"Pick two\" punctate score filtering to have different numbers of genes/counts"
   ]
  },
  {
   "cell_type": "code",
   "execution_count": null,
   "id": "3ef01b29",
   "metadata": {},
   "outputs": [],
   "source": [
    "import importlib\n",
    "import copy\n",
    "\n",
    "import SRRS\n",
    "from SRRS import metrics, plotting, scoring, simulate\n",
    "\n",
    "import pandas as pd\n",
    "import matplotlib.pyplot as plt\n",
    "import seaborn as sns\n",
    "\n",
    "importlib.reload(SRRS)\n",
    "importlib.reload(metrics)\n",
    "\n",
    "sample = SRRS.HDF5('../inputs/filtered_out_one_gene_counts/mouse1sample1.hdf5')\n",
    "\n",
    "iter_cells = sample.iter_cells()\n",
    "cell = next(iter_cells)\n",
    "#cell = next(iter_cells)\n",
    "#cell = next(iter_cells)\n",
    "#cell = next(iter_cells)\n",
    "#cell = next(iter_cells)\n",
    "#cell = next(iter_cells)\n",
    "#cell = next(iter_cells)\n",
    "\n",
    "orig_cell = copy.deepcopy(cell)\n",
    "\n",
    "fig,ax = plotting.plot_cell_3D(cell)\n",
    "plt.show()\n",
    "plt.close()"
   ]
  },
  {
   "cell_type": "code",
   "execution_count": null,
   "id": "ab8a7d33",
   "metadata": {},
   "outputs": [],
   "source": [
    "len(sample.cells())"
   ]
  },
  {
   "cell_type": "code",
   "execution_count": null,
   "id": "8071c501",
   "metadata": {},
   "outputs": [],
   "source": [
    "%%time\n",
    "importlib.reload(simulate)\n",
    "\n",
    "simulate.gene_cell_sim_null_peripheral(\n",
    "    cells = sample.cells(),\n",
    "    metric = 'peripheral',\n",
    "    within_z = False,\n",
    "    n_its = 20,\n",
    "    processes = 1,\n",
    ")"
   ]
  },
  {
   "cell_type": "code",
   "execution_count": null,
   "id": "a04abb1f",
   "metadata": {},
   "outputs": [],
   "source": [
    "#remove all genes which don't have 3 spots (occurs in place)\n",
    "#cell.filter_genes_by_count(min_gene_spots=3, max_gene_spots=3)"
   ]
  },
  {
   "cell_type": "code",
   "execution_count": null,
   "id": "0a34efc0",
   "metadata": {
    "scrolled": true
   },
   "outputs": [],
   "source": [
    "cell.gene_counts"
   ]
  },
  {
   "cell_type": "code",
   "execution_count": null,
   "id": "d71144cf",
   "metadata": {},
   "outputs": [],
   "source": [
    "%%time\n",
    "importlib.reload(metrics)\n",
    "scores = metrics.punctate(cell, num_iterations=1000, num_pairs=4)"
   ]
  },
  {
   "cell_type": "code",
   "execution_count": null,
   "id": "4ef90742",
   "metadata": {
    "scrolled": true
   },
   "outputs": [],
   "source": [
    "%%time\n",
    "#create null background of cells to test for biases\n",
    "# testing if there is bias in the approach by permuting gene labels on this filtered cell\n",
    "df = pd.DataFrame()\n",
    "\n",
    "num_cells = 1000\n",
    "num_label_swaps = 100\n",
    "num_choose_two_perms = 4\n",
    "\n",
    "df = pd.DataFrame()\n",
    "\n",
    "for i in range(num_cells):\n",
    "    if i%10 == 0:\n",
    "        print(i)\n",
    "        \n",
    "    cell = simulate.null_permute_gene_labels(cell, within_z=False)\n",
    "    scores = metrics.punctate(cell, num_iterations=num_label_swaps, num_pairs=num_choose_two_perms)\n",
    "        \n",
    "    df = pd.concat((df,scores))\n",
    "    \n",
    "df"
   ]
  },
  {
   "cell_type": "code",
   "execution_count": null,
   "id": "92fe91ef",
   "metadata": {
    "scrolled": false
   },
   "outputs": [],
   "source": [
    "#I'm expecting to see more variance for genes with fewer counts\n",
    "#The variances seem low, but I don't know why I say that\n",
    "#The values can only be between -1 and 1\n",
    "sns.scatterplot(\n",
    "    x = 'spot_count',\n",
    "    y = 'var',\n",
    "    color = 'grey',\n",
    "    data = df,\n",
    ")\n",
    "plt.show()\n",
    "plt.close()"
   ]
  },
  {
   "cell_type": "code",
   "execution_count": null,
   "id": "77b305cf",
   "metadata": {},
   "outputs": [],
   "source": [
    "#On this simulated dataset, expect each spot-count to have the same distribution of scores\n",
    "sns.boxplot(\n",
    "    x = 'spot_count',\n",
    "    y = 'score',\n",
    "    color = 'white',\n",
    "    data = df,\n",
    ")\n",
    "sns.stripplot(\n",
    "    x = 'spot_count',\n",
    "    y = 'score',\n",
    "    color = 'black',\n",
    "    alpha = 0.05,\n",
    "    data = df.sample(10000),\n",
    ")\n",
    "plt.title('Punctate score on population of 1000 null cells does not have bias by spot-count')\n",
    "plt.show()\n",
    "plt.close()"
   ]
  },
  {
   "cell_type": "code",
   "execution_count": null,
   "id": "a8d4ab2b",
   "metadata": {},
   "outputs": [],
   "source": [
    "sns.ecdfplot(\n",
    "    x = 'score',\n",
    "    hue = 'spot_count',\n",
    "    data = df[df['spot_count'].isin([2,52])].reset_index(),\n",
    ")\n",
    "plt.axhline(0.5, linestyle='dashed', color='grey')\n",
    "plt.axvline(0, linestyle='dashed', color='grey')\n",
    "plt.show()\n",
    "plt.close()"
   ]
  },
  {
   "cell_type": "code",
   "execution_count": null,
   "id": "0928125e",
   "metadata": {},
   "outputs": [],
   "source": [
    "g = sns.jointplot(\n",
    "    x = 'spot_count',\n",
    "    y = 'score',\n",
    "    kind = 'hex',\n",
    "    color = 'black',\n",
    "    data = df.reset_index(drop=True),\n",
    ")\n",
    "\n",
    "g.ax_joint.axhline(0,linestyle='dashed',color='grey')\n",
    "g.ax_marg_y.axhline(0,linestyle='dashed',color='grey')\n",
    "\n",
    "plt.show()\n",
    "plt.close()"
   ]
  },
  {
   "cell_type": "code",
   "execution_count": null,
   "id": "5e127023",
   "metadata": {},
   "outputs": [],
   "source": [
    "df.head()"
   ]
  },
  {
   "cell_type": "markdown",
   "id": "375213fb",
   "metadata": {},
   "source": [
    "# Output from permutation-based punctate scores on real data"
   ]
  },
  {
   "cell_type": "code",
   "execution_count": null,
   "id": "a30cdca8",
   "metadata": {},
   "outputs": [],
   "source": [
    "import seaborn as sns\n",
    "import matplotlib.pyplot as plt\n",
    "import pandas as pd\n",
    "import numpy as np\n",
    "\n",
    "df = pd.read_csv('../punctate_refactored_mouse1sample1.csv')\n",
    "df.head()"
   ]
  },
  {
   "cell_type": "code",
   "execution_count": null,
   "id": "1f77e336",
   "metadata": {},
   "outputs": [],
   "source": [
    "print(df['cell_id'].nunique(),'cells')\n",
    "print(df['gene'].nunique(),'genes')"
   ]
  },
  {
   "cell_type": "code",
   "execution_count": null,
   "id": "d98f1e27",
   "metadata": {},
   "outputs": [],
   "source": [
    "df['num_gene_spots'].nunique()"
   ]
  },
  {
   "cell_type": "code",
   "execution_count": null,
   "id": "1b9d30e2",
   "metadata": {},
   "outputs": [],
   "source": [
    "sns.displot(\n",
    "    x = 'score',\n",
    "    data = df,\n",
    ")\n",
    "plt.show()\n",
    "plt.close()"
   ]
  },
  {
   "cell_type": "code",
   "execution_count": null,
   "id": "c5ac32f5",
   "metadata": {},
   "outputs": [],
   "source": [
    "df[df['score'].eq(1)]"
   ]
  },
  {
   "cell_type": "code",
   "execution_count": null,
   "id": "2e4357ba",
   "metadata": {},
   "outputs": [],
   "source": [
    "sns.jointplot(\n",
    "    x = 'num_gene_spots',\n",
    "    y = 'score',\n",
    "    color = 'black',\n",
    "    alpha = 0.05,\n",
    "    data = df,\n",
    ")\n",
    "plt.show()\n",
    "plt.close()"
   ]
  },
  {
   "cell_type": "code",
   "execution_count": null,
   "id": "ddc6bb4d",
   "metadata": {},
   "outputs": [],
   "source": [
    "sns.ecdfplot(\n",
    "    x = 'num_gene_spots',\n",
    "    label = 'All scores',\n",
    "    data = df[df['num_gene_spots'].le(100)],\n",
    ")\n",
    "sns.ecdfplot(\n",
    "    x = 'num_gene_spots',\n",
    "    label = 'Scores of 1',\n",
    "    data = df[df['num_gene_spots'].le(100) & df['score'].eq(1)],\n",
    ")\n",
    "sns.ecdfplot(\n",
    "    x = 'num_gene_spots',\n",
    "    label = 'Scores of -1',\n",
    "    data = df[df['num_gene_spots'].le(100) & df['score'].eq(-1)],\n",
    ")\n",
    "plt.legend()\n",
    "plt.title('Gene/cells with scores of 1 have fewer gene spots')\n",
    "plt.show()\n",
    "plt.close()"
   ]
  },
  {
   "cell_type": "code",
   "execution_count": null,
   "id": "d4b86846",
   "metadata": {},
   "outputs": [],
   "source": [
    "sns.ecdfplot(\n",
    "    x = 'score',\n",
    "    label = 'Any number of spots',\n",
    "    data = df,\n",
    ")\n",
    "\n",
    "sns.ecdfplot(\n",
    "    x = 'score',\n",
    "    label = 'One spot',\n",
    "    data = df[df['num_gene_spots'].eq(2)],\n",
    ")\n",
    "\n",
    "plt.axhline(0.5, linestyle='dashed', color='grey')\n",
    "plt.axvline(0.0, linestyle='dashed', color='grey')\n",
    "plt.legend()\n",
    "plt.show()\n",
    "plt.close()"
   ]
  },
  {
   "cell_type": "code",
   "execution_count": null,
   "id": "9a0fe0e0",
   "metadata": {},
   "outputs": [],
   "source": [
    "fig = plt.figure(figsize=(15,2))\n",
    "sns.boxplot(\n",
    "    x = 'num_gene_spots',\n",
    "    y = 'score',\n",
    "    color = 'white',\n",
    "    data = df[df['num_spots'].le(150)],\n",
    ")\n",
    "plt.axhline(0.0, linestyle='dashed', color='grey')\n",
    "plt.title('Median scores are above 0 for most spot-counts')\n",
    "plt.show()\n",
    "plt.close()"
   ]
  },
  {
   "cell_type": "code",
   "execution_count": null,
   "id": "565b45a5",
   "metadata": {},
   "outputs": [],
   "source": [
    "#visualizing some of the extreme gene/cell scores\n",
    "import SRRS\n",
    "from SRRS import plotting\n",
    "\n",
    "sample = SRRS.HDF5('/oak/stanford/groups/horence/rob/isoform_localizations/SRRS/inputs/mouse1sample1.hdf5')\n",
    "sample"
   ]
  },
  {
   "cell_type": "markdown",
   "id": "5f4a036a",
   "metadata": {},
   "source": [
    "### all these gene/cells have a score of 1 (very punctate"
   ]
  },
  {
   "cell_type": "code",
   "execution_count": null,
   "id": "2b912509",
   "metadata": {},
   "outputs": [],
   "source": [
    "cell = sample.get_cells_by_id(['222098490380092065288492113826920653088'])[0]\n",
    "fig,ax = plotting.plot_cell_3D(cell, gene_colors={'Aqp4':'red'})\n",
    "plt.show()\n",
    "plt.close()"
   ]
  },
  {
   "cell_type": "code",
   "execution_count": null,
   "id": "55feae7e",
   "metadata": {},
   "outputs": [],
   "source": [
    "cell = sample.get_cells_by_id(['86160538687897987056485308143342788364'])[0]\n",
    "fig,ax = plotting.plot_cell_3D(cell, gene_colors={'Col25a1':'red'})\n",
    "plt.show()\n",
    "plt.close()"
   ]
  },
  {
   "cell_type": "code",
   "execution_count": null,
   "id": "929c208c",
   "metadata": {},
   "outputs": [],
   "source": [
    "cell = sample.get_cells_by_id(['227833902103094513653469756064354589296'])[0]\n",
    "fig,ax = plotting.plot_cell_3D(cell, gene_colors={'Satb2':'red'})\n",
    "plt.show()\n",
    "plt.close()"
   ]
  },
  {
   "cell_type": "code",
   "execution_count": null,
   "id": "aeb71df9",
   "metadata": {},
   "outputs": [],
   "source": [
    "cell = sample.get_cells_by_id(['5920985237459637946126883927110494777'])[0]\n",
    "fig,ax = plotting.plot_cell_3D(cell, gene_colors={'Reln':'red'})\n",
    "plt.show()\n",
    "plt.close()"
   ]
  },
  {
   "cell_type": "markdown",
   "id": "5800c0c1",
   "metadata": {},
   "source": [
    "### all of these gene/cells have a score of -1"
   ]
  },
  {
   "cell_type": "code",
   "execution_count": null,
   "id": "3a9b4125",
   "metadata": {},
   "outputs": [],
   "source": [
    "df[df['score'].eq(1) & df['num_gene_spots'].eq(10)]"
   ]
  },
  {
   "cell_type": "code",
   "execution_count": null,
   "id": "85a683b5",
   "metadata": {},
   "outputs": [],
   "source": [
    "cell = sample.get_cells_by_id(['176207460594798926125106281154597702567'])[0]\n",
    "fig,ax = plotting.plot_cell_3D(cell, gene_colors={'Col24a1':'red'})\n",
    "plt.show()\n",
    "plt.close()"
   ]
  },
  {
   "cell_type": "code",
   "execution_count": null,
   "id": "67992727",
   "metadata": {},
   "outputs": [],
   "source": [
    "cell = sample.get_cells_by_id(['222098490380092065288492113826920653088'])[0]\n",
    "fig,ax = plotting.plot_cell_3D(cell, gene_colors={'Ramp1':'red'})\n",
    "plt.show()\n",
    "plt.close()"
   ]
  },
  {
   "cell_type": "code",
   "execution_count": null,
   "id": "41b04578",
   "metadata": {},
   "outputs": [],
   "source": [
    "cell = sample.get_cells_by_id(['20412369700126259876450951845622773712'])[0]\n",
    "fig,ax = plotting.plot_cell_3D(cell, gene_colors={'Sulf2':'red'})\n",
    "plt.show()\n",
    "plt.close()"
   ]
  },
  {
   "cell_type": "code",
   "execution_count": null,
   "id": "7b30ab26",
   "metadata": {},
   "outputs": [],
   "source": [
    "cell = sample.get_cells_by_id(['120119137789607729623614875913849203969'])[0]\n",
    "fig,ax = plotting.plot_cell_3D(cell, gene_colors={'Trp53i11':'red'})\n",
    "plt.show()\n",
    "plt.close()"
   ]
  },
  {
   "cell_type": "markdown",
   "id": "63620288",
   "metadata": {},
   "source": [
    "## Output from permutation-based punctate score on permuted data (not real!)"
   ]
  },
  {
   "cell_type": "code",
   "execution_count": null,
   "id": "6da3e1e5",
   "metadata": {},
   "outputs": [],
   "source": [
    "import seaborn as sns\n",
    "import matplotlib.pyplot as plt\n",
    "import pandas as pd\n",
    "import numpy as np\n",
    "\n",
    "df = pd.read_csv('../null_permute_punctate_refactored_mouse1sample2.csv')\n",
    "df.head()"
   ]
  },
  {
   "cell_type": "code",
   "execution_count": null,
   "id": "2a1e6b33",
   "metadata": {},
   "outputs": [],
   "source": [
    "sns.jointplot(\n",
    "    x = 'num_gene_spots',\n",
    "    y = 'score',\n",
    "    color = 'black',\n",
    "    alpha = 0.05,\n",
    "    data = df,\n",
    ")\n",
    "plt.show()\n",
    "plt.close()"
   ]
  },
  {
   "cell_type": "code",
   "execution_count": null,
   "id": "4a0acfcc",
   "metadata": {},
   "outputs": [],
   "source": [
    "fig = plt.figure(figsize=(15,2))\n",
    "sns.boxplot(\n",
    "    x = 'num_gene_spots',\n",
    "    y = 'score',\n",
    "    color = 'white',\n",
    "    data = df[df['num_spots'].le(100)],\n",
    ")\n",
    "sns.stripplot(\n",
    "    x = 'num_gene_spots',\n",
    "    y = 'score',\n",
    "    color = 'black',\n",
    "    alpha = 0.1,\n",
    "    data = df[df['num_spots'].le(100)],\n",
    ")\n",
    "plt.axhline(0.0, linestyle='dashed', color='grey')\n",
    "plt.title('Median scores are above 0 for most spot-counts')\n",
    "plt.show()\n",
    "plt.close()"
   ]
  },
  {
   "cell_type": "markdown",
   "id": "1b4f1ab0",
   "metadata": {},
   "source": [
    "# Radial metric using bootstrapping"
   ]
  },
  {
   "cell_type": "code",
   "execution_count": null,
   "id": "5c2815d0",
   "metadata": {},
   "outputs": [],
   "source": [
    "import importlib\n",
    "import seaborn as sns\n",
    "import matplotlib.pyplot as plt\n",
    "import pandas as pd\n",
    "import numpy as np\n",
    "\n",
    "import SRRS\n",
    "from SRRS import scoring, metrics, plotting"
   ]
  },
  {
   "cell_type": "code",
   "execution_count": null,
   "id": "6e2f4dd7",
   "metadata": {},
   "outputs": [],
   "source": [
    "sample = SRRS.HDF5('../inputs/m1s1_subset.hdf5')\n",
    "cell = sample.cells()[2]"
   ]
  },
  {
   "cell_type": "code",
   "execution_count": null,
   "id": "07988fbd",
   "metadata": {},
   "outputs": [],
   "source": [
    "fig,ax = plotting.plot_cell_3D(cell, gene_colors={'Egln3':'red'})\n",
    "ax.elev = 90\n",
    "plt.show()\n",
    "plt.close()"
   ]
  },
  {
   "cell_type": "code",
   "execution_count": null,
   "id": "ae2e37b7",
   "metadata": {},
   "outputs": [],
   "source": [
    "subcells = sample.cells()[:30]\n",
    "len(subcells)"
   ]
  },
  {
   "cell_type": "code",
   "execution_count": null,
   "id": "36fe2bf1",
   "metadata": {},
   "outputs": [],
   "source": []
  },
  {
   "cell_type": "code",
   "execution_count": null,
   "id": "7730a31e",
   "metadata": {},
   "outputs": [],
   "source": [
    "%%time\n",
    "#took 110 seconds for 30 cells without parallel setup\n",
    "#took 98 seconds for 30 cells with parallel setup but only 1 process (overhead cost check) (surprised it's faster?)\n",
    "#took 51 seconds for 30 cells with parallel setup with 2 process\n",
    "#took 35 seconds for 30 cells with parallel setup with 3 process\n",
    "#took 28 seconds for 30 cells with parallel setup with 4 process\n",
    "\n",
    "x = scoring.iter_scores(subcells, metric='radial', num_iterations=1000, processes=4)\n",
    "x.sort_values('score')"
   ]
  },
  {
   "cell_type": "code",
   "execution_count": null,
   "id": "013e5446",
   "metadata": {
    "scrolled": true
   },
   "outputs": [],
   "source": [
    "%%time\n",
    "#took 7.7 seconds for a single cell\n",
    "x = scoring.iter_scores([cell],metric='radial',num_iterations=1000)\n",
    "x.sort_values('score')"
   ]
  },
  {
   "cell_type": "code",
   "execution_count": null,
   "id": "3c4d6db8",
   "metadata": {},
   "outputs": [],
   "source": [
    "#score is very positive, should be highly \"radially clustered\"\n",
    "fig,ax = plotting.plot_cell_3D(cell, gene_colors={'Nos1':'red'})\n",
    "ax.elev = 90\n",
    "plt.show()\n",
    "plt.close()"
   ]
  },
  {
   "cell_type": "code",
   "execution_count": null,
   "id": "7187bd40",
   "metadata": {},
   "outputs": [],
   "source": [
    "#score is very positive, should be highly \"radially clustered\"\n",
    "fig,ax = plotting.plot_cell_3D(cell, gene_colors={'Tshz2':'red'})\n",
    "ax.elev = 90\n",
    "plt.show()\n",
    "plt.close()"
   ]
  },
  {
   "cell_type": "code",
   "execution_count": null,
   "id": "ce375c79",
   "metadata": {},
   "outputs": [],
   "source": [
    "#score is very positive, should be highly \"radially clustered\"\n",
    "fig,ax = plotting.plot_cell_3D(cell, gene_colors={'Elfn1':'red'})\n",
    "ax.elev = 90\n",
    "plt.show()\n",
    "plt.close()"
   ]
  },
  {
   "cell_type": "code",
   "execution_count": null,
   "id": "088a903d",
   "metadata": {},
   "outputs": [],
   "source": [
    "#score is very negative, should be highly \"radially diffuse\"\n",
    "fig,ax = plotting.plot_cell_3D(cell, gene_colors={'Unc5d':'red'})\n",
    "ax.elev = 90\n",
    "plt.show()\n",
    "plt.close()"
   ]
  },
  {
   "cell_type": "code",
   "execution_count": null,
   "id": "e52e4049",
   "metadata": {},
   "outputs": [],
   "source": [
    "#score is very negative, should be highly \"radially diffuse\"\n",
    "fig,ax = plotting.plot_cell_3D(cell, gene_colors={'Adra1b':'red'})\n",
    "ax.elev = 90\n",
    "plt.show()\n",
    "plt.close()"
   ]
  },
  {
   "cell_type": "code",
   "execution_count": null,
   "id": "d49b6286",
   "metadata": {},
   "outputs": [],
   "source": []
  }
 ],
 "metadata": {
  "kernelspec": {
   "display_name": "Python 3 (ipykernel)",
   "language": "python",
   "name": "python3"
  },
  "language_info": {
   "codemirror_mode": {
    "name": "ipython",
    "version": 3
   },
   "file_extension": ".py",
   "mimetype": "text/x-python",
   "name": "python",
   "nbconvert_exporter": "python",
   "pygments_lexer": "ipython3",
   "version": "3.9.0"
  }
 },
 "nbformat": 4,
 "nbformat_minor": 5
}
