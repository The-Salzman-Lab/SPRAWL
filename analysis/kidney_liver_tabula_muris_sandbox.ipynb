{
 "cells": [
  {
   "cell_type": "code",
   "execution_count": 17,
   "metadata": {
    "collapsed": true
   },
   "outputs": [],
   "source": [
    "import pandas as pd\n",
    "import numpy as np\n",
    "import matplotlib.pyplot as plt\n",
    "import seaborn as sns\n",
    "import scanpy as scp\n",
    "import collections"
   ]
  },
  {
   "cell_type": "markdown",
   "metadata": {},
   "source": [
    "# Kidney: mapping from Tabula Muris to vizgen ontologies"
   ]
  },
  {
   "cell_type": "code",
   "execution_count": 6,
   "metadata": {},
   "outputs": [
    {
     "name": "stderr",
     "output_type": "stream",
     "text": [
      "/share/software/user/open/py-jupyter/1.0.0_py36/lib/python3.6/site-packages/IPython/core/interactiveshell.py:2698: DtypeWarning: Columns (10) have mixed types.Specify dtype option on import or set low_memory=False.\n",
      "  interactivity=interactivity, compiler=compiler, result=result)\n"
     ]
    },
    {
     "data": {
      "text/html": [
       "<div>\n",
       "<style scoped>\n",
       "    .dataframe tbody tr th:only-of-type {\n",
       "        vertical-align: middle;\n",
       "    }\n",
       "\n",
       "    .dataframe tbody tr th {\n",
       "        vertical-align: top;\n",
       "    }\n",
       "\n",
       "    .dataframe thead th {\n",
       "        text-align: right;\n",
       "    }\n",
       "</style>\n",
       "<table border=\"1\" class=\"dataframe\">\n",
       "  <thead>\n",
       "    <tr style=\"text-align: right;\">\n",
       "      <th></th>\n",
       "      <th>0</th>\n",
       "      <th>1</th>\n",
       "      <th>2</th>\n",
       "      <th>3</th>\n",
       "      <th>4</th>\n",
       "    </tr>\n",
       "  </thead>\n",
       "  <tbody>\n",
       "    <tr>\n",
       "      <th>index</th>\n",
       "      <td>AAACCTGAGTCCTCCT-1-47-1-0</td>\n",
       "      <td>AAACCTGCAGCTATTG-1-47-1-0</td>\n",
       "      <td>AAAGATGAGCAGGCTA-1-47-1-0</td>\n",
       "      <td>AAAGCAAGTCTCTTAT-1-47-1-0</td>\n",
       "      <td>AAAGCAATCCACGAAT-1-47-1-0</td>\n",
       "    </tr>\n",
       "    <tr>\n",
       "      <th>age</th>\n",
       "      <td>1m</td>\n",
       "      <td>1m</td>\n",
       "      <td>1m</td>\n",
       "      <td>1m</td>\n",
       "      <td>1m</td>\n",
       "    </tr>\n",
       "    <tr>\n",
       "      <th>cell</th>\n",
       "      <td>10X_P5_4_AAACCTGAGTCCTCCT</td>\n",
       "      <td>10X_P5_4_AAACCTGCAGCTATTG</td>\n",
       "      <td>10X_P5_4_AAAGATGAGCAGGCTA</td>\n",
       "      <td>10X_P5_4_AAAGCAAGTCTCTTAT</td>\n",
       "      <td>10X_P5_4_AAAGCAATCCACGAAT</td>\n",
       "    </tr>\n",
       "    <tr>\n",
       "      <th>cell_ontology_class</th>\n",
       "      <td>bladder cell</td>\n",
       "      <td>bladder urothelial cell</td>\n",
       "      <td>bladder cell</td>\n",
       "      <td>bladder cell</td>\n",
       "      <td>bladder cell</td>\n",
       "    </tr>\n",
       "    <tr>\n",
       "      <th>cell_ontology_id</th>\n",
       "      <td>CL:1001319</td>\n",
       "      <td>CL:1001428</td>\n",
       "      <td>CL:1001319</td>\n",
       "      <td>CL:1001319</td>\n",
       "      <td>CL:1001319</td>\n",
       "    </tr>\n",
       "    <tr>\n",
       "      <th>free_annotation</th>\n",
       "      <td>bladder mesenchymal cell (Car3+)</td>\n",
       "      <td>luminal bladder epithelial cell (umbrella cell)</td>\n",
       "      <td>bladder mesenchymal cell (Car3+)</td>\n",
       "      <td>bladder mesenchymal cell (Scara5+)</td>\n",
       "      <td>bladder mesenchymal cell (Scara5+)</td>\n",
       "    </tr>\n",
       "    <tr>\n",
       "      <th>method</th>\n",
       "      <td>droplet</td>\n",
       "      <td>droplet</td>\n",
       "      <td>droplet</td>\n",
       "      <td>droplet</td>\n",
       "      <td>droplet</td>\n",
       "    </tr>\n",
       "    <tr>\n",
       "      <th>mouse.id</th>\n",
       "      <td>1-M-63</td>\n",
       "      <td>1-M-63</td>\n",
       "      <td>1-M-63</td>\n",
       "      <td>1-M-63</td>\n",
       "      <td>1-M-63</td>\n",
       "    </tr>\n",
       "    <tr>\n",
       "      <th>n_genes</th>\n",
       "      <td>3301</td>\n",
       "      <td>2236</td>\n",
       "      <td>3670</td>\n",
       "      <td>2699</td>\n",
       "      <td>2742</td>\n",
       "    </tr>\n",
       "    <tr>\n",
       "      <th>sex</th>\n",
       "      <td>male</td>\n",
       "      <td>male</td>\n",
       "      <td>male</td>\n",
       "      <td>male</td>\n",
       "      <td>male</td>\n",
       "    </tr>\n",
       "    <tr>\n",
       "      <th>subtissue</th>\n",
       "      <td>BLADDER</td>\n",
       "      <td>BLADDER</td>\n",
       "      <td>BLADDER</td>\n",
       "      <td>BLADDER</td>\n",
       "      <td>BLADDER</td>\n",
       "    </tr>\n",
       "    <tr>\n",
       "      <th>tissue</th>\n",
       "      <td>Bladder</td>\n",
       "      <td>Bladder</td>\n",
       "      <td>Bladder</td>\n",
       "      <td>Bladder</td>\n",
       "      <td>Bladder</td>\n",
       "    </tr>\n",
       "    <tr>\n",
       "      <th>n_counts</th>\n",
       "      <td>11976</td>\n",
       "      <td>7275</td>\n",
       "      <td>14773</td>\n",
       "      <td>7755</td>\n",
       "      <td>9122</td>\n",
       "    </tr>\n",
       "    <tr>\n",
       "      <th>louvain</th>\n",
       "      <td>2</td>\n",
       "      <td>6</td>\n",
       "      <td>2</td>\n",
       "      <td>3</td>\n",
       "      <td>3</td>\n",
       "    </tr>\n",
       "    <tr>\n",
       "      <th>cluster_names</th>\n",
       "      <td>2_bladder cell</td>\n",
       "      <td>6_bladder urothelial cell</td>\n",
       "      <td>2_bladder cell</td>\n",
       "      <td>3_bladder cell</td>\n",
       "      <td>3_bladder cell</td>\n",
       "    </tr>\n",
       "    <tr>\n",
       "      <th>cell1</th>\n",
       "      <td>10X_P5_4_S5_L00_AAACCTGAGTCCTCCT</td>\n",
       "      <td>10X_P5_4_S5_L00_AAACCTGCAGCTATTG</td>\n",
       "      <td>10X_P5_4_S5_L00_AAAGATGAGCAGGCTA</td>\n",
       "      <td>10X_P5_4_S5_L00_AAAGCAAGTCTCTTAT</td>\n",
       "      <td>10X_P5_4_S5_L00_AAAGCAATCCACGAAT</td>\n",
       "    </tr>\n",
       "  </tbody>\n",
       "</table>\n",
       "</div>"
      ],
      "text/plain": [
       "                                                    0  \\\n",
       "index                       AAACCTGAGTCCTCCT-1-47-1-0   \n",
       "age                                                1m   \n",
       "cell                        10X_P5_4_AAACCTGAGTCCTCCT   \n",
       "cell_ontology_class                      bladder cell   \n",
       "cell_ontology_id                           CL:1001319   \n",
       "free_annotation      bladder mesenchymal cell (Car3+)   \n",
       "method                                        droplet   \n",
       "mouse.id                                       1-M-63   \n",
       "n_genes                                          3301   \n",
       "sex                                              male   \n",
       "subtissue                                     BLADDER   \n",
       "tissue                                        Bladder   \n",
       "n_counts                                        11976   \n",
       "louvain                                             2   \n",
       "cluster_names                          2_bladder cell   \n",
       "cell1                10X_P5_4_S5_L00_AAACCTGAGTCCTCCT   \n",
       "\n",
       "                                                                   1  \\\n",
       "index                                      AAACCTGCAGCTATTG-1-47-1-0   \n",
       "age                                                               1m   \n",
       "cell                                       10X_P5_4_AAACCTGCAGCTATTG   \n",
       "cell_ontology_class                          bladder urothelial cell   \n",
       "cell_ontology_id                                          CL:1001428   \n",
       "free_annotation      luminal bladder epithelial cell (umbrella cell)   \n",
       "method                                                       droplet   \n",
       "mouse.id                                                      1-M-63   \n",
       "n_genes                                                         2236   \n",
       "sex                                                             male   \n",
       "subtissue                                                    BLADDER   \n",
       "tissue                                                       Bladder   \n",
       "n_counts                                                        7275   \n",
       "louvain                                                            6   \n",
       "cluster_names                              6_bladder urothelial cell   \n",
       "cell1                               10X_P5_4_S5_L00_AAACCTGCAGCTATTG   \n",
       "\n",
       "                                                    2  \\\n",
       "index                       AAAGATGAGCAGGCTA-1-47-1-0   \n",
       "age                                                1m   \n",
       "cell                        10X_P5_4_AAAGATGAGCAGGCTA   \n",
       "cell_ontology_class                      bladder cell   \n",
       "cell_ontology_id                           CL:1001319   \n",
       "free_annotation      bladder mesenchymal cell (Car3+)   \n",
       "method                                        droplet   \n",
       "mouse.id                                       1-M-63   \n",
       "n_genes                                          3670   \n",
       "sex                                              male   \n",
       "subtissue                                     BLADDER   \n",
       "tissue                                        Bladder   \n",
       "n_counts                                        14773   \n",
       "louvain                                             2   \n",
       "cluster_names                          2_bladder cell   \n",
       "cell1                10X_P5_4_S5_L00_AAAGATGAGCAGGCTA   \n",
       "\n",
       "                                                      3  \\\n",
       "index                         AAAGCAAGTCTCTTAT-1-47-1-0   \n",
       "age                                                  1m   \n",
       "cell                          10X_P5_4_AAAGCAAGTCTCTTAT   \n",
       "cell_ontology_class                        bladder cell   \n",
       "cell_ontology_id                             CL:1001319   \n",
       "free_annotation      bladder mesenchymal cell (Scara5+)   \n",
       "method                                          droplet   \n",
       "mouse.id                                         1-M-63   \n",
       "n_genes                                            2699   \n",
       "sex                                                male   \n",
       "subtissue                                       BLADDER   \n",
       "tissue                                          Bladder   \n",
       "n_counts                                           7755   \n",
       "louvain                                               3   \n",
       "cluster_names                            3_bladder cell   \n",
       "cell1                  10X_P5_4_S5_L00_AAAGCAAGTCTCTTAT   \n",
       "\n",
       "                                                      4  \n",
       "index                         AAAGCAATCCACGAAT-1-47-1-0  \n",
       "age                                                  1m  \n",
       "cell                          10X_P5_4_AAAGCAATCCACGAAT  \n",
       "cell_ontology_class                        bladder cell  \n",
       "cell_ontology_id                             CL:1001319  \n",
       "free_annotation      bladder mesenchymal cell (Scara5+)  \n",
       "method                                          droplet  \n",
       "mouse.id                                         1-M-63  \n",
       "n_genes                                            2742  \n",
       "sex                                                male  \n",
       "subtissue                                       BLADDER  \n",
       "tissue                                          Bladder  \n",
       "n_counts                                           9122  \n",
       "louvain                                               3  \n",
       "cluster_names                            3_bladder cell  \n",
       "cell1                  10X_P5_4_S5_L00_AAAGCAATCCACGAAT  "
      ]
     },
     "execution_count": 6,
     "metadata": {},
     "output_type": "execute_result"
    }
   ],
   "source": [
    "muris_meta_df = pd.read_csv('/oak/stanford/groups/horence/Roozbeh/single_cell_project/utility_files/meta_data/Tabula_muris_senis/Tabula_muris_droplet_new.csv')\n",
    "muris_meta_df.head().T"
   ]
  },
  {
   "cell_type": "code",
   "execution_count": 12,
   "metadata": {},
   "outputs": [
    {
     "data": {
      "text/plain": [
       "array(['Bladder', 'Fat', 'Heart_and_Aorta', 'Kidney', 'Large_Intestine',\n",
       "       'Limb_Muscle', 'Liver', 'Lung', 'Mammary_Gland', 'Marrow',\n",
       "       'Pancreas', 'Spleen', 'Thymus', 'Tongue', 'Trachea'], dtype=object)"
      ]
     },
     "execution_count": 12,
     "metadata": {},
     "output_type": "execute_result"
    }
   ],
   "source": [
    "muris_meta_df['tissue'].unique()"
   ]
  },
  {
   "cell_type": "code",
   "execution_count": 34,
   "metadata": {},
   "outputs": [
    {
     "name": "stdout",
     "output_type": "stream",
     "text": [
      "There are 18 Kidney cell_ontology_classes by Muris\n"
     ]
    },
    {
     "data": {
      "text/plain": [
       "{'B cell',\n",
       " 'NK cell',\n",
       " 'T cell',\n",
       " 'brush cell',\n",
       " 'epithelial cell of proximal tubule',\n",
       " 'fenestrated cell',\n",
       " 'fibroblast',\n",
       " 'kidney capillary endothelial cell',\n",
       " 'kidney collecting duct principal cell',\n",
       " 'kidney cortex artery cell',\n",
       " 'kidney distal convoluted tubule epithelial cell',\n",
       " 'kidney loop of Henle thick ascending limb epithelial cell',\n",
       " 'kidney mesangial cell',\n",
       " 'kidney proximal convoluted tubule epithelial cell',\n",
       " 'lymphocyte',\n",
       " 'macrophage',\n",
       " 'plasma cell',\n",
       " 'podocyte'}"
      ]
     },
     "execution_count": 34,
     "metadata": {},
     "output_type": "execute_result"
    }
   ],
   "source": [
    "muris_kidney_onts = set(muris_meta_df[\n",
    "    muris_meta_df['tissue'].eq('Kidney')\n",
    "]['cell_ontology_class'])\n",
    "\n",
    "print('There are',len(muris_kidney_onts),'Kidney cell_ontology_classes by Muris')\n",
    "muris_kidney_onts"
   ]
  },
  {
   "cell_type": "code",
   "execution_count": 45,
   "metadata": {},
   "outputs": [
    {
     "name": "stdout",
     "output_type": "stream",
     "text": [
      "6 onts from MERFISH kidney:\n",
      " {'podocyte', 'epithelial cell of proximal tubule', 'kidney distal convoluted tubule epithelial cell', 'kidney loop of Henle epithelial cell', 'endothelial cell', 'kidney collecting duct epithelial cell'}\n",
      "\n",
      "3 shared onts with Muris:\n",
      " {'epithelial cell of proximal tubule', 'kidney distal convoluted tubule epithelial cell', 'podocyte'}\n"
     ]
    }
   ],
   "source": [
    "#First trying the MERFISH_Kidney file\n",
    "viz_anndata = scp.read_h5ad('/oak/stanford/groups/horence/rob/isoform_localizations/SRRS/preprocessing/KidneyLiver_preprocessing/data/cell_gene_counts/MERFISH_kidney_object.h5ad')\n",
    "viz_onts = set(viz_anndata.obs['tentative_annot'].values)\n",
    "shared_onts = muris_kidney_onts.intersection(viz_onts)\n",
    "\n",
    "print('{} onts from MERFISH kidney:\\n'.format(len(viz_onts)),viz_onts)\n",
    "print('')\n",
    "print('{} shared onts with Muris:\\n'.format(len(shared_onts)),shared_onts)"
   ]
  },
  {
   "cell_type": "code",
   "execution_count": 48,
   "metadata": {},
   "outputs": [
    {
     "name": "stdout",
     "output_type": "stream",
     "text": [
      "11 onts from scANVI kidney:\n",
      " {'lymphocyte', 'fibroblast', 'pericyte', 'glomerular capillary endothelial cell', 'podocyte', 'epithelial cell of proximal tubule', 'kidney distal convoluted tubule epithelial cell', 'kidney loop of Henle epithelial cell', 'macrophage', 'kidney blood vessel cell', 'kidney collecting duct epithelial cell'}\n",
      "\n",
      "6 shared onts with Muris:\n",
      " {'lymphocyte', 'fibroblast', 'kidney distal convoluted tubule epithelial cell', 'epithelial cell of proximal tubule', 'podocyte', 'macrophage'}\n"
     ]
    }
   ],
   "source": [
    "#scANVI\n",
    "viz_anndata = scp.read_h5ad('/oak/stanford/groups/horence/rob/isoform_localizations/SRRS/preprocessing/KidneyLiver_preprocessing/data/cell_gene_counts/scANVI_kidney_object.h5ad')\n",
    "viz_onts = set(viz_anndata.obs['predicted_cell_type'].values)\n",
    "shared_onts = muris_kidney_onts.intersection(viz_onts)\n",
    "\n",
    "print('{} onts from scANVI kidney:\\n'.format(len(viz_onts)),viz_onts)\n",
    "print('')\n",
    "print('{} shared onts with Muris:\\n'.format(len(shared_onts)),shared_onts)"
   ]
  },
  {
   "cell_type": "code",
   "execution_count": 49,
   "metadata": {},
   "outputs": [
    {
     "name": "stdout",
     "output_type": "stream",
     "text": [
      "11 onts from scANVI kidney:\n",
      " {'lymphocyte', 'fibroblast', 'pericyte', 'glomerular capillary endothelial cell', 'podocyte', 'epithelial cell of proximal tubule', 'kidney distal convoluted tubule epithelial cell', 'kidney loop of Henle epithelial cell', 'macrophage', 'kidney blood vessel cell', 'kidney collecting duct epithelial cell'}\n",
      "\n",
      "6 shared onts with Muris:\n",
      " {'lymphocyte', 'fibroblast', 'kidney distal convoluted tubule epithelial cell', 'epithelial cell of proximal tubule', 'podocyte', 'macrophage'}\n"
     ]
    }
   ],
   "source": [
    "#scVI\n",
    "viz_anndata = scp.read_h5ad('/oak/stanford/groups/horence/rob/isoform_localizations/SRRS/preprocessing/KidneyLiver_preprocessing/data/cell_gene_counts/scVI_kidney_object.h5ad')\n",
    "viz_onts = set(viz_anndata.obs['predicted_cell_type'].values)\n",
    "shared_onts = muris_kidney_onts.intersection(viz_onts)\n",
    "\n",
    "print('{} onts from scANVI kidney:\\n'.format(len(viz_onts)),viz_onts)\n",
    "print('')\n",
    "print('{} shared onts with Muris:\\n'.format(len(shared_onts)),shared_onts)"
   ]
  },
  {
   "cell_type": "markdown",
   "metadata": {},
   "source": [
    "# Liver: mapping from Tabula Muris to vizgen ontologies"
   ]
  },
  {
   "cell_type": "code",
   "execution_count": 52,
   "metadata": {},
   "outputs": [
    {
     "name": "stdout",
     "output_type": "stream",
     "text": [
      "There are 8 Liver cell_ontology_classes by Muris\n"
     ]
    },
    {
     "data": {
      "text/plain": [
       "{'B cell',\n",
       " 'Kupffer cell',\n",
       " 'NK cell',\n",
       " 'endothelial cell of hepatic sinusoid',\n",
       " 'hepatic stellate cell',\n",
       " 'hepatocyte',\n",
       " 'myeloid leukocyte',\n",
       " 'plasmacytoid dendritic cell'}"
      ]
     },
     "execution_count": 52,
     "metadata": {},
     "output_type": "execute_result"
    }
   ],
   "source": [
    "muris_liver_onts = set(muris_meta_df[\n",
    "    muris_meta_df['tissue'].eq('Liver')\n",
    "]['cell_ontology_class'])\n",
    "\n",
    "print('There are',len(muris_liver_onts),'Liver cell_ontology_classes by Muris')\n",
    "muris_liver_onts"
   ]
  },
  {
   "cell_type": "code",
   "execution_count": 53,
   "metadata": {},
   "outputs": [
    {
     "name": "stdout",
     "output_type": "stream",
     "text": [
      "7 onts from MERFISH liver:\n",
      " {'immune cell', 'periportal endothelial cell', 'hepatic stellate cell', 'pericentral hepatocyte', 'pericentral endothelial cell', 'periportal hepatocyte', 'Kupffer cell'}\n",
      "\n",
      "2 shared onts with Muris:\n",
      " {'Kupffer cell', 'hepatic stellate cell'}\n"
     ]
    }
   ],
   "source": [
    "#First trying the MERFISH_Liver file\n",
    "viz_anndata = scp.read_h5ad('/oak/stanford/groups/horence/rob/isoform_localizations/SRRS/preprocessing/KidneyLiver_preprocessing/data/cell_gene_counts/MERFISH_liver_object.h5ad')\n",
    "viz_onts = set(viz_anndata.obs['tentative_annot'].values)\n",
    "shared_onts = muris_liver_onts.intersection(viz_onts)\n",
    "\n",
    "print('{} onts from MERFISH liver:\\n'.format(len(viz_onts)),viz_onts)\n",
    "print('')\n",
    "print('{} shared onts with Muris:\\n'.format(len(shared_onts)),shared_onts)"
   ]
  },
  {
   "cell_type": "code",
   "execution_count": 54,
   "metadata": {},
   "outputs": [
    {
     "name": "stdout",
     "output_type": "stream",
     "text": [
      "11 onts from scANVI liver:\n",
      " {'myeloid leukocyte', 'periportal endothelial cell', 'other hepatocyte', 'hepatic stellate cell', 'NK cell', 'pericentral hepatocyte', 'pericentral endothelial cell', 'periportal hepatocyte', 'plasmacytoid dendritic cell', 'Kupffer cell', 'other endothelial cell'}\n",
      "\n",
      "5 shared onts with Muris:\n",
      " {'myeloid leukocyte', 'hepatic stellate cell', 'NK cell', 'plasmacytoid dendritic cell', 'Kupffer cell'}\n"
     ]
    }
   ],
   "source": [
    "#scANVI\n",
    "viz_anndata = scp.read_h5ad('/oak/stanford/groups/horence/rob/isoform_localizations/SRRS/preprocessing/KidneyLiver_preprocessing/data/cell_gene_counts/scANVI_liver_object.h5ad')\n",
    "viz_onts = set(viz_anndata.obs['predicted_cell_type'].values)\n",
    "shared_onts = muris_liver_onts.intersection(viz_onts)\n",
    "\n",
    "print('{} onts from scANVI liver:\\n'.format(len(viz_onts)),viz_onts)\n",
    "print('')\n",
    "print('{} shared onts with Muris:\\n'.format(len(shared_onts)),shared_onts)"
   ]
  },
  {
   "cell_type": "code",
   "execution_count": 55,
   "metadata": {},
   "outputs": [
    {
     "name": "stdout",
     "output_type": "stream",
     "text": [
      "11 onts from scVI liver:\n",
      " {'myeloid leukocyte', 'periportal endothelial cell', 'other hepatocyte', 'hepatic stellate cell', 'NK cell', 'pericentral hepatocyte', 'pericentral endothelial cell', 'periportal hepatocyte', 'plasmacytoid dendritic cell', 'Kupffer cell', 'other endothelial cell'}\n",
      "\n",
      "5 shared onts with Muris:\n",
      " {'myeloid leukocyte', 'hepatic stellate cell', 'NK cell', 'plasmacytoid dendritic cell', 'Kupffer cell'}\n"
     ]
    }
   ],
   "source": [
    "#scVI\n",
    "viz_anndata = scp.read_h5ad('/oak/stanford/groups/horence/rob/isoform_localizations/SRRS/preprocessing/KidneyLiver_preprocessing/data/cell_gene_counts/scVI_liver_object.h5ad')\n",
    "viz_onts = set(viz_anndata.obs['predicted_cell_type'].values)\n",
    "shared_onts = muris_liver_onts.intersection(viz_onts)\n",
    "\n",
    "print('{} onts from scVI liver:\\n'.format(len(viz_onts)),viz_onts)\n",
    "print('')\n",
    "print('{} shared onts with Muris:\\n'.format(len(shared_onts)),shared_onts)"
   ]
  }
 ],
 "metadata": {
  "kernelspec": {
   "display_name": "Python 3",
   "language": "python",
   "name": "python3"
  },
  "language_info": {
   "codemirror_mode": {
    "name": "ipython",
    "version": 3
   },
   "file_extension": ".py",
   "mimetype": "text/x-python",
   "name": "python",
   "nbconvert_exporter": "python",
   "pygments_lexer": "ipython3",
   "version": "3.6.1"
  }
 },
 "nbformat": 4,
 "nbformat_minor": 2
}
