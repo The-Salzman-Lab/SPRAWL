{
 "cells": [
  {
   "cell_type": "code",
   "execution_count": 1,
   "metadata": {},
   "outputs": [],
   "source": [
    "import pandas as pd\n",
    "import numpy as np\n",
    "import seaborn as sns\n",
    "import matplotlib.pyplot as plt\n",
    "import glob\n",
    "import os\n",
    "import sys"
   ]
  },
  {
   "cell_type": "markdown",
   "metadata": {},
   "source": [
    "# Analysis for null hypothesis simulations where permutations are done across all z-slices\n",
    "\n",
    "Peripheral metric"
   ]
  },
  {
   "cell_type": "code",
   "execution_count": 6,
   "metadata": {},
   "outputs": [
    {
     "data": {
      "text/plain": [
       "['../../inputs/mouse1sample1.hdf5',\n",
       " '../../inputs/mouse1sample2.hdf5',\n",
       " '../../inputs/mouse1sample3.hdf5',\n",
       " '../../inputs/mouse1sample4.hdf5',\n",
       " '../../inputs/mouse1sample5.hdf5',\n",
       " '../../inputs/mouse1sample6.hdf5',\n",
       " '../../inputs/mouse2sample1.hdf5',\n",
       " '../../inputs/mouse2sample2.hdf5',\n",
       " '../../inputs/mouse2sample3.hdf5',\n",
       " '../../inputs/mouse2sample4.hdf5',\n",
       " '../../inputs/mouse2sample5.hdf5',\n",
       " '../../inputs/mouse2sample6.hdf5']"
      ]
     },
     "execution_count": 6,
     "metadata": {},
     "output_type": "execute_result"
    }
   ],
   "source": [
    "import glob\n",
    "sorted(glob.glob('../../inputs/mouse?sample?.hdf5'))"
   ]
  },
  {
   "cell_type": "code",
   "execution_count": null,
   "metadata": {},
   "outputs": [],
   "source": [
    "'../../outputs/simulations/'"
   ]
  },
  {
   "cell_type": "code",
   "execution_count": 2,
   "metadata": {},
   "outputs": [
    {
     "data": {
      "text/html": [
       "<div>\n",
       "<style scoped>\n",
       "    .dataframe tbody tr th:only-of-type {\n",
       "        vertical-align: middle;\n",
       "    }\n",
       "\n",
       "    .dataframe tbody tr th {\n",
       "        vertical-align: top;\n",
       "    }\n",
       "\n",
       "    .dataframe thead th {\n",
       "        text-align: right;\n",
       "    }\n",
       "</style>\n",
       "<table border=\"1\" class=\"dataframe\">\n",
       "  <thead>\n",
       "    <tr style=\"text-align: right;\">\n",
       "      <th></th>\n",
       "      <th>metric</th>\n",
       "      <th>gene</th>\n",
       "      <th>annotation</th>\n",
       "      <th>num_cells</th>\n",
       "      <th>med_gene_spots</th>\n",
       "      <th>med_spots</th>\n",
       "      <th>med_score</th>\n",
       "      <th>z</th>\n",
       "      <th>p</th>\n",
       "      <th>bh_p</th>\n",
       "      <th>it_num</th>\n",
       "    </tr>\n",
       "  </thead>\n",
       "  <tbody>\n",
       "    <tr>\n",
       "      <th>16</th>\n",
       "      <td>peripheral</td>\n",
       "      <td>1810046K07Rik</td>\n",
       "      <td>Pvalb_3</td>\n",
       "      <td>11</td>\n",
       "      <td>1.0</td>\n",
       "      <td>592.0</td>\n",
       "      <td>0.040268</td>\n",
       "      <td>-0.331807</td>\n",
       "      <td>0.740035</td>\n",
       "      <td>0.975848</td>\n",
       "      <td>0</td>\n",
       "    </tr>\n",
       "    <tr>\n",
       "      <th>45</th>\n",
       "      <td>peripheral</td>\n",
       "      <td>5730522E02Rik</td>\n",
       "      <td>Pvalb_2</td>\n",
       "      <td>10</td>\n",
       "      <td>1.0</td>\n",
       "      <td>518.5</td>\n",
       "      <td>0.349540</td>\n",
       "      <td>1.814768</td>\n",
       "      <td>0.069560</td>\n",
       "      <td>0.906977</td>\n",
       "      <td>0</td>\n",
       "    </tr>\n",
       "    <tr>\n",
       "      <th>55</th>\n",
       "      <td>peripheral</td>\n",
       "      <td>Acta2</td>\n",
       "      <td>Pvalb_1</td>\n",
       "      <td>57</td>\n",
       "      <td>1.0</td>\n",
       "      <td>526.0</td>\n",
       "      <td>-0.027915</td>\n",
       "      <td>-0.076625</td>\n",
       "      <td>0.938922</td>\n",
       "      <td>0.997227</td>\n",
       "      <td>0</td>\n",
       "    </tr>\n",
       "    <tr>\n",
       "      <th>59</th>\n",
       "      <td>peripheral</td>\n",
       "      <td>Acta2</td>\n",
       "      <td>Pvalb_2</td>\n",
       "      <td>91</td>\n",
       "      <td>2.0</td>\n",
       "      <td>387.0</td>\n",
       "      <td>0.024000</td>\n",
       "      <td>-0.182065</td>\n",
       "      <td>0.855531</td>\n",
       "      <td>0.995271</td>\n",
       "      <td>0</td>\n",
       "    </tr>\n",
       "    <tr>\n",
       "      <th>60</th>\n",
       "      <td>peripheral</td>\n",
       "      <td>Acta2</td>\n",
       "      <td>Pvalb_3</td>\n",
       "      <td>68</td>\n",
       "      <td>1.5</td>\n",
       "      <td>436.5</td>\n",
       "      <td>0.041057</td>\n",
       "      <td>-0.266768</td>\n",
       "      <td>0.789648</td>\n",
       "      <td>0.983791</td>\n",
       "      <td>0</td>\n",
       "    </tr>\n",
       "  </tbody>\n",
       "</table>\n",
       "</div>"
      ],
      "text/plain": [
       "        metric           gene annotation  num_cells  med_gene_spots  \\\n",
       "16  peripheral  1810046K07Rik    Pvalb_3         11             1.0   \n",
       "45  peripheral  5730522E02Rik    Pvalb_2         10             1.0   \n",
       "55  peripheral          Acta2    Pvalb_1         57             1.0   \n",
       "59  peripheral          Acta2    Pvalb_2         91             2.0   \n",
       "60  peripheral          Acta2    Pvalb_3         68             1.5   \n",
       "\n",
       "    med_spots  med_score         z         p      bh_p  it_num  \n",
       "16      592.0   0.040268 -0.331807  0.740035  0.975848       0  \n",
       "45      518.5   0.349540  1.814768  0.069560  0.906977       0  \n",
       "55      526.0  -0.027915 -0.076625  0.938922  0.997227       0  \n",
       "59      387.0   0.024000 -0.182065  0.855531  0.995271       0  \n",
       "60      436.5   0.041057 -0.266768  0.789648  0.983791       0  "
      ]
     },
     "metadata": {},
     "output_type": "display_data"
    },
    {
     "data": {
      "text/plain": [
       "'Num unique annotations'"
      ]
     },
     "metadata": {},
     "output_type": "display_data"
    },
    {
     "data": {
      "text/plain": [
       "18"
      ]
     },
     "metadata": {},
     "output_type": "display_data"
    },
    {
     "data": {
      "text/plain": [
       "'Num unique gene/cell-type pairs'"
      ]
     },
     "metadata": {},
     "output_type": "display_data"
    },
    {
     "data": {
      "text/plain": [
       "(1433, 2)"
      ]
     },
     "metadata": {},
     "output_type": "display_data"
    },
    {
     "data": {
      "text/plain": [
       "'Num simulations'"
      ]
     },
     "metadata": {},
     "output_type": "display_data"
    },
    {
     "data": {
      "text/plain": [
       "1000"
      ]
     },
     "metadata": {},
     "output_type": "display_data"
    },
    {
     "data": {
      "text/plain": [
       "'Frequency of false positives'"
      ]
     },
     "metadata": {},
     "output_type": "display_data"
    },
    {
     "data": {
      "text/plain": [
       "0    998\n",
       "1      2\n",
       "Name: bh_p, dtype: int64"
      ]
     },
     "metadata": {},
     "output_type": "display_data"
    },
    {
     "data": {
      "text/plain": [
       "'Agg df'"
      ]
     },
     "metadata": {},
     "output_type": "display_data"
    },
    {
     "data": {
      "text/html": [
       "<div>\n",
       "<style scoped>\n",
       "    .dataframe tbody tr th:only-of-type {\n",
       "        vertical-align: middle;\n",
       "    }\n",
       "\n",
       "    .dataframe tbody tr th {\n",
       "        vertical-align: top;\n",
       "    }\n",
       "\n",
       "    .dataframe thead th {\n",
       "        text-align: right;\n",
       "    }\n",
       "</style>\n",
       "<table border=\"1\" class=\"dataframe\">\n",
       "  <thead>\n",
       "    <tr style=\"text-align: right;\">\n",
       "      <th></th>\n",
       "      <th>gene</th>\n",
       "      <th>annotation</th>\n",
       "      <th>frac_sig_its</th>\n",
       "      <th>num_cells</th>\n",
       "      <th>med_gene_spots</th>\n",
       "      <th>med_spots</th>\n",
       "    </tr>\n",
       "  </thead>\n",
       "  <tbody>\n",
       "    <tr>\n",
       "      <th>1156</th>\n",
       "      <td>Slco5a1</td>\n",
       "      <td>Pvalb_2</td>\n",
       "      <td>0.028</td>\n",
       "      <td>14</td>\n",
       "      <td>1.0</td>\n",
       "      <td>422.0</td>\n",
       "    </tr>\n",
       "    <tr>\n",
       "      <th>461</th>\n",
       "      <td>Flrt3</td>\n",
       "      <td>Vip_2</td>\n",
       "      <td>0.029</td>\n",
       "      <td>14</td>\n",
       "      <td>1.5</td>\n",
       "      <td>515.5</td>\n",
       "    </tr>\n",
       "    <tr>\n",
       "      <th>682</th>\n",
       "      <td>Nhs</td>\n",
       "      <td>Pvalb_2</td>\n",
       "      <td>0.031</td>\n",
       "      <td>94</td>\n",
       "      <td>2.0</td>\n",
       "      <td>412.0</td>\n",
       "    </tr>\n",
       "    <tr>\n",
       "      <th>717</th>\n",
       "      <td>Nos1</td>\n",
       "      <td>Vip_9</td>\n",
       "      <td>0.031</td>\n",
       "      <td>10</td>\n",
       "      <td>2.0</td>\n",
       "      <td>390.5</td>\n",
       "    </tr>\n",
       "    <tr>\n",
       "      <th>74</th>\n",
       "      <td>Aqp4</td>\n",
       "      <td>Vip_2</td>\n",
       "      <td>0.031</td>\n",
       "      <td>15</td>\n",
       "      <td>2.0</td>\n",
       "      <td>461.0</td>\n",
       "    </tr>\n",
       "    <tr>\n",
       "      <th>...</th>\n",
       "      <td>...</td>\n",
       "      <td>...</td>\n",
       "      <td>...</td>\n",
       "      <td>...</td>\n",
       "      <td>...</td>\n",
       "      <td>...</td>\n",
       "    </tr>\n",
       "    <tr>\n",
       "      <th>1136</th>\n",
       "      <td>Slc32a1</td>\n",
       "      <td>Vip_1</td>\n",
       "      <td>0.068</td>\n",
       "      <td>31</td>\n",
       "      <td>12.0</td>\n",
       "      <td>245.0</td>\n",
       "    </tr>\n",
       "    <tr>\n",
       "      <th>637</th>\n",
       "      <td>March1</td>\n",
       "      <td>Pvalb_3</td>\n",
       "      <td>0.069</td>\n",
       "      <td>50</td>\n",
       "      <td>1.0</td>\n",
       "      <td>444.0</td>\n",
       "    </tr>\n",
       "    <tr>\n",
       "      <th>741</th>\n",
       "      <td>Nr2f2</td>\n",
       "      <td>Vip_2</td>\n",
       "      <td>0.069</td>\n",
       "      <td>26</td>\n",
       "      <td>6.0</td>\n",
       "      <td>411.0</td>\n",
       "    </tr>\n",
       "    <tr>\n",
       "      <th>1000</th>\n",
       "      <td>Rgs6</td>\n",
       "      <td>Pvalb_1</td>\n",
       "      <td>0.069</td>\n",
       "      <td>27</td>\n",
       "      <td>1.0</td>\n",
       "      <td>478.0</td>\n",
       "    </tr>\n",
       "    <tr>\n",
       "      <th>75</th>\n",
       "      <td>Asic4</td>\n",
       "      <td>Pvalb_1</td>\n",
       "      <td>0.073</td>\n",
       "      <td>15</td>\n",
       "      <td>1.0</td>\n",
       "      <td>604.0</td>\n",
       "    </tr>\n",
       "  </tbody>\n",
       "</table>\n",
       "<p>1433 rows × 6 columns</p>\n",
       "</div>"
      ],
      "text/plain": [
       "         gene annotation  frac_sig_its  num_cells  med_gene_spots  med_spots\n",
       "1156  Slco5a1    Pvalb_2         0.028         14             1.0      422.0\n",
       "461     Flrt3      Vip_2         0.029         14             1.5      515.5\n",
       "682       Nhs    Pvalb_2         0.031         94             2.0      412.0\n",
       "717      Nos1      Vip_9         0.031         10             2.0      390.5\n",
       "74       Aqp4      Vip_2         0.031         15             2.0      461.0\n",
       "...       ...        ...           ...        ...             ...        ...\n",
       "1136  Slc32a1      Vip_1         0.068         31            12.0      245.0\n",
       "637    March1    Pvalb_3         0.069         50             1.0      444.0\n",
       "741     Nr2f2      Vip_2         0.069         26             6.0      411.0\n",
       "1000     Rgs6    Pvalb_1         0.069         27             1.0      478.0\n",
       "75      Asic4    Pvalb_1         0.073         15             1.0      604.0\n",
       "\n",
       "[1433 rows x 6 columns]"
      ]
     },
     "metadata": {},
     "output_type": "display_data"
    },
    {
     "data": {
      "text/plain": [
       "'Median frac sig (no BH)'"
      ]
     },
     "metadata": {},
     "output_type": "display_data"
    },
    {
     "data": {
      "text/plain": [
       "0.049"
      ]
     },
     "metadata": {},
     "output_type": "display_data"
    },
    {
     "data": {
      "image/png": "[encoded data removed]",
      "text/plain": [
       "<Figure size 432x288 with 1 Axes>"
      ]
     },
     "metadata": {
      "needs_background": "light"
     },
     "output_type": "display_data"
    },
    {
     "data": {
      "image/png": "[encoded data removed]",
      "text/plain": [
       "<Figure size 432x288 with 1 Axes>"
      ]
     },
     "metadata": {
      "needs_background": "light"
     },
     "output_type": "display_data"
    }
   ],
   "source": [
    "df = pd.read_csv('../../outputs/simulations/m1s1_10_null_permutes_across_z.csv')\n",
    "df = df[df['num_cells'].ge(10)] #set a threshold to only consider gene/annotations with at least 10 cells\n",
    "display(df.head())\n",
    "\n",
    "\n",
    "display('Num unique annotations',df['annotation'].nunique())\n",
    "\n",
    "display('Num unique gene/cell-type pairs',df[['gene','annotation']].drop_duplicates().shape)\n",
    "\n",
    "display('Num simulations',df['it_num'].nunique())\n",
    "\n",
    "num_sig_per_it_by_bh = df.groupby('it_num')['bh_p'].apply(lambda v: sum(v <= 0.05))\n",
    "display('Frequency of false positives',num_sig_per_it_by_bh.value_counts())\n",
    "\n",
    "#For each gene/annotation, expect 5% false positives over the multiple iterations at alpha of 0.05\n",
    "gb_cols = ['gene','annotation']\n",
    "agg_df = df.groupby(gb_cols).agg(\n",
    "    frac_sig_its = ('p',lambda v: sum(v <= 0.05)/1000),\n",
    "    num_cells = ('num_cells','first'),\n",
    "    med_gene_spots = ('med_gene_spots','first'),\n",
    "    med_spots = ('med_spots','first'),\n",
    ").reset_index()\n",
    "\n",
    "display('Agg df',agg_df.sort_values('frac_sig_its'))\n",
    "display('Median frac sig (no BH)',agg_df['frac_sig_its'].median())\n",
    "\n",
    "\n",
    "#Plot frac vs num cells to see if there is bias on a graph\n",
    "g = sns.scatterplot(\n",
    "    x = 'num_cells',\n",
    "    y = 'frac_sig_its',\n",
    "    color = 'black',\n",
    "    alpha = 0.1,\n",
    "    data = agg_df,\n",
    ")\n",
    "plt.xlabel('Num cells')\n",
    "plt.ylabel('Fraction of significant simulations')\n",
    "plt.title(\n",
    "\"\"\"\n",
    "Gene/annotation fraction of significant iterations (w/o BH correction)\n",
    "Is uniformly distributed across cells per group under null\n",
    "(Each dot is a unique gene/annotation)\n",
    "\"\"\"\n",
    ")\n",
    "plt.show()\n",
    "#plt.savefig('sim_cells_per_ont.svg')\n",
    "plt.close()\n",
    "\n",
    "#Plot frac vs gene-frac to see if there is bias on a graph\n",
    "agg_df['med_gene_frac'] = agg_df['med_gene_spots']/agg_df['med_spots']\n",
    "g = sns.scatterplot(\n",
    "    x = 'med_gene_frac',\n",
    "    y = 'frac_sig_its',\n",
    "    color = 'black',\n",
    "    alpha = 0.1,\n",
    "    data = agg_df,\n",
    ")\n",
    "plt.xlabel('Median gene of interest spot composition in group')\n",
    "plt.ylabel('Fraction of significant simulations')\n",
    "plt.title(\n",
    "\"\"\"\n",
    "Gene/annotation fraction of significant iterations (w/o BH correction)\n",
    "Is uniformly distributed across spot composition under null\n",
    "(Each dot is a unique gene/annotation)\n",
    "\"\"\"\n",
    ")\n",
    "plt.show()\n",
    "plt.savefig('sim_med_gene_frac.svg')\n",
    "plt.close()"
   ]
  },
  {
   "cell_type": "code",
   "execution_count": null,
   "metadata": {
    "collapsed": true
   },
   "outputs": [],
   "source": []
  },
  {
   "cell_type": "markdown",
   "metadata": {},
   "source": [
    "# Analysis for null hypothesis simulations where permutations are done within each z-slice"
   ]
  },
  {
   "cell_type": "code",
   "execution_count": 3,
   "metadata": {},
   "outputs": [
    {
     "data": {
      "text/html": [
       "<div>\n",
       "<style scoped>\n",
       "    .dataframe tbody tr th:only-of-type {\n",
       "        vertical-align: middle;\n",
       "    }\n",
       "\n",
       "    .dataframe tbody tr th {\n",
       "        vertical-align: top;\n",
       "    }\n",
       "\n",
       "    .dataframe thead th {\n",
       "        text-align: right;\n",
       "    }\n",
       "</style>\n",
       "<table border=\"1\" class=\"dataframe\">\n",
       "  <thead>\n",
       "    <tr style=\"text-align: right;\">\n",
       "      <th></th>\n",
       "      <th>metric</th>\n",
       "      <th>gene</th>\n",
       "      <th>annotation</th>\n",
       "      <th>num_cells</th>\n",
       "      <th>med_gene_spots</th>\n",
       "      <th>med_spots</th>\n",
       "      <th>med_score</th>\n",
       "      <th>z</th>\n",
       "      <th>p</th>\n",
       "      <th>bh_p</th>\n",
       "      <th>it_num</th>\n",
       "    </tr>\n",
       "  </thead>\n",
       "  <tbody>\n",
       "    <tr>\n",
       "      <th>16</th>\n",
       "      <td>peripheral</td>\n",
       "      <td>1810046K07Rik</td>\n",
       "      <td>Pvalb_3</td>\n",
       "      <td>11</td>\n",
       "      <td>1.0</td>\n",
       "      <td>592.0</td>\n",
       "      <td>-0.240964</td>\n",
       "      <td>-0.723991</td>\n",
       "      <td>0.469071</td>\n",
       "      <td>0.928881</td>\n",
       "      <td>0</td>\n",
       "    </tr>\n",
       "    <tr>\n",
       "      <th>45</th>\n",
       "      <td>peripheral</td>\n",
       "      <td>5730522E02Rik</td>\n",
       "      <td>Pvalb_2</td>\n",
       "      <td>10</td>\n",
       "      <td>1.0</td>\n",
       "      <td>518.5</td>\n",
       "      <td>0.153775</td>\n",
       "      <td>0.611985</td>\n",
       "      <td>0.540548</td>\n",
       "      <td>0.947702</td>\n",
       "      <td>0</td>\n",
       "    </tr>\n",
       "    <tr>\n",
       "      <th>55</th>\n",
       "      <td>peripheral</td>\n",
       "      <td>Acta2</td>\n",
       "      <td>Pvalb_1</td>\n",
       "      <td>57</td>\n",
       "      <td>1.0</td>\n",
       "      <td>526.0</td>\n",
       "      <td>0.122349</td>\n",
       "      <td>1.812279</td>\n",
       "      <td>0.069943</td>\n",
       "      <td>0.834236</td>\n",
       "      <td>0</td>\n",
       "    </tr>\n",
       "    <tr>\n",
       "      <th>59</th>\n",
       "      <td>peripheral</td>\n",
       "      <td>Acta2</td>\n",
       "      <td>Pvalb_2</td>\n",
       "      <td>91</td>\n",
       "      <td>2.0</td>\n",
       "      <td>387.0</td>\n",
       "      <td>-0.125000</td>\n",
       "      <td>-2.192278</td>\n",
       "      <td>0.028359</td>\n",
       "      <td>0.834236</td>\n",
       "      <td>0</td>\n",
       "    </tr>\n",
       "    <tr>\n",
       "      <th>60</th>\n",
       "      <td>peripheral</td>\n",
       "      <td>Acta2</td>\n",
       "      <td>Pvalb_3</td>\n",
       "      <td>68</td>\n",
       "      <td>1.5</td>\n",
       "      <td>436.5</td>\n",
       "      <td>0.070897</td>\n",
       "      <td>0.687074</td>\n",
       "      <td>0.492036</td>\n",
       "      <td>0.933721</td>\n",
       "      <td>0</td>\n",
       "    </tr>\n",
       "  </tbody>\n",
       "</table>\n",
       "</div>"
      ],
      "text/plain": [
       "        metric           gene annotation  num_cells  med_gene_spots  \\\n",
       "16  peripheral  1810046K07Rik    Pvalb_3         11             1.0   \n",
       "45  peripheral  5730522E02Rik    Pvalb_2         10             1.0   \n",
       "55  peripheral          Acta2    Pvalb_1         57             1.0   \n",
       "59  peripheral          Acta2    Pvalb_2         91             2.0   \n",
       "60  peripheral          Acta2    Pvalb_3         68             1.5   \n",
       "\n",
       "    med_spots  med_score         z         p      bh_p  it_num  \n",
       "16      592.0  -0.240964 -0.723991  0.469071  0.928881       0  \n",
       "45      518.5   0.153775  0.611985  0.540548  0.947702       0  \n",
       "55      526.0   0.122349  1.812279  0.069943  0.834236       0  \n",
       "59      387.0  -0.125000 -2.192278  0.028359  0.834236       0  \n",
       "60      436.5   0.070897  0.687074  0.492036  0.933721       0  "
      ]
     },
     "metadata": {},
     "output_type": "display_data"
    },
    {
     "data": {
      "text/plain": [
       "'Num unique annotations'"
      ]
     },
     "metadata": {},
     "output_type": "display_data"
    },
    {
     "data": {
      "text/plain": [
       "18"
      ]
     },
     "metadata": {},
     "output_type": "display_data"
    },
    {
     "data": {
      "text/plain": [
       "'Num unique gene/cell-type pairs'"
      ]
     },
     "metadata": {},
     "output_type": "display_data"
    },
    {
     "data": {
      "text/plain": [
       "(1433, 2)"
      ]
     },
     "metadata": {},
     "output_type": "display_data"
    },
    {
     "data": {
      "text/plain": [
       "'Num simulations'"
      ]
     },
     "metadata": {},
     "output_type": "display_data"
    },
    {
     "data": {
      "text/plain": [
       "1000"
      ]
     },
     "metadata": {},
     "output_type": "display_data"
    },
    {
     "data": {
      "text/plain": [
       "'Frequency of false positives'"
      ]
     },
     "metadata": {},
     "output_type": "display_data"
    },
    {
     "data": {
      "text/plain": [
       "0    967\n",
       "1     30\n",
       "2      3\n",
       "Name: bh_p, dtype: int64"
      ]
     },
     "metadata": {},
     "output_type": "display_data"
    },
    {
     "data": {
      "text/plain": [
       "'Agg df'"
      ]
     },
     "metadata": {},
     "output_type": "display_data"
    },
    {
     "data": {
      "text/html": [
       "<div>\n",
       "<style scoped>\n",
       "    .dataframe tbody tr th:only-of-type {\n",
       "        vertical-align: middle;\n",
       "    }\n",
       "\n",
       "    .dataframe tbody tr th {\n",
       "        vertical-align: top;\n",
       "    }\n",
       "\n",
       "    .dataframe thead th {\n",
       "        text-align: right;\n",
       "    }\n",
       "</style>\n",
       "<table border=\"1\" class=\"dataframe\">\n",
       "  <thead>\n",
       "    <tr style=\"text-align: right;\">\n",
       "      <th></th>\n",
       "      <th>gene</th>\n",
       "      <th>annotation</th>\n",
       "      <th>frac_sig_its</th>\n",
       "      <th>num_cells</th>\n",
       "      <th>med_gene_spots</th>\n",
       "      <th>med_spots</th>\n",
       "    </tr>\n",
       "  </thead>\n",
       "  <tbody>\n",
       "    <tr>\n",
       "      <th>481</th>\n",
       "      <td>Glra1</td>\n",
       "      <td>Vip_9</td>\n",
       "      <td>0.017</td>\n",
       "      <td>10</td>\n",
       "      <td>1.0</td>\n",
       "      <td>268.0</td>\n",
       "    </tr>\n",
       "    <tr>\n",
       "      <th>502</th>\n",
       "      <td>Grik1</td>\n",
       "      <td>Vip_9</td>\n",
       "      <td>0.017</td>\n",
       "      <td>10</td>\n",
       "      <td>3.5</td>\n",
       "      <td>374.0</td>\n",
       "    </tr>\n",
       "    <tr>\n",
       "      <th>1193</th>\n",
       "      <td>St6galnac5</td>\n",
       "      <td>Vip_10</td>\n",
       "      <td>0.018</td>\n",
       "      <td>10</td>\n",
       "      <td>10.5</td>\n",
       "      <td>404.0</td>\n",
       "    </tr>\n",
       "    <tr>\n",
       "      <th>1379</th>\n",
       "      <td>Unc5d</td>\n",
       "      <td>Vip_8</td>\n",
       "      <td>0.021</td>\n",
       "      <td>10</td>\n",
       "      <td>1.0</td>\n",
       "      <td>426.0</td>\n",
       "    </tr>\n",
       "    <tr>\n",
       "      <th>121</th>\n",
       "      <td>Brinp3</td>\n",
       "      <td>Vip_3</td>\n",
       "      <td>0.021</td>\n",
       "      <td>18</td>\n",
       "      <td>1.0</td>\n",
       "      <td>393.5</td>\n",
       "    </tr>\n",
       "    <tr>\n",
       "      <th>...</th>\n",
       "      <td>...</td>\n",
       "      <td>...</td>\n",
       "      <td>...</td>\n",
       "      <td>...</td>\n",
       "      <td>...</td>\n",
       "      <td>...</td>\n",
       "    </tr>\n",
       "    <tr>\n",
       "      <th>1129</th>\n",
       "      <td>Slc32a1</td>\n",
       "      <td>Pvalb_3</td>\n",
       "      <td>0.393</td>\n",
       "      <td>89</td>\n",
       "      <td>69.0</td>\n",
       "      <td>428.0</td>\n",
       "    </tr>\n",
       "    <tr>\n",
       "      <th>255</th>\n",
       "      <td>Cemip</td>\n",
       "      <td>Pvalb_5</td>\n",
       "      <td>0.407</td>\n",
       "      <td>48</td>\n",
       "      <td>10.5</td>\n",
       "      <td>461.5</td>\n",
       "    </tr>\n",
       "    <tr>\n",
       "      <th>1128</th>\n",
       "      <td>Slc32a1</td>\n",
       "      <td>Pvalb_2</td>\n",
       "      <td>0.414</td>\n",
       "      <td>126</td>\n",
       "      <td>41.0</td>\n",
       "      <td>344.0</td>\n",
       "    </tr>\n",
       "    <tr>\n",
       "      <th>250</th>\n",
       "      <td>Cemip</td>\n",
       "      <td>Pvalb_1</td>\n",
       "      <td>0.491</td>\n",
       "      <td>74</td>\n",
       "      <td>18.0</td>\n",
       "      <td>473.5</td>\n",
       "    </tr>\n",
       "    <tr>\n",
       "      <th>252</th>\n",
       "      <td>Cemip</td>\n",
       "      <td>Pvalb_2</td>\n",
       "      <td>0.572</td>\n",
       "      <td>126</td>\n",
       "      <td>14.0</td>\n",
       "      <td>344.0</td>\n",
       "    </tr>\n",
       "  </tbody>\n",
       "</table>\n",
       "<p>1433 rows × 6 columns</p>\n",
       "</div>"
      ],
      "text/plain": [
       "            gene annotation  frac_sig_its  num_cells  med_gene_spots  \\\n",
       "481        Glra1      Vip_9         0.017         10             1.0   \n",
       "502        Grik1      Vip_9         0.017         10             3.5   \n",
       "1193  St6galnac5     Vip_10         0.018         10            10.5   \n",
       "1379       Unc5d      Vip_8         0.021         10             1.0   \n",
       "121       Brinp3      Vip_3         0.021         18             1.0   \n",
       "...          ...        ...           ...        ...             ...   \n",
       "1129     Slc32a1    Pvalb_3         0.393         89            69.0   \n",
       "255        Cemip    Pvalb_5         0.407         48            10.5   \n",
       "1128     Slc32a1    Pvalb_2         0.414        126            41.0   \n",
       "250        Cemip    Pvalb_1         0.491         74            18.0   \n",
       "252        Cemip    Pvalb_2         0.572        126            14.0   \n",
       "\n",
       "      med_spots  \n",
       "481       268.0  \n",
       "502       374.0  \n",
       "1193      404.0  \n",
       "1379      426.0  \n",
       "121       393.5  \n",
       "...         ...  \n",
       "1129      428.0  \n",
       "255       461.5  \n",
       "1128      344.0  \n",
       "250       473.5  \n",
       "252       344.0  \n",
       "\n",
       "[1433 rows x 6 columns]"
      ]
     },
     "metadata": {},
     "output_type": "display_data"
    },
    {
     "data": {
      "text/plain": [
       "'Median frac sig (no BH)'"
      ]
     },
     "metadata": {},
     "output_type": "display_data"
    },
    {
     "data": {
      "text/plain": [
       "0.048"
      ]
     },
     "metadata": {},
     "output_type": "display_data"
    },
    {
     "data": {
      "image/png": "[encoded data removed]",
      "text/plain": [
       "<Figure size 432x288 with 1 Axes>"
      ]
     },
     "metadata": {},
     "output_type": "display_data"
    },
    {
     "data": {
      "image/png": "[encoded data removed]",
      "text/plain": [
       "<Figure size 432x288 with 1 Axes>"
      ]
     },
     "metadata": {},
     "output_type": "display_data"
    }
   ],
   "source": [
    "df = pd.read_csv('../outputs/simulations/m1s1_10_null_permutes_within_z.csv')\n",
    "df = df[df['num_cells'].ge(10)] #set a threshold to only consider gene/annotations with at least 10 cells\n",
    "display(df.head())\n",
    "\n",
    "\n",
    "display('Num unique annotations',df['annotation'].nunique())\n",
    "\n",
    "display('Num unique gene/cell-type pairs',df[['gene','annotation']].drop_duplicates().shape)\n",
    "\n",
    "display('Num simulations',df['it_num'].nunique())\n",
    "\n",
    "num_sig_per_it_by_bh = df.groupby('it_num')['bh_p'].apply(lambda v: sum(v <= 0.05))\n",
    "display('Frequency of false positives',num_sig_per_it_by_bh.value_counts())\n",
    "\n",
    "#For each gene/annotation, expect 5% false positives over the multiple iterations at alpha of 0.05\n",
    "gb_cols = ['gene','annotation']\n",
    "agg_df = df.groupby(gb_cols).agg(\n",
    "    frac_sig_its = ('p',lambda v: sum(v <= 0.05)/1000),\n",
    "    num_cells = ('num_cells','first'),\n",
    "    med_gene_spots = ('med_gene_spots','first'),\n",
    "    med_spots = ('med_spots','first'),\n",
    ").reset_index()\n",
    "\n",
    "display('Agg df',agg_df.sort_values('frac_sig_its'))\n",
    "display('Median frac sig (no BH)',agg_df['frac_sig_its'].median())\n",
    "\n",
    "\n",
    "#Plot frac vs num cells to see if there is bias on a graph\n",
    "sns.scatterplot(\n",
    "    x = 'num_cells',\n",
    "    y = 'frac_sig_its',\n",
    "    color = 'black',\n",
    "    alpha = 0.1,\n",
    "    data = agg_df,\n",
    ")\n",
    "plt.xlabel('Num cells')\n",
    "plt.ylabel('Fraction of significant simulations')\n",
    "plt.title(\n",
    "\"\"\"\n",
    "Gene/annotation fraction of significant iterations (w/o BH correction)\n",
    "Is uniformly distributed across cells per group under null\n",
    "(Each dot is a unique gene/annotation)\n",
    "\"\"\"\n",
    ")\n",
    "plt.show()\n",
    "plt.close()\n",
    "\n",
    "#Plot frac vs gene-frac to see if there is bias on a graph\n",
    "agg_df['med_gene_frac'] = agg_df['med_gene_spots']/agg_df['med_spots']\n",
    "sns.scatterplot(\n",
    "    x = 'med_gene_frac',\n",
    "    y = 'frac_sig_its',\n",
    "    color = 'black',\n",
    "    alpha = 0.1,\n",
    "    data = agg_df,\n",
    ")\n",
    "plt.xlabel('Median gene of interest spot composition in group')\n",
    "plt.ylabel('Fraction of significant simulations')\n",
    "plt.title(\n",
    "\"\"\"\n",
    "Gene/annotation fraction of significant iterations (w/o BH correction)\n",
    "Is uniformly distributed across spot composition under null\n",
    "(Each dot is a unique gene/annotation)\n",
    "\"\"\"\n",
    ")\n",
    "plt.show()\n",
    "plt.close()"
   ]
  },
  {
   "cell_type": "code",
   "execution_count": 4,
   "metadata": {},
   "outputs": [
    {
     "data": {
      "text/html": [
       "<div>\n",
       "<style scoped>\n",
       "    .dataframe tbody tr th:only-of-type {\n",
       "        vertical-align: middle;\n",
       "    }\n",
       "\n",
       "    .dataframe tbody tr th {\n",
       "        vertical-align: top;\n",
       "    }\n",
       "\n",
       "    .dataframe thead th {\n",
       "        text-align: right;\n",
       "    }\n",
       "</style>\n",
       "<table border=\"1\" class=\"dataframe\">\n",
       "  <thead>\n",
       "    <tr style=\"text-align: right;\">\n",
       "      <th></th>\n",
       "      <th>gene</th>\n",
       "      <th>annotation</th>\n",
       "      <th>frac_sig_its</th>\n",
       "      <th>num_cells</th>\n",
       "      <th>med_gene_spots</th>\n",
       "      <th>med_spots</th>\n",
       "      <th>med_gene_frac</th>\n",
       "    </tr>\n",
       "  </thead>\n",
       "  <tbody>\n",
       "    <tr>\n",
       "      <th>252</th>\n",
       "      <td>Cemip</td>\n",
       "      <td>Pvalb_2</td>\n",
       "      <td>0.572</td>\n",
       "      <td>126</td>\n",
       "      <td>14.0</td>\n",
       "      <td>344.0</td>\n",
       "      <td>0.040698</td>\n",
       "    </tr>\n",
       "    <tr>\n",
       "      <th>250</th>\n",
       "      <td>Cemip</td>\n",
       "      <td>Pvalb_1</td>\n",
       "      <td>0.491</td>\n",
       "      <td>74</td>\n",
       "      <td>18.0</td>\n",
       "      <td>473.5</td>\n",
       "      <td>0.038015</td>\n",
       "    </tr>\n",
       "    <tr>\n",
       "      <th>1128</th>\n",
       "      <td>Slc32a1</td>\n",
       "      <td>Pvalb_2</td>\n",
       "      <td>0.414</td>\n",
       "      <td>126</td>\n",
       "      <td>41.0</td>\n",
       "      <td>344.0</td>\n",
       "      <td>0.119186</td>\n",
       "    </tr>\n",
       "    <tr>\n",
       "      <th>255</th>\n",
       "      <td>Cemip</td>\n",
       "      <td>Pvalb_5</td>\n",
       "      <td>0.407</td>\n",
       "      <td>48</td>\n",
       "      <td>10.5</td>\n",
       "      <td>461.5</td>\n",
       "      <td>0.022752</td>\n",
       "    </tr>\n",
       "    <tr>\n",
       "      <th>1129</th>\n",
       "      <td>Slc32a1</td>\n",
       "      <td>Pvalb_3</td>\n",
       "      <td>0.393</td>\n",
       "      <td>89</td>\n",
       "      <td>69.0</td>\n",
       "      <td>428.0</td>\n",
       "      <td>0.161215</td>\n",
       "    </tr>\n",
       "    <tr>\n",
       "      <th>...</th>\n",
       "      <td>...</td>\n",
       "      <td>...</td>\n",
       "      <td>...</td>\n",
       "      <td>...</td>\n",
       "      <td>...</td>\n",
       "      <td>...</td>\n",
       "      <td>...</td>\n",
       "    </tr>\n",
       "    <tr>\n",
       "      <th>121</th>\n",
       "      <td>Brinp3</td>\n",
       "      <td>Vip_3</td>\n",
       "      <td>0.021</td>\n",
       "      <td>18</td>\n",
       "      <td>1.0</td>\n",
       "      <td>393.5</td>\n",
       "      <td>0.002541</td>\n",
       "    </tr>\n",
       "    <tr>\n",
       "      <th>1379</th>\n",
       "      <td>Unc5d</td>\n",
       "      <td>Vip_8</td>\n",
       "      <td>0.021</td>\n",
       "      <td>10</td>\n",
       "      <td>1.0</td>\n",
       "      <td>426.0</td>\n",
       "      <td>0.002347</td>\n",
       "    </tr>\n",
       "    <tr>\n",
       "      <th>1193</th>\n",
       "      <td>St6galnac5</td>\n",
       "      <td>Vip_10</td>\n",
       "      <td>0.018</td>\n",
       "      <td>10</td>\n",
       "      <td>10.5</td>\n",
       "      <td>404.0</td>\n",
       "      <td>0.025990</td>\n",
       "    </tr>\n",
       "    <tr>\n",
       "      <th>481</th>\n",
       "      <td>Glra1</td>\n",
       "      <td>Vip_9</td>\n",
       "      <td>0.017</td>\n",
       "      <td>10</td>\n",
       "      <td>1.0</td>\n",
       "      <td>268.0</td>\n",
       "      <td>0.003731</td>\n",
       "    </tr>\n",
       "    <tr>\n",
       "      <th>502</th>\n",
       "      <td>Grik1</td>\n",
       "      <td>Vip_9</td>\n",
       "      <td>0.017</td>\n",
       "      <td>10</td>\n",
       "      <td>3.5</td>\n",
       "      <td>374.0</td>\n",
       "      <td>0.009358</td>\n",
       "    </tr>\n",
       "  </tbody>\n",
       "</table>\n",
       "<p>1433 rows × 7 columns</p>\n",
       "</div>"
      ],
      "text/plain": [
       "            gene annotation  frac_sig_its  num_cells  med_gene_spots  \\\n",
       "252        Cemip    Pvalb_2         0.572        126            14.0   \n",
       "250        Cemip    Pvalb_1         0.491         74            18.0   \n",
       "1128     Slc32a1    Pvalb_2         0.414        126            41.0   \n",
       "255        Cemip    Pvalb_5         0.407         48            10.5   \n",
       "1129     Slc32a1    Pvalb_3         0.393         89            69.0   \n",
       "...          ...        ...           ...        ...             ...   \n",
       "121       Brinp3      Vip_3         0.021         18             1.0   \n",
       "1379       Unc5d      Vip_8         0.021         10             1.0   \n",
       "1193  St6galnac5     Vip_10         0.018         10            10.5   \n",
       "481        Glra1      Vip_9         0.017         10             1.0   \n",
       "502        Grik1      Vip_9         0.017         10             3.5   \n",
       "\n",
       "      med_spots  med_gene_frac  \n",
       "252       344.0       0.040698  \n",
       "250       473.5       0.038015  \n",
       "1128      344.0       0.119186  \n",
       "255       461.5       0.022752  \n",
       "1129      428.0       0.161215  \n",
       "...         ...            ...  \n",
       "121       393.5       0.002541  \n",
       "1379      426.0       0.002347  \n",
       "1193      404.0       0.025990  \n",
       "481       268.0       0.003731  \n",
       "502       374.0       0.009358  \n",
       "\n",
       "[1433 rows x 7 columns]"
      ]
     },
     "execution_count": 4,
     "metadata": {},
     "output_type": "execute_result"
    }
   ],
   "source": [
    "agg_df.sort_values('frac_sig_its',ascending=False)"
   ]
  },
  {
   "cell_type": "code",
   "execution_count": 5,
   "metadata": {},
   "outputs": [
    {
     "data": {
      "image/png": "[encoded data removed]",
      "text/plain": [
       "<Figure size 360x360 with 1 Axes>"
      ]
     },
     "metadata": {},
     "output_type": "display_data"
    }
   ],
   "source": [
    "sns.displot(agg_df['frac_sig_its'])\n",
    "plt.show()\n",
    "plt.close()"
   ]
  }
 ],
 "metadata": {
  "kernelspec": {
   "display_name": "Python 3",
   "language": "python",
   "name": "python3"
  },
  "language_info": {
   "codemirror_mode": {
    "name": "ipython",
    "version": 3
   },
   "file_extension": ".py",
   "mimetype": "text/x-python",
   "name": "python",
   "nbconvert_exporter": "python",
   "pygments_lexer": "ipython3",
   "version": "3.6.8"
  }
 },
 "nbformat": 4,
 "nbformat_minor": 2
}
