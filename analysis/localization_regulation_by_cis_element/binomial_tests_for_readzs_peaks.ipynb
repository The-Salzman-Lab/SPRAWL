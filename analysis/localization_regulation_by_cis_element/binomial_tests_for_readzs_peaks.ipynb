{
 "cells": [
  {
   "cell_type": "code",
   "execution_count": 1,
   "id": "b0eac6f4",
   "metadata": {},
   "outputs": [],
   "source": [
    "import pandas as pd\n",
    "import numpy as np\n",
    "import scipy.stats\n",
    "\n",
    "import sprawl\n",
    "from sprawl import plotting, utils"
   ]
  },
  {
   "cell_type": "code",
   "execution_count": 2,
   "id": "2c14be76",
   "metadata": {},
   "outputs": [
    {
     "data": {
      "text/plain": [
       "array([[3222,  513],\n",
       "       [  55, 2052]])"
      ]
     },
     "metadata": {},
     "output_type": "display_data"
    },
    {
     "name": "stdout",
     "output_type": "stream",
     "text": [
      "Bonferroni corrected p with 18 celltypes is 0.0\n",
      "Oddsratio is 234.3272727272727\n"
     ]
    }
   ],
   "source": [
    "#Timp3 upstream and downstream peaks L6_IT vs Sst binomial test\n",
    "bam_path = '../../inputs/BICCN_10Xv3_scRNAseq.bam'\n",
    "upstream_timp3 = ('chr10',86346857,86347517)\n",
    "dwstream_timp3 = ('chr10',86349055,86349469)\n",
    "\n",
    "upstream_counts = utils.bam_read_positions(bam_path, upstream_timp3, stratify_tag='XO')\n",
    "dwstream_counts = utils.bam_read_positions(bam_path, dwstream_timp3, stratify_tag='XO')\n",
    "n = len(set(upstream_counts['strat']).intersection(dwstream_counts['strat']))\n",
    "\n",
    "upstream_L6_IT = upstream_counts['strat'].eq('L6_IT').sum()\n",
    "upstream_Sst = upstream_counts['strat'].eq('Sst').sum()\n",
    "dwstream_L6_IT = dwstream_counts['strat'].eq('L6_IT').sum()\n",
    "dwstream_Sst = dwstream_counts['strat'].eq('Sst').sum()\n",
    "\n",
    "table = np.array([[upstream_L6_IT, upstream_Sst],[dwstream_L6_IT, dwstream_Sst]])\n",
    "display(table)\n",
    "\n",
    "oddsratio,p = scipy.stats.fisher_exact(table, alternative='two-sided')\n",
    "print(f'Bonferroni corrected p with {n} celltypes is {p*((n*(n-1))/2)}')\n",
    "print(f'Oddsratio is {oddsratio}')"
   ]
  },
  {
   "cell_type": "code",
   "execution_count": 3,
   "id": "c6f53569",
   "metadata": {},
   "outputs": [
    {
     "data": {
      "text/plain": [
       "array([[494,  63],\n",
       "       [172, 126]])"
      ]
     },
     "metadata": {},
     "output_type": "display_data"
    },
    {
     "name": "stdout",
     "output_type": "stream",
     "text": [
      "Bonferroni corrected p with 14 celltypes is 3.165839166624685e-22\n",
      "Oddsratio is 5.744186046511628\n"
     ]
    }
   ],
   "source": [
    "#Asic4 upstream and downstream peaks L6_IT vs L5_IT binomial test\n",
    "bam_path = '../../inputs/BICCN_10Xv3_scRNAseq.bam'\n",
    "upstream_asic4 = ('chr1',75473924,75474112)\n",
    "dwstream_asic4 = ('chr1',75474185,75474317)\n",
    "\n",
    "upstream_counts = utils.bam_read_positions(bam_path, upstream_asic4, stratify_tag='XO')\n",
    "dwstream_counts = utils.bam_read_positions(bam_path, dwstream_asic4, stratify_tag='XO')\n",
    "n = len(set(upstream_counts['strat']).intersection(dwstream_counts['strat']))\n",
    "\n",
    "upstream_L6_IT = upstream_counts['strat'].eq('L6_IT').sum()\n",
    "upstream_L5_IT = upstream_counts['strat'].eq('L5_IT').sum()\n",
    "dwstream_L6_IT = dwstream_counts['strat'].eq('L6_IT').sum()\n",
    "dwstream_L5_IT = dwstream_counts['strat'].eq('L5_IT').sum()\n",
    "\n",
    "table = np.array([[upstream_L6_IT, upstream_L5_IT],[dwstream_L6_IT, dwstream_L5_IT]])\n",
    "display(table)\n",
    "\n",
    "oddsratio,p = scipy.stats.fisher_exact(table, alternative='two-sided')\n",
    "print(f'Bonferroni corrected p with {n} celltypes is {p*((n*(n-1))/2)}')\n",
    "print(f'Oddsratio is {oddsratio}')"
   ]
  },
  {
   "cell_type": "code",
   "execution_count": 4,
   "id": "a10b2cde",
   "metadata": {},
   "outputs": [
    {
     "data": {
      "text/plain": [
       "array([[10520,   159],\n",
       "       [ 4442,   249]])"
      ]
     },
     "metadata": {},
     "output_type": "display_data"
    },
    {
     "name": "stdout",
     "output_type": "stream",
     "text": [
      "Bonferroni corrected p with 19 celltypes is 1.0794087961860416e-35\n",
      "Oddsratio is 3.708851188908617\n"
     ]
    }
   ],
   "source": [
    "#Slc32a1 upstream and downstream peaks Lamp5 vs L23_IT binomial test\n",
    "bam_path = '../../inputs/BICCN_10Xv3_scRNAseq.bam'\n",
    "upstream_slc32a1 = ('chr2',158615282,158615519)\n",
    "dwstream_slc32a1 = ('chr2',158615527,158615746)\n",
    "\n",
    "upstream_counts = utils.bam_read_positions(bam_path, upstream_slc32a1, stratify_tag='XO')\n",
    "dwstream_counts = utils.bam_read_positions(bam_path, dwstream_slc32a1, stratify_tag='XO')\n",
    "n = len(set(upstream_counts['strat']).intersection(dwstream_counts['strat']))\n",
    "\n",
    "upstream_L6_IT = upstream_counts['strat'].eq('Lamp5').sum()\n",
    "upstream_L23_IT = upstream_counts['strat'].eq('L23_IT').sum()\n",
    "dwstream_L6_IT = dwstream_counts['strat'].eq('Lamp5').sum()\n",
    "dwstream_L23_IT = dwstream_counts['strat'].eq('L23_IT').sum()\n",
    "\n",
    "table = np.array([[upstream_L6_IT, upstream_L23_IT],[dwstream_L6_IT, dwstream_L23_IT]])\n",
    "display(table)\n",
    "\n",
    "oddsratio,p = scipy.stats.fisher_exact(table, alternative='two-sided')\n",
    "print(f'Bonferroni corrected p with {n} celltypes is {p*((n*(n-1))/2)}')\n",
    "print(f'Oddsratio is {oddsratio}')"
   ]
  },
  {
   "cell_type": "code",
   "execution_count": 5,
   "id": "c7998c02",
   "metadata": {},
   "outputs": [
    {
     "data": {
      "text/plain": [
       "array([[  84,  485],\n",
       "       [ 164, 2787]])"
      ]
     },
     "metadata": {},
     "output_type": "display_data"
    },
    {
     "name": "stdout",
     "output_type": "stream",
     "text": [
      "Bonferroni corrected p with 19 celltypes is 2.1605193034177367e-10\n",
      "Oddsratio is 2.9432738244908223\n"
     ]
    }
   ],
   "source": [
    "#Nr2f2 upstream and downstream peaks L23_IT vs. Sst binomial test\n",
    "bam_path = '../../inputs/BICCN_10Xv3_scRNAseq.bam'\n",
    "upstream_nr2f2 = ('chr7',70351873,70352624)\n",
    "dwstream_nr2f2 = ('chr7',70353312,70354030)\n",
    "\n",
    "upstream_counts = utils.bam_read_positions(bam_path, upstream_nr2f2, stratify_tag='XO')\n",
    "dwstream_counts = utils.bam_read_positions(bam_path, dwstream_nr2f2, stratify_tag='XO')\n",
    "n = len(set(upstream_counts['strat']).intersection(dwstream_counts['strat']))\n",
    "\n",
    "upstream_L23_IT = upstream_counts['strat'].eq('L23_IT').sum()\n",
    "upstream_Sst = upstream_counts['strat'].eq('Sst').sum()\n",
    "dwstream_L23_IT = dwstream_counts['strat'].eq('L23_IT').sum()\n",
    "dwstream_Sst = dwstream_counts['strat'].eq('Sst').sum()\n",
    "\n",
    "table = np.array([[upstream_L23_IT, upstream_Sst],[dwstream_L23_IT, dwstream_Sst]])\n",
    "display(table)\n",
    "\n",
    "oddsratio,p = scipy.stats.fisher_exact(table, alternative='two-sided')\n",
    "print(f'Bonferroni corrected p with {n} celltypes is {p*((n*(n-1))/2)}')\n",
    "print(f'Oddsratio is {oddsratio}')"
   ]
  },
  {
   "cell_type": "markdown",
   "id": "a6a6bcae",
   "metadata": {},
   "source": [
    "# Spots per cell from the two CZB kidney datasets"
   ]
  },
  {
   "cell_type": "code",
   "execution_count": 6,
   "id": "f05544a7",
   "metadata": {},
   "outputs": [
    {
     "name": "stdout",
     "output_type": "stream",
     "text": [
      "Average spots per cell 99.825\n",
      "129\n"
     ]
    }
   ],
   "source": [
    "sample = sprawl.HDF5('../../preprocessing/CZB_kidneyliver_preprocessing/finished_outputs/kidney_111921.hdf5')\n",
    "\n",
    "num_cells = 1000\n",
    "spot_counts = 0\n",
    "\n",
    "count_threshold = 200\n",
    "num_thresh_cells = 0\n",
    "\n",
    "for _,cell in zip(range(num_cells),sample.iter_cells()):\n",
    "    cell_spot_counts = sum(cell.gene_counts.values())\n",
    "    spot_counts += cell_spot_counts\n",
    "    \n",
    "    if cell_spot_counts >= count_threshold:\n",
    "        num_thresh_cells += 1\n",
    "\n",
    "print('Average spots per cell',spot_counts/num_cells)\n",
    "print(num_thresh_cells)"
   ]
  }
 ],
 "metadata": {
  "kernelspec": {
   "display_name": "sprawl",
   "language": "python",
   "name": "sprawl"
  },
  "language_info": {
   "codemirror_mode": {
    "name": "ipython",
    "version": 3
   },
   "file_extension": ".py",
   "mimetype": "text/x-python",
   "name": "python",
   "nbconvert_exporter": "python",
   "pygments_lexer": "ipython3",
   "version": "3.8.8"
  }
 },
 "nbformat": 4,
 "nbformat_minor": 5
}
