{
 "cells": [
  {
   "cell_type": "code",
   "execution_count": 1,
   "id": "6fb09359",
   "metadata": {},
   "outputs": [],
   "source": [
    "import pandas as pd\n",
    "import numpy as np\n",
    "import glob\n",
    "import os"
   ]
  },
  {
   "cell_type": "code",
   "execution_count": 2,
   "id": "7ee51861",
   "metadata": {},
   "outputs": [
    {
     "name": "stdout",
     "output_type": "stream",
     "text": [
      "../../nf_pipeline/outputs/vz_Brain_20221018_direct_5_filt/gene_ont/vz_Brainmap_slice1_central_gene_ont.csv\n",
      "254 genes\n",
      "29 onts\n",
      "../../nf_pipeline/outputs/vz_Brain_20221018_direct_5_filt/gene_ont/vz_Brainmap_slice1_peripheral_gene_ont.csv\n",
      "254 genes\n",
      "29 onts\n",
      "../../nf_pipeline/outputs/vz_Brain_20221018_direct_5_filt/gene_ont/vz_Brainmap_slice1_punctate_gene_ont.csv\n",
      "254 genes\n",
      "29 onts\n",
      "../../nf_pipeline/outputs/vz_Brain_20221018_direct_5_filt/gene_ont/vz_Brainmap_slice1_radial_gene_ont.csv\n",
      "254 genes\n",
      "29 onts\n",
      "../../nf_pipeline/outputs/vz_Brain_20221018_direct_5_filt/gene_ont/vz_Brainmap_slice2_central_gene_ont.csv\n",
      "260 genes\n",
      "42 onts\n",
      "../../nf_pipeline/outputs/vz_Brain_20221018_direct_5_filt/gene_ont/vz_Brainmap_slice2_peripheral_gene_ont.csv\n",
      "260 genes\n",
      "42 onts\n",
      "../../nf_pipeline/outputs/vz_Brain_20221018_direct_5_filt/gene_ont/vz_Brainmap_slice2_punctate_gene_ont.csv\n",
      "260 genes\n",
      "42 onts\n",
      "../../nf_pipeline/outputs/vz_Brain_20221018_direct_5_filt/gene_ont/vz_Brainmap_slice2_radial_gene_ont.csv\n",
      "260 genes\n",
      "42 onts\n",
      "../../nf_pipeline/outputs/vz_Brain_20221018_direct_5_filt/gene_ont/vz_Brainmap_slice3_central_gene_ont.csv\n",
      "259 genes\n",
      "36 onts\n",
      "../../nf_pipeline/outputs/vz_Brain_20221018_direct_5_filt/gene_ont/vz_Brainmap_slice3_peripheral_gene_ont.csv\n",
      "259 genes\n",
      "36 onts\n",
      "../../nf_pipeline/outputs/vz_Brain_20221018_direct_5_filt/gene_ont/vz_Brainmap_slice3_punctate_gene_ont.csv\n",
      "259 genes\n",
      "36 onts\n",
      "../../nf_pipeline/outputs/vz_Brain_20221018_direct_5_filt/gene_ont/vz_Brainmap_slice3_radial_gene_ont.csv\n",
      "259 genes\n",
      "36 onts\n"
     ]
    }
   ],
   "source": [
    "#Counting how many genes/onts are in each file\n",
    "for f_path in sorted(glob.glob('../../nf_pipeline/outputs/vz_Brain_20221018_direct_5_filt/gene_ont/*.csv')):\n",
    "    df = pd.read_csv(f_path)\n",
    "    print(f_path)\n",
    "    print(df['gene'].nunique(),'genes')\n",
    "    print(df['annotation'].nunique(),'onts')\n",
    "    "
   ]
  },
  {
   "cell_type": "code",
   "execution_count": 3,
   "id": "fbece037",
   "metadata": {},
   "outputs": [
    {
     "name": "stdout",
     "output_type": "stream",
     "text": [
      "peripheral\n",
      "Num genes pre-filt 289\n",
      "Num ontologies pre-filt 42\n",
      "Fraction ann/gene groups with a positive score 0.376\n",
      "Num tot ann/gene groups 6151\n",
      "Sig genes 158\n",
      "Num sig ann/gene groups >=5 med_gene_spots 2535\n",
      "Num tot ann/gene groups >=5 med_gene_spots 2877\n",
      "Frac sig ann/gene groups >=5 med_gene_spots 0.881126173096976\n",
      "Number sig ann/gene groups with same direction of effect 2479\n",
      "Fraction sig ann/gene groups with same direction of effect 0.862\n",
      "There are Blank- MERFISH genes in the significant group False\n",
      "\n",
      "central\n",
      "Num genes pre-filt 289\n",
      "Num ontologies pre-filt 42\n",
      "Fraction ann/gene groups with a positive score 0.632\n",
      "Num tot ann/gene groups 6151\n",
      "Sig genes 159\n",
      "Num sig ann/gene groups >=5 med_gene_spots 2523\n",
      "Num tot ann/gene groups >=5 med_gene_spots 2877\n",
      "Frac sig ann/gene groups >=5 med_gene_spots 0.8769551616266945\n",
      "Number sig ann/gene groups with same direction of effect 2479\n",
      "Fraction sig ann/gene groups with same direction of effect 0.862\n",
      "There are Blank- MERFISH genes in the significant group False\n",
      "\n",
      "radial\n",
      "Num genes pre-filt 289\n",
      "Num ontologies pre-filt 42\n",
      "Fraction ann/gene groups with a positive score 0.765\n",
      "Num tot ann/gene groups 6151\n",
      "Sig genes 139\n",
      "Num sig ann/gene groups >=5 med_gene_spots 1194\n",
      "Num tot ann/gene groups >=5 med_gene_spots 2877\n",
      "Frac sig ann/gene groups >=5 med_gene_spots 0.41501564129301355\n",
      "Number sig ann/gene groups with same direction of effect 1193\n",
      "Fraction sig ann/gene groups with same direction of effect 0.415\n",
      "There are Blank- MERFISH genes in the significant group False\n",
      "\n",
      "punctate\n",
      "Num genes pre-filt 289\n",
      "Num ontologies pre-filt 42\n",
      "Fraction ann/gene groups with a positive score 0.791\n",
      "Num tot ann/gene groups 6151\n",
      "Sig genes 156\n",
      "Num sig ann/gene groups >=5 med_gene_spots 2196\n",
      "Num tot ann/gene groups >=5 med_gene_spots 2877\n",
      "Frac sig ann/gene groups >=5 med_gene_spots 0.7632950990615224\n",
      "Number sig ann/gene groups with same direction of effect 2154\n",
      "Fraction sig ann/gene groups with same direction of effect 0.749\n",
      "There are Blank- MERFISH genes in the significant group False\n",
      "\n"
     ]
    }
   ],
   "source": [
    "metrics = ['peripheral','central','radial','punctate']\n",
    "for metric in metrics:\n",
    "    print(metric)\n",
    "    f_paths = glob.glob('../../nf_pipeline/outputs/vz_Brain_20221018_direct_5_filt/gene_ont/*{}*.csv'.format(metric))\n",
    "    df = pd.concat((pd.read_csv(p) for p in f_paths))\n",
    "    \n",
    "    print('Num genes pre-filt',df['gene'].nunique())\n",
    "    print('Num ontologies pre-filt',df['annotation'].nunique())\n",
    "    fraction_positive = df['med_score'].gt(0).sum()/len(df)\n",
    "    print('Fraction ann/gene groups with a positive score {:.3f}'.format(\n",
    "        fraction_positive\n",
    "    ))\n",
    "    \n",
    "    print('Num tot ann/gene groups',df.groupby(['annotation','gene']).ngroups)\n",
    "    \n",
    "    \n",
    "    df_all_slices = df.groupby(['annotation','gene']).filter(lambda g: g['experiment'].nunique() >= 3)\n",
    "    filt_df = df_all_slices[df_all_slices['med_gene_spots'].ge(5)]\n",
    "    num_high_expression_groups = filt_df.groupby(['annotation','gene']).ngroups\n",
    "    sig_df = df_all_slices[\n",
    "        df_all_slices['med_gene_spots'].ge(5) &\n",
    "        df_all_slices['bh_p'].le(0.05)\n",
    "    ]\n",
    "    \n",
    "    print('Sig genes',sig_df['gene'].nunique())\n",
    "\n",
    "    num_sig_high_expression_groups = sig_df.groupby(['annotation','gene']).ngroups\n",
    "    \n",
    "    \n",
    "    print('Num sig ann/gene groups >=5 med_gene_spots',num_sig_high_expression_groups)\n",
    "    print('Num tot ann/gene groups >=5 med_gene_spots',num_high_expression_groups)\n",
    "    print('Frac sig ann/gene groups >=5 med_gene_spots',num_sig_high_expression_groups/num_high_expression_groups)\n",
    "    \n",
    "    num_groups_same_effect = sig_df.groupby(['annotation','gene'])['med_score'].apply(lambda v: all(v>0) or all(v<0)).sum()\n",
    "\n",
    "    print('Number sig ann/gene groups with same direction of effect {}'.format(\n",
    "        num_groups_same_effect\n",
    "    ))\n",
    "    \n",
    "    print('Fraction sig ann/gene groups with same direction of effect {:.3f}'.format(\n",
    "        num_groups_same_effect/num_high_expression_groups\n",
    "    ))\n",
    "    \n",
    "    print('There are Blank- MERFISH genes in the significant group',sig_df['gene'].str.contains('Blank-').any())\n",
    "    print('')\n",
    "\n"
   ]
  },
  {
   "cell_type": "code",
   "execution_count": 12,
   "id": "377bae48",
   "metadata": {},
   "outputs": [
    {
     "data": {
      "text/plain": [
       "0.7632950990615224"
      ]
     },
     "execution_count": 12,
     "metadata": {},
     "output_type": "execute_result"
    }
   ],
   "source": [
    "2196/2877"
   ]
  },
  {
   "cell_type": "code",
   "execution_count": null,
   "id": "67e62a82",
   "metadata": {},
   "outputs": [],
   "source": []
  }
 ],
 "metadata": {
  "kernelspec": {
   "display_name": "Python 3 (ipykernel)",
   "language": "python",
   "name": "python3"
  },
  "language_info": {
   "codemirror_mode": {
    "name": "ipython",
    "version": 3
   },
   "file_extension": ".py",
   "mimetype": "text/x-python",
   "name": "python",
   "nbconvert_exporter": "python",
   "pygments_lexer": "ipython3",
   "version": "3.9.0"
  }
 },
 "nbformat": 4,
 "nbformat_minor": 5
}
