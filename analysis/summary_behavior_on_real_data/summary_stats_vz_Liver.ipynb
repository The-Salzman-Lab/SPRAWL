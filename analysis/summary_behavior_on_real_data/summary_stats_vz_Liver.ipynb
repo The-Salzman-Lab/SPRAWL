{
 "cells": [
  {
   "cell_type": "code",
   "execution_count": 1,
   "id": "6fb09359",
   "metadata": {},
   "outputs": [],
   "source": [
    "import pandas as pd\n",
    "import numpy as np\n",
    "import glob\n",
    "import os"
   ]
  },
  {
   "cell_type": "code",
   "execution_count": 2,
   "id": "7ee51861",
   "metadata": {},
   "outputs": [
    {
     "name": "stdout",
     "output_type": "stream",
     "text": [
      "../../nf_pipeline/outputs/vz_Liver_20220601_direct/gene_ont/vz_Liver_mouse1_central_gene_ont.csv\n",
      "385 genes\n",
      "53 onts\n",
      "../../nf_pipeline/outputs/vz_Liver_20220601_direct/gene_ont/vz_Liver_mouse1_peripheral_gene_ont.csv\n",
      "385 genes\n",
      "53 onts\n",
      "../../nf_pipeline/outputs/vz_Liver_20220601_direct/gene_ont/vz_Liver_mouse1_punctate_gene_ont.csv\n",
      "385 genes\n",
      "53 onts\n",
      "../../nf_pipeline/outputs/vz_Liver_20220601_direct/gene_ont/vz_Liver_mouse1_radial_gene_ont.csv\n",
      "384 genes\n",
      "53 onts\n",
      "../../nf_pipeline/outputs/vz_Liver_20220601_direct/gene_ont/vz_Liver_mouse2_central_gene_ont.csv\n",
      "385 genes\n",
      "54 onts\n",
      "../../nf_pipeline/outputs/vz_Liver_20220601_direct/gene_ont/vz_Liver_mouse2_peripheral_gene_ont.csv\n",
      "385 genes\n",
      "54 onts\n",
      "../../nf_pipeline/outputs/vz_Liver_20220601_direct/gene_ont/vz_Liver_mouse2_punctate_gene_ont.csv\n",
      "385 genes\n",
      "54 onts\n",
      "../../nf_pipeline/outputs/vz_Liver_20220601_direct/gene_ont/vz_Liver_mouse2_radial_gene_ont.csv\n",
      "385 genes\n",
      "53 onts\n"
     ]
    }
   ],
   "source": [
    "#Counting how many genes/onts are in each file\n",
    "for f_path in sorted(glob.glob('../../nf_pipeline/outputs/vz_Liver_20220601_direct/gene_ont/*.csv')):\n",
    "    df = pd.read_csv(f_path)\n",
    "    print(f_path)\n",
    "    print(df['gene'].nunique(),'genes')\n",
    "    print(df['annotation'].nunique(),'onts')\n",
    "    "
   ]
  },
  {
   "cell_type": "code",
   "execution_count": 3,
   "id": "fbece037",
   "metadata": {},
   "outputs": [
    {
     "name": "stdout",
     "output_type": "stream",
     "text": [
      "peripheral\n",
      "Num sig ann/gene groups >=5 med_gene_spots 1399\n",
      "Num tot ann/gene groups >=5 med_gene_spots 1642\n",
      "Frac sig ann/gene groups >=5 med_gene_spots 0.8520097442143727\n",
      "Num sig genes 112\n",
      "Num sig ontologies 52\n",
      "Num sig ann/gene groups 1399\n",
      "Fraction sig ann/gene groups with a positive score 0.621\n",
      "Number sig ann/gene groups with same direction of effect 1296\n",
      "Fraction sig ann/gene groups with same direction of effect 0.926\n",
      "There are Blank- MERFISH genes in the significant group False\n",
      "\n",
      "central\n",
      "Num sig ann/gene groups >=5 med_gene_spots 1398\n",
      "Num tot ann/gene groups >=5 med_gene_spots 1642\n",
      "Frac sig ann/gene groups >=5 med_gene_spots 0.8514007308160779\n",
      "Num sig genes 112\n",
      "Num sig ontologies 52\n",
      "Num sig ann/gene groups 1398\n",
      "Fraction sig ann/gene groups with a positive score 0.370\n",
      "Number sig ann/gene groups with same direction of effect 1301\n",
      "Fraction sig ann/gene groups with same direction of effect 0.931\n",
      "There are Blank- MERFISH genes in the significant group False\n",
      "\n",
      "radial\n",
      "Num sig ann/gene groups >=5 med_gene_spots 1025\n",
      "Num tot ann/gene groups >=5 med_gene_spots 1993\n",
      "Frac sig ann/gene groups >=5 med_gene_spots 0.5143000501756146\n",
      "Num sig genes 118\n",
      "Num sig ontologies 49\n",
      "Num sig ann/gene groups 1025\n",
      "Fraction sig ann/gene groups with a positive score 0.996\n",
      "Number sig ann/gene groups with same direction of effect 1024\n",
      "Fraction sig ann/gene groups with same direction of effect 0.999\n",
      "There are Blank- MERFISH genes in the significant group False\n",
      "\n",
      "punctate\n",
      "Num sig ann/gene groups >=5 med_gene_spots 1543\n",
      "Num tot ann/gene groups >=5 med_gene_spots 1993\n",
      "Frac sig ann/gene groups >=5 med_gene_spots 0.7742097340692423\n",
      "Num sig genes 134\n",
      "Num sig ontologies 52\n",
      "Num sig ann/gene groups 1543\n",
      "Fraction sig ann/gene groups with a positive score 0.565\n",
      "Number sig ann/gene groups with same direction of effect 1512\n",
      "Fraction sig ann/gene groups with same direction of effect 0.980\n",
      "There are Blank- MERFISH genes in the significant group False\n",
      "\n"
     ]
    }
   ],
   "source": [
    "metrics = ['peripheral','central','radial','punctate']\n",
    "for metric in metrics:\n",
    "    print(metric)\n",
    "    f_paths = glob.glob('../../nf_pipeline/outputs/vz_Liver_20220601_direct/gene_ont/*{}*.csv'.format(metric))\n",
    "    df = pd.concat((pd.read_csv(p) for p in f_paths))\n",
    "    \n",
    "\n",
    "    \n",
    "    df_all_slices = df.groupby(['annotation','gene']).filter(lambda g: g['experiment'].nunique() >= 2)\n",
    "    filt_df = df_all_slices[df_all_slices['med_gene_spots'].ge(5)]\n",
    "    \n",
    "    sig_df = filt_df[\n",
    "        filt_df['bh_p'].le(0.05)\n",
    "    ]\n",
    "\n",
    "    num_high_expression_groups = filt_df.groupby(['annotation','gene']).ngroups\n",
    "    num_sig_high_expression_groups = sig_df.groupby(['annotation','gene']).ngroups\n",
    "    \n",
    "    \n",
    "    print('Num sig ann/gene groups >=5 med_gene_spots',num_sig_high_expression_groups)\n",
    "    print('Num tot ann/gene groups >=5 med_gene_spots',num_high_expression_groups)\n",
    "    print('Frac sig ann/gene groups >=5 med_gene_spots',num_sig_high_expression_groups/num_high_expression_groups)\n",
    "    \n",
    "    print('Num sig genes',sig_df['gene'].nunique())\n",
    "    print('Num sig ontologies',sig_df['annotation'].nunique())\n",
    "    \n",
    "    num_groups = sig_df.groupby(['annotation','gene']).ngroups\n",
    "    print('Num sig ann/gene groups',num_groups)\n",
    "    \n",
    "    fraction_positive = sig_df['med_score'].gt(0).sum()/len(sig_df)\n",
    "    print('Fraction sig ann/gene groups with a positive score {:.3f}'.format(\n",
    "        fraction_positive\n",
    "    ))\n",
    "    \n",
    "    num_groups_same_effect = sig_df.groupby(['annotation','gene'])['med_score'].apply(lambda v: all(v>0) or all(v<0)).sum()\n",
    "\n",
    "    print('Number sig ann/gene groups with same direction of effect {}'.format(\n",
    "        num_groups_same_effect\n",
    "    ))\n",
    "    \n",
    "    print('Fraction sig ann/gene groups with same direction of effect {:.3f}'.format(\n",
    "        num_groups_same_effect/num_groups\n",
    "    ))\n",
    "    \n",
    "    print('There are Blank- MERFISH genes in the significant group',sig_df['gene'].str.contains('Blank-').any())\n",
    "    print('')\n"
   ]
  },
  {
   "cell_type": "code",
   "execution_count": 6,
   "id": "8b391827",
   "metadata": {},
   "outputs": [
    {
     "data": {
      "text/plain": [
       "0.34805194805194806"
      ]
     },
     "execution_count": 6,
     "metadata": {},
     "output_type": "execute_result"
    }
   ],
   "source": [
    "134/385"
   ]
  },
  {
   "cell_type": "code",
   "execution_count": null,
   "id": "23e9e5f2",
   "metadata": {},
   "outputs": [],
   "source": []
  },
  {
   "cell_type": "code",
   "execution_count": null,
   "id": "67e62a82",
   "metadata": {},
   "outputs": [],
   "source": []
  }
 ],
 "metadata": {
  "kernelspec": {
   "display_name": "Python 3 (ipykernel)",
   "language": "python",
   "name": "python3"
  },
  "language_info": {
   "codemirror_mode": {
    "name": "ipython",
    "version": 3
   },
   "file_extension": ".py",
   "mimetype": "text/x-python",
   "name": "python",
   "nbconvert_exporter": "python",
   "pygments_lexer": "ipython3",
   "version": "3.9.0"
  }
 },
 "nbformat": 4,
 "nbformat_minor": 5
}
