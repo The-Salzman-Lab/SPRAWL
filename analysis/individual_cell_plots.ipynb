{
 "cells": [
  {
   "cell_type": "code",
   "execution_count": 1,
   "metadata": {
    "collapsed": true
   },
   "outputs": [],
   "source": [
    "import pandas as pd\n",
    "import numpy as np\n",
    "import sys\n",
    "\n",
    "import matplotlib.pyplot as plt\n",
    "\n",
    "sys.path.append('../src')\n",
    "import SRRS\n",
    "from SRRS import plotting"
   ]
  },
  {
   "cell_type": "markdown",
   "metadata": {},
   "source": [
    "### Plotting random cells for Timp3 from either L6_IT or SMC to show peripheral differences"
   ]
  },
  {
   "cell_type": "code",
   "execution_count": 7,
   "metadata": {
    "scrolled": true
   },
   "outputs": [
    {
     "data": {
      "text/html": [
       "<div>\n",
       "<style scoped>\n",
       "    .dataframe tbody tr th:only-of-type {\n",
       "        vertical-align: middle;\n",
       "    }\n",
       "\n",
       "    .dataframe tbody tr th {\n",
       "        vertical-align: top;\n",
       "    }\n",
       "\n",
       "    .dataframe thead th {\n",
       "        text-align: right;\n",
       "    }\n",
       "</style>\n",
       "<table border=\"1\" class=\"dataframe\">\n",
       "  <thead>\n",
       "    <tr style=\"text-align: right;\">\n",
       "      <th></th>\n",
       "      <th>metric</th>\n",
       "      <th>cell_id</th>\n",
       "      <th>num_spots</th>\n",
       "      <th>gene</th>\n",
       "      <th>num_gene_spots</th>\n",
       "      <th>median_rank</th>\n",
       "      <th>score</th>\n",
       "      <th>variance</th>\n",
       "      <th>mouse</th>\n",
       "      <th>sample</th>\n",
       "      <th>replicate</th>\n",
       "      <th>sample_id</th>\n",
       "      <th>ontology</th>\n",
       "      <th>mouse_sample</th>\n",
       "    </tr>\n",
       "  </thead>\n",
       "  <tbody>\n",
       "    <tr>\n",
       "      <th>11066</th>\n",
       "      <td>peripheral</td>\n",
       "      <td>111224926392630212160278934965632123769</td>\n",
       "      <td>1175</td>\n",
       "      <td>Timp3</td>\n",
       "      <td>16</td>\n",
       "      <td>731.5</td>\n",
       "      <td>-0.244463</td>\n",
       "      <td>0.051707</td>\n",
       "      <td>2</td>\n",
       "      <td>4</td>\n",
       "      <td>1</td>\n",
       "      <td>m2s4</td>\n",
       "      <td>Sst</td>\n",
       "      <td>mouse2sample4.hdf5</td>\n",
       "    </tr>\n",
       "    <tr>\n",
       "      <th>12505</th>\n",
       "      <td>peripheral</td>\n",
       "      <td>112648164421818832458832345016894387743</td>\n",
       "      <td>1017</td>\n",
       "      <td>Timp3</td>\n",
       "      <td>6</td>\n",
       "      <td>349.5</td>\n",
       "      <td>0.313976</td>\n",
       "      <td>0.106825</td>\n",
       "      <td>2</td>\n",
       "      <td>4</td>\n",
       "      <td>1</td>\n",
       "      <td>m2s4</td>\n",
       "      <td>Sst</td>\n",
       "      <td>mouse2sample4.hdf5</td>\n",
       "    </tr>\n",
       "    <tr>\n",
       "      <th>23358</th>\n",
       "      <td>peripheral</td>\n",
       "      <td>123723356376229754610115939505968724825</td>\n",
       "      <td>1192</td>\n",
       "      <td>Timp3</td>\n",
       "      <td>10</td>\n",
       "      <td>657.5</td>\n",
       "      <td>-0.102435</td>\n",
       "      <td>0.075311</td>\n",
       "      <td>2</td>\n",
       "      <td>4</td>\n",
       "      <td>1</td>\n",
       "      <td>m2s4</td>\n",
       "      <td>Sst</td>\n",
       "      <td>mouse2sample4.hdf5</td>\n",
       "    </tr>\n",
       "    <tr>\n",
       "      <th>34369</th>\n",
       "      <td>peripheral</td>\n",
       "      <td>136717447085671937120241694290555474406</td>\n",
       "      <td>545</td>\n",
       "      <td>Timp3</td>\n",
       "      <td>9</td>\n",
       "      <td>354.0</td>\n",
       "      <td>-0.297794</td>\n",
       "      <td>0.089902</td>\n",
       "      <td>2</td>\n",
       "      <td>4</td>\n",
       "      <td>1</td>\n",
       "      <td>m2s4</td>\n",
       "      <td>Sst</td>\n",
       "      <td>mouse2sample4.hdf5</td>\n",
       "    </tr>\n",
       "    <tr>\n",
       "      <th>54081</th>\n",
       "      <td>peripheral</td>\n",
       "      <td>156531593043134580079198601385059303486</td>\n",
       "      <td>1014</td>\n",
       "      <td>Timp3</td>\n",
       "      <td>14</td>\n",
       "      <td>469.0</td>\n",
       "      <td>0.076012</td>\n",
       "      <td>0.057698</td>\n",
       "      <td>2</td>\n",
       "      <td>4</td>\n",
       "      <td>1</td>\n",
       "      <td>m2s4</td>\n",
       "      <td>Sst</td>\n",
       "      <td>mouse2sample4.hdf5</td>\n",
       "    </tr>\n",
       "    <tr>\n",
       "      <th>...</th>\n",
       "      <td>...</td>\n",
       "      <td>...</td>\n",
       "      <td>...</td>\n",
       "      <td>...</td>\n",
       "      <td>...</td>\n",
       "      <td>...</td>\n",
       "      <td>...</td>\n",
       "      <td>...</td>\n",
       "      <td>...</td>\n",
       "      <td>...</td>\n",
       "      <td>...</td>\n",
       "      <td>...</td>\n",
       "      <td>...</td>\n",
       "      <td>...</td>\n",
       "    </tr>\n",
       "    <tr>\n",
       "      <th>3465553</th>\n",
       "      <td>peripheral</td>\n",
       "      <td>336267492658158463781688736437660452228</td>\n",
       "      <td>1074</td>\n",
       "      <td>Timp3</td>\n",
       "      <td>10</td>\n",
       "      <td>303.5</td>\n",
       "      <td>0.436160</td>\n",
       "      <td>0.075262</td>\n",
       "      <td>1</td>\n",
       "      <td>5</td>\n",
       "      <td>1</td>\n",
       "      <td>m1s5</td>\n",
       "      <td>Sst</td>\n",
       "      <td>mouse1sample5.hdf5</td>\n",
       "    </tr>\n",
       "    <tr>\n",
       "      <th>3504180</th>\n",
       "      <td>peripheral</td>\n",
       "      <td>55824625741938588634687216110989015160</td>\n",
       "      <td>1129</td>\n",
       "      <td>Timp3</td>\n",
       "      <td>24</td>\n",
       "      <td>592.5</td>\n",
       "      <td>-0.048759</td>\n",
       "      <td>0.036234</td>\n",
       "      <td>1</td>\n",
       "      <td>5</td>\n",
       "      <td>1</td>\n",
       "      <td>m1s5</td>\n",
       "      <td>Sst</td>\n",
       "      <td>mouse1sample5.hdf5</td>\n",
       "    </tr>\n",
       "    <tr>\n",
       "      <th>3510519</th>\n",
       "      <td>peripheral</td>\n",
       "      <td>6043178046984074953134207573372326917</td>\n",
       "      <td>617</td>\n",
       "      <td>Timp3</td>\n",
       "      <td>15</td>\n",
       "      <td>176.0</td>\n",
       "      <td>0.431818</td>\n",
       "      <td>0.057673</td>\n",
       "      <td>1</td>\n",
       "      <td>5</td>\n",
       "      <td>1</td>\n",
       "      <td>m1s5</td>\n",
       "      <td>Sst</td>\n",
       "      <td>mouse1sample5.hdf5</td>\n",
       "    </tr>\n",
       "    <tr>\n",
       "      <th>3512149</th>\n",
       "      <td>peripheral</td>\n",
       "      <td>61663256578270467796366138864714040808</td>\n",
       "      <td>938</td>\n",
       "      <td>Timp3</td>\n",
       "      <td>10</td>\n",
       "      <td>353.5</td>\n",
       "      <td>0.247599</td>\n",
       "      <td>0.075190</td>\n",
       "      <td>1</td>\n",
       "      <td>5</td>\n",
       "      <td>1</td>\n",
       "      <td>m1s5</td>\n",
       "      <td>Sst</td>\n",
       "      <td>mouse1sample5.hdf5</td>\n",
       "    </tr>\n",
       "    <tr>\n",
       "      <th>3518925</th>\n",
       "      <td>peripheral</td>\n",
       "      <td>67162672766033638423365508669814880063</td>\n",
       "      <td>825</td>\n",
       "      <td>Timp3</td>\n",
       "      <td>15</td>\n",
       "      <td>542.0</td>\n",
       "      <td>-0.313107</td>\n",
       "      <td>0.057964</td>\n",
       "      <td>1</td>\n",
       "      <td>5</td>\n",
       "      <td>1</td>\n",
       "      <td>m1s5</td>\n",
       "      <td>Sst</td>\n",
       "      <td>mouse1sample5.hdf5</td>\n",
       "    </tr>\n",
       "  </tbody>\n",
       "</table>\n",
       "<p>416 rows × 14 columns</p>\n",
       "</div>"
      ],
      "text/plain": [
       "             metric                                  cell_id  num_spots  \\\n",
       "11066    peripheral  111224926392630212160278934965632123769       1175   \n",
       "12505    peripheral  112648164421818832458832345016894387743       1017   \n",
       "23358    peripheral  123723356376229754610115939505968724825       1192   \n",
       "34369    peripheral  136717447085671937120241694290555474406        545   \n",
       "54081    peripheral  156531593043134580079198601385059303486       1014   \n",
       "...             ...                                      ...        ...   \n",
       "3465553  peripheral  336267492658158463781688736437660452228       1074   \n",
       "3504180  peripheral   55824625741938588634687216110989015160       1129   \n",
       "3510519  peripheral    6043178046984074953134207573372326917        617   \n",
       "3512149  peripheral   61663256578270467796366138864714040808        938   \n",
       "3518925  peripheral   67162672766033638423365508669814880063        825   \n",
       "\n",
       "          gene  num_gene_spots  median_rank     score  variance  mouse  \\\n",
       "11066    Timp3              16        731.5 -0.244463  0.051707      2   \n",
       "12505    Timp3               6        349.5  0.313976  0.106825      2   \n",
       "23358    Timp3              10        657.5 -0.102435  0.075311      2   \n",
       "34369    Timp3               9        354.0 -0.297794  0.089902      2   \n",
       "54081    Timp3              14        469.0  0.076012  0.057698      2   \n",
       "...        ...             ...          ...       ...       ...    ...   \n",
       "3465553  Timp3              10        303.5  0.436160  0.075262      1   \n",
       "3504180  Timp3              24        592.5 -0.048759  0.036234      1   \n",
       "3510519  Timp3              15        176.0  0.431818  0.057673      1   \n",
       "3512149  Timp3              10        353.5  0.247599  0.075190      1   \n",
       "3518925  Timp3              15        542.0 -0.313107  0.057964      1   \n",
       "\n",
       "         sample  replicate sample_id ontology        mouse_sample  \n",
       "11066         4          1      m2s4      Sst  mouse2sample4.hdf5  \n",
       "12505         4          1      m2s4      Sst  mouse2sample4.hdf5  \n",
       "23358         4          1      m2s4      Sst  mouse2sample4.hdf5  \n",
       "34369         4          1      m2s4      Sst  mouse2sample4.hdf5  \n",
       "54081         4          1      m2s4      Sst  mouse2sample4.hdf5  \n",
       "...         ...        ...       ...      ...                 ...  \n",
       "3465553       5          1      m1s5      Sst  mouse1sample5.hdf5  \n",
       "3504180       5          1      m1s5      Sst  mouse1sample5.hdf5  \n",
       "3510519       5          1      m1s5      Sst  mouse1sample5.hdf5  \n",
       "3512149       5          1      m1s5      Sst  mouse1sample5.hdf5  \n",
       "3518925       5          1      m1s5      Sst  mouse1sample5.hdf5  \n",
       "\n",
       "[416 rows x 14 columns]"
      ]
     },
     "execution_count": 7,
     "metadata": {},
     "output_type": "execute_result"
    }
   ],
   "source": [
    "#first find the cell_ids that I'm interested in from the gene/cell output table\n",
    "gene_cell_df = pd.read_csv('/oak/stanford/groups/horence/rob/isoform_localizations/SRRS/outputs/gene_cell/MOp_peripheral_ReadZs_gene_ontology.csv')\n",
    "\n",
    "gene_cell_df = gene_cell_df[\n",
    "    gene_cell_df['ontology'].isin(['L6 IT','Sst']) &\n",
    "    gene_cell_df['gene'].eq('Timp3') &\n",
    "    gene_cell_df['num_spots'].ge(500) #want visually \"dense\" cells for plotting\n",
    "]\n",
    "gene_cell_df['mouse_sample'] = 'mouse'+gene_cell_df['mouse'].astype(str)+'sample'+gene_cell_df['sample'].astype(str)+'.hdf5'\n",
    "#gene_cell_df = gene_cell_df[['cell_id','ontology','score','variance','mouse_sample']]\n",
    "gene_cell_df"
   ]
  },
  {
   "cell_type": "code",
   "execution_count": 8,
   "metadata": {},
   "outputs": [
    {
     "data": {
      "text/plain": [
       "Sst      363\n",
       "L6 IT     53\n",
       "Name: ontology, dtype: int64"
      ]
     },
     "execution_count": 8,
     "metadata": {},
     "output_type": "execute_result"
    }
   ],
   "source": [
    "gene_cell_df['ontology'].value_counts()"
   ]
  },
  {
   "cell_type": "code",
   "execution_count": 9,
   "metadata": {},
   "outputs": [
    {
     "data": {
      "text/plain": [
       "ontology\n",
       "L6 IT    0.428178\n",
       "Sst      0.050723\n",
       "Name: score, dtype: float64"
      ]
     },
     "execution_count": 9,
     "metadata": {},
     "output_type": "execute_result"
    }
   ],
   "source": [
    "gene_cell_df.groupby('ontology')['score'].mean()"
   ]
  },
  {
   "cell_type": "code",
   "execution_count": 10,
   "metadata": {
    "scrolled": false
   },
   "outputs": [
    {
     "name": "stdout",
     "output_type": "stream",
     "text": [
      "L6 IT cell has Timp3 peripheral score 0.51\n",
      "L6 IT cell has Timp3 peripheral score 0.07\n",
      "L6 IT cell has Timp3 peripheral score 0.31\n",
      "L6 IT cell has Timp3 peripheral score -0.26\n",
      "L6 IT cell has Timp3 peripheral score 0.28\n"
     ]
    }
   ],
   "source": [
    "#Plot random L6 IT cells\n",
    "n_plots = 5\n",
    "np.random.seed(1) #for reproducibility\n",
    "\n",
    "stem = '/oak/stanford/groups/horence/rob/isoform_localizations/SRRS/inputs/'\n",
    "for i,r in gene_cell_df[gene_cell_df['ontology'].eq('L6 IT')].sample(n_plots).iterrows():\n",
    "    sample = SRRS.HDF5(stem+r['mouse_sample'])\n",
    "    cell = sample.get_cells_by_id(r['cell_id'])[0]\n",
    "    title = '{} cell has Timp3 peripheral score {:.2f}'.format(r['ontology'],r['score'])\n",
    "    print(title)\n",
    "    \n",
    "    plotting.plot_cell_zslices(cell,gene_colors={'Timp3':'red'})\n",
    "    plt.suptitle(title)\n",
    "    fmts = [\n",
    "        r['ontology'].replace('/','').replace(' ','_'),\n",
    "        r['cell_id'],\n",
    "        'timp3',\n",
    "        '{:.2f}'.format(r['score']),\n",
    "    ]\n",
    "    plt.savefig('individual_cell_svgs/{}_{}_{}_{}_zslices.svg'.format(*fmts))\n",
    "    plt.close()\n",
    "    \n",
    "    plotting.plot_cell_3D(cell,gene_colors={'Timp3':'red'})\n",
    "    plt.title(title)\n",
    "    plt.savefig('individual_cell_svgs/{}_{}_{}_{}_3d.svg'.format(*fmts))\n",
    "    plt.close()\n"
   ]
  },
  {
   "cell_type": "code",
   "execution_count": 11,
   "metadata": {
    "scrolled": false
   },
   "outputs": [
    {
     "name": "stdout",
     "output_type": "stream",
     "text": [
      "Sst cell has Timp3 peripheral score -0.04\n",
      "Sst cell has Timp3 peripheral score 0.30\n",
      "Sst cell has Timp3 peripheral score -0.12\n",
      "Sst cell has Timp3 peripheral score -0.10\n",
      "Sst cell has Timp3 peripheral score 0.89\n"
     ]
    }
   ],
   "source": [
    "#Plot random Sst IT cells\n",
    "n_plots = 5\n",
    "np.random.seed(1) #for reproducibility\n",
    "\n",
    "stem = '/oak/stanford/groups/horence/rob/isoform_localizations/SRRS/inputs/'\n",
    "for i,r in gene_cell_df[gene_cell_df['ontology'].eq('Sst')].sample(n_plots).iterrows():\n",
    "    sample = SRRS.HDF5(stem+r['mouse_sample'])\n",
    "    cell = sample.get_cells_by_id(r['cell_id'])[0]\n",
    "    title = '{} cell has Timp3 peripheral score {:.2f}'.format(r['ontology'],r['score'])\n",
    "    print(title)\n",
    "    \n",
    "    plotting.plot_cell_zslices(cell,gene_colors={'Timp3':'red'})\n",
    "    plt.suptitle(title)\n",
    "    fmts = [\n",
    "        r['ontology'].replace('/','').replace(' ','_'),\n",
    "        r['cell_id'],\n",
    "        'timp3',\n",
    "        '{:.2f}'.format(r['score']),\n",
    "    ]\n",
    "    plt.savefig('individual_cell_svgs/{}_{}_{}_{}_zslices.svg'.format(*fmts))\n",
    "    plt.close()\n",
    "    \n",
    "    plotting.plot_cell_3D(cell,gene_colors={'Timp3':'red'})\n",
    "    plt.title(title)\n",
    "    plt.savefig('individual_cell_svgs/{}_{}_{}_{}_3d.svg'.format(*fmts))\n",
    "    plt.close()\n"
   ]
  },
  {
   "cell_type": "code",
   "execution_count": 39,
   "metadata": {
    "scrolled": false
   },
   "outputs": [
    {
     "name": "stdout",
     "output_type": "stream",
     "text": [
      "Endo cell has Timp3 peripheral score 0.14\n",
      "Endo cell has Timp3 peripheral score 0.44\n",
      "Endo cell has Timp3 peripheral score 0.16\n",
      "Endo cell has Timp3 peripheral score -0.15\n",
      "Endo cell has Timp3 peripheral score -0.02\n"
     ]
    }
   ],
   "source": [
    "import importlib\n",
    "importlib.reload(plotting)\n",
    "\n",
    "#Plot random Endo cells\n",
    "n_plots = 5\n",
    "np.random.seed(1) #for reproducibility\n",
    "\n",
    "plt.close('all')\n",
    "\n",
    "stem = '/oak/stanford/groups/horence/rob/isoform_localizations/SRRS/inputs/'\n",
    "for i,r in gene_cell_df[gene_cell_df['ontology'].eq('Endo')].sample(n_plots).iterrows():\n",
    "    sample = SRRS.HDF5(stem+r['mouse_sample'])\n",
    "    cell = sample.get_cells_by_id(r['cell_id'])[0]\n",
    "    title = '{} cell has Timp3 peripheral score {:.2f}'.format(r['ontology'],r['score'])\n",
    "    print(title)\n",
    "    \n",
    "    plotting.plot_cell_zslices(cell,gene_colors={'Timp3':'red'})\n",
    "    plt.suptitle(title)\n",
    "    fmts = [\n",
    "        r['ontology'].replace('/','').replace(' ','_'),\n",
    "        r['cell_id'],\n",
    "        'timp3',\n",
    "        '{:.2f}'.format(r['score']),\n",
    "    ]\n",
    "    plt.savefig('individual_cell_svgs/{}_{}_{}_{}_zslices.svg'.format(*fmts))\n",
    "    plt.close()\n",
    "    \n",
    "    plotting.plot_cell_3D(cell,gene_colors={'Timp3':'red'})\n",
    "    plt.title(title)\n",
    "    plt.savefig('individual_cell_svgs/{}_{}_{}_{}_3d.svg'.format(*fmts))\n",
    "    plt.close()\n"
   ]
  },
  {
   "cell_type": "code",
   "execution_count": 46,
   "metadata": {},
   "outputs": [
    {
     "data": {
      "text/plain": [
       "'/oak/stanford/groups/horence/rob/isoform_localizations/SRRS/inputs/mouse1sample1.hdf5'"
      ]
     },
     "execution_count": 46,
     "metadata": {},
     "output_type": "execute_result"
    }
   ],
   "source": []
  },
  {
   "cell_type": "code",
   "execution_count": 6,
   "metadata": {
    "collapsed": true
   },
   "outputs": [],
   "source": [
    "sample.get_cells_by_id('99518086998411234552327278589933473106')"
   ]
  },
  {
   "cell_type": "code",
   "execution_count": null,
   "metadata": {
    "collapsed": true
   },
   "outputs": [],
   "source": [
    "fig = plotting.plot_cell_3D(cells[0])\n",
    "plt.show()\n",
    "plt.close()"
   ]
  }
 ],
 "metadata": {
  "kernelspec": {
   "display_name": "Python 3",
   "language": "python",
   "name": "python3"
  },
  "language_info": {
   "codemirror_mode": {
    "name": "ipython",
    "version": 3
   },
   "file_extension": ".py",
   "mimetype": "text/x-python",
   "name": "python",
   "nbconvert_exporter": "python",
   "pygments_lexer": "ipython3",
   "version": "3.6.1"
  }
 },
 "nbformat": 4,
 "nbformat_minor": 2
}
