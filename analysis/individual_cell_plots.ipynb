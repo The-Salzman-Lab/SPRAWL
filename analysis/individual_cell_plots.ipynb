{
 "cells": [
  {
   "cell_type": "code",
   "execution_count": 18,
   "metadata": {},
   "outputs": [],
   "source": [
    "import pandas as pd\n",
    "import numpy as np\n",
    "import sys\n",
    "\n",
    "import matplotlib.pyplot as plt\n",
    "\n",
    "sys.path.append('../src')\n",
    "import SRRS\n",
    "from SRRS import plotting"
   ]
  },
  {
   "cell_type": "markdown",
   "metadata": {},
   "source": [
    "### Plotting random cells for Timp3 from either L6_IT or SMC to show peripheral differences"
   ]
  },
  {
   "cell_type": "code",
   "execution_count": 4,
   "metadata": {},
   "outputs": [
    {
     "data": {
      "text/html": [
       "<div>\n",
       "<style scoped>\n",
       "    .dataframe tbody tr th:only-of-type {\n",
       "        vertical-align: middle;\n",
       "    }\n",
       "\n",
       "    .dataframe tbody tr th {\n",
       "        vertical-align: top;\n",
       "    }\n",
       "\n",
       "    .dataframe thead th {\n",
       "        text-align: right;\n",
       "    }\n",
       "</style>\n",
       "<table border=\"1\" class=\"dataframe\">\n",
       "  <thead>\n",
       "    <tr style=\"text-align: right;\">\n",
       "      <th></th>\n",
       "      <th>metric</th>\n",
       "      <th>cell_id</th>\n",
       "      <th>num_spots</th>\n",
       "      <th>gene</th>\n",
       "      <th>num_gene_spots</th>\n",
       "      <th>median_rank</th>\n",
       "      <th>score</th>\n",
       "      <th>variance</th>\n",
       "      <th>mouse</th>\n",
       "      <th>sample</th>\n",
       "      <th>replicate</th>\n",
       "      <th>sample_id</th>\n",
       "      <th>ontology</th>\n",
       "      <th>mouse_sample</th>\n",
       "    </tr>\n",
       "  </thead>\n",
       "  <tbody>\n",
       "    <tr>\n",
       "      <th>1605</th>\n",
       "      <td>peripheral</td>\n",
       "      <td>101691990185643770737741855871352476842</td>\n",
       "      <td>523</td>\n",
       "      <td>Timp3</td>\n",
       "      <td>114</td>\n",
       "      <td>268.5</td>\n",
       "      <td>-0.024904</td>\n",
       "      <td>0.006721</td>\n",
       "      <td>2</td>\n",
       "      <td>4</td>\n",
       "      <td>1</td>\n",
       "      <td>m2s4</td>\n",
       "      <td>Endo</td>\n",
       "      <td>mouse2sample4.hdf5</td>\n",
       "    </tr>\n",
       "    <tr>\n",
       "      <th>16390</th>\n",
       "      <td>peripheral</td>\n",
       "      <td>116762346630201810848535635449120451328</td>\n",
       "      <td>540</td>\n",
       "      <td>Timp3</td>\n",
       "      <td>12</td>\n",
       "      <td>334.0</td>\n",
       "      <td>-0.235622</td>\n",
       "      <td>0.064828</td>\n",
       "      <td>2</td>\n",
       "      <td>4</td>\n",
       "      <td>1</td>\n",
       "      <td>m2s4</td>\n",
       "      <td>Astro</td>\n",
       "      <td>mouse2sample4.hdf5</td>\n",
       "    </tr>\n",
       "    <tr>\n",
       "      <th>27689</th>\n",
       "      <td>peripheral</td>\n",
       "      <td>128381636856795264741722839450584141509</td>\n",
       "      <td>689</td>\n",
       "      <td>Timp3</td>\n",
       "      <td>5</td>\n",
       "      <td>441.0</td>\n",
       "      <td>-0.279070</td>\n",
       "      <td>0.142439</td>\n",
       "      <td>2</td>\n",
       "      <td>4</td>\n",
       "      <td>1</td>\n",
       "      <td>m2s4</td>\n",
       "      <td>L2/3 IT</td>\n",
       "      <td>mouse2sample4.hdf5</td>\n",
       "    </tr>\n",
       "    <tr>\n",
       "      <th>42502</th>\n",
       "      <td>peripheral</td>\n",
       "      <td>144992931834904039806005232766529760821</td>\n",
       "      <td>1007</td>\n",
       "      <td>Timp3</td>\n",
       "      <td>5</td>\n",
       "      <td>441.0</td>\n",
       "      <td>0.125249</td>\n",
       "      <td>0.142572</td>\n",
       "      <td>2</td>\n",
       "      <td>4</td>\n",
       "      <td>1</td>\n",
       "      <td>m2s4</td>\n",
       "      <td>L2/3 IT</td>\n",
       "      <td>mouse2sample4.hdf5</td>\n",
       "    </tr>\n",
       "    <tr>\n",
       "      <th>48747</th>\n",
       "      <td>peripheral</td>\n",
       "      <td>151360302808887450029276390034559182769</td>\n",
       "      <td>747</td>\n",
       "      <td>Timp3</td>\n",
       "      <td>6</td>\n",
       "      <td>188.5</td>\n",
       "      <td>0.497319</td>\n",
       "      <td>0.106710</td>\n",
       "      <td>2</td>\n",
       "      <td>4</td>\n",
       "      <td>1</td>\n",
       "      <td>m2s4</td>\n",
       "      <td>L2/3 IT</td>\n",
       "      <td>mouse2sample4.hdf5</td>\n",
       "    </tr>\n",
       "    <tr>\n",
       "      <th>...</th>\n",
       "      <td>...</td>\n",
       "      <td>...</td>\n",
       "      <td>...</td>\n",
       "      <td>...</td>\n",
       "      <td>...</td>\n",
       "      <td>...</td>\n",
       "      <td>...</td>\n",
       "      <td>...</td>\n",
       "      <td>...</td>\n",
       "      <td>...</td>\n",
       "      <td>...</td>\n",
       "      <td>...</td>\n",
       "      <td>...</td>\n",
       "      <td>...</td>\n",
       "    </tr>\n",
       "    <tr>\n",
       "      <th>3097043</th>\n",
       "      <td>peripheral</td>\n",
       "      <td>7440400873133028881815358000299076101</td>\n",
       "      <td>1197</td>\n",
       "      <td>Timp3</td>\n",
       "      <td>6</td>\n",
       "      <td>851.5</td>\n",
       "      <td>-0.422241</td>\n",
       "      <td>0.106873</td>\n",
       "      <td>1</td>\n",
       "      <td>2</td>\n",
       "      <td>1</td>\n",
       "      <td>m1s2</td>\n",
       "      <td>L2/3 IT</td>\n",
       "      <td>mouse1sample2.hdf5</td>\n",
       "    </tr>\n",
       "    <tr>\n",
       "      <th>3099239</th>\n",
       "      <td>peripheral</td>\n",
       "      <td>75768757834683216648439813891787779672</td>\n",
       "      <td>554</td>\n",
       "      <td>Timp3</td>\n",
       "      <td>5</td>\n",
       "      <td>165.0</td>\n",
       "      <td>0.406872</td>\n",
       "      <td>0.142337</td>\n",
       "      <td>1</td>\n",
       "      <td>2</td>\n",
       "      <td>1</td>\n",
       "      <td>m1s2</td>\n",
       "      <td>L2/3 IT</td>\n",
       "      <td>mouse1sample2.hdf5</td>\n",
       "    </tr>\n",
       "    <tr>\n",
       "      <th>3130843</th>\n",
       "      <td>peripheral</td>\n",
       "      <td>97611013617671305044500724879043624949</td>\n",
       "      <td>659</td>\n",
       "      <td>Timp3</td>\n",
       "      <td>5</td>\n",
       "      <td>274.0</td>\n",
       "      <td>0.170213</td>\n",
       "      <td>0.142420</td>\n",
       "      <td>1</td>\n",
       "      <td>2</td>\n",
       "      <td>1</td>\n",
       "      <td>m1s2</td>\n",
       "      <td>L2/3 IT</td>\n",
       "      <td>mouse1sample2.hdf5</td>\n",
       "    </tr>\n",
       "    <tr>\n",
       "      <th>3509140</th>\n",
       "      <td>peripheral</td>\n",
       "      <td>5932971817347421977824132196921941308</td>\n",
       "      <td>510</td>\n",
       "      <td>Timp3</td>\n",
       "      <td>45</td>\n",
       "      <td>221.0</td>\n",
       "      <td>0.135560</td>\n",
       "      <td>0.019514</td>\n",
       "      <td>1</td>\n",
       "      <td>5</td>\n",
       "      <td>1</td>\n",
       "      <td>m1s5</td>\n",
       "      <td>Endo</td>\n",
       "      <td>mouse1sample5.hdf5</td>\n",
       "    </tr>\n",
       "    <tr>\n",
       "      <th>3525018</th>\n",
       "      <td>peripheral</td>\n",
       "      <td>71836548510211814747120242301065121671</td>\n",
       "      <td>573</td>\n",
       "      <td>Timp3</td>\n",
       "      <td>44</td>\n",
       "      <td>291.0</td>\n",
       "      <td>-0.013986</td>\n",
       "      <td>0.019727</td>\n",
       "      <td>1</td>\n",
       "      <td>5</td>\n",
       "      <td>1</td>\n",
       "      <td>m1s5</td>\n",
       "      <td>Astro</td>\n",
       "      <td>mouse1sample5.hdf5</td>\n",
       "    </tr>\n",
       "  </tbody>\n",
       "</table>\n",
       "<p>125 rows × 14 columns</p>\n",
       "</div>"
      ],
      "text/plain": [
       "             metric                                  cell_id  num_spots  \\\n",
       "1605     peripheral  101691990185643770737741855871352476842        523   \n",
       "16390    peripheral  116762346630201810848535635449120451328        540   \n",
       "27689    peripheral  128381636856795264741722839450584141509        689   \n",
       "42502    peripheral  144992931834904039806005232766529760821       1007   \n",
       "48747    peripheral  151360302808887450029276390034559182769        747   \n",
       "...             ...                                      ...        ...   \n",
       "3097043  peripheral    7440400873133028881815358000299076101       1197   \n",
       "3099239  peripheral   75768757834683216648439813891787779672        554   \n",
       "3130843  peripheral   97611013617671305044500724879043624949        659   \n",
       "3509140  peripheral    5932971817347421977824132196921941308        510   \n",
       "3525018  peripheral   71836548510211814747120242301065121671        573   \n",
       "\n",
       "          gene  num_gene_spots  median_rank     score  variance  mouse  \\\n",
       "1605     Timp3             114        268.5 -0.024904  0.006721      2   \n",
       "16390    Timp3              12        334.0 -0.235622  0.064828      2   \n",
       "27689    Timp3               5        441.0 -0.279070  0.142439      2   \n",
       "42502    Timp3               5        441.0  0.125249  0.142572      2   \n",
       "48747    Timp3               6        188.5  0.497319  0.106710      2   \n",
       "...        ...             ...          ...       ...       ...    ...   \n",
       "3097043  Timp3               6        851.5 -0.422241  0.106873      1   \n",
       "3099239  Timp3               5        165.0  0.406872  0.142337      1   \n",
       "3130843  Timp3               5        274.0  0.170213  0.142420      1   \n",
       "3509140  Timp3              45        221.0  0.135560  0.019514      1   \n",
       "3525018  Timp3              44        291.0 -0.013986  0.019727      1   \n",
       "\n",
       "         sample  replicate sample_id ontology        mouse_sample  \n",
       "1605          4          1      m2s4     Endo  mouse2sample4.hdf5  \n",
       "16390         4          1      m2s4    Astro  mouse2sample4.hdf5  \n",
       "27689         4          1      m2s4  L2/3 IT  mouse2sample4.hdf5  \n",
       "42502         4          1      m2s4  L2/3 IT  mouse2sample4.hdf5  \n",
       "48747         4          1      m2s4  L2/3 IT  mouse2sample4.hdf5  \n",
       "...         ...        ...       ...      ...                 ...  \n",
       "3097043       2          1      m1s2  L2/3 IT  mouse1sample2.hdf5  \n",
       "3099239       2          1      m1s2  L2/3 IT  mouse1sample2.hdf5  \n",
       "3130843       2          1      m1s2  L2/3 IT  mouse1sample2.hdf5  \n",
       "3509140       5          1      m1s5     Endo  mouse1sample5.hdf5  \n",
       "3525018       5          1      m1s5    Astro  mouse1sample5.hdf5  \n",
       "\n",
       "[125 rows x 14 columns]"
      ]
     },
     "execution_count": 4,
     "metadata": {},
     "output_type": "execute_result"
    }
   ],
   "source": [
    "#first find the cell_ids that I'm interested in from the gene/cell output table\n",
    "gene_cell_df = pd.read_csv('/oak/stanford/groups/horence/rob/isoform_localizations/SRRS/outputs/gene_cell/MOp_peripheral_ReadZs_gene_ontology.csv')\n",
    "\n",
    "gene_cell_df = gene_cell_df[\n",
    "    gene_cell_df['ontology'].isin(['L2/3 IT','Astro','Endo']) &\n",
    "    gene_cell_df['gene'].eq('Timp3') &\n",
    "    gene_cell_df['num_spots'].ge(500) #want visually \"dense\" cells for plotting\n",
    "]\n",
    "gene_cell_df['mouse_sample'] = 'mouse'+gene_cell_df['mouse'].astype(str)+'sample'+gene_cell_df['sample'].astype(str)+'.hdf5'\n",
    "#gene_cell_df = gene_cell_df[['cell_id','ontology','score','variance','mouse_sample']]\n",
    "gene_cell_df"
   ]
  },
  {
   "cell_type": "code",
   "execution_count": 5,
   "metadata": {},
   "outputs": [
    {
     "data": {
      "text/plain": [
       "L2/3 IT    87\n",
       "Astro      30\n",
       "Endo        8\n",
       "Name: ontology, dtype: int64"
      ]
     },
     "execution_count": 5,
     "metadata": {},
     "output_type": "execute_result"
    }
   ],
   "source": [
    "gene_cell_df['ontology'].value_counts()"
   ]
  },
  {
   "cell_type": "code",
   "execution_count": 6,
   "metadata": {},
   "outputs": [
    {
     "data": {
      "text/plain": [
       "ontology\n",
       "Astro      0.075905\n",
       "Endo       0.091345\n",
       "L2/3 IT    0.347666\n",
       "Name: score, dtype: float64"
      ]
     },
     "execution_count": 6,
     "metadata": {},
     "output_type": "execute_result"
    }
   ],
   "source": [
    "gene_cell_df.groupby('ontology')['score'].mean()"
   ]
  },
  {
   "cell_type": "code",
   "execution_count": null,
   "metadata": {
    "scrolled": false
   },
   "outputs": [
    {
     "name": "stdout",
     "output_type": "stream",
     "text": [
      "Astro cell has Timp3 peripheral score -0.02\n",
      "Astro cell has Timp3 peripheral score 0.30\n",
      "Astro cell has Timp3 peripheral score 0.19\n"
     ]
    }
   ],
   "source": [
    "#Plot random Astro cells\n",
    "n_plots = 5\n",
    "np.random.seed(1) #for reproducibility\n",
    "\n",
    "stem = '/oak/stanford/groups/horence/rob/isoform_localizations/SRRS/inputs/'\n",
    "for i,r in gene_cell_df[gene_cell_df['ontology'].eq('Astro')].sample(n_plots).iterrows():\n",
    "    sample = SRRS.HDF5(stem+r['mouse_sample'])\n",
    "    cell = sample.get_cells_by_id(r['cell_id'])[0]\n",
    "    title = '{} cell has Timp3 peripheral score {:.2f}'.format(r['ontology'],r['score'])\n",
    "    print(title)\n",
    "    \n",
    "    plotting.plot_cell_zslices(cell,gene_colors={'Timp3':'red'})\n",
    "    plt.suptitle(title)\n",
    "    fmts = [\n",
    "        r['ontology'].replace('/','').replace(' ','_'),\n",
    "        r['cell_id'],\n",
    "        'timp3',\n",
    "        '{:.2f}'.format(r['score']),\n",
    "    ]\n",
    "    plt.savefig('individual_cell_svgs/{}_{}_{}_{}_zslices.svg'.format(*fmts))\n",
    "    plt.close()\n",
    "    \n",
    "    plotting.plot_cell_3D(cell,gene_colors={'Timp3':'red'})\n",
    "    plt.title(title)\n",
    "    plt.savefig('individual_cell_svgs/{}_{}_{}_{}_3d.svg'.format(*fmts))\n",
    "    plt.close()\n"
   ]
  },
  {
   "cell_type": "code",
   "execution_count": null,
   "metadata": {
    "scrolled": false
   },
   "outputs": [
    {
     "name": "stdout",
     "output_type": "stream",
     "text": [
      "L2/3 IT cell has Timp3 peripheral score 0.25\n",
      "L2/3 IT cell has Timp3 peripheral score 0.16\n",
      "L2/3 IT cell has Timp3 peripheral score -0.22\n",
      "L2/3 IT cell has Timp3 peripheral score -0.34\n",
      "L2/3 IT cell has Timp3 peripheral score 0.76\n"
     ]
    }
   ],
   "source": [
    "#Plot random L2/3 IT cells\n",
    "n_plots = 5\n",
    "np.random.seed(1) #for reproducibility\n",
    "\n",
    "stem = '/oak/stanford/groups/horence/rob/isoform_localizations/SRRS/inputs/'\n",
    "for i,r in gene_cell_df[gene_cell_df['ontology'].eq('L2/3 IT')].sample(n_plots).iterrows():\n",
    "    sample = SRRS.HDF5(stem+r['mouse_sample'])\n",
    "    cell = sample.get_cells_by_id(r['cell_id'])[0]\n",
    "    title = '{} cell has Timp3 peripheral score {:.2f}'.format(r['ontology'],r['score'])\n",
    "    print(title)\n",
    "    \n",
    "    plotting.plot_cell_zslices(cell,gene_colors={'Timp3':'red'})\n",
    "    plt.suptitle(title)\n",
    "    fmts = [\n",
    "        r['ontology'].replace('/','').replace(' ','_'),\n",
    "        r['cell_id'],\n",
    "        'timp3',\n",
    "        '{:.2f}'.format(r['score']),\n",
    "    ]\n",
    "    plt.savefig('individual_cell_svgs/{}_{}_{}_{}_zslices.svg'.format(*fmts))\n",
    "    plt.close()\n",
    "    \n",
    "    plotting.plot_cell_3D(cell,gene_colors={'Timp3':'red'})\n",
    "    plt.title(title)\n",
    "    plt.savefig('individual_cell_svgs/{}_{}_{}_{}_3d.svg'.format(*fmts))\n",
    "    plt.close()\n"
   ]
  },
  {
   "cell_type": "code",
   "execution_count": 39,
   "metadata": {
    "scrolled": false
   },
   "outputs": [
    {
     "name": "stdout",
     "output_type": "stream",
     "text": [
      "Endo cell has Timp3 peripheral score 0.14\n",
      "Endo cell has Timp3 peripheral score 0.44\n",
      "Endo cell has Timp3 peripheral score 0.16\n",
      "Endo cell has Timp3 peripheral score -0.15\n",
      "Endo cell has Timp3 peripheral score -0.02\n"
     ]
    }
   ],
   "source": [
    "import importlib\n",
    "importlib.reload(plotting)\n",
    "\n",
    "#Plot random Endo cells\n",
    "n_plots = 5\n",
    "np.random.seed(1) #for reproducibility\n",
    "\n",
    "plt.close('all')\n",
    "\n",
    "stem = '/oak/stanford/groups/horence/rob/isoform_localizations/SRRS/inputs/'\n",
    "for i,r in gene_cell_df[gene_cell_df['ontology'].eq('Endo')].sample(n_plots).iterrows():\n",
    "    sample = SRRS.HDF5(stem+r['mouse_sample'])\n",
    "    cell = sample.get_cells_by_id(r['cell_id'])[0]\n",
    "    title = '{} cell has Timp3 peripheral score {:.2f}'.format(r['ontology'],r['score'])\n",
    "    print(title)\n",
    "    \n",
    "    plotting.plot_cell_zslices(cell,gene_colors={'Timp3':'red'})\n",
    "    plt.suptitle(title)\n",
    "    fmts = [\n",
    "        r['ontology'].replace('/','').replace(' ','_'),\n",
    "        r['cell_id'],\n",
    "        'timp3',\n",
    "        '{:.2f}'.format(r['score']),\n",
    "    ]\n",
    "    plt.savefig('individual_cell_svgs/{}_{}_{}_{}_zslices.svg'.format(*fmts))\n",
    "    plt.close()\n",
    "    \n",
    "    plotting.plot_cell_3D(cell,gene_colors={'Timp3':'red'})\n",
    "    plt.title(title)\n",
    "    plt.savefig('individual_cell_svgs/{}_{}_{}_{}_3d.svg'.format(*fmts))\n",
    "    plt.close()\n"
   ]
  },
  {
   "cell_type": "code",
   "execution_count": 46,
   "metadata": {},
   "outputs": [
    {
     "data": {
      "text/plain": [
       "'/oak/stanford/groups/horence/rob/isoform_localizations/SRRS/inputs/mouse1sample1.hdf5'"
      ]
     },
     "execution_count": 46,
     "metadata": {},
     "output_type": "execute_result"
    }
   ],
   "source": []
  },
  {
   "cell_type": "code",
   "execution_count": 6,
   "metadata": {
    "collapsed": true
   },
   "outputs": [],
   "source": [
    "sample.get_cells_by_id('99518086998411234552327278589933473106')"
   ]
  },
  {
   "cell_type": "code",
   "execution_count": null,
   "metadata": {
    "collapsed": true
   },
   "outputs": [],
   "source": [
    "fig = plotting.plot_cell_3D(cells[0])\n",
    "plt.show()\n",
    "plt.close()"
   ]
  }
 ],
 "metadata": {
  "kernelspec": {
   "display_name": "Python 3",
   "language": "python",
   "name": "python3"
  },
  "language_info": {
   "codemirror_mode": {
    "name": "ipython",
    "version": 3
   },
   "file_extension": ".py",
   "mimetype": "text/x-python",
   "name": "python",
   "nbconvert_exporter": "python",
   "pygments_lexer": "ipython3",
   "version": "3.6.1"
  }
 },
 "nbformat": 4,
 "nbformat_minor": 2
}
