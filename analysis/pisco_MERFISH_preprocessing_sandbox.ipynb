{
 "cells": [
  {
   "cell_type": "code",
   "execution_count": 1,
   "metadata": {
    "collapsed": true
   },
   "outputs": [],
   "source": [
    "import pandas as pd\n",
    "import numpy as np\n",
    "import matplotlib.pyplot as plt\n",
    "import seaborn as sns\n",
    "import scanpy as scp\n",
    "import glob\n",
    "import h5py\n",
    "import os"
   ]
  },
  {
   "cell_type": "markdown",
   "metadata": {},
   "source": [
    "# Tabula Muris sample identification\n",
    "\n",
    "Only interested in the Tabula Muris samples that have Kidney or Liver tissue"
   ]
  },
  {
   "cell_type": "code",
   "execution_count": 3,
   "metadata": {},
   "outputs": [
    {
     "name": "stderr",
     "output_type": "stream",
     "text": [
      "/share/software/user/open/py-jupyter/1.0.0_py36/lib/python3.6/site-packages/IPython/core/interactiveshell.py:2698: DtypeWarning: Columns (10) have mixed types.Specify dtype option on import or set low_memory=False.\n",
      "  interactivity=interactivity, compiler=compiler, result=result)\n"
     ]
    },
    {
     "data": {
      "text/html": [
       "<div>\n",
       "<style scoped>\n",
       "    .dataframe tbody tr th:only-of-type {\n",
       "        vertical-align: middle;\n",
       "    }\n",
       "\n",
       "    .dataframe tbody tr th {\n",
       "        vertical-align: top;\n",
       "    }\n",
       "\n",
       "    .dataframe thead th {\n",
       "        text-align: right;\n",
       "    }\n",
       "</style>\n",
       "<table border=\"1\" class=\"dataframe\">\n",
       "  <thead>\n",
       "    <tr style=\"text-align: right;\">\n",
       "      <th></th>\n",
       "      <th>index</th>\n",
       "      <th>age</th>\n",
       "      <th>cell</th>\n",
       "      <th>cell_ontology_class</th>\n",
       "      <th>cell_ontology_id</th>\n",
       "      <th>free_annotation</th>\n",
       "      <th>method</th>\n",
       "      <th>mouse.id</th>\n",
       "      <th>n_genes</th>\n",
       "      <th>sex</th>\n",
       "      <th>subtissue</th>\n",
       "      <th>tissue</th>\n",
       "      <th>n_counts</th>\n",
       "      <th>louvain</th>\n",
       "      <th>cluster_names</th>\n",
       "      <th>cell1</th>\n",
       "    </tr>\n",
       "  </thead>\n",
       "  <tbody>\n",
       "    <tr>\n",
       "      <th>0</th>\n",
       "      <td>AAACCTGAGTCCTCCT-1-47-1-0</td>\n",
       "      <td>1m</td>\n",
       "      <td>10X_P5_4_AAACCTGAGTCCTCCT</td>\n",
       "      <td>bladder cell</td>\n",
       "      <td>CL:1001319</td>\n",
       "      <td>bladder mesenchymal cell (Car3+)</td>\n",
       "      <td>droplet</td>\n",
       "      <td>1-M-63</td>\n",
       "      <td>3301</td>\n",
       "      <td>male</td>\n",
       "      <td>BLADDER</td>\n",
       "      <td>Bladder</td>\n",
       "      <td>11976.0000</td>\n",
       "      <td>2.0</td>\n",
       "      <td>2_bladder cell</td>\n",
       "      <td>10X_P5_4_S5_L00_AAACCTGAGTCCTCCT</td>\n",
       "    </tr>\n",
       "    <tr>\n",
       "      <th>1</th>\n",
       "      <td>AAACCTGCAGCTATTG-1-47-1-0</td>\n",
       "      <td>1m</td>\n",
       "      <td>10X_P5_4_AAACCTGCAGCTATTG</td>\n",
       "      <td>bladder urothelial cell</td>\n",
       "      <td>CL:1001428</td>\n",
       "      <td>luminal bladder epithelial cell (umbrella cell)</td>\n",
       "      <td>droplet</td>\n",
       "      <td>1-M-63</td>\n",
       "      <td>2236</td>\n",
       "      <td>male</td>\n",
       "      <td>BLADDER</td>\n",
       "      <td>Bladder</td>\n",
       "      <td>7275.0000</td>\n",
       "      <td>6.0</td>\n",
       "      <td>6_bladder urothelial cell</td>\n",
       "      <td>10X_P5_4_S5_L00_AAACCTGCAGCTATTG</td>\n",
       "    </tr>\n",
       "    <tr>\n",
       "      <th>2</th>\n",
       "      <td>AAAGATGAGCAGGCTA-1-47-1-0</td>\n",
       "      <td>1m</td>\n",
       "      <td>10X_P5_4_AAAGATGAGCAGGCTA</td>\n",
       "      <td>bladder cell</td>\n",
       "      <td>CL:1001319</td>\n",
       "      <td>bladder mesenchymal cell (Car3+)</td>\n",
       "      <td>droplet</td>\n",
       "      <td>1-M-63</td>\n",
       "      <td>3670</td>\n",
       "      <td>male</td>\n",
       "      <td>BLADDER</td>\n",
       "      <td>Bladder</td>\n",
       "      <td>14773.0000</td>\n",
       "      <td>2.0</td>\n",
       "      <td>2_bladder cell</td>\n",
       "      <td>10X_P5_4_S5_L00_AAAGATGAGCAGGCTA</td>\n",
       "    </tr>\n",
       "    <tr>\n",
       "      <th>3</th>\n",
       "      <td>AAAGCAAGTCTCTTAT-1-47-1-0</td>\n",
       "      <td>1m</td>\n",
       "      <td>10X_P5_4_AAAGCAAGTCTCTTAT</td>\n",
       "      <td>bladder cell</td>\n",
       "      <td>CL:1001319</td>\n",
       "      <td>bladder mesenchymal cell (Scara5+)</td>\n",
       "      <td>droplet</td>\n",
       "      <td>1-M-63</td>\n",
       "      <td>2699</td>\n",
       "      <td>male</td>\n",
       "      <td>BLADDER</td>\n",
       "      <td>Bladder</td>\n",
       "      <td>7755.0000</td>\n",
       "      <td>3.0</td>\n",
       "      <td>3_bladder cell</td>\n",
       "      <td>10X_P5_4_S5_L00_AAAGCAAGTCTCTTAT</td>\n",
       "    </tr>\n",
       "    <tr>\n",
       "      <th>4</th>\n",
       "      <td>AAAGCAATCCACGAAT-1-47-1-0</td>\n",
       "      <td>1m</td>\n",
       "      <td>10X_P5_4_AAAGCAATCCACGAAT</td>\n",
       "      <td>bladder cell</td>\n",
       "      <td>CL:1001319</td>\n",
       "      <td>bladder mesenchymal cell (Scara5+)</td>\n",
       "      <td>droplet</td>\n",
       "      <td>1-M-63</td>\n",
       "      <td>2742</td>\n",
       "      <td>male</td>\n",
       "      <td>BLADDER</td>\n",
       "      <td>Bladder</td>\n",
       "      <td>9122.0000</td>\n",
       "      <td>3.0</td>\n",
       "      <td>3_bladder cell</td>\n",
       "      <td>10X_P5_4_S5_L00_AAAGCAATCCACGAAT</td>\n",
       "    </tr>\n",
       "    <tr>\n",
       "      <th>...</th>\n",
       "      <td>...</td>\n",
       "      <td>...</td>\n",
       "      <td>...</td>\n",
       "      <td>...</td>\n",
       "      <td>...</td>\n",
       "      <td>...</td>\n",
       "      <td>...</td>\n",
       "      <td>...</td>\n",
       "      <td>...</td>\n",
       "      <td>...</td>\n",
       "      <td>...</td>\n",
       "      <td>...</td>\n",
       "      <td>...</td>\n",
       "      <td>...</td>\n",
       "      <td>...</td>\n",
       "      <td>...</td>\n",
       "    </tr>\n",
       "    <tr>\n",
       "      <th>107507</th>\n",
       "      <td>10X_P8_15_TTTGTCACAGTCTTCC-1</td>\n",
       "      <td>3m</td>\n",
       "      <td>10X_P8_15_TTTGTCACAGTCTTCC</td>\n",
       "      <td>fibroblast</td>\n",
       "      <td>CL:0000057</td>\n",
       "      <td>NaN</td>\n",
       "      <td>droplet</td>\n",
       "      <td>3-M-7/8</td>\n",
       "      <td>2557</td>\n",
       "      <td>male</td>\n",
       "      <td>NaN</td>\n",
       "      <td>Trachea</td>\n",
       "      <td>6347.3150</td>\n",
       "      <td>3.0</td>\n",
       "      <td>2_fibroblast</td>\n",
       "      <td>10X_P8_15_S16_L00_TTTGTCACAGTCTTCC</td>\n",
       "    </tr>\n",
       "    <tr>\n",
       "      <th>107508</th>\n",
       "      <td>10X_P8_15_TTTGTCAGTACATGTC-1</td>\n",
       "      <td>3m</td>\n",
       "      <td>10X_P8_15_TTTGTCAGTACATGTC</td>\n",
       "      <td>basal epithelial cell of tracheobronchial tree</td>\n",
       "      <td>CL:0002329</td>\n",
       "      <td>NaN</td>\n",
       "      <td>droplet</td>\n",
       "      <td>3-M-7/8</td>\n",
       "      <td>1585</td>\n",
       "      <td>male</td>\n",
       "      <td>NaN</td>\n",
       "      <td>Trachea</td>\n",
       "      <td>5039.7280</td>\n",
       "      <td>5.0</td>\n",
       "      <td>6_basal epithelial cell of tracheobronchial tree</td>\n",
       "      <td>10X_P8_15_S16_L00_TTTGTCAGTACATGTC</td>\n",
       "    </tr>\n",
       "    <tr>\n",
       "      <th>107509</th>\n",
       "      <td>10X_P8_15_TTTGTCAGTGCGCTTG-1</td>\n",
       "      <td>3m</td>\n",
       "      <td>10X_P8_15_TTTGTCAGTGCGCTTG</td>\n",
       "      <td>mesenchymal progenitor cell</td>\n",
       "      <td>CL:0000134</td>\n",
       "      <td>NaN</td>\n",
       "      <td>droplet</td>\n",
       "      <td>3-M-7/8</td>\n",
       "      <td>2166</td>\n",
       "      <td>male</td>\n",
       "      <td>NaN</td>\n",
       "      <td>Trachea</td>\n",
       "      <td>6518.3643</td>\n",
       "      <td>4.0</td>\n",
       "      <td>1_mesenchymal progenitor cell</td>\n",
       "      <td>10X_P8_15_S16_L00_TTTGTCAGTGCGCTTG</td>\n",
       "    </tr>\n",
       "    <tr>\n",
       "      <th>107510</th>\n",
       "      <td>10X_P8_15_TTTGTCAGTTGTCGCG-1</td>\n",
       "      <td>3m</td>\n",
       "      <td>10X_P8_15_TTTGTCAGTTGTCGCG</td>\n",
       "      <td>endothelial cell</td>\n",
       "      <td>CL:000115</td>\n",
       "      <td>NaN</td>\n",
       "      <td>droplet</td>\n",
       "      <td>3-M-7/8</td>\n",
       "      <td>2256</td>\n",
       "      <td>male</td>\n",
       "      <td>NaN</td>\n",
       "      <td>Trachea</td>\n",
       "      <td>6355.1133</td>\n",
       "      <td>7.0</td>\n",
       "      <td>9_endothelial cell</td>\n",
       "      <td>10X_P8_15_S16_L00_TTTGTCAGTTGTCGCG</td>\n",
       "    </tr>\n",
       "    <tr>\n",
       "      <th>107511</th>\n",
       "      <td>10X_P8_15_TTTGTCATCTTGTTTG-1</td>\n",
       "      <td>3m</td>\n",
       "      <td>10X_P8_15_TTTGTCATCTTGTTTG</td>\n",
       "      <td>chondrocyte</td>\n",
       "      <td>CL:0000138</td>\n",
       "      <td>NaN</td>\n",
       "      <td>droplet</td>\n",
       "      <td>3-M-7/8</td>\n",
       "      <td>1800</td>\n",
       "      <td>male</td>\n",
       "      <td>NaN</td>\n",
       "      <td>Trachea</td>\n",
       "      <td>5597.3510</td>\n",
       "      <td>0.0</td>\n",
       "      <td>0_chondrocyte</td>\n",
       "      <td>10X_P8_15_S16_L00_TTTGTCATCTTGTTTG</td>\n",
       "    </tr>\n",
       "  </tbody>\n",
       "</table>\n",
       "<p>107512 rows × 16 columns</p>\n",
       "</div>"
      ],
      "text/plain": [
       "                               index age                        cell  \\\n",
       "0          AAACCTGAGTCCTCCT-1-47-1-0  1m   10X_P5_4_AAACCTGAGTCCTCCT   \n",
       "1          AAACCTGCAGCTATTG-1-47-1-0  1m   10X_P5_4_AAACCTGCAGCTATTG   \n",
       "2          AAAGATGAGCAGGCTA-1-47-1-0  1m   10X_P5_4_AAAGATGAGCAGGCTA   \n",
       "3          AAAGCAAGTCTCTTAT-1-47-1-0  1m   10X_P5_4_AAAGCAAGTCTCTTAT   \n",
       "4          AAAGCAATCCACGAAT-1-47-1-0  1m   10X_P5_4_AAAGCAATCCACGAAT   \n",
       "...                              ...  ..                         ...   \n",
       "107507  10X_P8_15_TTTGTCACAGTCTTCC-1  3m  10X_P8_15_TTTGTCACAGTCTTCC   \n",
       "107508  10X_P8_15_TTTGTCAGTACATGTC-1  3m  10X_P8_15_TTTGTCAGTACATGTC   \n",
       "107509  10X_P8_15_TTTGTCAGTGCGCTTG-1  3m  10X_P8_15_TTTGTCAGTGCGCTTG   \n",
       "107510  10X_P8_15_TTTGTCAGTTGTCGCG-1  3m  10X_P8_15_TTTGTCAGTTGTCGCG   \n",
       "107511  10X_P8_15_TTTGTCATCTTGTTTG-1  3m  10X_P8_15_TTTGTCATCTTGTTTG   \n",
       "\n",
       "                                   cell_ontology_class cell_ontology_id  \\\n",
       "0                                         bladder cell       CL:1001319   \n",
       "1                              bladder urothelial cell       CL:1001428   \n",
       "2                                         bladder cell       CL:1001319   \n",
       "3                                         bladder cell       CL:1001319   \n",
       "4                                         bladder cell       CL:1001319   \n",
       "...                                                ...              ...   \n",
       "107507                                      fibroblast       CL:0000057   \n",
       "107508  basal epithelial cell of tracheobronchial tree       CL:0002329   \n",
       "107509                     mesenchymal progenitor cell       CL:0000134   \n",
       "107510                                endothelial cell        CL:000115   \n",
       "107511                                     chondrocyte       CL:0000138   \n",
       "\n",
       "                                        free_annotation   method mouse.id  \\\n",
       "0                      bladder mesenchymal cell (Car3+)  droplet   1-M-63   \n",
       "1       luminal bladder epithelial cell (umbrella cell)  droplet   1-M-63   \n",
       "2                      bladder mesenchymal cell (Car3+)  droplet   1-M-63   \n",
       "3                    bladder mesenchymal cell (Scara5+)  droplet   1-M-63   \n",
       "4                    bladder mesenchymal cell (Scara5+)  droplet   1-M-63   \n",
       "...                                                 ...      ...      ...   \n",
       "107507                                              NaN  droplet  3-M-7/8   \n",
       "107508                                              NaN  droplet  3-M-7/8   \n",
       "107509                                              NaN  droplet  3-M-7/8   \n",
       "107510                                              NaN  droplet  3-M-7/8   \n",
       "107511                                              NaN  droplet  3-M-7/8   \n",
       "\n",
       "        n_genes   sex subtissue   tissue    n_counts  louvain  \\\n",
       "0          3301  male   BLADDER  Bladder  11976.0000      2.0   \n",
       "1          2236  male   BLADDER  Bladder   7275.0000      6.0   \n",
       "2          3670  male   BLADDER  Bladder  14773.0000      2.0   \n",
       "3          2699  male   BLADDER  Bladder   7755.0000      3.0   \n",
       "4          2742  male   BLADDER  Bladder   9122.0000      3.0   \n",
       "...         ...   ...       ...      ...         ...      ...   \n",
       "107507     2557  male       NaN  Trachea   6347.3150      3.0   \n",
       "107508     1585  male       NaN  Trachea   5039.7280      5.0   \n",
       "107509     2166  male       NaN  Trachea   6518.3643      4.0   \n",
       "107510     2256  male       NaN  Trachea   6355.1133      7.0   \n",
       "107511     1800  male       NaN  Trachea   5597.3510      0.0   \n",
       "\n",
       "                                           cluster_names  \\\n",
       "0                                         2_bladder cell   \n",
       "1                              6_bladder urothelial cell   \n",
       "2                                         2_bladder cell   \n",
       "3                                         3_bladder cell   \n",
       "4                                         3_bladder cell   \n",
       "...                                                  ...   \n",
       "107507                                      2_fibroblast   \n",
       "107508  6_basal epithelial cell of tracheobronchial tree   \n",
       "107509                     1_mesenchymal progenitor cell   \n",
       "107510                                9_endothelial cell   \n",
       "107511                                     0_chondrocyte   \n",
       "\n",
       "                                     cell1  \n",
       "0         10X_P5_4_S5_L00_AAACCTGAGTCCTCCT  \n",
       "1         10X_P5_4_S5_L00_AAACCTGCAGCTATTG  \n",
       "2         10X_P5_4_S5_L00_AAAGATGAGCAGGCTA  \n",
       "3         10X_P5_4_S5_L00_AAAGCAAGTCTCTTAT  \n",
       "4         10X_P5_4_S5_L00_AAAGCAATCCACGAAT  \n",
       "...                                    ...  \n",
       "107507  10X_P8_15_S16_L00_TTTGTCACAGTCTTCC  \n",
       "107508  10X_P8_15_S16_L00_TTTGTCAGTACATGTC  \n",
       "107509  10X_P8_15_S16_L00_TTTGTCAGTGCGCTTG  \n",
       "107510  10X_P8_15_S16_L00_TTTGTCAGTTGTCGCG  \n",
       "107511  10X_P8_15_S16_L00_TTTGTCATCTTGTTTG  \n",
       "\n",
       "[107512 rows x 16 columns]"
      ]
     },
     "execution_count": 3,
     "metadata": {},
     "output_type": "execute_result"
    }
   ],
   "source": [
    "meta_df = pd.read_csv('/oak/stanford/groups/horence/Roozbeh/single_cell_project/utility_files/meta_data/Tabula_muris_senis/Tabula_muris_droplet_new.csv')\n",
    "meta_df"
   ]
  },
  {
   "cell_type": "code",
   "execution_count": 4,
   "metadata": {},
   "outputs": [
    {
     "data": {
      "text/html": [
       "<div>\n",
       "<style scoped>\n",
       "    .dataframe tbody tr th:only-of-type {\n",
       "        vertical-align: middle;\n",
       "    }\n",
       "\n",
       "    .dataframe tbody tr th {\n",
       "        vertical-align: top;\n",
       "    }\n",
       "\n",
       "    .dataframe thead th {\n",
       "        text-align: right;\n",
       "    }\n",
       "</style>\n",
       "<table border=\"1\" class=\"dataframe\">\n",
       "  <thead>\n",
       "    <tr style=\"text-align: right;\">\n",
       "      <th></th>\n",
       "      <th>0</th>\n",
       "      <th>1</th>\n",
       "      <th>2</th>\n",
       "      <th>3</th>\n",
       "      <th>4</th>\n",
       "    </tr>\n",
       "  </thead>\n",
       "  <tbody>\n",
       "    <tr>\n",
       "      <th>index</th>\n",
       "      <td>AAACCTGAGTCCTCCT-1-47-1-0</td>\n",
       "      <td>AAACCTGCAGCTATTG-1-47-1-0</td>\n",
       "      <td>AAAGATGAGCAGGCTA-1-47-1-0</td>\n",
       "      <td>AAAGCAAGTCTCTTAT-1-47-1-0</td>\n",
       "      <td>AAAGCAATCCACGAAT-1-47-1-0</td>\n",
       "    </tr>\n",
       "    <tr>\n",
       "      <th>age</th>\n",
       "      <td>1m</td>\n",
       "      <td>1m</td>\n",
       "      <td>1m</td>\n",
       "      <td>1m</td>\n",
       "      <td>1m</td>\n",
       "    </tr>\n",
       "    <tr>\n",
       "      <th>cell</th>\n",
       "      <td>10X_P5_4_AAACCTGAGTCCTCCT</td>\n",
       "      <td>10X_P5_4_AAACCTGCAGCTATTG</td>\n",
       "      <td>10X_P5_4_AAAGATGAGCAGGCTA</td>\n",
       "      <td>10X_P5_4_AAAGCAAGTCTCTTAT</td>\n",
       "      <td>10X_P5_4_AAAGCAATCCACGAAT</td>\n",
       "    </tr>\n",
       "    <tr>\n",
       "      <th>cell_ontology_class</th>\n",
       "      <td>bladder cell</td>\n",
       "      <td>bladder urothelial cell</td>\n",
       "      <td>bladder cell</td>\n",
       "      <td>bladder cell</td>\n",
       "      <td>bladder cell</td>\n",
       "    </tr>\n",
       "    <tr>\n",
       "      <th>cell_ontology_id</th>\n",
       "      <td>CL:1001319</td>\n",
       "      <td>CL:1001428</td>\n",
       "      <td>CL:1001319</td>\n",
       "      <td>CL:1001319</td>\n",
       "      <td>CL:1001319</td>\n",
       "    </tr>\n",
       "    <tr>\n",
       "      <th>free_annotation</th>\n",
       "      <td>bladder mesenchymal cell (Car3+)</td>\n",
       "      <td>luminal bladder epithelial cell (umbrella cell)</td>\n",
       "      <td>bladder mesenchymal cell (Car3+)</td>\n",
       "      <td>bladder mesenchymal cell (Scara5+)</td>\n",
       "      <td>bladder mesenchymal cell (Scara5+)</td>\n",
       "    </tr>\n",
       "    <tr>\n",
       "      <th>method</th>\n",
       "      <td>droplet</td>\n",
       "      <td>droplet</td>\n",
       "      <td>droplet</td>\n",
       "      <td>droplet</td>\n",
       "      <td>droplet</td>\n",
       "    </tr>\n",
       "    <tr>\n",
       "      <th>mouse.id</th>\n",
       "      <td>1-M-63</td>\n",
       "      <td>1-M-63</td>\n",
       "      <td>1-M-63</td>\n",
       "      <td>1-M-63</td>\n",
       "      <td>1-M-63</td>\n",
       "    </tr>\n",
       "    <tr>\n",
       "      <th>n_genes</th>\n",
       "      <td>3301</td>\n",
       "      <td>2236</td>\n",
       "      <td>3670</td>\n",
       "      <td>2699</td>\n",
       "      <td>2742</td>\n",
       "    </tr>\n",
       "    <tr>\n",
       "      <th>sex</th>\n",
       "      <td>male</td>\n",
       "      <td>male</td>\n",
       "      <td>male</td>\n",
       "      <td>male</td>\n",
       "      <td>male</td>\n",
       "    </tr>\n",
       "    <tr>\n",
       "      <th>subtissue</th>\n",
       "      <td>BLADDER</td>\n",
       "      <td>BLADDER</td>\n",
       "      <td>BLADDER</td>\n",
       "      <td>BLADDER</td>\n",
       "      <td>BLADDER</td>\n",
       "    </tr>\n",
       "    <tr>\n",
       "      <th>tissue</th>\n",
       "      <td>Bladder</td>\n",
       "      <td>Bladder</td>\n",
       "      <td>Bladder</td>\n",
       "      <td>Bladder</td>\n",
       "      <td>Bladder</td>\n",
       "    </tr>\n",
       "    <tr>\n",
       "      <th>n_counts</th>\n",
       "      <td>11976</td>\n",
       "      <td>7275</td>\n",
       "      <td>14773</td>\n",
       "      <td>7755</td>\n",
       "      <td>9122</td>\n",
       "    </tr>\n",
       "    <tr>\n",
       "      <th>louvain</th>\n",
       "      <td>2</td>\n",
       "      <td>6</td>\n",
       "      <td>2</td>\n",
       "      <td>3</td>\n",
       "      <td>3</td>\n",
       "    </tr>\n",
       "    <tr>\n",
       "      <th>cluster_names</th>\n",
       "      <td>2_bladder cell</td>\n",
       "      <td>6_bladder urothelial cell</td>\n",
       "      <td>2_bladder cell</td>\n",
       "      <td>3_bladder cell</td>\n",
       "      <td>3_bladder cell</td>\n",
       "    </tr>\n",
       "    <tr>\n",
       "      <th>cell1</th>\n",
       "      <td>10X_P5_4_S5_L00_AAACCTGAGTCCTCCT</td>\n",
       "      <td>10X_P5_4_S5_L00_AAACCTGCAGCTATTG</td>\n",
       "      <td>10X_P5_4_S5_L00_AAAGATGAGCAGGCTA</td>\n",
       "      <td>10X_P5_4_S5_L00_AAAGCAAGTCTCTTAT</td>\n",
       "      <td>10X_P5_4_S5_L00_AAAGCAATCCACGAAT</td>\n",
       "    </tr>\n",
       "  </tbody>\n",
       "</table>\n",
       "</div>"
      ],
      "text/plain": [
       "                                                    0  \\\n",
       "index                       AAACCTGAGTCCTCCT-1-47-1-0   \n",
       "age                                                1m   \n",
       "cell                        10X_P5_4_AAACCTGAGTCCTCCT   \n",
       "cell_ontology_class                      bladder cell   \n",
       "cell_ontology_id                           CL:1001319   \n",
       "free_annotation      bladder mesenchymal cell (Car3+)   \n",
       "method                                        droplet   \n",
       "mouse.id                                       1-M-63   \n",
       "n_genes                                          3301   \n",
       "sex                                              male   \n",
       "subtissue                                     BLADDER   \n",
       "tissue                                        Bladder   \n",
       "n_counts                                        11976   \n",
       "louvain                                             2   \n",
       "cluster_names                          2_bladder cell   \n",
       "cell1                10X_P5_4_S5_L00_AAACCTGAGTCCTCCT   \n",
       "\n",
       "                                                                   1  \\\n",
       "index                                      AAACCTGCAGCTATTG-1-47-1-0   \n",
       "age                                                               1m   \n",
       "cell                                       10X_P5_4_AAACCTGCAGCTATTG   \n",
       "cell_ontology_class                          bladder urothelial cell   \n",
       "cell_ontology_id                                          CL:1001428   \n",
       "free_annotation      luminal bladder epithelial cell (umbrella cell)   \n",
       "method                                                       droplet   \n",
       "mouse.id                                                      1-M-63   \n",
       "n_genes                                                         2236   \n",
       "sex                                                             male   \n",
       "subtissue                                                    BLADDER   \n",
       "tissue                                                       Bladder   \n",
       "n_counts                                                        7275   \n",
       "louvain                                                            6   \n",
       "cluster_names                              6_bladder urothelial cell   \n",
       "cell1                               10X_P5_4_S5_L00_AAACCTGCAGCTATTG   \n",
       "\n",
       "                                                    2  \\\n",
       "index                       AAAGATGAGCAGGCTA-1-47-1-0   \n",
       "age                                                1m   \n",
       "cell                        10X_P5_4_AAAGATGAGCAGGCTA   \n",
       "cell_ontology_class                      bladder cell   \n",
       "cell_ontology_id                           CL:1001319   \n",
       "free_annotation      bladder mesenchymal cell (Car3+)   \n",
       "method                                        droplet   \n",
       "mouse.id                                       1-M-63   \n",
       "n_genes                                          3670   \n",
       "sex                                              male   \n",
       "subtissue                                     BLADDER   \n",
       "tissue                                        Bladder   \n",
       "n_counts                                        14773   \n",
       "louvain                                             2   \n",
       "cluster_names                          2_bladder cell   \n",
       "cell1                10X_P5_4_S5_L00_AAAGATGAGCAGGCTA   \n",
       "\n",
       "                                                      3  \\\n",
       "index                         AAAGCAAGTCTCTTAT-1-47-1-0   \n",
       "age                                                  1m   \n",
       "cell                          10X_P5_4_AAAGCAAGTCTCTTAT   \n",
       "cell_ontology_class                        bladder cell   \n",
       "cell_ontology_id                             CL:1001319   \n",
       "free_annotation      bladder mesenchymal cell (Scara5+)   \n",
       "method                                          droplet   \n",
       "mouse.id                                         1-M-63   \n",
       "n_genes                                            2699   \n",
       "sex                                                male   \n",
       "subtissue                                       BLADDER   \n",
       "tissue                                          Bladder   \n",
       "n_counts                                           7755   \n",
       "louvain                                               3   \n",
       "cluster_names                            3_bladder cell   \n",
       "cell1                  10X_P5_4_S5_L00_AAAGCAAGTCTCTTAT   \n",
       "\n",
       "                                                      4  \n",
       "index                         AAAGCAATCCACGAAT-1-47-1-0  \n",
       "age                                                  1m  \n",
       "cell                          10X_P5_4_AAAGCAATCCACGAAT  \n",
       "cell_ontology_class                        bladder cell  \n",
       "cell_ontology_id                             CL:1001319  \n",
       "free_annotation      bladder mesenchymal cell (Scara5+)  \n",
       "method                                          droplet  \n",
       "mouse.id                                         1-M-63  \n",
       "n_genes                                            2742  \n",
       "sex                                                male  \n",
       "subtissue                                       BLADDER  \n",
       "tissue                                          Bladder  \n",
       "n_counts                                           9122  \n",
       "louvain                                               3  \n",
       "cluster_names                            3_bladder cell  \n",
       "cell1                  10X_P5_4_S5_L00_AAAGCAATCCACGAAT  "
      ]
     },
     "execution_count": 4,
     "metadata": {},
     "output_type": "execute_result"
    }
   ],
   "source": [
    "meta_df.head().T"
   ]
  },
  {
   "cell_type": "code",
   "execution_count": 8,
   "metadata": {},
   "outputs": [
    {
     "data": {
      "text/plain": [
       "(9488, 16)"
      ]
     },
     "execution_count": 8,
     "metadata": {},
     "output_type": "execute_result"
    }
   ],
   "source": [
    "meta_df[meta_df['tissue'].eq('Kidney')].shape"
   ]
  },
  {
   "cell_type": "code",
   "execution_count": 7,
   "metadata": {},
   "outputs": [
    {
     "data": {
      "text/plain": [
       "(5490, 16)"
      ]
     },
     "execution_count": 7,
     "metadata": {},
     "output_type": "execute_result"
    }
   ],
   "source": [
    "meta_df[meta_df['tissue'].eq('Liver')].shape"
   ]
  },
  {
   "cell_type": "code",
   "execution_count": 10,
   "metadata": {},
   "outputs": [
    {
     "data": {
      "text/html": [
       "<div>\n",
       "<style scoped>\n",
       "    .dataframe tbody tr th:only-of-type {\n",
       "        vertical-align: middle;\n",
       "    }\n",
       "\n",
       "    .dataframe tbody tr th {\n",
       "        vertical-align: top;\n",
       "    }\n",
       "\n",
       "    .dataframe thead th {\n",
       "        text-align: right;\n",
       "    }\n",
       "</style>\n",
       "<table border=\"1\" class=\"dataframe\">\n",
       "  <thead>\n",
       "    <tr style=\"text-align: right;\">\n",
       "      <th></th>\n",
       "      <th>index</th>\n",
       "      <th>age</th>\n",
       "      <th>cell</th>\n",
       "      <th>cell_ontology_class</th>\n",
       "      <th>cell_ontology_id</th>\n",
       "      <th>free_annotation</th>\n",
       "      <th>method</th>\n",
       "      <th>mouse.id</th>\n",
       "      <th>n_genes</th>\n",
       "      <th>sex</th>\n",
       "      <th>subtissue</th>\n",
       "      <th>tissue</th>\n",
       "      <th>n_counts</th>\n",
       "      <th>louvain</th>\n",
       "      <th>cluster_names</th>\n",
       "      <th>cell1</th>\n",
       "    </tr>\n",
       "  </thead>\n",
       "  <tbody>\n",
       "    <tr>\n",
       "      <th>9171</th>\n",
       "      <td>AAACCTGAGACTGGGT-1-1-1-0</td>\n",
       "      <td>30m</td>\n",
       "      <td>10X_P1_1_AAACCTGAGACTGGGT</td>\n",
       "      <td>epithelial cell of proximal tubule</td>\n",
       "      <td>CL:0002306</td>\n",
       "      <td>Epcam    proximal tube epithelial cell</td>\n",
       "      <td>droplet</td>\n",
       "      <td>30-M-2</td>\n",
       "      <td>2349</td>\n",
       "      <td>male</td>\n",
       "      <td>KIDNEY</td>\n",
       "      <td>Kidney</td>\n",
       "      <td>9945.0</td>\n",
       "      <td>6.0</td>\n",
       "      <td>6_epithelial cell of proximal tubule</td>\n",
       "      <td>10X_P1_1_S1_L00_AAACCTGAGACTGGGT</td>\n",
       "    </tr>\n",
       "    <tr>\n",
       "      <th>9172</th>\n",
       "      <td>AAACCTGAGATGTAAC-1-1-1-0</td>\n",
       "      <td>30m</td>\n",
       "      <td>10X_P1_1_AAACCTGAGATGTAAC</td>\n",
       "      <td>fibroblast</td>\n",
       "      <td>CL:0000057</td>\n",
       "      <td>Stroma    fibroblast</td>\n",
       "      <td>droplet</td>\n",
       "      <td>30-M-2</td>\n",
       "      <td>1856</td>\n",
       "      <td>male</td>\n",
       "      <td>KIDNEY</td>\n",
       "      <td>Kidney</td>\n",
       "      <td>4779.0</td>\n",
       "      <td>22.0</td>\n",
       "      <td>22_fibroblast</td>\n",
       "      <td>10X_P1_1_S1_L00_AAACCTGAGATGTAAC</td>\n",
       "    </tr>\n",
       "    <tr>\n",
       "      <th>9173</th>\n",
       "      <td>AAACCTGAGGCTAGAC-1-1-1-0</td>\n",
       "      <td>30m</td>\n",
       "      <td>10X_P1_1_AAACCTGAGGCTAGAC</td>\n",
       "      <td>fibroblast</td>\n",
       "      <td>CL:0000057</td>\n",
       "      <td>Stroma    fibroblast</td>\n",
       "      <td>droplet</td>\n",
       "      <td>30-M-2</td>\n",
       "      <td>1497</td>\n",
       "      <td>male</td>\n",
       "      <td>KIDNEY</td>\n",
       "      <td>Kidney</td>\n",
       "      <td>4464.0</td>\n",
       "      <td>22.0</td>\n",
       "      <td>22_fibroblast</td>\n",
       "      <td>10X_P1_1_S1_L00_AAACCTGAGGCTAGAC</td>\n",
       "    </tr>\n",
       "    <tr>\n",
       "      <th>9174</th>\n",
       "      <td>AAACCTGGTAGAGCTG-1-1-1-0</td>\n",
       "      <td>30m</td>\n",
       "      <td>10X_P1_1_AAACCTGGTAGAGCTG</td>\n",
       "      <td>kidney distal convoluted tubule epithelial cell</td>\n",
       "      <td>CL:1000849</td>\n",
       "      <td>Epcam     kidney distal convoluted tubule epit...</td>\n",
       "      <td>droplet</td>\n",
       "      <td>30-M-2</td>\n",
       "      <td>3055</td>\n",
       "      <td>male</td>\n",
       "      <td>KIDNEY</td>\n",
       "      <td>Kidney</td>\n",
       "      <td>9598.0</td>\n",
       "      <td>11.0</td>\n",
       "      <td>11_kidney distal convoluted tubule epithelial ...</td>\n",
       "      <td>10X_P1_1_S1_L00_AAACCTGGTAGAGCTG</td>\n",
       "    </tr>\n",
       "    <tr>\n",
       "      <th>9175</th>\n",
       "      <td>AAACCTGGTCATTAGC-1-1-1-0</td>\n",
       "      <td>30m</td>\n",
       "      <td>10X_P1_1_AAACCTGGTCATTAGC</td>\n",
       "      <td>podocyte</td>\n",
       "      <td>CL:0000653</td>\n",
       "      <td>Epcam    podocyte</td>\n",
       "      <td>droplet</td>\n",
       "      <td>30-M-2</td>\n",
       "      <td>1226</td>\n",
       "      <td>male</td>\n",
       "      <td>KIDNEY</td>\n",
       "      <td>Kidney</td>\n",
       "      <td>3191.0</td>\n",
       "      <td>13.0</td>\n",
       "      <td>13_podocyte</td>\n",
       "      <td>10X_P1_1_S1_L00_AAACCTGGTCATTAGC</td>\n",
       "    </tr>\n",
       "  </tbody>\n",
       "</table>\n",
       "</div>"
      ],
      "text/plain": [
       "                         index  age                       cell  \\\n",
       "9171  AAACCTGAGACTGGGT-1-1-1-0  30m  10X_P1_1_AAACCTGAGACTGGGT   \n",
       "9172  AAACCTGAGATGTAAC-1-1-1-0  30m  10X_P1_1_AAACCTGAGATGTAAC   \n",
       "9173  AAACCTGAGGCTAGAC-1-1-1-0  30m  10X_P1_1_AAACCTGAGGCTAGAC   \n",
       "9174  AAACCTGGTAGAGCTG-1-1-1-0  30m  10X_P1_1_AAACCTGGTAGAGCTG   \n",
       "9175  AAACCTGGTCATTAGC-1-1-1-0  30m  10X_P1_1_AAACCTGGTCATTAGC   \n",
       "\n",
       "                                  cell_ontology_class cell_ontology_id  \\\n",
       "9171               epithelial cell of proximal tubule       CL:0002306   \n",
       "9172                                       fibroblast       CL:0000057   \n",
       "9173                                       fibroblast       CL:0000057   \n",
       "9174  kidney distal convoluted tubule epithelial cell       CL:1000849   \n",
       "9175                                         podocyte       CL:0000653   \n",
       "\n",
       "                                        free_annotation   method mouse.id  \\\n",
       "9171             Epcam    proximal tube epithelial cell  droplet   30-M-2   \n",
       "9172                               Stroma    fibroblast  droplet   30-M-2   \n",
       "9173                               Stroma    fibroblast  droplet   30-M-2   \n",
       "9174  Epcam     kidney distal convoluted tubule epit...  droplet   30-M-2   \n",
       "9175                                  Epcam    podocyte  droplet   30-M-2   \n",
       "\n",
       "      n_genes   sex subtissue  tissue  n_counts  louvain  \\\n",
       "9171     2349  male    KIDNEY  Kidney    9945.0      6.0   \n",
       "9172     1856  male    KIDNEY  Kidney    4779.0     22.0   \n",
       "9173     1497  male    KIDNEY  Kidney    4464.0     22.0   \n",
       "9174     3055  male    KIDNEY  Kidney    9598.0     11.0   \n",
       "9175     1226  male    KIDNEY  Kidney    3191.0     13.0   \n",
       "\n",
       "                                          cluster_names  \\\n",
       "9171               6_epithelial cell of proximal tubule   \n",
       "9172                                      22_fibroblast   \n",
       "9173                                      22_fibroblast   \n",
       "9174  11_kidney distal convoluted tubule epithelial ...   \n",
       "9175                                        13_podocyte   \n",
       "\n",
       "                                 cell1  \n",
       "9171  10X_P1_1_S1_L00_AAACCTGAGACTGGGT  \n",
       "9172  10X_P1_1_S1_L00_AAACCTGAGATGTAAC  \n",
       "9173  10X_P1_1_S1_L00_AAACCTGAGGCTAGAC  \n",
       "9174  10X_P1_1_S1_L00_AAACCTGGTAGAGCTG  \n",
       "9175  10X_P1_1_S1_L00_AAACCTGGTCATTAGC  "
      ]
     },
     "execution_count": 10,
     "metadata": {},
     "output_type": "execute_result"
    }
   ],
   "source": [
    "meta_df[meta_df['tissue'].eq('Kidney')].head()"
   ]
  },
  {
   "cell_type": "code",
   "execution_count": 20,
   "metadata": {},
   "outputs": [
    {
     "data": {
      "text/html": [
       "<div>\n",
       "<style scoped>\n",
       "    .dataframe tbody tr th:only-of-type {\n",
       "        vertical-align: middle;\n",
       "    }\n",
       "\n",
       "    .dataframe tbody tr th {\n",
       "        vertical-align: top;\n",
       "    }\n",
       "\n",
       "    .dataframe thead th {\n",
       "        text-align: right;\n",
       "    }\n",
       "</style>\n",
       "<table border=\"1\" class=\"dataframe\">\n",
       "  <thead>\n",
       "    <tr style=\"text-align: right;\">\n",
       "      <th></th>\n",
       "      <th>mouse</th>\n",
       "      <th>sample</th>\n",
       "      <th>number_of_cells</th>\n",
       "    </tr>\n",
       "  </thead>\n",
       "  <tbody>\n",
       "    <tr>\n",
       "      <th>0</th>\n",
       "      <td>P1</td>\n",
       "      <td>1</td>\n",
       "      <td>1734</td>\n",
       "    </tr>\n",
       "    <tr>\n",
       "      <th>1</th>\n",
       "      <td>P1</td>\n",
       "      <td>9</td>\n",
       "      <td>1277</td>\n",
       "    </tr>\n",
       "    <tr>\n",
       "      <th>2</th>\n",
       "      <td>P2</td>\n",
       "      <td>0</td>\n",
       "      <td>1225</td>\n",
       "    </tr>\n",
       "    <tr>\n",
       "      <th>3</th>\n",
       "      <td>P3</td>\n",
       "      <td>7</td>\n",
       "      <td>935</td>\n",
       "    </tr>\n",
       "    <tr>\n",
       "      <th>4</th>\n",
       "      <td>P4</td>\n",
       "      <td>5</td>\n",
       "      <td>485</td>\n",
       "    </tr>\n",
       "    <tr>\n",
       "      <th>5</th>\n",
       "      <td>P4</td>\n",
       "      <td>6</td>\n",
       "      <td>595</td>\n",
       "    </tr>\n",
       "    <tr>\n",
       "      <th>6</th>\n",
       "      <td>P5</td>\n",
       "      <td>8</td>\n",
       "      <td>1163</td>\n",
       "    </tr>\n",
       "    <tr>\n",
       "      <th>7</th>\n",
       "      <td>P5</td>\n",
       "      <td>9</td>\n",
       "      <td>1054</td>\n",
       "    </tr>\n",
       "    <tr>\n",
       "      <th>8</th>\n",
       "      <td>P7</td>\n",
       "      <td>5</td>\n",
       "      <td>1020</td>\n",
       "    </tr>\n",
       "  </tbody>\n",
       "</table>\n",
       "</div>"
      ],
      "text/plain": [
       "  mouse sample  number_of_cells\n",
       "0    P1      1             1734\n",
       "1    P1      9             1277\n",
       "2    P2      0             1225\n",
       "3    P3      7              935\n",
       "4    P4      5              485\n",
       "5    P4      6              595\n",
       "6    P5      8             1163\n",
       "7    P5      9             1054\n",
       "8    P7      5             1020"
      ]
     },
     "execution_count": 20,
     "metadata": {},
     "output_type": "execute_result"
    }
   ],
   "source": [
    "cell_split_id = meta_df[meta_df['tissue'].eq('Kidney')]['cell'].str.split('_')\n",
    "\n",
    "kidney_cells = pd.DataFrame({\n",
    "    'mouse':cell_split_id.str[1],\n",
    "    'sample':cell_split_id.str[2],\n",
    "    'cell_bc':cell_split_id.str[3],\n",
    "})\n",
    "\n",
    "kidney_cells.groupby(['mouse','sample']).size().reset_index(name='number_of_cells')"
   ]
  },
  {
   "cell_type": "code",
   "execution_count": 86,
   "metadata": {},
   "outputs": [
    {
     "data": {
      "text/html": [
       "<div>\n",
       "<style scoped>\n",
       "    .dataframe tbody tr th:only-of-type {\n",
       "        vertical-align: middle;\n",
       "    }\n",
       "\n",
       "    .dataframe tbody tr th {\n",
       "        vertical-align: top;\n",
       "    }\n",
       "\n",
       "    .dataframe thead th {\n",
       "        text-align: right;\n",
       "    }\n",
       "</style>\n",
       "<table border=\"1\" class=\"dataframe\">\n",
       "  <thead>\n",
       "    <tr style=\"text-align: right;\">\n",
       "      <th></th>\n",
       "      <th>mouse</th>\n",
       "      <th>sample</th>\n",
       "    </tr>\n",
       "  </thead>\n",
       "  <tbody>\n",
       "    <tr>\n",
       "      <th>9171</th>\n",
       "      <td>P1</td>\n",
       "      <td>1</td>\n",
       "    </tr>\n",
       "    <tr>\n",
       "      <th>10905</th>\n",
       "      <td>P1</td>\n",
       "      <td>9</td>\n",
       "    </tr>\n",
       "    <tr>\n",
       "      <th>12182</th>\n",
       "      <td>P2</td>\n",
       "      <td>0</td>\n",
       "    </tr>\n",
       "    <tr>\n",
       "      <th>13407</th>\n",
       "      <td>P3</td>\n",
       "      <td>7</td>\n",
       "    </tr>\n",
       "    <tr>\n",
       "      <th>14342</th>\n",
       "      <td>P5</td>\n",
       "      <td>8</td>\n",
       "    </tr>\n",
       "    <tr>\n",
       "      <th>15505</th>\n",
       "      <td>P5</td>\n",
       "      <td>9</td>\n",
       "    </tr>\n",
       "    <tr>\n",
       "      <th>16559</th>\n",
       "      <td>P4</td>\n",
       "      <td>5</td>\n",
       "    </tr>\n",
       "    <tr>\n",
       "      <th>17044</th>\n",
       "      <td>P4</td>\n",
       "      <td>6</td>\n",
       "    </tr>\n",
       "    <tr>\n",
       "      <th>17639</th>\n",
       "      <td>P7</td>\n",
       "      <td>5</td>\n",
       "    </tr>\n",
       "  </tbody>\n",
       "</table>\n",
       "</div>"
      ],
      "text/plain": [
       "      mouse sample\n",
       "9171     P1      1\n",
       "10905    P1      9\n",
       "12182    P2      0\n",
       "13407    P3      7\n",
       "14342    P5      8\n",
       "15505    P5      9\n",
       "16559    P4      5\n",
       "17044    P4      6\n",
       "17639    P7      5"
      ]
     },
     "execution_count": 86,
     "metadata": {},
     "output_type": "execute_result"
    }
   ],
   "source": [
    "kidney_cells.drop_duplicates(['mouse','sample'])[['mouse','sample']]"
   ]
  },
  {
   "cell_type": "code",
   "execution_count": 21,
   "metadata": {},
   "outputs": [
    {
     "data": {
      "text/html": [
       "<div>\n",
       "<style scoped>\n",
       "    .dataframe tbody tr th:only-of-type {\n",
       "        vertical-align: middle;\n",
       "    }\n",
       "\n",
       "    .dataframe tbody tr th {\n",
       "        vertical-align: top;\n",
       "    }\n",
       "\n",
       "    .dataframe thead th {\n",
       "        text-align: right;\n",
       "    }\n",
       "</style>\n",
       "<table border=\"1\" class=\"dataframe\">\n",
       "  <thead>\n",
       "    <tr style=\"text-align: right;\">\n",
       "      <th></th>\n",
       "      <th>mouse</th>\n",
       "      <th>sample</th>\n",
       "      <th>number_of_cells</th>\n",
       "    </tr>\n",
       "  </thead>\n",
       "  <tbody>\n",
       "    <tr>\n",
       "      <th>0</th>\n",
       "      <td>P1</td>\n",
       "      <td>16</td>\n",
       "      <td>1885</td>\n",
       "    </tr>\n",
       "    <tr>\n",
       "      <th>1</th>\n",
       "      <td>P2</td>\n",
       "      <td>10</td>\n",
       "      <td>115</td>\n",
       "    </tr>\n",
       "    <tr>\n",
       "      <th>2</th>\n",
       "      <td>P2</td>\n",
       "      <td>11</td>\n",
       "      <td>211</td>\n",
       "    </tr>\n",
       "    <tr>\n",
       "      <th>3</th>\n",
       "      <td>P2</td>\n",
       "      <td>3</td>\n",
       "      <td>45</td>\n",
       "    </tr>\n",
       "    <tr>\n",
       "      <th>4</th>\n",
       "      <td>P4</td>\n",
       "      <td>2</td>\n",
       "      <td>375</td>\n",
       "    </tr>\n",
       "    <tr>\n",
       "      <th>5</th>\n",
       "      <td>P5</td>\n",
       "      <td>0</td>\n",
       "      <td>447</td>\n",
       "    </tr>\n",
       "    <tr>\n",
       "      <th>6</th>\n",
       "      <td>P5</td>\n",
       "      <td>1</td>\n",
       "      <td>776</td>\n",
       "    </tr>\n",
       "    <tr>\n",
       "      <th>7</th>\n",
       "      <td>P5</td>\n",
       "      <td>7</td>\n",
       "      <td>1157</td>\n",
       "    </tr>\n",
       "    <tr>\n",
       "      <th>8</th>\n",
       "      <td>P7</td>\n",
       "      <td>0</td>\n",
       "      <td>322</td>\n",
       "    </tr>\n",
       "    <tr>\n",
       "      <th>9</th>\n",
       "      <td>P7</td>\n",
       "      <td>1</td>\n",
       "      <td>157</td>\n",
       "    </tr>\n",
       "  </tbody>\n",
       "</table>\n",
       "</div>"
      ],
      "text/plain": [
       "  mouse sample  number_of_cells\n",
       "0    P1     16             1885\n",
       "1    P2     10              115\n",
       "2    P2     11              211\n",
       "3    P2      3               45\n",
       "4    P4      2              375\n",
       "5    P5      0              447\n",
       "6    P5      1              776\n",
       "7    P5      7             1157\n",
       "8    P7      0              322\n",
       "9    P7      1              157"
      ]
     },
     "execution_count": 21,
     "metadata": {},
     "output_type": "execute_result"
    }
   ],
   "source": [
    "cell_split_id = meta_df[meta_df['tissue'].eq('Liver')]['cell'].str.split('_')\n",
    "\n",
    "liver_cells = pd.DataFrame({\n",
    "    'mouse':cell_split_id.str[1],\n",
    "    'sample':cell_split_id.str[2],\n",
    "    'cell_bc':cell_split_id.str[3],\n",
    "})\n",
    "\n",
    "liver_cells.groupby(['mouse','sample']).size().reset_index(name='number_of_cells')"
   ]
  },
  {
   "cell_type": "code",
   "execution_count": 88,
   "metadata": {},
   "outputs": [
    {
     "data": {
      "text/html": [
       "<div>\n",
       "<style scoped>\n",
       "    .dataframe tbody tr th:only-of-type {\n",
       "        vertical-align: middle;\n",
       "    }\n",
       "\n",
       "    .dataframe tbody tr th {\n",
       "        vertical-align: top;\n",
       "    }\n",
       "\n",
       "    .dataframe thead th {\n",
       "        text-align: right;\n",
       "    }\n",
       "</style>\n",
       "<table border=\"1\" class=\"dataframe\">\n",
       "  <thead>\n",
       "    <tr style=\"text-align: right;\">\n",
       "      <th></th>\n",
       "      <th>mouse</th>\n",
       "      <th>sample</th>\n",
       "    </tr>\n",
       "  </thead>\n",
       "  <tbody>\n",
       "    <tr>\n",
       "      <th>31302</th>\n",
       "      <td>P1</td>\n",
       "      <td>16</td>\n",
       "    </tr>\n",
       "    <tr>\n",
       "      <th>33187</th>\n",
       "      <td>P2</td>\n",
       "      <td>3</td>\n",
       "    </tr>\n",
       "    <tr>\n",
       "      <th>33232</th>\n",
       "      <td>P2</td>\n",
       "      <td>10</td>\n",
       "    </tr>\n",
       "    <tr>\n",
       "      <th>33347</th>\n",
       "      <td>P2</td>\n",
       "      <td>11</td>\n",
       "    </tr>\n",
       "    <tr>\n",
       "      <th>33558</th>\n",
       "      <td>P5</td>\n",
       "      <td>0</td>\n",
       "    </tr>\n",
       "    <tr>\n",
       "      <th>34005</th>\n",
       "      <td>P5</td>\n",
       "      <td>1</td>\n",
       "    </tr>\n",
       "    <tr>\n",
       "      <th>34781</th>\n",
       "      <td>P5</td>\n",
       "      <td>7</td>\n",
       "    </tr>\n",
       "    <tr>\n",
       "      <th>35938</th>\n",
       "      <td>P4</td>\n",
       "      <td>2</td>\n",
       "    </tr>\n",
       "    <tr>\n",
       "      <th>36313</th>\n",
       "      <td>P7</td>\n",
       "      <td>0</td>\n",
       "    </tr>\n",
       "    <tr>\n",
       "      <th>36635</th>\n",
       "      <td>P7</td>\n",
       "      <td>1</td>\n",
       "    </tr>\n",
       "  </tbody>\n",
       "</table>\n",
       "</div>"
      ],
      "text/plain": [
       "      mouse sample\n",
       "31302    P1     16\n",
       "33187    P2      3\n",
       "33232    P2     10\n",
       "33347    P2     11\n",
       "33558    P5      0\n",
       "34005    P5      1\n",
       "34781    P5      7\n",
       "35938    P4      2\n",
       "36313    P7      0\n",
       "36635    P7      1"
      ]
     },
     "execution_count": 88,
     "metadata": {},
     "output_type": "execute_result"
    }
   ],
   "source": [
    "liver_cells.drop_duplicates(['mouse','sample'])[['mouse','sample']]"
   ]
  },
  {
   "cell_type": "markdown",
   "metadata": {},
   "source": [
    "# Creating a BED of the Liver/Kidney genes of interest"
   ]
  },
  {
   "cell_type": "code",
   "execution_count": 65,
   "metadata": {},
   "outputs": [
    {
     "name": "stdout",
     "output_type": "stream",
     "text": [
      "601\n"
     ]
    },
    {
     "data": {
      "text/plain": [
       "['1700011h14Rik',\n",
       " '1700061G19Rik',\n",
       " '2210010c04Rik',\n",
       " '4631405k08Rik',\n",
       " 'Abcb4',\n",
       " 'Abcc8',\n",
       " 'Acaca',\n",
       " 'Acacb',\n",
       " 'Ace',\n",
       " 'Ace2',\n",
       " 'Acsbg1',\n",
       " 'Acsbg2',\n",
       " 'Acsf3',\n",
       " 'Acsl1',\n",
       " 'Acsl4',\n",
       " 'Acsl5',\n",
       " 'Acsl6',\n",
       " 'Acss1',\n",
       " 'Acss2',\n",
       " 'Acta2',\n",
       " 'Actn4',\n",
       " 'Adamts9',\n",
       " 'Adgre1',\n",
       " 'Adh4',\n",
       " 'Adh7',\n",
       " 'Adpgk',\n",
       " 'Aebp1',\n",
       " 'Ak4',\n",
       " 'Akap14',\n",
       " 'Akr1a1',\n",
       " 'Akr1c18',\n",
       " 'Akr1d1',\n",
       " 'Alas1',\n",
       " 'Alas2',\n",
       " 'Alcam',\n",
       " 'Aldh1b1',\n",
       " 'Aldh3a1',\n",
       " 'Aldh3a2',\n",
       " 'Aldh3b1',\n",
       " 'Aldh3b2',\n",
       " 'Aldh3b3',\n",
       " 'Aldh7a1',\n",
       " 'Aldoart1',\n",
       " 'Aldoart2',\n",
       " 'Aldoc',\n",
       " 'Alox5ap',\n",
       " 'Ammecr1',\n",
       " 'Angpt1',\n",
       " 'Angpt2',\n",
       " 'Aplp1',\n",
       " 'Apobec3',\n",
       " 'Apold1',\n",
       " 'Aqp1',\n",
       " 'Aqp2',\n",
       " 'Arg2',\n",
       " 'Arhgdib',\n",
       " 'Arsb',\n",
       " 'Atp1b1',\n",
       " 'Atp1b3',\n",
       " 'Atp2a2',\n",
       " 'Axin2',\n",
       " 'B4galt6',\n",
       " 'Bambi',\n",
       " 'Bank1',\n",
       " 'Bbox1',\n",
       " 'Bcam',\n",
       " 'Bcl11a',\n",
       " 'Bcl11b',\n",
       " 'Bgn',\n",
       " 'Blk',\n",
       " 'Bmp2',\n",
       " 'Bmp5',\n",
       " 'Bmp7',\n",
       " 'Bpgm',\n",
       " 'Btnl9',\n",
       " 'C1qa',\n",
       " 'C1qb',\n",
       " 'C1qc',\n",
       " 'Calcrl',\n",
       " 'Cald1',\n",
       " 'Calm1',\n",
       " 'Cav1',\n",
       " 'Cav2',\n",
       " 'Cbr4',\n",
       " 'Ccdc80',\n",
       " 'Ccl6',\n",
       " 'Ccr1',\n",
       " 'Ccr2',\n",
       " 'Cd177',\n",
       " 'Cd19',\n",
       " 'Cd22',\n",
       " 'Cd247',\n",
       " 'Cd300lg',\n",
       " 'Cd34',\n",
       " 'Cd37',\n",
       " 'Cd3d',\n",
       " 'Cd3e',\n",
       " 'Cd3g',\n",
       " 'Cd4',\n",
       " 'Cd44',\n",
       " 'Cd48',\n",
       " 'Cd53',\n",
       " 'Cd5l',\n",
       " 'Cd6',\n",
       " 'Cd68',\n",
       " 'Cd79a',\n",
       " 'Cd79b',\n",
       " 'Cd81',\n",
       " 'Cd83',\n",
       " 'Cd8a',\n",
       " 'Cd8b1',\n",
       " 'Cd93',\n",
       " 'Cdh1',\n",
       " 'Cdh11',\n",
       " 'Cdh5',\n",
       " 'Cebpa',\n",
       " 'Cel',\n",
       " 'Cela1',\n",
       " 'Celsr2',\n",
       " 'Ces3a',\n",
       " 'Cfp',\n",
       " 'Chga',\n",
       " 'Chgb',\n",
       " 'Chodl',\n",
       " 'Cldn3',\n",
       " 'Cldn5',\n",
       " 'Cldn7',\n",
       " 'Clec14a',\n",
       " 'Clec4f',\n",
       " 'Clu',\n",
       " 'Cnksr3',\n",
       " 'Cnp',\n",
       " 'Col1a2',\n",
       " 'Col4a1',\n",
       " 'Col4a2',\n",
       " 'Col6a1',\n",
       " 'Colec11',\n",
       " 'ComtLdha',\n",
       " 'Coro1a',\n",
       " 'Cpa1',\n",
       " 'Cpb1',\n",
       " 'Cpe',\n",
       " 'Crip2',\n",
       " 'Crispld2',\n",
       " 'Csf1r',\n",
       " 'Csf3r',\n",
       " 'Csk',\n",
       " 'Csnk1a1',\n",
       " 'Cspg4',\n",
       " 'Ctnnal1',\n",
       " 'Ctsc',\n",
       " 'Ctss',\n",
       " 'Ctsw',\n",
       " 'Cx3cr1',\n",
       " 'Cxadr',\n",
       " 'Cxcl12',\n",
       " 'Cxcl14',\n",
       " 'Cxcr2',\n",
       " 'Cxcr6',\n",
       " 'Cybasc3',\n",
       " 'Cybb',\n",
       " 'Cygb',\n",
       " 'Cyp11a1',\n",
       " 'Cyp11b1',\n",
       " 'Cyp17a1',\n",
       " 'Cyp1a1',\n",
       " 'Cyp1a2',\n",
       " 'Cyp21a1',\n",
       " 'Cyp2b19',\n",
       " 'Cyp2b23',\n",
       " 'Cyp2b9',\n",
       " 'Cyp2c23',\n",
       " 'Cyp2c38',\n",
       " 'Cyp2c55',\n",
       " 'Cyp2f2',\n",
       " 'Cyp7b1',\n",
       " 'Dag1',\n",
       " 'Darc',\n",
       " 'Dbpht2',\n",
       " 'Dcdc2a',\n",
       " 'Dcn',\n",
       " 'Ddx4',\n",
       " 'Dek',\n",
       " 'Derl3',\n",
       " 'Des',\n",
       " 'Dkk1',\n",
       " 'Dkk2',\n",
       " 'Dkk3',\n",
       " 'Dlat',\n",
       " 'Dld',\n",
       " 'Dll1',\n",
       " 'Dll4',\n",
       " 'Dnajc7',\n",
       " 'Dnase1l3',\n",
       " 'Dpt',\n",
       " 'Dsg2',\n",
       " 'E2f2',\n",
       " 'Ecm1',\n",
       " 'Efnb2',\n",
       " 'Egfl7',\n",
       " 'Egfr',\n",
       " 'Egr1',\n",
       " 'Ehd3',\n",
       " 'Eif3a',\n",
       " 'Eif3f',\n",
       " 'Elane',\n",
       " 'Elk3',\n",
       " 'Eltd1',\n",
       " 'Emcn',\n",
       " 'Eng',\n",
       " 'Eno2',\n",
       " 'Eno3',\n",
       " 'Eno4',\n",
       " 'Ep300',\n",
       " 'Epas1',\n",
       " 'Epcam',\n",
       " 'Ephb4',\n",
       " 'Ero1lb',\n",
       " 'Errfi1',\n",
       " 'Esam',\n",
       " 'F13a1',\n",
       " 'F8',\n",
       " 'Fabp4',\n",
       " 'Faim3',\n",
       " 'Fam151a',\n",
       " 'Fam159b',\n",
       " 'Fasn',\n",
       " 'Fbn1',\n",
       " 'Fcgr2b',\n",
       " 'Fech',\n",
       " 'Fgf1',\n",
       " 'Fgf2',\n",
       " 'Flt1',\n",
       " 'Flt3',\n",
       " 'Flt4',\n",
       " 'Fmo1',\n",
       " 'Folr2',\n",
       " 'Foxc1',\n",
       " 'Foxq1',\n",
       " 'Fstl1',\n",
       " 'Fyb',\n",
       " 'Fzd1',\n",
       " 'Fzd2',\n",
       " 'Fzd3',\n",
       " 'Fzd4',\n",
       " 'Fzd5',\n",
       " 'Fzd7',\n",
       " 'Fzd8',\n",
       " 'G6pc',\n",
       " 'G6pc2',\n",
       " 'G6pc3',\n",
       " 'Galm',\n",
       " 'Gapdhs',\n",
       " 'Gas1',\n",
       " 'Gata2',\n",
       " 'Gca',\n",
       " 'Gck',\n",
       " 'Gfap',\n",
       " 'Gimap3',\n",
       " 'Gimap4',\n",
       " 'Gimap6',\n",
       " 'Gja4',\n",
       " 'Glul',\n",
       " 'Glyat',\n",
       " 'Gm2a',\n",
       " 'Gnai2',\n",
       " 'Gnaz',\n",
       " 'Gpd1',\n",
       " 'Gpi1',\n",
       " 'Gpihbp1',\n",
       " 'Gpr116',\n",
       " 'Gpr182',\n",
       " 'Gpx3',\n",
       " 'Grn',\n",
       " 'Gsn',\n",
       " 'Gulo',\n",
       " 'Gypa',\n",
       " 'Gzmb',\n",
       " 'Gzmk',\n",
       " 'H2-Aa',\n",
       " 'H2-Ab1',\n",
       " 'H2afy',\n",
       " 'Hal',\n",
       " 'Hc',\n",
       " 'Hdc',\n",
       " 'Hgf',\n",
       " 'Hhex',\n",
       " 'Hk1',\n",
       " 'Hk2',\n",
       " 'Hk3',\n",
       " 'Hkdc1',\n",
       " 'Hmgb1',\n",
       " 'Hmgcs2',\n",
       " 'Hnf1b',\n",
       " 'Hoxb4',\n",
       " 'Hoxb5',\n",
       " 'Hsd11b1',\n",
       " 'Hsd11b2',\n",
       " 'Hsd17b1',\n",
       " 'Hsd17b12',\n",
       " 'Hsd17b2',\n",
       " 'Hsd17b3',\n",
       " 'Hsd17b6',\n",
       " 'Hsd17b7',\n",
       " 'Hsd3b2',\n",
       " 'Hsd3b3',\n",
       " 'Hsd3b6',\n",
       " 'Htra3',\n",
       " 'Hvcn1',\n",
       " 'Hyal2',\n",
       " 'Icam1',\n",
       " 'Igf1',\n",
       " 'Igfbp4',\n",
       " 'Igfbp6',\n",
       " 'Igj',\n",
       " 'Il1b',\n",
       " 'Il2rb',\n",
       " 'Il6',\n",
       " 'Il7r',\n",
       " 'Irf7',\n",
       " 'Irf8',\n",
       " 'Ism1',\n",
       " 'Itga2b',\n",
       " 'Itgal',\n",
       " 'Itgam',\n",
       " 'Itgax',\n",
       " 'Itgb2',\n",
       " 'Itgb7',\n",
       " 'Ivl',\n",
       " 'Jag1',\n",
       " 'Jag2',\n",
       " 'Kcne1',\n",
       " 'Kcnj1',\n",
       " 'Kcnj16',\n",
       " 'Kcnk16',\n",
       " 'Kctd12',\n",
       " 'Kdr',\n",
       " 'Kit',\n",
       " 'Kitl',\n",
       " 'Klf2',\n",
       " 'Klra2',\n",
       " 'Klrb1c',\n",
       " 'Klrb1f',\n",
       " 'Klrk1',\n",
       " 'Kng1',\n",
       " 'Krt18',\n",
       " 'Krt19',\n",
       " 'Krt5',\n",
       " 'Krt7',\n",
       " 'Krt8',\n",
       " 'Lad1',\n",
       " 'Lamp3',\n",
       " 'Laptm5',\n",
       " 'Lck',\n",
       " 'Lcp1',\n",
       " 'Ldb2',\n",
       " 'Ldhal6b',\n",
       " 'Ldhc',\n",
       " 'Lef1',\n",
       " 'Lepr',\n",
       " 'Lgals3',\n",
       " 'Lhfp',\n",
       " 'Lmna',\n",
       " 'Lmnb1',\n",
       " 'Lmod1',\n",
       " 'Lox',\n",
       " 'Loxl1',\n",
       " 'Lrp2',\n",
       " 'Lsp1',\n",
       " 'Lsr',\n",
       " 'Ltbp4',\n",
       " 'Lum',\n",
       " 'Ly6c2',\n",
       " 'Ly86',\n",
       " 'Lyve1',\n",
       " 'Maf',\n",
       " 'Mafa',\n",
       " 'Mal',\n",
       " 'Maml1',\n",
       " 'Marco',\n",
       " 'Mcat',\n",
       " 'Mecom',\n",
       " 'Meis1',\n",
       " 'Meis2',\n",
       " 'Mertk',\n",
       " 'Mfap4',\n",
       " 'Mfap5',\n",
       " 'Minpp1',\n",
       " 'Mki67',\n",
       " 'Mkrn1',\n",
       " 'Mme',\n",
       " 'Mmp9',\n",
       " 'Mmrn1',\n",
       " 'Mmrn2',\n",
       " 'Mpeg1',\n",
       " 'Mpl',\n",
       " 'Mpp1',\n",
       " 'Mrc1',\n",
       " 'Mrvi1',\n",
       " 'Ms4a1',\n",
       " 'Ms4a6b',\n",
       " 'Muc4',\n",
       " 'Mxd1',\n",
       " 'Mxra8',\n",
       " 'Myh10',\n",
       " 'Myh11',\n",
       " 'Myl9',\n",
       " 'Napsa',\n",
       " 'Ncf1',\n",
       " 'Ndn',\n",
       " 'Nes',\n",
       " 'Neurog3',\n",
       " 'Nid1',\n",
       " 'Nkd2',\n",
       " 'Nkx6-1',\n",
       " 'Notch1',\n",
       " 'Notch2',\n",
       " 'Notch3',\n",
       " 'Notch4',\n",
       " 'Npc2',\n",
       " 'Npdc1',\n",
       " 'Nrp1',\n",
       " 'Nudt4',\n",
       " 'Oat',\n",
       " 'Obscn',\n",
       " 'Ogn',\n",
       " 'Oit3',\n",
       " 'Olah',\n",
       " 'Olr1',\n",
       " 'Oxsm',\n",
       " 'Pabpc1',\n",
       " 'Palmd',\n",
       " 'Pappa2',\n",
       " 'Pax5',\n",
       " 'Pck1',\n",
       " 'Pck2',\n",
       " 'Pcolce',\n",
       " 'Pcsk1n',\n",
       " 'Pcsk2',\n",
       " 'Pdgfra',\n",
       " 'Pdgfrb',\n",
       " 'Pdha1',\n",
       " 'Pdha2',\n",
       " 'Pdhb',\n",
       " 'Pdpn',\n",
       " 'Pdx1',\n",
       " 'Pdzk1',\n",
       " 'Pecam1',\n",
       " 'Peg3',\n",
       " 'Pfkl',\n",
       " 'Pfkm',\n",
       " 'Pfkp',\n",
       " 'Pgam1',\n",
       " 'Pgam2',\n",
       " 'Pglyrp1',\n",
       " 'Pgm1',\n",
       " 'Pgm2',\n",
       " 'Pkm',\n",
       " 'Plac8',\n",
       " 'Pld4',\n",
       " 'Pltp',\n",
       " 'Plvap',\n",
       " 'Pnlip',\n",
       " 'Pnliprp1',\n",
       " 'Pnliprp2',\n",
       " 'Podxl',\n",
       " 'Pou2af1',\n",
       " 'Ppp1r1a',\n",
       " 'Prelp',\n",
       " 'Prf1',\n",
       " 'Prickle2',\n",
       " 'Prlr',\n",
       " 'Procr',\n",
       " 'Proz',\n",
       " 'Prss53',\n",
       " 'Psap',\n",
       " 'Psmd3',\n",
       " 'Ptgis',\n",
       " 'Pth1r',\n",
       " 'Ptpn6',\n",
       " 'Ptprb',\n",
       " 'Ptprc',\n",
       " 'Ptprn2',\n",
       " 'Ptrf',\n",
       " 'Ramp1',\n",
       " 'Ramp3',\n",
       " 'Rassf4',\n",
       " 'Rbpj',\n",
       " 'Rdh7',\n",
       " 'Reln',\n",
       " 'Rhoj',\n",
       " 'Rnase6',\n",
       " 'Rpp14',\n",
       " 'Runx1',\n",
       " 'Ryr2',\n",
       " 'S100a14',\n",
       " 'S100a2',\n",
       " 'Sardh',\n",
       " 'Satb1',\n",
       " 'Scara5',\n",
       " 'Scg2',\n",
       " 'Scg3',\n",
       " 'Scg5',\n",
       " 'Scnn1a',\n",
       " 'Sdc1',\n",
       " 'Sdc3',\n",
       " 'Sdpr',\n",
       " 'Sele',\n",
       " 'Selp',\n",
       " 'Selplg',\n",
       " 'Serpinf1',\n",
       " 'Serping1',\n",
       " 'Serpinh1',\n",
       " 'Sfn',\n",
       " 'Sfrp1',\n",
       " 'Sfrp2',\n",
       " 'Sfrp5',\n",
       " 'Sgms2',\n",
       " 'Shank3',\n",
       " 'Shisa5',\n",
       " 'Siglech',\n",
       " 'Slamf1',\n",
       " 'Slc12a1',\n",
       " 'Slc25a37',\n",
       " 'Slc2a2',\n",
       " 'Slc30a8',\n",
       " 'Slc34a2',\n",
       " 'Slc40a1',\n",
       " 'Slc9a3r2',\n",
       " 'Smarca4',\n",
       " 'Smpdl3a',\n",
       " 'Sod3',\n",
       " 'Sox17',\n",
       " 'Sox18',\n",
       " 'Sparc',\n",
       " 'Sparcl1',\n",
       " 'Spib',\n",
       " 'Spp1',\n",
       " 'Srd5a1',\n",
       " 'Srd5a2',\n",
       " 'Srd5a3',\n",
       " 'Ssh2',\n",
       " 'Stab1',\n",
       " 'Stab2',\n",
       " 'Stk17b',\n",
       " 'Sult1e1',\n",
       " 'Sult2b1',\n",
       " 'Synpo',\n",
       " 'Tcf21',\n",
       " 'Tcf3',\n",
       " 'Tcf4',\n",
       " 'Tcf7',\n",
       " 'Tcf7l1',\n",
       " 'Tcf7l2',\n",
       " 'Tek',\n",
       " 'Tent5c',\n",
       " 'Tet1',\n",
       " 'Tet2',\n",
       " 'Tfrc',\n",
       " 'Tgfb2',\n",
       " 'Tie1',\n",
       " 'Timp2',\n",
       " 'Timp3',\n",
       " 'Tinagl1',\n",
       " 'Tkt',\n",
       " 'Tlr7',\n",
       " 'Tm4sf1',\n",
       " 'Tm4sf4',\n",
       " 'Tmem27',\n",
       " 'Tmem56',\n",
       " 'Tmod1',\n",
       " 'Tnfrsf13b',\n",
       " 'Tnfrsf13c',\n",
       " 'Tomt',\n",
       " 'Tox',\n",
       " 'Tpi1',\n",
       " 'Trat1',\n",
       " 'Trem1',\n",
       " 'Trem2',\n",
       " 'Trim47',\n",
       " 'Tspan13',\n",
       " 'Tspan8',\n",
       " 'Tubb6',\n",
       " 'Txk',\n",
       " 'Txlnb',\n",
       " 'Ugt2a3',\n",
       " 'Ugt2b1',\n",
       " 'Unc93b1',\n",
       " 'Uox',\n",
       " 'Vangl2',\n",
       " 'Vav1',\n",
       " 'Vcam1',\n",
       " 'Vim',\n",
       " 'Vsig4',\n",
       " 'Vtn',\n",
       " 'Vwf',\n",
       " 'Wdr72',\n",
       " 'Wnt2',\n",
       " 'Wnt4',\n",
       " 'Wt1',\n",
       " 'Zap70']"
      ]
     },
     "execution_count": 65,
     "metadata": {},
     "output_type": "execute_result"
    }
   ],
   "source": [
    "gene_list_paths = [\n",
    "    '/oak/stanford/groups/horence/rob/isoform_localizations/SRRS/preprocessing/KidneyLiver_preprocessing/all_genes.txt',\n",
    "    '/oak/stanford/groups/horence/rob/isoform_localizations/SRRS/preprocessing/vz_Liver_showcase_preprocessing/all_genes.txt',\n",
    "]\n",
    "\n",
    "genes = sorted(list(set(g.strip() for p in gene_list_paths for g in open(p))))\n",
    "print(len(genes))\n",
    "genes"
   ]
  },
  {
   "cell_type": "code",
   "execution_count": 66,
   "metadata": {},
   "outputs": [
    {
     "data": {
      "text/html": [
       "<div>\n",
       "<style scoped>\n",
       "    .dataframe tbody tr th:only-of-type {\n",
       "        vertical-align: middle;\n",
       "    }\n",
       "\n",
       "    .dataframe tbody tr th {\n",
       "        vertical-align: top;\n",
       "    }\n",
       "\n",
       "    .dataframe thead th {\n",
       "        text-align: right;\n",
       "    }\n",
       "</style>\n",
       "<table border=\"1\" class=\"dataframe\">\n",
       "  <thead>\n",
       "    <tr style=\"text-align: right;\">\n",
       "      <th></th>\n",
       "      <th>gene_name</th>\n",
       "      <th>gene_id</th>\n",
       "      <th>chrom</th>\n",
       "      <th>source</th>\n",
       "      <th>start</th>\n",
       "      <th>stop</th>\n",
       "      <th>strand</th>\n",
       "    </tr>\n",
       "  </thead>\n",
       "  <tbody>\n",
       "    <tr>\n",
       "      <th>0</th>\n",
       "      <td>4933401J01Rik</td>\n",
       "      <td>ENSMUSG00000102693.1</td>\n",
       "      <td>chr1</td>\n",
       "      <td>HAVANA</td>\n",
       "      <td>3073253</td>\n",
       "      <td>3074322</td>\n",
       "      <td>+</td>\n",
       "    </tr>\n",
       "    <tr>\n",
       "      <th>3</th>\n",
       "      <td>Gm26206</td>\n",
       "      <td>ENSMUSG00000064842.1</td>\n",
       "      <td>chr1</td>\n",
       "      <td>ENSEMBL</td>\n",
       "      <td>3102016</td>\n",
       "      <td>3102125</td>\n",
       "      <td>+</td>\n",
       "    </tr>\n",
       "    <tr>\n",
       "      <th>6</th>\n",
       "      <td>Xkr4</td>\n",
       "      <td>ENSMUSG00000051951.5</td>\n",
       "      <td>chr1</td>\n",
       "      <td>HAVANA</td>\n",
       "      <td>3205901</td>\n",
       "      <td>3671498</td>\n",
       "      <td>-</td>\n",
       "    </tr>\n",
       "    <tr>\n",
       "      <th>24</th>\n",
       "      <td>Gm18956</td>\n",
       "      <td>ENSMUSG00000102851.1</td>\n",
       "      <td>chr1</td>\n",
       "      <td>HAVANA</td>\n",
       "      <td>3252757</td>\n",
       "      <td>3253236</td>\n",
       "      <td>+</td>\n",
       "    </tr>\n",
       "    <tr>\n",
       "      <th>27</th>\n",
       "      <td>Gm37180</td>\n",
       "      <td>ENSMUSG00000103377.1</td>\n",
       "      <td>chr1</td>\n",
       "      <td>HAVANA</td>\n",
       "      <td>3365731</td>\n",
       "      <td>3368549</td>\n",
       "      <td>-</td>\n",
       "    </tr>\n",
       "    <tr>\n",
       "      <th>...</th>\n",
       "      <td>...</td>\n",
       "      <td>...</td>\n",
       "      <td>...</td>\n",
       "      <td>...</td>\n",
       "      <td>...</td>\n",
       "      <td>...</td>\n",
       "      <td>...</td>\n",
       "    </tr>\n",
       "    <tr>\n",
       "      <th>1613316</th>\n",
       "      <td>mt-Nd6</td>\n",
       "      <td>ENSMUSG00000064368.1</td>\n",
       "      <td>chrM</td>\n",
       "      <td>ENSEMBL</td>\n",
       "      <td>13552</td>\n",
       "      <td>14070</td>\n",
       "      <td>-</td>\n",
       "    </tr>\n",
       "    <tr>\n",
       "      <th>1613322</th>\n",
       "      <td>mt-Te</td>\n",
       "      <td>ENSMUSG00000064369.1</td>\n",
       "      <td>chrM</td>\n",
       "      <td>ENSEMBL</td>\n",
       "      <td>14071</td>\n",
       "      <td>14139</td>\n",
       "      <td>-</td>\n",
       "    </tr>\n",
       "    <tr>\n",
       "      <th>1613325</th>\n",
       "      <td>mt-Cytb</td>\n",
       "      <td>ENSMUSG00000064370.1</td>\n",
       "      <td>chrM</td>\n",
       "      <td>ENSEMBL</td>\n",
       "      <td>14145</td>\n",
       "      <td>15288</td>\n",
       "      <td>+</td>\n",
       "    </tr>\n",
       "    <tr>\n",
       "      <th>1613330</th>\n",
       "      <td>mt-Tt</td>\n",
       "      <td>ENSMUSG00000064371.1</td>\n",
       "      <td>chrM</td>\n",
       "      <td>ENSEMBL</td>\n",
       "      <td>15289</td>\n",
       "      <td>15355</td>\n",
       "      <td>+</td>\n",
       "    </tr>\n",
       "    <tr>\n",
       "      <th>1613333</th>\n",
       "      <td>mt-Tp</td>\n",
       "      <td>ENSMUSG00000064372.1</td>\n",
       "      <td>chrM</td>\n",
       "      <td>ENSEMBL</td>\n",
       "      <td>15356</td>\n",
       "      <td>15422</td>\n",
       "      <td>-</td>\n",
       "    </tr>\n",
       "  </tbody>\n",
       "</table>\n",
       "<p>48440 rows × 7 columns</p>\n",
       "</div>"
      ],
      "text/plain": [
       "             gene_name               gene_id chrom   source    start     stop  \\\n",
       "0        4933401J01Rik  ENSMUSG00000102693.1  chr1   HAVANA  3073253  3074322   \n",
       "3              Gm26206  ENSMUSG00000064842.1  chr1  ENSEMBL  3102016  3102125   \n",
       "6                 Xkr4  ENSMUSG00000051951.5  chr1   HAVANA  3205901  3671498   \n",
       "24             Gm18956  ENSMUSG00000102851.1  chr1   HAVANA  3252757  3253236   \n",
       "27             Gm37180  ENSMUSG00000103377.1  chr1   HAVANA  3365731  3368549   \n",
       "...                ...                   ...   ...      ...      ...      ...   \n",
       "1613316         mt-Nd6  ENSMUSG00000064368.1  chrM  ENSEMBL    13552    14070   \n",
       "1613322          mt-Te  ENSMUSG00000064369.1  chrM  ENSEMBL    14071    14139   \n",
       "1613325        mt-Cytb  ENSMUSG00000064370.1  chrM  ENSEMBL    14145    15288   \n",
       "1613330          mt-Tt  ENSMUSG00000064371.1  chrM  ENSEMBL    15289    15355   \n",
       "1613333          mt-Tp  ENSMUSG00000064372.1  chrM  ENSEMBL    15356    15422   \n",
       "\n",
       "        strand  \n",
       "0            +  \n",
       "3            +  \n",
       "6            -  \n",
       "24           +  \n",
       "27           -  \n",
       "...        ...  \n",
       "1613316      -  \n",
       "1613322      -  \n",
       "1613325      +  \n",
       "1613330      +  \n",
       "1613333      -  \n",
       "\n",
       "[48440 rows x 7 columns]"
      ]
     },
     "execution_count": 66,
     "metadata": {},
     "output_type": "execute_result"
    }
   ],
   "source": [
    "#Going to create a BED of just the genes of interest\n",
    "full_gtf = pd.read_csv(\n",
    "    '/oak/stanford/groups/horence/rob/readzs_fork/gencode.vM10.annotation.gff3',\n",
    "    comment = '#',\n",
    "    sep = '\\t',\n",
    "    header = None,\n",
    "    names = ['chrom','source','kind','start','stop','dot1','strand','dot2','info'],\n",
    ")\n",
    "\n",
    "full_gtf['gene_name'] = full_gtf['info'].str.extract('gene_name=(.*?);')\n",
    "full_gtf['gene_id'] = full_gtf['info'].str.extract('gene_id=(.*?);')\n",
    "\n",
    "gene_df = full_gtf.loc[full_gtf['kind'].eq('gene'),['gene_name','gene_id','chrom','source','start','stop','strand']]\n",
    "gene_df"
   ]
  },
  {
   "cell_type": "code",
   "execution_count": 67,
   "metadata": {},
   "outputs": [
    {
     "data": {
      "text/plain": [
       "{'1700011h14Rik',\n",
       " '2210010c04Rik',\n",
       " '4631405k08Rik',\n",
       " 'ComtLdha',\n",
       " 'Cybasc3',\n",
       " 'Cyp2c23',\n",
       " 'Darc',\n",
       " 'Eltd1',\n",
       " 'Faim3',\n",
       " 'Gpr116',\n",
       " 'Igj',\n",
       " 'Tent5c'}"
      ]
     },
     "execution_count": 67,
     "metadata": {},
     "output_type": "execute_result"
    }
   ],
   "source": [
    "#These genes aren't in the gff3 file (maybe they have a different name?)\n",
    "set(genes).difference(gene_df['gene_name'])"
   ]
  },
  {
   "cell_type": "code",
   "execution_count": 68,
   "metadata": {},
   "outputs": [
    {
     "data": {
      "text/plain": [
       "{'1700011h14Rik', '2210010c04Rik', '4631405k08Rik', 'ComtLdha'}"
      ]
     },
     "execution_count": 68,
     "metadata": {},
     "output_type": "execute_result"
    }
   ],
   "source": [
    "#Ok I was able to match more genes but couldn't find synonyms for the first 4 which I guess is fine\n",
    "gene_synonyms = {\n",
    "    #'':'1700011h14Rik',\n",
    "    #'':'2210010c04Rik',\n",
    "    #'':'4631405k08Rik',\n",
    "    #'':'ComtLdha',\n",
    "    'Cyb561a3':'Cybasc3',\n",
    "    'Cyp2c44':'Cyp2c23',\n",
    "    'Ackr1':'Darc',\n",
    "    'Adgrl4':'Eltd1',\n",
    "    'Fcmr':'Faim3',\n",
    "    'Adgrf5':'Gpr116',\n",
    "    'Jchain':'Igj',\n",
    "    'Fam46c':'Tent5c',\n",
    "}\n",
    "gene_df['gene_name'] = gene_df['gene_name'].replace(gene_synonyms)\n",
    "set(genes).difference(gene_df['gene_name'])"
   ]
  },
  {
   "cell_type": "code",
   "execution_count": 82,
   "metadata": {},
   "outputs": [
    {
     "data": {
      "text/html": [
       "<div>\n",
       "<style scoped>\n",
       "    .dataframe tbody tr th:only-of-type {\n",
       "        vertical-align: middle;\n",
       "    }\n",
       "\n",
       "    .dataframe tbody tr th {\n",
       "        vertical-align: top;\n",
       "    }\n",
       "\n",
       "    .dataframe thead th {\n",
       "        text-align: right;\n",
       "    }\n",
       "</style>\n",
       "<table border=\"1\" class=\"dataframe\">\n",
       "  <thead>\n",
       "    <tr style=\"text-align: right;\">\n",
       "      <th></th>\n",
       "      <th>#chr</th>\n",
       "      <th>start</th>\n",
       "      <th>end</th>\n",
       "      <th>gene</th>\n",
       "      <th>strand</th>\n",
       "    </tr>\n",
       "  </thead>\n",
       "  <tbody>\n",
       "    <tr>\n",
       "      <th>172</th>\n",
       "      <td>chr1</td>\n",
       "      <td>4490831</td>\n",
       "      <td>4497454</td>\n",
       "      <td>Sox17</td>\n",
       "      <td>-</td>\n",
       "    </tr>\n",
       "    <tr>\n",
       "      <th>14136</th>\n",
       "      <td>chr1</td>\n",
       "      <td>36761698</td>\n",
       "      <td>36782918</td>\n",
       "      <td>Zap70</td>\n",
       "      <td>+</td>\n",
       "    </tr>\n",
       "    <tr>\n",
       "      <th>20626</th>\n",
       "      <td>chr1</td>\n",
       "      <td>45907968</td>\n",
       "      <td>45926623</td>\n",
       "      <td>Slc40a1</td>\n",
       "      <td>-</td>\n",
       "    </tr>\n",
       "    <tr>\n",
       "      <th>21317</th>\n",
       "      <td>chr1</td>\n",
       "      <td>51289026</td>\n",
       "      <td>51303060</td>\n",
       "      <td>Sdpr</td>\n",
       "      <td>+</td>\n",
       "    </tr>\n",
       "    <tr>\n",
       "      <th>23683</th>\n",
       "      <td>chr1</td>\n",
       "      <td>53755406</td>\n",
       "      <td>53785324</td>\n",
       "      <td>Stk17b</td>\n",
       "      <td>-</td>\n",
       "    </tr>\n",
       "    <tr>\n",
       "      <th>...</th>\n",
       "      <td>...</td>\n",
       "      <td>...</td>\n",
       "      <td>...</td>\n",
       "      <td>...</td>\n",
       "      <td>...</td>\n",
       "    </tr>\n",
       "    <tr>\n",
       "      <th>1589321</th>\n",
       "      <td>chrX</td>\n",
       "      <td>150547275</td>\n",
       "      <td>150570738</td>\n",
       "      <td>Alas2</td>\n",
       "      <td>+</td>\n",
       "    </tr>\n",
       "    <tr>\n",
       "      <th>1594566</th>\n",
       "      <td>chrX</td>\n",
       "      <td>160122109</td>\n",
       "      <td>160138513</td>\n",
       "      <td>Pdha1</td>\n",
       "      <td>-</td>\n",
       "    </tr>\n",
       "    <tr>\n",
       "      <th>1597170</th>\n",
       "      <td>chrX</td>\n",
       "      <td>164088730</td>\n",
       "      <td>164118960</td>\n",
       "      <td>Tmem27</td>\n",
       "      <td>+</td>\n",
       "    </tr>\n",
       "    <tr>\n",
       "      <th>1597221</th>\n",
       "      <td>chrX</td>\n",
       "      <td>164139232</td>\n",
       "      <td>164188520</td>\n",
       "      <td>Ace2</td>\n",
       "      <td>+</td>\n",
       "    </tr>\n",
       "    <tr>\n",
       "      <th>1598618</th>\n",
       "      <td>chrX</td>\n",
       "      <td>167304829</td>\n",
       "      <td>167330658</td>\n",
       "      <td>Tlr7</td>\n",
       "      <td>-</td>\n",
       "    </tr>\n",
       "  </tbody>\n",
       "</table>\n",
       "<p>597 rows × 5 columns</p>\n",
       "</div>"
      ],
      "text/plain": [
       "         #chr      start        end     gene strand\n",
       "172      chr1    4490831    4497454    Sox17      -\n",
       "14136    chr1   36761698   36782918    Zap70      +\n",
       "20626    chr1   45907968   45926623  Slc40a1      -\n",
       "21317    chr1   51289026   51303060     Sdpr      +\n",
       "23683    chr1   53755406   53785324   Stk17b      -\n",
       "...       ...        ...        ...      ...    ...\n",
       "1589321  chrX  150547275  150570738    Alas2      +\n",
       "1594566  chrX  160122109  160138513    Pdha1      -\n",
       "1597170  chrX  164088730  164118960   Tmem27      +\n",
       "1597221  chrX  164139232  164188520     Ace2      +\n",
       "1598618  chrX  167304829  167330658     Tlr7      -\n",
       "\n",
       "[597 rows x 5 columns]"
      ]
     },
     "execution_count": 82,
     "metadata": {},
     "output_type": "execute_result"
    }
   ],
   "source": [
    "sub_gene_df = gene_df[gene_df['gene_name'].isin(genes)].drop_duplicates('gene_name')\n",
    "\n",
    "#chr start end gene strand #<-- header line I need in the bed\n",
    "col_renames = {\n",
    "    'chrom':'#chr',\n",
    "    'start':'start',\n",
    "    'stop':'end',\n",
    "    'gene_name':'gene',\n",
    "    'strand':'strand',\n",
    "}\n",
    "sub_gene_df = sub_gene_df.rename(columns=col_renames)[col_renames.values()]\n",
    "sub_gene_df['start'] -= 100 #be lenient\n",
    "sub_gene_df['end'] += 100 #be lenient\n",
    "sub_gene_df"
   ]
  },
  {
   "cell_type": "code",
   "execution_count": 84,
   "metadata": {
    "collapsed": true
   },
   "outputs": [],
   "source": [
    "sub_gene_df.to_csv(\n",
    "    '/oak/stanford/groups/horence/rob/isoform_localizations/SRRS/inputs/kidney_liver_genes.bed',\n",
    "    sep = ' ',\n",
    "    index=False,\n",
    ")"
   ]
  },
  {
   "cell_type": "markdown",
   "metadata": {},
   "source": [
    "# Creating the metadata file for ReadZs"
   ]
  },
  {
   "cell_type": "code",
   "execution_count": 89,
   "metadata": {},
   "outputs": [
    {
     "data": {
      "text/html": [
       "<div>\n",
       "<style scoped>\n",
       "    .dataframe tbody tr th:only-of-type {\n",
       "        vertical-align: middle;\n",
       "    }\n",
       "\n",
       "    .dataframe tbody tr th {\n",
       "        vertical-align: top;\n",
       "    }\n",
       "\n",
       "    .dataframe thead th {\n",
       "        text-align: right;\n",
       "    }\n",
       "</style>\n",
       "<table border=\"1\" class=\"dataframe\">\n",
       "  <thead>\n",
       "    <tr style=\"text-align: right;\">\n",
       "      <th></th>\n",
       "      <th>cell_id</th>\n",
       "      <th>cluster_id</th>\n",
       "      <th>library</th>\n",
       "      <th>cell_bc</th>\n",
       "      <th>cluster_label</th>\n",
       "      <th>subclass_label</th>\n",
       "      <th>class_label</th>\n",
       "      <th>cluster_color</th>\n",
       "      <th>size</th>\n",
       "      <th>mouse</th>\n",
       "    </tr>\n",
       "  </thead>\n",
       "  <tbody>\n",
       "    <tr>\n",
       "      <th>0</th>\n",
       "      <td>L8TX_181211_01_G12_AAACCCAAGCTTCATG</td>\n",
       "      <td>42</td>\n",
       "      <td>L8TX_181211_01_G12</td>\n",
       "      <td>AAACCCAAGCTTCATG</td>\n",
       "      <td>L5 IT Tcap_2</td>\n",
       "      <td>L5 IT</td>\n",
       "      <td>Glutamatergic</td>\n",
       "      <td>#52CA74</td>\n",
       "      <td>17334</td>\n",
       "      <td>426003</td>\n",
       "    </tr>\n",
       "    <tr>\n",
       "      <th>1</th>\n",
       "      <td>L8TX_181211_01_G12_AAACCCACACCAGCCA</td>\n",
       "      <td>42</td>\n",
       "      <td>L8TX_181211_01_G12</td>\n",
       "      <td>AAACCCACACCAGCCA</td>\n",
       "      <td>L5 IT Tcap_2</td>\n",
       "      <td>L5 IT</td>\n",
       "      <td>Glutamatergic</td>\n",
       "      <td>#52CA74</td>\n",
       "      <td>17334</td>\n",
       "      <td>426003</td>\n",
       "    </tr>\n",
       "    <tr>\n",
       "      <th>2</th>\n",
       "      <td>L8TX_181211_01_G12_AAACGAACAACGATTC</td>\n",
       "      <td>42</td>\n",
       "      <td>L8TX_181211_01_G12</td>\n",
       "      <td>AAACGAACAACGATTC</td>\n",
       "      <td>L5 IT Tcap_2</td>\n",
       "      <td>L5 IT</td>\n",
       "      <td>Glutamatergic</td>\n",
       "      <td>#52CA74</td>\n",
       "      <td>17334</td>\n",
       "      <td>426003</td>\n",
       "    </tr>\n",
       "    <tr>\n",
       "      <th>3</th>\n",
       "      <td>L8TX_181211_01_G12_AAACGAATCTCGTGAA</td>\n",
       "      <td>42</td>\n",
       "      <td>L8TX_181211_01_G12</td>\n",
       "      <td>AAACGAATCTCGTGAA</td>\n",
       "      <td>L5 IT Tcap_2</td>\n",
       "      <td>L5 IT</td>\n",
       "      <td>Glutamatergic</td>\n",
       "      <td>#52CA74</td>\n",
       "      <td>17334</td>\n",
       "      <td>426003</td>\n",
       "    </tr>\n",
       "    <tr>\n",
       "      <th>4</th>\n",
       "      <td>L8TX_181211_01_G12_AAACGCTGTAGTCACT</td>\n",
       "      <td>42</td>\n",
       "      <td>L8TX_181211_01_G12</td>\n",
       "      <td>AAACGCTGTAGTCACT</td>\n",
       "      <td>L5 IT Tcap_2</td>\n",
       "      <td>L5 IT</td>\n",
       "      <td>Glutamatergic</td>\n",
       "      <td>#52CA74</td>\n",
       "      <td>17334</td>\n",
       "      <td>426003</td>\n",
       "    </tr>\n",
       "    <tr>\n",
       "      <th>5</th>\n",
       "      <td>L8TX_181211_01_G12_AAAGAACGTACTAAGA</td>\n",
       "      <td>42</td>\n",
       "      <td>L8TX_181211_01_G12</td>\n",
       "      <td>AAAGAACGTACTAAGA</td>\n",
       "      <td>L5 IT Tcap_2</td>\n",
       "      <td>L5 IT</td>\n",
       "      <td>Glutamatergic</td>\n",
       "      <td>#52CA74</td>\n",
       "      <td>17334</td>\n",
       "      <td>426003</td>\n",
       "    </tr>\n",
       "    <tr>\n",
       "      <th>6</th>\n",
       "      <td>L8TX_181211_01_G12_AAAGGATCAAGTTCCA</td>\n",
       "      <td>42</td>\n",
       "      <td>L8TX_181211_01_G12</td>\n",
       "      <td>AAAGGATCAAGTTCCA</td>\n",
       "      <td>L5 IT Tcap_2</td>\n",
       "      <td>L5 IT</td>\n",
       "      <td>Glutamatergic</td>\n",
       "      <td>#52CA74</td>\n",
       "      <td>17334</td>\n",
       "      <td>426003</td>\n",
       "    </tr>\n",
       "    <tr>\n",
       "      <th>7</th>\n",
       "      <td>L8TX_181211_01_G12_AAAGGATCATCGCTAA</td>\n",
       "      <td>42</td>\n",
       "      <td>L8TX_181211_01_G12</td>\n",
       "      <td>AAAGGATCATCGCTAA</td>\n",
       "      <td>L5 IT Tcap_2</td>\n",
       "      <td>L5 IT</td>\n",
       "      <td>Glutamatergic</td>\n",
       "      <td>#52CA74</td>\n",
       "      <td>17334</td>\n",
       "      <td>426003</td>\n",
       "    </tr>\n",
       "    <tr>\n",
       "      <th>8</th>\n",
       "      <td>L8TX_181211_01_G12_AAAGGATGTCAGGTAG</td>\n",
       "      <td>42</td>\n",
       "      <td>L8TX_181211_01_G12</td>\n",
       "      <td>AAAGGATGTCAGGTAG</td>\n",
       "      <td>L5 IT Tcap_2</td>\n",
       "      <td>L5 IT</td>\n",
       "      <td>Glutamatergic</td>\n",
       "      <td>#52CA74</td>\n",
       "      <td>17334</td>\n",
       "      <td>426003</td>\n",
       "    </tr>\n",
       "    <tr>\n",
       "      <th>9</th>\n",
       "      <td>L8TX_181211_01_G12_AAAGGGCCAAGCGAAC</td>\n",
       "      <td>42</td>\n",
       "      <td>L8TX_181211_01_G12</td>\n",
       "      <td>AAAGGGCCAAGCGAAC</td>\n",
       "      <td>L5 IT Tcap_2</td>\n",
       "      <td>L5 IT</td>\n",
       "      <td>Glutamatergic</td>\n",
       "      <td>#52CA74</td>\n",
       "      <td>17334</td>\n",
       "      <td>426003</td>\n",
       "    </tr>\n",
       "  </tbody>\n",
       "</table>\n",
       "</div>"
      ],
      "text/plain": [
       "                               cell_id  cluster_id             library  \\\n",
       "0  L8TX_181211_01_G12_AAACCCAAGCTTCATG          42  L8TX_181211_01_G12   \n",
       "1  L8TX_181211_01_G12_AAACCCACACCAGCCA          42  L8TX_181211_01_G12   \n",
       "2  L8TX_181211_01_G12_AAACGAACAACGATTC          42  L8TX_181211_01_G12   \n",
       "3  L8TX_181211_01_G12_AAACGAATCTCGTGAA          42  L8TX_181211_01_G12   \n",
       "4  L8TX_181211_01_G12_AAACGCTGTAGTCACT          42  L8TX_181211_01_G12   \n",
       "5  L8TX_181211_01_G12_AAAGAACGTACTAAGA          42  L8TX_181211_01_G12   \n",
       "6  L8TX_181211_01_G12_AAAGGATCAAGTTCCA          42  L8TX_181211_01_G12   \n",
       "7  L8TX_181211_01_G12_AAAGGATCATCGCTAA          42  L8TX_181211_01_G12   \n",
       "8  L8TX_181211_01_G12_AAAGGATGTCAGGTAG          42  L8TX_181211_01_G12   \n",
       "9  L8TX_181211_01_G12_AAAGGGCCAAGCGAAC          42  L8TX_181211_01_G12   \n",
       "\n",
       "            cell_bc cluster_label subclass_label    class_label cluster_color  \\\n",
       "0  AAACCCAAGCTTCATG  L5 IT Tcap_2          L5 IT  Glutamatergic       #52CA74   \n",
       "1  AAACCCACACCAGCCA  L5 IT Tcap_2          L5 IT  Glutamatergic       #52CA74   \n",
       "2  AAACGAACAACGATTC  L5 IT Tcap_2          L5 IT  Glutamatergic       #52CA74   \n",
       "3  AAACGAATCTCGTGAA  L5 IT Tcap_2          L5 IT  Glutamatergic       #52CA74   \n",
       "4  AAACGCTGTAGTCACT  L5 IT Tcap_2          L5 IT  Glutamatergic       #52CA74   \n",
       "5  AAAGAACGTACTAAGA  L5 IT Tcap_2          L5 IT  Glutamatergic       #52CA74   \n",
       "6  AAAGGATCAAGTTCCA  L5 IT Tcap_2          L5 IT  Glutamatergic       #52CA74   \n",
       "7  AAAGGATCATCGCTAA  L5 IT Tcap_2          L5 IT  Glutamatergic       #52CA74   \n",
       "8  AAAGGATGTCAGGTAG  L5 IT Tcap_2          L5 IT  Glutamatergic       #52CA74   \n",
       "9  AAAGGGCCAAGCGAAC  L5 IT Tcap_2          L5 IT  Glutamatergic       #52CA74   \n",
       "\n",
       "    size   mouse  \n",
       "0  17334  426003  \n",
       "1  17334  426003  \n",
       "2  17334  426003  \n",
       "3  17334  426003  \n",
       "4  17334  426003  \n",
       "5  17334  426003  \n",
       "6  17334  426003  \n",
       "7  17334  426003  \n",
       "8  17334  426003  \n",
       "9  17334  426003  "
      ]
     },
     "execution_count": 89,
     "metadata": {},
     "output_type": "execute_result"
    }
   ],
   "source": [
    "example_df = pd.read_csv(\n",
    "    '/oak/stanford/groups/horence/rob/readzs_fork/MOp_10Xv3_metadata_with_mouse.tsv',\n",
    "    sep = '\\t',\n",
    "    nrows = 10,\n",
    ")\n",
    "example_df"
   ]
  },
  {
   "cell_type": "code",
   "execution_count": 98,
   "metadata": {},
   "outputs": [
    {
     "name": "stderr",
     "output_type": "stream",
     "text": [
      "/share/software/user/open/py-jupyter/1.0.0_py36/lib/python3.6/site-packages/IPython/core/interactiveshell.py:2698: DtypeWarning: Columns (10) have mixed types.Specify dtype option on import or set low_memory=False.\n",
      "  interactivity=interactivity, compiler=compiler, result=result)\n"
     ]
    },
    {
     "data": {
      "text/html": [
       "<div>\n",
       "<style scoped>\n",
       "    .dataframe tbody tr th:only-of-type {\n",
       "        vertical-align: middle;\n",
       "    }\n",
       "\n",
       "    .dataframe tbody tr th {\n",
       "        vertical-align: top;\n",
       "    }\n",
       "\n",
       "    .dataframe thead th {\n",
       "        text-align: right;\n",
       "    }\n",
       "</style>\n",
       "<table border=\"1\" class=\"dataframe\">\n",
       "  <thead>\n",
       "    <tr style=\"text-align: right;\">\n",
       "      <th></th>\n",
       "      <th>index</th>\n",
       "      <th>age</th>\n",
       "      <th>cell</th>\n",
       "      <th>cell_ontology_class</th>\n",
       "      <th>cell_ontology_id</th>\n",
       "      <th>free_annotation</th>\n",
       "      <th>method</th>\n",
       "      <th>mouse.id</th>\n",
       "      <th>n_genes</th>\n",
       "      <th>sex</th>\n",
       "      <th>subtissue</th>\n",
       "      <th>tissue</th>\n",
       "      <th>n_counts</th>\n",
       "      <th>louvain</th>\n",
       "      <th>cluster_names</th>\n",
       "      <th>cell1</th>\n",
       "    </tr>\n",
       "  </thead>\n",
       "  <tbody>\n",
       "    <tr>\n",
       "      <th>0</th>\n",
       "      <td>AAACCTGAGTCCTCCT-1-47-1-0</td>\n",
       "      <td>1m</td>\n",
       "      <td>10X_P5_4_AAACCTGAGTCCTCCT</td>\n",
       "      <td>bladder cell</td>\n",
       "      <td>CL:1001319</td>\n",
       "      <td>bladder mesenchymal cell (Car3+)</td>\n",
       "      <td>droplet</td>\n",
       "      <td>1-M-63</td>\n",
       "      <td>3301</td>\n",
       "      <td>male</td>\n",
       "      <td>BLADDER</td>\n",
       "      <td>Bladder</td>\n",
       "      <td>11976.0</td>\n",
       "      <td>2.0</td>\n",
       "      <td>2_bladder cell</td>\n",
       "      <td>10X_P5_4_S5_L00_AAACCTGAGTCCTCCT</td>\n",
       "    </tr>\n",
       "    <tr>\n",
       "      <th>1</th>\n",
       "      <td>AAACCTGCAGCTATTG-1-47-1-0</td>\n",
       "      <td>1m</td>\n",
       "      <td>10X_P5_4_AAACCTGCAGCTATTG</td>\n",
       "      <td>bladder urothelial cell</td>\n",
       "      <td>CL:1001428</td>\n",
       "      <td>luminal bladder epithelial cell (umbrella cell)</td>\n",
       "      <td>droplet</td>\n",
       "      <td>1-M-63</td>\n",
       "      <td>2236</td>\n",
       "      <td>male</td>\n",
       "      <td>BLADDER</td>\n",
       "      <td>Bladder</td>\n",
       "      <td>7275.0</td>\n",
       "      <td>6.0</td>\n",
       "      <td>6_bladder urothelial cell</td>\n",
       "      <td>10X_P5_4_S5_L00_AAACCTGCAGCTATTG</td>\n",
       "    </tr>\n",
       "    <tr>\n",
       "      <th>2</th>\n",
       "      <td>AAAGATGAGCAGGCTA-1-47-1-0</td>\n",
       "      <td>1m</td>\n",
       "      <td>10X_P5_4_AAAGATGAGCAGGCTA</td>\n",
       "      <td>bladder cell</td>\n",
       "      <td>CL:1001319</td>\n",
       "      <td>bladder mesenchymal cell (Car3+)</td>\n",
       "      <td>droplet</td>\n",
       "      <td>1-M-63</td>\n",
       "      <td>3670</td>\n",
       "      <td>male</td>\n",
       "      <td>BLADDER</td>\n",
       "      <td>Bladder</td>\n",
       "      <td>14773.0</td>\n",
       "      <td>2.0</td>\n",
       "      <td>2_bladder cell</td>\n",
       "      <td>10X_P5_4_S5_L00_AAAGATGAGCAGGCTA</td>\n",
       "    </tr>\n",
       "    <tr>\n",
       "      <th>3</th>\n",
       "      <td>AAAGCAAGTCTCTTAT-1-47-1-0</td>\n",
       "      <td>1m</td>\n",
       "      <td>10X_P5_4_AAAGCAAGTCTCTTAT</td>\n",
       "      <td>bladder cell</td>\n",
       "      <td>CL:1001319</td>\n",
       "      <td>bladder mesenchymal cell (Scara5+)</td>\n",
       "      <td>droplet</td>\n",
       "      <td>1-M-63</td>\n",
       "      <td>2699</td>\n",
       "      <td>male</td>\n",
       "      <td>BLADDER</td>\n",
       "      <td>Bladder</td>\n",
       "      <td>7755.0</td>\n",
       "      <td>3.0</td>\n",
       "      <td>3_bladder cell</td>\n",
       "      <td>10X_P5_4_S5_L00_AAAGCAAGTCTCTTAT</td>\n",
       "    </tr>\n",
       "    <tr>\n",
       "      <th>4</th>\n",
       "      <td>AAAGCAATCCACGAAT-1-47-1-0</td>\n",
       "      <td>1m</td>\n",
       "      <td>10X_P5_4_AAAGCAATCCACGAAT</td>\n",
       "      <td>bladder cell</td>\n",
       "      <td>CL:1001319</td>\n",
       "      <td>bladder mesenchymal cell (Scara5+)</td>\n",
       "      <td>droplet</td>\n",
       "      <td>1-M-63</td>\n",
       "      <td>2742</td>\n",
       "      <td>male</td>\n",
       "      <td>BLADDER</td>\n",
       "      <td>Bladder</td>\n",
       "      <td>9122.0</td>\n",
       "      <td>3.0</td>\n",
       "      <td>3_bladder cell</td>\n",
       "      <td>10X_P5_4_S5_L00_AAAGCAATCCACGAAT</td>\n",
       "    </tr>\n",
       "  </tbody>\n",
       "</table>\n",
       "</div>"
      ],
      "text/plain": [
       "                       index age                       cell  \\\n",
       "0  AAACCTGAGTCCTCCT-1-47-1-0  1m  10X_P5_4_AAACCTGAGTCCTCCT   \n",
       "1  AAACCTGCAGCTATTG-1-47-1-0  1m  10X_P5_4_AAACCTGCAGCTATTG   \n",
       "2  AAAGATGAGCAGGCTA-1-47-1-0  1m  10X_P5_4_AAAGATGAGCAGGCTA   \n",
       "3  AAAGCAAGTCTCTTAT-1-47-1-0  1m  10X_P5_4_AAAGCAAGTCTCTTAT   \n",
       "4  AAAGCAATCCACGAAT-1-47-1-0  1m  10X_P5_4_AAAGCAATCCACGAAT   \n",
       "\n",
       "       cell_ontology_class cell_ontology_id  \\\n",
       "0             bladder cell       CL:1001319   \n",
       "1  bladder urothelial cell       CL:1001428   \n",
       "2             bladder cell       CL:1001319   \n",
       "3             bladder cell       CL:1001319   \n",
       "4             bladder cell       CL:1001319   \n",
       "\n",
       "                                   free_annotation   method mouse.id  n_genes  \\\n",
       "0                 bladder mesenchymal cell (Car3+)  droplet   1-M-63     3301   \n",
       "1  luminal bladder epithelial cell (umbrella cell)  droplet   1-M-63     2236   \n",
       "2                 bladder mesenchymal cell (Car3+)  droplet   1-M-63     3670   \n",
       "3               bladder mesenchymal cell (Scara5+)  droplet   1-M-63     2699   \n",
       "4               bladder mesenchymal cell (Scara5+)  droplet   1-M-63     2742   \n",
       "\n",
       "    sex subtissue   tissue  n_counts  louvain              cluster_names  \\\n",
       "0  male   BLADDER  Bladder   11976.0      2.0             2_bladder cell   \n",
       "1  male   BLADDER  Bladder    7275.0      6.0  6_bladder urothelial cell   \n",
       "2  male   BLADDER  Bladder   14773.0      2.0             2_bladder cell   \n",
       "3  male   BLADDER  Bladder    7755.0      3.0             3_bladder cell   \n",
       "4  male   BLADDER  Bladder    9122.0      3.0             3_bladder cell   \n",
       "\n",
       "                              cell1  \n",
       "0  10X_P5_4_S5_L00_AAACCTGAGTCCTCCT  \n",
       "1  10X_P5_4_S5_L00_AAACCTGCAGCTATTG  \n",
       "2  10X_P5_4_S5_L00_AAAGATGAGCAGGCTA  \n",
       "3  10X_P5_4_S5_L00_AAAGCAAGTCTCTTAT  \n",
       "4  10X_P5_4_S5_L00_AAAGCAATCCACGAAT  "
      ]
     },
     "execution_count": 98,
     "metadata": {},
     "output_type": "execute_result"
    }
   ],
   "source": [
    "meta_df = pd.read_csv(\n",
    "    '/oak/stanford/groups/horence/Roozbeh/single_cell_project/utility_files/meta_data/Tabula_muris_senis/Tabula_muris_droplet_new.csv',\n",
    ")\n",
    "meta_df.head()"
   ]
  },
  {
   "cell_type": "code",
   "execution_count": 103,
   "metadata": {},
   "outputs": [
    {
     "data": {
      "text/html": [
       "<div>\n",
       "<style scoped>\n",
       "    .dataframe tbody tr th:only-of-type {\n",
       "        vertical-align: middle;\n",
       "    }\n",
       "\n",
       "    .dataframe tbody tr th {\n",
       "        vertical-align: top;\n",
       "    }\n",
       "\n",
       "    .dataframe thead th {\n",
       "        text-align: right;\n",
       "    }\n",
       "</style>\n",
       "<table border=\"1\" class=\"dataframe\">\n",
       "  <thead>\n",
       "    <tr style=\"text-align: right;\">\n",
       "      <th></th>\n",
       "      <th>cell_id</th>\n",
       "      <th>free_annotation</th>\n",
       "      <th>cell_ontology_class</th>\n",
       "      <th>tissue</th>\n",
       "      <th>mouse_id</th>\n",
       "      <th>sex</th>\n",
       "      <th>age</th>\n",
       "    </tr>\n",
       "  </thead>\n",
       "  <tbody>\n",
       "    <tr>\n",
       "      <th>9171</th>\n",
       "      <td>10X_P1_1_AAACCTGAGACTGGGT</td>\n",
       "      <td>Epcam    proximal tube epithelial cell</td>\n",
       "      <td>epithelial cell of proximal tubule</td>\n",
       "      <td>Kidney</td>\n",
       "      <td>30-M-2</td>\n",
       "      <td>male</td>\n",
       "      <td>30m</td>\n",
       "    </tr>\n",
       "    <tr>\n",
       "      <th>9172</th>\n",
       "      <td>10X_P1_1_AAACCTGAGATGTAAC</td>\n",
       "      <td>Stroma    fibroblast</td>\n",
       "      <td>fibroblast</td>\n",
       "      <td>Kidney</td>\n",
       "      <td>30-M-2</td>\n",
       "      <td>male</td>\n",
       "      <td>30m</td>\n",
       "    </tr>\n",
       "    <tr>\n",
       "      <th>9173</th>\n",
       "      <td>10X_P1_1_AAACCTGAGGCTAGAC</td>\n",
       "      <td>Stroma    fibroblast</td>\n",
       "      <td>fibroblast</td>\n",
       "      <td>Kidney</td>\n",
       "      <td>30-M-2</td>\n",
       "      <td>male</td>\n",
       "      <td>30m</td>\n",
       "    </tr>\n",
       "    <tr>\n",
       "      <th>9174</th>\n",
       "      <td>10X_P1_1_AAACCTGGTAGAGCTG</td>\n",
       "      <td>Epcam     kidney distal convoluted tubule epit...</td>\n",
       "      <td>kidney distal convoluted tubule epithelial cell</td>\n",
       "      <td>Kidney</td>\n",
       "      <td>30-M-2</td>\n",
       "      <td>male</td>\n",
       "      <td>30m</td>\n",
       "    </tr>\n",
       "    <tr>\n",
       "      <th>9175</th>\n",
       "      <td>10X_P1_1_AAACCTGGTCATTAGC</td>\n",
       "      <td>Epcam    podocyte</td>\n",
       "      <td>podocyte</td>\n",
       "      <td>Kidney</td>\n",
       "      <td>30-M-2</td>\n",
       "      <td>male</td>\n",
       "      <td>30m</td>\n",
       "    </tr>\n",
       "  </tbody>\n",
       "</table>\n",
       "</div>"
      ],
      "text/plain": [
       "                        cell_id  \\\n",
       "9171  10X_P1_1_AAACCTGAGACTGGGT   \n",
       "9172  10X_P1_1_AAACCTGAGATGTAAC   \n",
       "9173  10X_P1_1_AAACCTGAGGCTAGAC   \n",
       "9174  10X_P1_1_AAACCTGGTAGAGCTG   \n",
       "9175  10X_P1_1_AAACCTGGTCATTAGC   \n",
       "\n",
       "                                        free_annotation  \\\n",
       "9171             Epcam    proximal tube epithelial cell   \n",
       "9172                               Stroma    fibroblast   \n",
       "9173                               Stroma    fibroblast   \n",
       "9174  Epcam     kidney distal convoluted tubule epit...   \n",
       "9175                                  Epcam    podocyte   \n",
       "\n",
       "                                  cell_ontology_class  tissue mouse_id   sex  \\\n",
       "9171               epithelial cell of proximal tubule  Kidney   30-M-2  male   \n",
       "9172                                       fibroblast  Kidney   30-M-2  male   \n",
       "9173                                       fibroblast  Kidney   30-M-2  male   \n",
       "9174  kidney distal convoluted tubule epithelial cell  Kidney   30-M-2  male   \n",
       "9175                                         podocyte  Kidney   30-M-2  male   \n",
       "\n",
       "      age  \n",
       "9171  30m  \n",
       "9172  30m  \n",
       "9173  30m  \n",
       "9174  30m  \n",
       "9175  30m  "
      ]
     },
     "execution_count": 103,
     "metadata": {},
     "output_type": "execute_result"
    }
   ],
   "source": [
    "col_renames = {\n",
    "    'cell':'cell_id',\n",
    "    'free_annotation':'free_annotation',\n",
    "    'cell_ontology_class':'cell_ontology_class',\n",
    "    'tissue':'tissue',\n",
    "    'mouse.id':'mouse_id',\n",
    "    'sex':'sex',\n",
    "    'age':'age',\n",
    "}\n",
    "meta_df = meta_df[\n",
    "    meta_df['tissue'].isin(['Kidney','Liver'])\n",
    "]\n",
    "meta_df = meta_df.rename(columns=col_renames)[col_renames.values()]\n",
    "meta_df.head()"
   ]
  },
  {
   "cell_type": "code",
   "execution_count": 104,
   "metadata": {},
   "outputs": [
    {
     "data": {
      "text/html": [
       "<div>\n",
       "<style scoped>\n",
       "    .dataframe tbody tr th:only-of-type {\n",
       "        vertical-align: middle;\n",
       "    }\n",
       "\n",
       "    .dataframe tbody tr th {\n",
       "        vertical-align: top;\n",
       "    }\n",
       "\n",
       "    .dataframe thead th {\n",
       "        text-align: right;\n",
       "    }\n",
       "</style>\n",
       "<table border=\"1\" class=\"dataframe\">\n",
       "  <thead>\n",
       "    <tr style=\"text-align: right;\">\n",
       "      <th></th>\n",
       "      <th>cell_id</th>\n",
       "      <th>free_annotation</th>\n",
       "      <th>cell_ontology_class</th>\n",
       "      <th>tissue</th>\n",
       "      <th>mouse_id</th>\n",
       "      <th>sex</th>\n",
       "      <th>age</th>\n",
       "      <th>cell_bc</th>\n",
       "      <th>library</th>\n",
       "    </tr>\n",
       "  </thead>\n",
       "  <tbody>\n",
       "    <tr>\n",
       "      <th>9171</th>\n",
       "      <td>10X_P1_1_AAACCTGAGACTGGGT</td>\n",
       "      <td>Epcam    proximal tube epithelial cell</td>\n",
       "      <td>epithelial cell of proximal tubule</td>\n",
       "      <td>Kidney</td>\n",
       "      <td>30-M-2</td>\n",
       "      <td>male</td>\n",
       "      <td>30m</td>\n",
       "      <td>AAACCTGAGACTGGGT</td>\n",
       "      <td>P1_1</td>\n",
       "    </tr>\n",
       "    <tr>\n",
       "      <th>9172</th>\n",
       "      <td>10X_P1_1_AAACCTGAGATGTAAC</td>\n",
       "      <td>Stroma    fibroblast</td>\n",
       "      <td>fibroblast</td>\n",
       "      <td>Kidney</td>\n",
       "      <td>30-M-2</td>\n",
       "      <td>male</td>\n",
       "      <td>30m</td>\n",
       "      <td>AAACCTGAGATGTAAC</td>\n",
       "      <td>P1_1</td>\n",
       "    </tr>\n",
       "    <tr>\n",
       "      <th>9173</th>\n",
       "      <td>10X_P1_1_AAACCTGAGGCTAGAC</td>\n",
       "      <td>Stroma    fibroblast</td>\n",
       "      <td>fibroblast</td>\n",
       "      <td>Kidney</td>\n",
       "      <td>30-M-2</td>\n",
       "      <td>male</td>\n",
       "      <td>30m</td>\n",
       "      <td>AAACCTGAGGCTAGAC</td>\n",
       "      <td>P1_1</td>\n",
       "    </tr>\n",
       "    <tr>\n",
       "      <th>9174</th>\n",
       "      <td>10X_P1_1_AAACCTGGTAGAGCTG</td>\n",
       "      <td>Epcam     kidney distal convoluted tubule epit...</td>\n",
       "      <td>kidney distal convoluted tubule epithelial cell</td>\n",
       "      <td>Kidney</td>\n",
       "      <td>30-M-2</td>\n",
       "      <td>male</td>\n",
       "      <td>30m</td>\n",
       "      <td>AAACCTGGTAGAGCTG</td>\n",
       "      <td>P1_1</td>\n",
       "    </tr>\n",
       "    <tr>\n",
       "      <th>9175</th>\n",
       "      <td>10X_P1_1_AAACCTGGTCATTAGC</td>\n",
       "      <td>Epcam    podocyte</td>\n",
       "      <td>podocyte</td>\n",
       "      <td>Kidney</td>\n",
       "      <td>30-M-2</td>\n",
       "      <td>male</td>\n",
       "      <td>30m</td>\n",
       "      <td>AAACCTGGTCATTAGC</td>\n",
       "      <td>P1_1</td>\n",
       "    </tr>\n",
       "  </tbody>\n",
       "</table>\n",
       "</div>"
      ],
      "text/plain": [
       "                        cell_id  \\\n",
       "9171  10X_P1_1_AAACCTGAGACTGGGT   \n",
       "9172  10X_P1_1_AAACCTGAGATGTAAC   \n",
       "9173  10X_P1_1_AAACCTGAGGCTAGAC   \n",
       "9174  10X_P1_1_AAACCTGGTAGAGCTG   \n",
       "9175  10X_P1_1_AAACCTGGTCATTAGC   \n",
       "\n",
       "                                        free_annotation  \\\n",
       "9171             Epcam    proximal tube epithelial cell   \n",
       "9172                               Stroma    fibroblast   \n",
       "9173                               Stroma    fibroblast   \n",
       "9174  Epcam     kidney distal convoluted tubule epit...   \n",
       "9175                                  Epcam    podocyte   \n",
       "\n",
       "                                  cell_ontology_class  tissue mouse_id   sex  \\\n",
       "9171               epithelial cell of proximal tubule  Kidney   30-M-2  male   \n",
       "9172                                       fibroblast  Kidney   30-M-2  male   \n",
       "9173                                       fibroblast  Kidney   30-M-2  male   \n",
       "9174  kidney distal convoluted tubule epithelial cell  Kidney   30-M-2  male   \n",
       "9175                                         podocyte  Kidney   30-M-2  male   \n",
       "\n",
       "      age           cell_bc library  \n",
       "9171  30m  AAACCTGAGACTGGGT    P1_1  \n",
       "9172  30m  AAACCTGAGATGTAAC    P1_1  \n",
       "9173  30m  AAACCTGAGGCTAGAC    P1_1  \n",
       "9174  30m  AAACCTGGTAGAGCTG    P1_1  \n",
       "9175  30m  AAACCTGGTCATTAGC    P1_1  "
      ]
     },
     "execution_count": 104,
     "metadata": {},
     "output_type": "execute_result"
    }
   ],
   "source": [
    "split_str = meta_df['cell_id'].str.split('_')\n",
    "meta_df['cell_bc'] = split_str.str[3]\n",
    "meta_df['library'] = split_str.str[1]+'_'+split_str.str[2]\n",
    "meta_df.head()"
   ]
  },
  {
   "cell_type": "code",
   "execution_count": 105,
   "metadata": {
    "collapsed": true
   },
   "outputs": [],
   "source": [
    "meta_df.to_csv(\n",
    "    '/oak/stanford/groups/horence/rob/readzs_fork/tabula_muris_kidney_liver_metadata.tsv',\n",
    "    sep='\\t',\n",
    "    index=False,\n",
    ")"
   ]
  },
  {
   "cell_type": "markdown",
   "metadata": {},
   "source": [
    "# Structure of data looks the same as MERFISH MOp dataset\n",
    "\n",
    "* There is a global coordinate system used (which is great)\n",
    "* Cell boundaries are saved as deeply nested hdf5 files\n",
    "* Different features (field of views?) are saved as different hdf5s\n",
    "* RNA spot locations are separately saved as CSVs\n",
    "* Cell-type annotation data is contained in the h5ad files (three alternate approaches were used to annotate cells)\n",
    "\n",
    "I need to identify which RNA spot belongs to which cell and make my own hdf5 objects"
   ]
  },
  {
   "cell_type": "code",
   "execution_count": 23,
   "metadata": {
    "collapsed": true
   },
   "outputs": [],
   "source": [
    "stem = '/oak/stanford/groups/horence/rob/isoform_localizations/SRRS/preprocessing/KidneyLiver_preprocessing/data'"
   ]
  },
  {
   "cell_type": "markdown",
   "metadata": {},
   "source": [
    "## The RNA-spot x,y coordinates are in the cell_boundary zips at the first level\n",
    "\n"
   ]
  },
  {
   "cell_type": "code",
   "execution_count": 122,
   "metadata": {},
   "outputs": [
    {
     "data": {
      "text/html": [
       "<div>\n",
       "<style scoped>\n",
       "    .dataframe tbody tr th:only-of-type {\n",
       "        vertical-align: middle;\n",
       "    }\n",
       "\n",
       "    .dataframe tbody tr th {\n",
       "        vertical-align: top;\n",
       "    }\n",
       "\n",
       "    .dataframe thead th {\n",
       "        text-align: right;\n",
       "    }\n",
       "</style>\n",
       "<table border=\"1\" class=\"dataframe\">\n",
       "  <thead>\n",
       "    <tr style=\"text-align: right;\">\n",
       "      <th></th>\n",
       "      <th>barcode_id</th>\n",
       "      <th>global_x</th>\n",
       "      <th>global_y</th>\n",
       "      <th>global_z</th>\n",
       "      <th>x</th>\n",
       "      <th>y</th>\n",
       "      <th>fov</th>\n",
       "    </tr>\n",
       "  </thead>\n",
       "  <tbody>\n",
       "    <tr>\n",
       "      <th>15027</th>\n",
       "      <td>1</td>\n",
       "      <td>60.294850</td>\n",
       "      <td>4139.9907</td>\n",
       "      <td>0.0</td>\n",
       "      <td>558.28564</td>\n",
       "      <td>1293.2473</td>\n",
       "      <td>0</td>\n",
       "    </tr>\n",
       "    <tr>\n",
       "      <th>15378</th>\n",
       "      <td>1</td>\n",
       "      <td>39.915333</td>\n",
       "      <td>4147.5140</td>\n",
       "      <td>1.0</td>\n",
       "      <td>369.58640</td>\n",
       "      <td>1362.9089</td>\n",
       "      <td>0</td>\n",
       "    </tr>\n",
       "    <tr>\n",
       "      <th>15711</th>\n",
       "      <td>1</td>\n",
       "      <td>39.696377</td>\n",
       "      <td>4146.4930</td>\n",
       "      <td>2.0</td>\n",
       "      <td>367.55905</td>\n",
       "      <td>1353.4525</td>\n",
       "      <td>0</td>\n",
       "    </tr>\n",
       "    <tr>\n",
       "      <th>15714</th>\n",
       "      <td>1</td>\n",
       "      <td>38.378930</td>\n",
       "      <td>4147.7925</td>\n",
       "      <td>2.0</td>\n",
       "      <td>355.36044</td>\n",
       "      <td>1365.4845</td>\n",
       "      <td>0</td>\n",
       "    </tr>\n",
       "    <tr>\n",
       "      <th>17381</th>\n",
       "      <td>2</td>\n",
       "      <td>42.090202</td>\n",
       "      <td>4172.0874</td>\n",
       "      <td>0.0</td>\n",
       "      <td>389.72410</td>\n",
       "      <td>1590.4384</td>\n",
       "      <td>0</td>\n",
       "    </tr>\n",
       "    <tr>\n",
       "      <th>17389</th>\n",
       "      <td>2</td>\n",
       "      <td>44.631676</td>\n",
       "      <td>4177.0527</td>\n",
       "      <td>0.0</td>\n",
       "      <td>413.25626</td>\n",
       "      <td>1636.4127</td>\n",
       "      <td>0</td>\n",
       "    </tr>\n",
       "    <tr>\n",
       "      <th>17399</th>\n",
       "      <td>2</td>\n",
       "      <td>124.657970</td>\n",
       "      <td>4182.4110</td>\n",
       "      <td>0.0</td>\n",
       "      <td>1154.24040</td>\n",
       "      <td>1686.0298</td>\n",
       "      <td>0</td>\n",
       "    </tr>\n",
       "    <tr>\n",
       "      <th>17404</th>\n",
       "      <td>2</td>\n",
       "      <td>72.460770</td>\n",
       "      <td>4185.3057</td>\n",
       "      <td>0.0</td>\n",
       "      <td>670.93304</td>\n",
       "      <td>1712.8289</td>\n",
       "      <td>0</td>\n",
       "    </tr>\n",
       "    <tr>\n",
       "      <th>17413</th>\n",
       "      <td>2</td>\n",
       "      <td>189.540280</td>\n",
       "      <td>4187.7754</td>\n",
       "      <td>0.0</td>\n",
       "      <td>1755.00260</td>\n",
       "      <td>1735.6995</td>\n",
       "      <td>0</td>\n",
       "    </tr>\n",
       "    <tr>\n",
       "      <th>17589</th>\n",
       "      <td>2</td>\n",
       "      <td>123.952400</td>\n",
       "      <td>4170.2866</td>\n",
       "      <td>1.0</td>\n",
       "      <td>1147.70740</td>\n",
       "      <td>1573.7634</td>\n",
       "      <td>0</td>\n",
       "    </tr>\n",
       "  </tbody>\n",
       "</table>\n",
       "</div>"
      ],
      "text/plain": [
       "       barcode_id    global_x   global_y  global_z           x          y  fov\n",
       "15027           1   60.294850  4139.9907       0.0   558.28564  1293.2473    0\n",
       "15378           1   39.915333  4147.5140       1.0   369.58640  1362.9089    0\n",
       "15711           1   39.696377  4146.4930       2.0   367.55905  1353.4525    0\n",
       "15714           1   38.378930  4147.7925       2.0   355.36044  1365.4845    0\n",
       "17381           2   42.090202  4172.0874       0.0   389.72410  1590.4384    0\n",
       "17389           2   44.631676  4177.0527       0.0   413.25626  1636.4127    0\n",
       "17399           2  124.657970  4182.4110       0.0  1154.24040  1686.0298    0\n",
       "17404           2   72.460770  4185.3057       0.0   670.93304  1712.8289    0\n",
       "17413           2  189.540280  4187.7754       0.0  1755.00260  1735.6995    0\n",
       "17589           2  123.952400  4170.2866       1.0  1147.70740  1573.7634    0"
      ]
     },
     "execution_count": 122,
     "metadata": {},
     "output_type": "execute_result"
    }
   ],
   "source": [
    "spots_path = os.path.join(stem,'VZG116','MsKidney_CellBoundary_VZG116_111921','barcodes.csv')\n",
    "spots_df = pd.read_csv(spots_path,nrows=10, index_col=0)\n",
    "spots_df"
   ]
  },
  {
   "cell_type": "markdown",
   "metadata": {},
   "source": [
    "# The cell boundary zips have hdf5's and metadata\n",
    "\n",
    "I first extracted the following hdf5 from the zip by `unzip -p MsKidney_CellBoundary_VZG116_111921.zip MsKidney_CellBoundary_VZG116_111921/features/feature_data_426.hdf5 > feature_data_426.hdf5`\n",
    "\n",
    "Then after all the unzipping I've just chosen feature 0"
   ]
  },
  {
   "cell_type": "code",
   "execution_count": 26,
   "metadata": {},
   "outputs": [
    {
     "data": {
      "text/plain": [
       "<HDF5 file \"feature_data_0.hdf5\" (mode r)>"
      ]
     },
     "execution_count": 26,
     "metadata": {},
     "output_type": "execute_result"
    }
   ],
   "source": [
    "boundary_path = 'VZG116/MsKidney_CellBoundary_VZG116_111921/features/feature_data_0.hdf5'\n",
    "h5_path = os.path.join(stem,boundary_path)\n",
    "f = h5py.File(h5_path,'r')\n",
    "f"
   ]
  },
  {
   "cell_type": "code",
   "execution_count": 27,
   "metadata": {},
   "outputs": [
    {
     "name": "stdout",
     "output_type": "stream",
     "text": [
      "{}\n",
      "<KeysViewHDF5 ['featuredata']>\n"
     ]
    }
   ],
   "source": [
    "#Top level just has a single group and no attrs\n",
    "print(dict(f.attrs))\n",
    "print(f.keys())"
   ]
  },
  {
   "cell_type": "code",
   "execution_count": 28,
   "metadata": {},
   "outputs": [
    {
     "name": "stdout",
     "output_type": "stream",
     "text": [
      "{'version': '0.1.9'}\n",
      "<KeysViewHDF5 ['100103156195484539835846679900152827019', '100299055550742403838736454416457106378', '100508361727354390246543055490415090933', '101476277448225652664802681520983252404', '103728463955077055232451996731088051447', '104222948928279623114028829933895195341', '104526801981315108965592901153246583246', '105309408644564871164037469359287068640', '106370707215343124060643694237623883399', '106405441000697822475815192626529379185', '106663001722679040094866384247355692679', '107126195243196220662672457467932423550', '107340917873496722391902389343930622568', '108158240686793044318395000820003537507', '108878020415038133139664278871321516822', '111163574283754754217026357403380102771', '111543161655411050871845493560418495536', '112270083282318023924975570120851178170', '112725371820061477285802187269861341457', '112857067947364058072808131010050699657', '114493660372516245977362155515229273451', '114629009470983925689809934313144542720', '115779656210224291799051518506309116141', '116256413677360511608175082446643754725', '117808626177287423952060808560419012534', '119262424985767019298270081560094229668', '11948241403564897128941000808816815186', '120039882223725137487018134456811190611', '12034286243501797708152491238502858875', '120949654669009302978412846771283420392', '120980217123954837429754751661118123302', '123757125404750412073595163388905261930', '124039407271883766166215255344976076130', '124141040531771883269994412386205042460', '124353810837497248609040968572314488684', '126058563541644541742370377835324850242', '126708118061311826877595096992022291868', '128398857431736044323571406622439258460', '128784291901368973632499848771039524278', '129095221918089484350500604148528685876', '130080112367220719001091159790196743836', '130626163340068007162801606123677316083', '131187857373713186114952040030597594939', '131197864961453199341988996231832913681', '131921195041924171590439822498757379189', '132116056002441021747633222221126171186', '132680687968247725239927165495091788959', '132688240529497587482040564727020500950', '133320144673115903379784528892812384077', '133424136385679760261758430336622292793', '133761629041386903635604307914408541534', '134271616988302150242634495874666144010', '134544133249557655979072031652796889870', '134585554535158448927293582742681398561', '135478237710895586964817971479410726565', '135833983905957795495152361126526249444', '136672114373793885961229539066668246990', '136931513118825831350656131391352606480', '137122889654500924799301402721465942022', '137733894583950453698954801706441619855', '138938311921109834561027742560584812969', '140785670503689138155239123874235596716', '14150359994350002547298425883725692330', '141568382127012503377531112807970720840', '142440747697670405109151155783954219183', '142664012281423175877055638824933342502', '144397345170497714103056478982359564700', '145263699965323216138929337373842469038', '146114436268731068408663540618317038715', '147042706624548627150352113412210248071', '147118443475214946443453192659182265588', '147908857708372616620029810708587961316', '148046012386084256970026280104596296992', '149738449341323238039059396588336585281', '149903540556967809779712386772551395338', '150690419581258643212668570903768929779', '151802606799286612494418136284467208629', '153804597582587034785662383945910703497', '154356382748324081359566534905030092250', '154517900656278409458643600599500670071', '15536752378421312424447387692093620974', '155520501778962281473384091596477130678', '155866134114331703891534146686343200647', '156021568166178236845808563878219754562', '156614075232275082031169026988835426207', '157326824694925533184533875061701953306', '158767730919126439654410965391755131118', '159008614525209802951781409844789560015', '159124575530678635436243955092050789606', '160691050049568443408816716665776491410', '161264022121821469976565949700767346562', '161407513466353436713557040901149753296', '163138498830406787593420031897503250509', '16399797715142467197988117619573633126', '164995233840301053898541298555607642547', '165423364709830241971854989401215590009', '165701220517292466125589684834684602635', '166963476418102793741149731900908378752', '167528478174741632960666502194523646398', '168695052506111253489503574016538176587', '168984440525403890593329236183544034132', '170044663802428254068883044583946764031', '170334259915218790652548845300502886014', '170803629925683191784519911482622635886', '172985512251769896395665891608266999010', '173110499633643962454020224899146082552', '173387682810498543350656871546883271378', '173956487540522206690535675586353395102', '1749741376890040203243351818468748774', '175099246787765068143250650689060166115', '175531922210313175564462040009506763377', '175712775367844623077242526990596020582', '175993598473611143069157423468324699160', '17612458327027470351708105164315799542', '176942067980501023295412468470795800202', '177402200016543625446020389384766603593', '178668425955279370398029922437328040832', '179026605766886173946117736115554948784', '179214490669149914516837921735609656706', '179483250862985748110381847354258570054', '179595899830284959082440482805382258509', '181075503755806745820083553297518190535', '181395112288919023663788160364576746339', '181482967541147056006974458660594598502', '18183549566239434717527512713447281911', '182154360602165403376794038780878267518', '182600223443437386160944195712535433182', '183190123517711372262947655779624628326', '183584723180856977984806859704154341380', '184490252239010491171622570656826939212', '184932330000921951414070338802200797103', '185140791646422578694203909701780565200', '185631821933952385137084586631190643080', '189324591263205965378071311711709576356', '189434443291796840045863825816079270958', '18981228105972765239493756836309800837', '190043413030206542117857277170873725855', '190240893856666958804867361022302044028', '191582398085463023667667850291265281868', '191730337838220638591798030431792586192', '192133463481519746238585391636947843161', '192547532544699140025935637737181239285', '193027357089068040826541217895953183858', '193823212472836226363146785579681562063', '194454044510003382407118045397975268261', '194594407698211636809167332405666473735', '194923321205415613699228128175529539558', '196595828355835963993737899856263414043', '198425067953626968443210304230580471894', '198549044860344458232406978540613357721', '198897256369878030341442176114195789914', '199364446719818957000718065784764205732', '199804767438327837795459538531235404472', '200116613561462734580559828727299069692', '202257806713964813068142180814501869765', '203490045111770136148265300860449712956', '203657135203935651767523867860141508211', '20569284446503526270275620608323044716', '206968266676053489924524415090887441857', '207010284314249451173920301698479575688', '20706055797541187097993842284997013905', '207315095206640662157963759234681324080', '208091867482166868401540572203517425672', '208195572013707145496881937036735117717', '208495984248763103312612798585708792561', '209177795299606440741881261918181476517', '209472080719254595889428609681547920358', '20949923308217469972823698865493568380', '21248818098413154764526174080560970286', '21268414028755364360117846710098559621', '212750678977972995675082810216205892935', '21303407497385726848807823191634543859', '21435696638661991158717001515449945429', '215451547864029985094076491198688384515', '216262894610223163129968451738871353736', '216947175089353394859600668056921074134', '217377517123187223828845280307497571549', '217694236870543754410912868112700479305', '21825392005323330802061292693638678172', '219887305820207623520974154868514803939', '219972244448777676895898410124275581834', '220700639211868687353669877839174513423', '221057169920853450167897566033130216035', '221204632580307635699733595169033456298', '222279198347267042319420197150692904304', '222464295606788641453511349357462485478', '222785862210775026665679990689499798453', '223524046883090250978238159779070960265', '223626103845066740851900916752599005731', '224858116781808133078506141494500633285', '225156089354829693024853982625799989464', '225582887531007194844265440502827895574', '225711091631594972881994278088924104689', '226332475424063909338769277514223842666', '226898151018316323445948151114283583159', '226962941908435909552440908010995409730', '228098842115028112240954117043233521376', '229304041417471967312594476394800530211', '229347915745530712998124816534411353167', '229367229554273999929363564780878282898', '230338205111954277314405169446586309277', '230909563895078250707990480239912056313', '23251129461219454706141816309213102593', '233899885573187477855427692399794368793', '235233094985536057853951066247565453298', '237167681779229107579157494205535437622', '23741332735408324676004128057232667425', '237949873723865060719052589109740463962', '238166093889440446867904809878642699513', '23843901082786669784666350854116420112', '239600283926923922280711863983528260301', '240024514427166124852518950322383203765', '241835157773611763114751962780112435443', '241877835959361363910809551781626391141', '241980018834596022233075957681205609356', '243397126557095807812985324601317294977', '246301464166569161581874049871177137501', '246544025766102702038738893303479288253', '246551448387303934814923939220981781084', '247512319892015455464202009601723173049', '248960923417882271830047728000424744026', '250464865920410689165523918242802373817', '250623483524937326887895714122973581570', '251331851953251291312525446929706344243', '252099009862983281494482748366064948984', '252898845211676949918928479225001817769', '254501695473180169387731682799694240773', '25462868758895209174679203922508455984', '255594188925782778732923190497703331586', '256119633930294597105308802931691024724', '256414512737149336272186994879860460279', '256864479331932274157551327516084040149', '25695675605771900862144805611341685242', '257351909442502211511654244269915037659', '259044258856412380416140507429218544358', '260483785630870801538801218212939749650', '261232964779091359321248051955394879445', '26127774548601154783089802692278499003', '261320336936990346863616361081667203190', '261379101365242562311649579450621710535', '262576626669266221242796751311934332067', '262615062162390084196485809924233031464', '262634908718775560915014919029178997038', '264106327666260824464451701805145858973', '264345801791543588633627646267538598287', '264900684039347251740372829797789054998', '265773787935664299395495082541744192230', '266386315402089364904565880380935169835', '268221826437664628326995243095545981904', '268768097054256239242964821510478118047', '269302241386907282540071646227067432805', '270077554019902402306559966442909200868', '270935694474224866943579340033765112171', '27100712630998972712948749748986666124', '27126248119005403866926051158074302183', '271414790532010656472458067040640536190', '272380447889376256667351678487365585952', '2745878104240130962831473436601618876', '275703073830569755674584916511812254863', '276561866934869521123454425502439003270', '276980986438697021907954350046708199905', '277015324344850779395151256221430185390', '279260107755467670243633519061621303677', '281426998404421453839192148425762974553', '281791232713673563592375188660145764974', '281898681315315362208653981669246025817', '282013353267714269594385080043633274266', '282193866107557266935422969227321986123', '282499569767572324516095095986136941477', '282827069736083327822810510998465097455', '284498674130849460750049882560573230561', '285229271655642504465353524079123114812', '285831225081770528455758654860618201979', '287297795476240742497421934977434561353', '287530894642361040840106634996263088777', '288094324087094479845586359061392997189', '288459323119930995533450381725625472451', '290329885291890572526294517113741589241', '291211494814771218764740589671352364770', '291373678240657972313650599136288832906', '291830608936060101873601299119282437964', '292294931997202180766034791618370816522', '292408741040798442779862454663090630114', '292923471528561979913820005994263068694', '292972083425594834216846343954661802632', '294713926798224200464825018723990294948', '297108655795226732642140652836043833624', '298542402935381023519355657198415184942', '299166871034993179165176657476305336301', '299498015975515404446845278389825116563', '300699768723864861408502720402128956288', '303090387605433735678243220494434511302', '303245241389865008095309530003116593129', '303738292955947075898120564254144390344', '304126203309617773454903153958246530098', '304641662635188818325459411549283344719', '30514618656677209566048736108707446250', '30699916949272436017003663842113350509', '307150683379582674790162976349384727295', '307766469042590312792216384531176518053', '307954522193712757285086959903832851211', '308134834466559294833900560662386520092', '308335484651537268761520814700028696704', '308589223267618026400423822884326554066', '309061958009493877804014366291097020462', '310451558359636677488516670977393052408', '311048022624453317936331407969329764478', '311732473674869704744042517392195722539', '31301972417141762901747666344775087337', '31319544482242622857954631786761833615', '313217657203774336684119748441024407267', '313599914462567044660062717028362263391', '314087276925401780137922202518423922338', '314273070279880513485444184602276093923', '314390862255818277439384751434341941339', '315325585482561495869225601597209169513', '315725313899046533808837390270252473320', '315814968722033900087463348526996743152', '315852024333348846315399444672545779907', '317595640551360134486121364041335225464', '317599147274438517959956983676273008714', '31787319329991768503626535350522382668', '318091313394838118529568102327060874915', '319758058789854980885047122681605941758', '320045386246983651095937977541969860127', '32035940784173650295740250031790653783', '321459717201790700505605881200364935040', '322057339813602494984118487891337199862', '322504225101583420312275541362737986130', '323340261080369919777003978318498501349', '323590257464791667556323374062434746307', '324260128908710987838458088735904985155', '32505606577498889707696784397502237331', '327447372271616775261720383052307303242', '327475263097745827843112529150439862930', '328045511960001090203986334908499044718', '330559421367929472269124122320630933917', '330777531134135385940747601953360098492', '331613879390396793973865575471871360849', '332628416411641600022201145333195996514', '333182978755459393922610796160717356466', '333332476840578104199572527809051850852', '333977198411671275351156224762694437384', '334626133719505981783818412241655280927', '334977272532837801847882953309503721736', '335181635469401668507608855809204696416', '33802585621121298136387922451384507623', '338954309096403429657241559782680089675', '339747120040582746434385442491997364035', '340004707686952263943601128648976456639', '34029271158997115380036936396049373322', '34071047451230716816012102884567575587', '34331236161329609947194421011195707682', '36084792858888193354514951024624697266', '36614151240658759329962576405167335107', '38414184720230329222075015096852997451', '38863407652635737271465321951651294328', '39426296416258873025005229247846676834', '41165468829179489991041173548381982964', '41576983580636728565585761090570921672', '42036973408225443170427216031233643312', '43421325355332563899314470696432260519', '43500324987205313523263343035089782005', '43610037572936603048258997435759001343', '44503333598238043061357486296358906916', '45079622113282791221228772145958929959', '45203281279923890299503647425492119532', '45755469775320675650732540578009387054', '46121144116870365188841618139566754582', '46226334902808164646361992716829007185', '46244747772017022764116125477135132151', '46658712363450234461591503029999403031', '4733192491330640860613433905792715466', '48728456955305286823441120716438158369', '50544049809054294791781294690794622415', '50763222346071904936653874629614550752', '5258829052892515426397030996909935329', '53191033366014316290611786692607490029', '53978920510717265063551650379144206483', '54001255849688718198369331867417579637', '54378604049276699431208427060129227682', '5486946607512868148299971003749446785', '54871920308067627282195482837875565342', '5587451742476632001590445679148668528', '55944032864666156324902046467633608831', '57340728887387468331087509162610227643', '5789556684253530336352237911358580706', '58635717385934200885918862360280832929', '59497285538949067143460003512165716796', '59984181973268244598368125909019148601', '6005872937418244215976899769906751866', '60198051546606021621004016290497470662', '60505887580500799355887867695735949518', '60607118298217417762169026281320339516', '60751339168642282552467699930801717741', '60846009417392794790459969694252636770', '63173846894441455824220422884149387859', '63591605476985453528950605652560920702', '65578894053676572648042247351642526766', '65830107170845286714765542036709032750', '66267587023464300607264898368815823934', '66949771255851472389765554050127992929', '67339087587163975304705616146481772167', '70580136905940316094778849034597578188', '70681298724603772498054510305001820653', '71003044489357116880808314924372368167', '7105198319257609331018538379042264212', '71746344778059882374459261426864935633', '75409598391599716113865783017010783995', '75508228386542668878200141977478922524', '75633351003803423687391921770550975027', '75922247162594467571930594741675214478', '76062941099854243279463352839429748568', '76325794235218352599534384052151415257', '77259585904887720117349122212702559560', '77263268693810466594509850657114720022', '7739233227518224195454045726033245297', '77625943048524954003698782521694302469', '78682350741381706576968079921903964300', '79531523140451866648719309635558229655', '79820213094196048954998871791543346180', '79936739401147952058588560170919511513', '80072470068953900407801069615394779968', '81169743293107011334852967366719437944', '81951476076768642245701730732891409308', '84194407837921461447787709017524814070', '85193464097342683211783034666561564532', '86136959905497858222492088504222526686', '86867501744991549865063881775683917075', '87479092759123983894244462201590255959', '87770789062722371752167756988257573982', '90654427290539359020964626307926063608', '91341171578061679556565914255876704294', '91999479659523268777232226051340370372', '92310421556884896687491823054398987030', '92331212505895338147796169258362511223', '93829766795762171478497815847187769638', '94928850103090899756963512363272373162', '96775965128095225895170849559547908002', '97445714989462413926028093650491737962', '97684161601833138646924391654630758302', '98323706696172628498839277183188373006', '98426287920987699833058796720536924235', '99230155340307077918569654368359062639', '99742140856582517701933144235126120651']>\n"
     ]
    }
   ],
   "source": [
    "#The featuredata group has a version tag attribute\n",
    "#and then an individual group for each cell keyed by cell-id\n",
    "print(dict(f['featuredata'].attrs))\n",
    "print(f['featuredata'].keys())"
   ]
  },
  {
   "cell_type": "code",
   "execution_count": 29,
   "metadata": {},
   "outputs": [
    {
     "name": "stdout",
     "output_type": "stream",
     "text": [
      "{'bounding_box': array([ 189.88422668, 4022.99589622,  190.46207989, 4023.50662963]), 'fov': 0, 'id': b'100103156195484539835846679900152827019', 'volume': 0.08124806670594717}\n",
      "<KeysViewHDF5 ['zIndex_0', 'zIndex_1', 'zIndex_2', 'zIndex_3', 'zIndex_4', 'zIndex_5', 'zIndex_6', 'z_coordinates']>\n"
     ]
    }
   ],
   "source": [
    "#A cell group has bounding box attributes, fov, cell_id, and volume\n",
    "#Then it has groups for the different z-slices, and a z_coordinates group\n",
    "print(dict(f['featuredata']['100103156195484539835846679900152827019'].attrs))\n",
    "print(f['featuredata']['100103156195484539835846679900152827019'].keys())"
   ]
  },
  {
   "cell_type": "code",
   "execution_count": 30,
   "metadata": {},
   "outputs": [
    {
     "name": "stdout",
     "output_type": "stream",
     "text": [
      "[ 1.5  3.   4.5  6.   7.5  9.  10.5]\n"
     ]
    }
   ],
   "source": [
    "#The z_coordinates is a list of the depth in microns of each slice\n",
    "print(f['featuredata']['100103156195484539835846679900152827019']['z_coordinates'][:])"
   ]
  },
  {
   "cell_type": "code",
   "execution_count": 31,
   "metadata": {},
   "outputs": [
    {
     "name": "stdout",
     "output_type": "stream",
     "text": [
      "{}\n",
      "<KeysViewHDF5 ['p_0']>\n"
     ]
    }
   ],
   "source": [
    "#Within each z-slice there is another group. I don't know why though..\n",
    "#ok I've checked below, and every z-slice only has a single p_0 group (in this hdf5 subset at least)\n",
    "print(dict(f['featuredata']['100103156195484539835846679900152827019']['zIndex_0'].attrs))\n",
    "print(f['featuredata']['100103156195484539835846679900152827019']['zIndex_0'].keys())"
   ]
  },
  {
   "cell_type": "code",
   "execution_count": 32,
   "metadata": {
    "collapsed": true
   },
   "outputs": [],
   "source": [
    "z = f['featuredata']['100103156195484539835846679900152827019']['zIndex_0']"
   ]
  },
  {
   "cell_type": "code",
   "execution_count": 108,
   "metadata": {},
   "outputs": [
    {
     "name": "stdout",
     "output_type": "stream",
     "text": [
      "{'type': b'Polygon'}\n",
      "<KeysViewHDF5 ['coordinates']>\n"
     ]
    }
   ],
   "source": [
    "#There is another group within p which has the actual cell boundary polygons\n",
    "print(dict(f['featuredata']['100103156195484539835846679900152827019']['zIndex_0']['p_0'].attrs))\n",
    "print(f['featuredata']['100103156195484539835846679900152827019']['zIndex_0']['p_0'].keys())"
   ]
  },
  {
   "cell_type": "code",
   "execution_count": 109,
   "metadata": {},
   "outputs": [
    {
     "name": "stdout",
     "output_type": "stream",
     "text": [
      "{}\n",
      "<HDF5 dataset \"coordinates\": shape (1, 89, 2), type \"<f8\">\n"
     ]
    }
   ],
   "source": [
    "#The coordinates dataset doesn't have attributes, and is 3D, but only uses two axes\n",
    "print(dict(f['featuredata']['100103156195484539835846679900152827019']['zIndex_0']['p_0']['coordinates'].attrs))\n",
    "print(f['featuredata']['100103156195484539835846679900152827019']['zIndex_0']['p_0']['coordinates'])"
   ]
  },
  {
   "cell_type": "code",
   "execution_count": 110,
   "metadata": {},
   "outputs": [
    {
     "data": {
      "text/plain": [
       "(89, 2)"
      ]
     },
     "execution_count": 110,
     "metadata": {},
     "output_type": "execute_result"
    }
   ],
   "source": [
    "#Can extract the 2D polygon points using:\n",
    "f['featuredata']['100103156195484539835846679900152827019']['zIndex_0']['p_0']['coordinates'][0,:,:].shape"
   ]
  },
  {
   "cell_type": "code",
   "execution_count": 127,
   "metadata": {
    "scrolled": true
   },
   "outputs": [
    {
     "data": {
      "text/plain": [
       "array([[ 189.99222669, 4023.50662963],\n",
       "       [ 189.99900806, 4023.50641652],\n",
       "       [ 190.00576268, 4023.50577802],\n",
       "       [ 190.01246387, 4023.50471665],\n",
       "       [ 190.01908519, 4023.50323661],\n",
       "       [ 190.02560052, 4023.50134373],\n",
       "       [ 190.03198414, 4023.49904549],\n",
       "       [ 190.03821085, 4023.49635095],\n",
       "       [ 190.04425608, 4023.49327075],\n",
       "       [ 190.05009598, 4023.48981705],\n",
       "       [ 190.05570749, 4023.48600347],\n",
       "       [ 190.06106848, 4023.48184506],\n",
       "       [ 190.06615777, 4023.47735824],\n",
       "       [ 190.0709553 , 4023.47256072],\n",
       "       [ 190.07544212, 4023.46747142],\n",
       "       [ 190.07960052, 4023.46211044],\n",
       "       [ 190.0834141 , 4023.45649892],\n",
       "       [ 190.08686781, 4023.45065903],\n",
       "       [ 190.08994801, 4023.44461379],\n",
       "       [ 190.09264255, 4023.35887217],\n",
       "       [ 190.08994801, 4023.35264546],\n",
       "       [ 190.08686781, 4023.34660023],\n",
       "       [ 190.0834141 , 4023.34076033],\n",
       "       [ 190.07960052, 4023.33514882],\n",
       "       [ 190.07544212, 4023.32978783],\n",
       "       [ 190.0709553 , 4023.32469854],\n",
       "       [ 190.06615777, 4023.31990101],\n",
       "       [ 190.06106848, 4023.3154142 ],\n",
       "       [ 190.05570749, 4023.31125579],\n",
       "       [ 190.05009598, 4023.30744221],\n",
       "       [ 190.04425608, 4023.3039885 ],\n",
       "       [ 190.03821085, 4023.3009083 ],\n",
       "       [ 190.03198414, 4023.29821376],\n",
       "       [ 190.02560052, 4023.29591552],\n",
       "       [ 190.01908519, 4023.29402264],\n",
       "       [ 190.01246387, 4023.2925426 ],\n",
       "       [ 190.00576268, 4023.29148124],\n",
       "       [ 189.99900806, 4023.29084274],\n",
       "       [ 189.99222669, 4023.29062962],\n",
       "       [ 189.98544531, 4023.29084274],\n",
       "       [ 189.9786907 , 4023.29148124],\n",
       "       [ 189.9719895 , 4023.2925426 ],\n",
       "       [ 189.96536818, 4023.29402264],\n",
       "       [ 189.95885285, 4023.29591552],\n",
       "       [ 189.95246923, 4023.29821376],\n",
       "       [ 189.94624252, 4023.3009083 ],\n",
       "       [ 189.94019729, 4023.3039885 ],\n",
       "       [ 189.93435739, 4023.30744221],\n",
       "       [ 189.92874588, 4023.31125579],\n",
       "       [ 189.92338489, 4023.3154142 ],\n",
       "       [ 189.9182956 , 4023.31990101],\n",
       "       [ 189.91349807, 4023.32469854],\n",
       "       [ 189.90901125, 4023.32978783],\n",
       "       [ 189.90485285, 4023.33514882],\n",
       "       [ 189.90103927, 4023.34076033],\n",
       "       [ 189.89758556, 4023.34660023],\n",
       "       [ 189.89450536, 4023.35264546],\n",
       "       [ 189.89181082, 4023.35887217],\n",
       "       [ 189.88951258, 4023.36525579],\n",
       "       [ 189.8876197 , 4023.37177112],\n",
       "       [ 189.88613966, 4023.37839244],\n",
       "       [ 189.8850783 , 4023.38509364],\n",
       "       [ 189.8844398 , 4023.39184825],\n",
       "       [ 189.88422668, 4023.39862963],\n",
       "       [ 189.8844398 , 4023.405411  ],\n",
       "       [ 189.8850783 , 4023.41216562],\n",
       "       [ 189.88613966, 4023.41886681],\n",
       "       [ 189.8876197 , 4023.42548814],\n",
       "       [ 189.88951258, 4023.43200346],\n",
       "       [ 189.89181082, 4023.43838708],\n",
       "       [ 189.89450536, 4023.44461379],\n",
       "       [ 189.89758556, 4023.45065903],\n",
       "       [ 189.90103927, 4023.45649892],\n",
       "       [ 189.90485285, 4023.46211044],\n",
       "       [ 189.90901125, 4023.46747142],\n",
       "       [ 189.91349807, 4023.47256072],\n",
       "       [ 189.9182956 , 4023.47735824],\n",
       "       [ 189.92338489, 4023.48184506],\n",
       "       [ 189.92874588, 4023.48600347],\n",
       "       [ 189.93435739, 4023.48981705],\n",
       "       [ 189.94019729, 4023.49327075],\n",
       "       [ 189.94624252, 4023.49635095],\n",
       "       [ 189.95246923, 4023.49904549],\n",
       "       [ 189.95885285, 4023.50134373],\n",
       "       [ 189.96536818, 4023.50323661],\n",
       "       [ 189.9719895 , 4023.50471665],\n",
       "       [ 189.9786907 , 4023.50577802],\n",
       "       [ 189.98544531, 4023.50641652],\n",
       "       [ 189.99222669, 4023.50662963]])"
      ]
     },
     "execution_count": 127,
     "metadata": {},
     "output_type": "execute_result"
    }
   ],
   "source": [
    "f['featuredata']['100103156195484539835846679900152827019']['zIndex_0']['p_0']['coordinates'][0,:,:]"
   ]
  },
  {
   "cell_type": "code",
   "execution_count": 124,
   "metadata": {},
   "outputs": [
    {
     "data": {
      "text/plain": [
       "1"
      ]
     },
     "execution_count": 124,
     "metadata": {},
     "output_type": "execute_result"
    }
   ],
   "source": [
    "len(f['featuredata']['100103156195484539835846679900152827019']['zIndex_0'])"
   ]
  },
  {
   "cell_type": "code",
   "execution_count": 111,
   "metadata": {},
   "outputs": [
    {
     "data": {
      "image/png": "[encoded data removed]",
      "text/plain": [
       "<Figure size 432x288 with 1 Axes>"
      ]
     },
     "metadata": {},
     "output_type": "display_data"
    }
   ],
   "source": [
    "#\n",
    "pts = f['featuredata']['100103156195484539835846679900152827019']['zIndex_0']['p_0']['coordinates'][0,:,:]\n",
    "xs = pts[:,0]\n",
    "ys = pts[:,1]\n",
    "plt.plot(xs,ys)\n",
    "plt.show()\n",
    "plt.close()"
   ]
  },
  {
   "cell_type": "code",
   "execution_count": 112,
   "metadata": {},
   "outputs": [
    {
     "data": {
      "text/plain": [
       "array([ 189.88422668, 4022.99589622,  190.46207989, 4023.50662963])"
      ]
     },
     "execution_count": 112,
     "metadata": {},
     "output_type": "execute_result"
    }
   ],
   "source": [
    "#the bounding box makes sense with the cell shape above\n",
    "#so I think I've gotten the x and y points in the correct order\n",
    "f['featuredata']['100103156195484539835846679900152827019'].attrs['bounding_box']"
   ]
  },
  {
   "cell_type": "markdown",
   "metadata": {},
   "source": [
    "## Below is showing that there are just 1 \"p-groups\" in each z-slice group\n",
    "\n",
    "And sometimes 0 if that z-slice doesn't have any data"
   ]
  },
  {
   "cell_type": "code",
   "execution_count": 113,
   "metadata": {},
   "outputs": [
    {
     "data": {
      "text/html": [
       "<div>\n",
       "<style scoped>\n",
       "    .dataframe tbody tr th:only-of-type {\n",
       "        vertical-align: middle;\n",
       "    }\n",
       "\n",
       "    .dataframe tbody tr th {\n",
       "        vertical-align: top;\n",
       "    }\n",
       "\n",
       "    .dataframe thead th {\n",
       "        text-align: right;\n",
       "    }\n",
       "</style>\n",
       "<table border=\"1\" class=\"dataframe\">\n",
       "  <thead>\n",
       "    <tr style=\"text-align: right;\">\n",
       "      <th></th>\n",
       "      <th>cell_id</th>\n",
       "      <th>num_zs</th>\n",
       "      <th>z</th>\n",
       "      <th>num_ps_at_z</th>\n",
       "    </tr>\n",
       "  </thead>\n",
       "  <tbody>\n",
       "    <tr>\n",
       "      <th>0</th>\n",
       "      <td>100103156195484539835846679900152827019</td>\n",
       "      <td>7</td>\n",
       "      <td>zIndex_0</td>\n",
       "      <td>1</td>\n",
       "    </tr>\n",
       "    <tr>\n",
       "      <th>1</th>\n",
       "      <td>100103156195484539835846679900152827019</td>\n",
       "      <td>7</td>\n",
       "      <td>zIndex_1</td>\n",
       "      <td>1</td>\n",
       "    </tr>\n",
       "    <tr>\n",
       "      <th>2</th>\n",
       "      <td>100103156195484539835846679900152827019</td>\n",
       "      <td>7</td>\n",
       "      <td>zIndex_2</td>\n",
       "      <td>0</td>\n",
       "    </tr>\n",
       "    <tr>\n",
       "      <th>3</th>\n",
       "      <td>100103156195484539835846679900152827019</td>\n",
       "      <td>7</td>\n",
       "      <td>zIndex_3</td>\n",
       "      <td>0</td>\n",
       "    </tr>\n",
       "    <tr>\n",
       "      <th>4</th>\n",
       "      <td>100103156195484539835846679900152827019</td>\n",
       "      <td>7</td>\n",
       "      <td>zIndex_4</td>\n",
       "      <td>0</td>\n",
       "    </tr>\n",
       "    <tr>\n",
       "      <th>...</th>\n",
       "      <td>...</td>\n",
       "      <td>...</td>\n",
       "      <td>...</td>\n",
       "      <td>...</td>\n",
       "    </tr>\n",
       "    <tr>\n",
       "      <th>3110</th>\n",
       "      <td>99742140856582517701933144235126120651</td>\n",
       "      <td>7</td>\n",
       "      <td>zIndex_2</td>\n",
       "      <td>1</td>\n",
       "    </tr>\n",
       "    <tr>\n",
       "      <th>3111</th>\n",
       "      <td>99742140856582517701933144235126120651</td>\n",
       "      <td>7</td>\n",
       "      <td>zIndex_3</td>\n",
       "      <td>0</td>\n",
       "    </tr>\n",
       "    <tr>\n",
       "      <th>3112</th>\n",
       "      <td>99742140856582517701933144235126120651</td>\n",
       "      <td>7</td>\n",
       "      <td>zIndex_4</td>\n",
       "      <td>0</td>\n",
       "    </tr>\n",
       "    <tr>\n",
       "      <th>3113</th>\n",
       "      <td>99742140856582517701933144235126120651</td>\n",
       "      <td>7</td>\n",
       "      <td>zIndex_5</td>\n",
       "      <td>0</td>\n",
       "    </tr>\n",
       "    <tr>\n",
       "      <th>3114</th>\n",
       "      <td>99742140856582517701933144235126120651</td>\n",
       "      <td>7</td>\n",
       "      <td>zIndex_6</td>\n",
       "      <td>0</td>\n",
       "    </tr>\n",
       "  </tbody>\n",
       "</table>\n",
       "<p>3115 rows × 4 columns</p>\n",
       "</div>"
      ],
      "text/plain": [
       "                                      cell_id  num_zs         z  num_ps_at_z\n",
       "0     100103156195484539835846679900152827019       7  zIndex_0            1\n",
       "1     100103156195484539835846679900152827019       7  zIndex_1            1\n",
       "2     100103156195484539835846679900152827019       7  zIndex_2            0\n",
       "3     100103156195484539835846679900152827019       7  zIndex_3            0\n",
       "4     100103156195484539835846679900152827019       7  zIndex_4            0\n",
       "...                                       ...     ...       ...          ...\n",
       "3110   99742140856582517701933144235126120651       7  zIndex_2            1\n",
       "3111   99742140856582517701933144235126120651       7  zIndex_3            0\n",
       "3112   99742140856582517701933144235126120651       7  zIndex_4            0\n",
       "3113   99742140856582517701933144235126120651       7  zIndex_5            0\n",
       "3114   99742140856582517701933144235126120651       7  zIndex_6            0\n",
       "\n",
       "[3115 rows x 4 columns]"
      ]
     },
     "execution_count": 113,
     "metadata": {},
     "output_type": "execute_result"
    }
   ],
   "source": [
    "cell_ps = {\n",
    "    'cell_id':[],\n",
    "    'num_zs':[],\n",
    "    'z':[],\n",
    "    'num_ps_at_z':[],\n",
    "}\n",
    "\n",
    "for cell_id in f['featuredata']:\n",
    "    cell = f['featuredata'][cell_id]\n",
    "    for i,z in enumerate(cell['z_coordinates']):\n",
    "        z_slice = cell['zIndex_{}'.format(i)]\n",
    "        num_ps = sum(1 for p in z_slice)\n",
    "        \n",
    "        cell_ps['cell_id'].append(cell_id)\n",
    "        cell_ps['num_zs'].append(len(cell['z_coordinates']))\n",
    "        cell_ps['z'].append('zIndex_{}'.format(i))\n",
    "        cell_ps['num_ps_at_z'].append(num_ps)\n",
    "        \n",
    "cell_ps_df = pd.DataFrame(cell_ps)\n",
    "cell_ps_df"
   ]
  },
  {
   "cell_type": "code",
   "execution_count": 97,
   "metadata": {},
   "outputs": [
    {
     "data": {
      "text/plain": [
       "7    3115\n",
       "Name: num_zs, dtype: int64"
      ]
     },
     "execution_count": 97,
     "metadata": {},
     "output_type": "execute_result"
    }
   ],
   "source": [
    "#Even if a cell doesn't have info at all z-slices, the z_coordinates will always list all\n",
    "cell_ps_df['num_zs'].value_counts()"
   ]
  },
  {
   "cell_type": "code",
   "execution_count": 98,
   "metadata": {},
   "outputs": [
    {
     "data": {
      "text/plain": [
       "3.0"
      ]
     },
     "metadata": {},
     "output_type": "display_data"
    },
    {
     "data": {
      "image/png": "[encoded data removed]",
      "text/plain": [
       "<Figure size 360x360 with 1 Axes>"
      ]
     },
     "metadata": {},
     "output_type": "display_data"
    }
   ],
   "source": [
    "#The median number of non-empty z-slices per cell is 3\n",
    "zs_with_data_per_cell = cell_ps_df.groupby('cell_id')['num_ps_at_z'].apply(lambda x: sum(x > 0))\n",
    "display(zs_with_data_per_cell.median())\n",
    "sns.displot(zs_with_data_per_cell)\n",
    "plt.xlabel('Number of z-slices with data')\n",
    "plt.ylabel('Number of cells')\n",
    "plt.show()\n",
    "plt.close()"
   ]
  },
  {
   "cell_type": "code",
   "execution_count": 99,
   "metadata": {},
   "outputs": [
    {
     "data": {
      "text/plain": [
       "1"
      ]
     },
     "execution_count": 99,
     "metadata": {},
     "output_type": "execute_result"
    }
   ],
   "source": [
    "#At most, each z-slice has a single p-group\n",
    "cell_ps_df['num_ps_at_z'].max()"
   ]
  },
  {
   "cell_type": "markdown",
   "metadata": {},
   "source": [
    "# The h5ad files have cell x gene counts\n",
    "\n",
    "There are 3 types of h5ad files for each tissue (Liver and Kidney)\n",
    "\n",
    "The VI stands for \"Variational Inference\"\n",
    "\n",
    "1. [scANVI](https://www.embopress.org/doi/full/10.15252/msb.20209620) h5ads are MERFISH cells with cell-types called by an algorithm scANVI that predicts cell-type labels and is trained on the Tabula Muris Senis dataset\n",
    "\n",
    "2. [scVI](https://www.nature.com/articles/s41592-018-0229-2) was an alternative approach to assign cell-types to the MERFISH cells\n",
    "\n",
    "3. MERFISH which has cell-types determined just by the MERFISH data, without leveraging any outside data"
   ]
  },
  {
   "cell_type": "code",
   "execution_count": 24,
   "metadata": {},
   "outputs": [
    {
     "data": {
      "text/plain": [
       "AnnData object with n_obs × n_vars = 19695 × 307\n",
       "    obs: 'fov', 'volume', 'center_x', 'center_y', 'min_x', 'max_x', 'min_y', 'max_y', 'median average DAPI', 'mean average DAPI', 'dataset', 'barcodeCount', 'n_counts', 'leiden', 'tentative_annot'\n",
       "    uns: 'QC_filter', 'leiden', 'leiden_colors', 'neighbors', 'pca', 'rank_genes_groups', 'tentative_annot_colors', 'umap'\n",
       "    obsm: 'X_pca', 'X_umap', 'spatial'\n",
       "    varm: 'PCs'\n",
       "    layers: 'counts'\n",
       "    obsp: 'connectivities', 'distances'"
      ]
     },
     "execution_count": 24,
     "metadata": {},
     "output_type": "execute_result"
    }
   ],
   "source": [
    "liver_adata = scp.read_h5ad(os.path.join(stem,'cell_gene_counts','MERFISH_liver_object.h5ad'))\n",
    "liver_adata"
   ]
  },
  {
   "cell_type": "code",
   "execution_count": 8,
   "metadata": {},
   "outputs": [
    {
     "data": {
      "text/plain": [
       "307"
      ]
     },
     "execution_count": 8,
     "metadata": {},
     "output_type": "execute_result"
    }
   ],
   "source": [
    "len(liver_adata.var_names)"
   ]
  },
  {
   "cell_type": "code",
   "execution_count": 25,
   "metadata": {},
   "outputs": [
    {
     "data": {
      "text/plain": [
       "['ptprc',\n",
       " 'pecam1',\n",
       " 'kdr',\n",
       " 'cdh5',\n",
       " 'cd19',\n",
       " 'ms4a1',\n",
       " 'cd79a',\n",
       " 'cd79b',\n",
       " 'bank1',\n",
       " 'blk',\n",
       " 'tnfrsf13c',\n",
       " 'tnfrsf13b',\n",
       " 'pax5',\n",
       " 'faim3',\n",
       " 's100a2',\n",
       " 'krt5',\n",
       " 'krt19',\n",
       " 'sfn',\n",
       " '4631405k08rik',\n",
       " 's100a14',\n",
       " 'muc4',\n",
       " 'sele',\n",
       " 'cnksr3',\n",
       " 'adamts9',\n",
       " 'darc',\n",
       " 'glyat',\n",
       " 'ak4',\n",
       " 'bbox1',\n",
       " 'aqp1',\n",
       " 'pdzk1',\n",
       " 'tmem27',\n",
       " 'slc9a3r2',\n",
       " 'cldn5',\n",
       " 'btnl9',\n",
       " 'sox18',\n",
       " 'vwf',\n",
       " 'flt1',\n",
       " 'clec14a',\n",
       " 'gpihbp1',\n",
       " 'egfl7',\n",
       " 'tie1',\n",
       " 'ldb2',\n",
       " 'plvap',\n",
       " 'gas1',\n",
       " 'ccdc80',\n",
       " 'ism1',\n",
       " 'igf1',\n",
       " 'igfbp6',\n",
       " 'mfap5',\n",
       " 'scara5',\n",
       " 'fbn1',\n",
       " 'sfrp2',\n",
       " 'eltd1',\n",
       " 'f8',\n",
       " 'ptprb',\n",
       " 'shank3',\n",
       " 'emcn',\n",
       " 'sdpr',\n",
       " 'wdr72',\n",
       " 'aqp2',\n",
       " 'kcne1',\n",
       " 'scnn1a',\n",
       " 'sox17',\n",
       " 'palmd',\n",
       " 'tinagl1',\n",
       " 'npdc1',\n",
       " 'crip2',\n",
       " 'hyal2',\n",
       " 'mmrn2',\n",
       " 'gja4',\n",
       " 'kcnj1',\n",
       " 'nudt4',\n",
       " 'mal',\n",
       " 'notch3',\n",
       " 'acta2',\n",
       " 'myl9',\n",
       " 'myh11',\n",
       " 'lmod1',\n",
       " 'des',\n",
       " 'vim',\n",
       " 'fmo1',\n",
       " 'alox5ap',\n",
       " 'c1qc',\n",
       " 'c1qa',\n",
       " 'c1qb',\n",
       " 'mrc1',\n",
       " 'trem1',\n",
       " 'trem2',\n",
       " 'klra2',\n",
       " 'bcl11b',\n",
       " 'cd37',\n",
       " 'cd247',\n",
       " 'klrb1f',\n",
       " 'klrb1c',\n",
       " 'gzmb',\n",
       " 'derl3',\n",
       " 'igj',\n",
       " 'wt1',\n",
       " 'actn4',\n",
       " 'synpo',\n",
       " 'dag1',\n",
       " 'foxc1',\n",
       " 'podxl',\n",
       " 'mme',\n",
       " 'cd3e',\n",
       " 'il7r',\n",
       " 'cd3g',\n",
       " 'lck',\n",
       " 'cd4',\n",
       " 'cd8a',\n",
       " 'spib',\n",
       " 'bcl11a',\n",
       " 'cd22',\n",
       " 'trat1',\n",
       " 'cd6',\n",
       " 'gzmk',\n",
       " 'cd8b1',\n",
       " 'dnase1l3',\n",
       " 'eng',\n",
       " 'stab2',\n",
       " 'gpr182',\n",
       " 'sparc',\n",
       " 'ehd3',\n",
       " 'nrp1',\n",
       " 'fcgr2b',\n",
       " 'stab1',\n",
       " 'igfbp4',\n",
       " 'oit3',\n",
       " 'flt4',\n",
       " 'gpr116',\n",
       " 'maf',\n",
       " 'esam',\n",
       " 'col1a2',\n",
       " 'colec11',\n",
       " 'dcn',\n",
       " 'sod3',\n",
       " 'prelp',\n",
       " 'pth1r',\n",
       " 'tcf21',\n",
       " 'reln',\n",
       " 'ecm1',\n",
       " 'bgn',\n",
       " 'hmgcs2',\n",
       " 'vtn',\n",
       " 'kng1',\n",
       " 'uox',\n",
       " 'rdh7',\n",
       " 'ces3a',\n",
       " 'cyp2f2',\n",
       " 'pck1',\n",
       " 'hal',\n",
       " 'cdh1',\n",
       " 'glul',\n",
       " 'gulo',\n",
       " 'oat',\n",
       " 'marco',\n",
       " 'ccr2',\n",
       " 'cx3cr1',\n",
       " 'emr1',\n",
       " 'clec4f',\n",
       " 'cd68',\n",
       " 'irf7',\n",
       " 'cfp',\n",
       " 'ctss',\n",
       " 'cd5l',\n",
       " 'folr2',\n",
       " 'sdc3',\n",
       " 'vsig4',\n",
       " 'csf1r',\n",
       " 'slc40a1',\n",
       " 'ccl6',\n",
       " 'cd3d',\n",
       " 'klrk1',\n",
       " 'napsa',\n",
       " 'coro1a',\n",
       " 'lgals3',\n",
       " 'plac8',\n",
       " 'lsp1',\n",
       " 'mxd1',\n",
       " 'mmp9',\n",
       " 'csf3r',\n",
       " 'hdc',\n",
       " 'cxcr2',\n",
       " 'il1b',\n",
       " 'pglyrp1',\n",
       " 'cd44',\n",
       " 'arg2',\n",
       " 'elane',\n",
       " 'zap70',\n",
       " 'cxcr6',\n",
       " 'prf1',\n",
       " 'ctsw',\n",
       " 'il2rb',\n",
       " 'txk',\n",
       " 'gimap4',\n",
       " 'ly6c2',\n",
       " 'atp1b3',\n",
       " 'klf2',\n",
       " 'ms4a6b',\n",
       " 'siglech',\n",
       " 'cybasc3',\n",
       " 'rnase6',\n",
       " 'irf8',\n",
       " 'dnajc7',\n",
       " 'tspan13',\n",
       " 'tcf4',\n",
       " 'tlr7',\n",
       " 'itgax',\n",
       " 'epcam',\n",
       " 'krt7',\n",
       " 'ramp3',\n",
       " 'tm4sf1',\n",
       " 'fabp4',\n",
       " 'col4a2',\n",
       " 'cav1',\n",
       " 'cd300lg',\n",
       " 'col4a1',\n",
       " 'pltp',\n",
       " 'ptrf',\n",
       " 'sparcl1',\n",
       " 'cd34',\n",
       " 'apold1',\n",
       " 'epas1',\n",
       " 'gnai2',\n",
       " 'cd81',\n",
       " 'calm1',\n",
       " 'h2-aa',\n",
       " 'h2-ab1',\n",
       " 'laptm5',\n",
       " 'arhgdib',\n",
       " 'ptpn6',\n",
       " 'ly86',\n",
       " 'cybb',\n",
       " 'pld4',\n",
       " 'cd53',\n",
       " 'selplg',\n",
       " 'scg3',\n",
       " 'scg5',\n",
       " 'gpx3',\n",
       " 'sfrp5',\n",
       " 'pcsk2',\n",
       " 'dbpht2',\n",
       " 'pappa2',\n",
       " 'cpe',\n",
       " 'pcsk1n',\n",
       " 'aplp1',\n",
       " 'chga',\n",
       " 'peg3',\n",
       " 'scg2',\n",
       " 'g6pc2',\n",
       " 'abcc8',\n",
       " 'slc30a8',\n",
       " 'prlr',\n",
       " 'ptprn2',\n",
       " 'ppp1r1a',\n",
       " 'atp2a2',\n",
       " 'prss53',\n",
       " 'ero1lb',\n",
       " 'fam151a',\n",
       " 'slc2a2',\n",
       " 'nkx6-1',\n",
       " 'pdx1',\n",
       " 'mafa',\n",
       " 'pnlip',\n",
       " 'cpb1',\n",
       " 'cel',\n",
       " 'cpa1',\n",
       " '2210010c04rik',\n",
       " 'pnliprp1',\n",
       " 'cela1',\n",
       " 'pnliprp2',\n",
       " 'hhex',\n",
       " 'neurog3',\n",
       " 'chgb',\n",
       " 'fam159b',\n",
       " 'tm4sf4',\n",
       " 'cldn3',\n",
       " 'dcdc2a',\n",
       " '1700011h14rik',\n",
       " 'dsg2',\n",
       " 'krt18',\n",
       " 'cldn7',\n",
       " 'spp1',\n",
       " 'krt8',\n",
       " 'clu',\n",
       " 'atp1b1',\n",
       " 'hnf1b',\n",
       " 'kcnk16',\n",
       " 'tspan8',\n",
       " 'bambi',\n",
       " 'ace2',\n",
       " 'serping1',\n",
       " 'mfap4',\n",
       " 'mxra8',\n",
       " 'hsd11b1',\n",
       " 'ptgis',\n",
       " 'pdgfra',\n",
       " 'loxl1',\n",
       " 'ogn',\n",
       " 'pdgfrb',\n",
       " 'pcolce',\n",
       " 'gsn',\n",
       " 'lum',\n",
       " 'serpinf1',\n",
       " 'crispld2',\n",
       " 'htra3',\n",
       " 'aebp1']"
      ]
     },
     "execution_count": 25,
     "metadata": {},
     "output_type": "execute_result"
    }
   ],
   "source": [
    "list(liver_adata.var_names)"
   ]
  },
  {
   "cell_type": "code",
   "execution_count": 26,
   "metadata": {},
   "outputs": [
    {
     "data": {
      "text/plain": [
       "AnnData object with n_obs × n_vars = 34387 × 306\n",
       "    obs: 'age', 'cell', 'cell_ontology_class', 'cell_ontology_id', 'free_annotation', 'method', 'mouse.id', 'n_genes', 'sex', 'subtissue', 'tissue', 'tissue_free_annotation', 'n_counts', 'fov', 'volume', 'center_x', 'center_y', 'min_x', 'max_x', 'min_y', 'max_y', 'median average DAPI', 'mean average DAPI', 'dataset', 'barcodeCount', 'tech', 'celltype_scanvi', '_scvi_batch', '_scvi_labels', 'predicted_cell_type'\n",
       "    var: 'n_cells-scRNA-seq'\n",
       "    uns: 'C_scANVI_colors', '_scvi', 'neighbors', 'tech_colors', 'umap'\n",
       "    obsm: 'X_scANVI', 'X_umap', 'spatial'\n",
       "    layers: 'counts'\n",
       "    obsp: 'connectivities', 'distances'"
      ]
     },
     "execution_count": 26,
     "metadata": {},
     "output_type": "execute_result"
    }
   ],
   "source": [
    "#Kidney scANVI 34,387 cells by 306 genes (cell-types called by scANVI which is trained on Tabula Muris)\n",
    "adata = scp.read_h5ad(os.path.join(stem,'cell_gene_counts','scANVI_kidney_object.h5ad'))\n",
    "adata"
   ]
  },
  {
   "cell_type": "code",
   "execution_count": 27,
   "metadata": {},
   "outputs": [
    {
     "data": {
      "text/plain": [
       "['sox17',\n",
       " 'zap70',\n",
       " 'slc40a1',\n",
       " 'sdpr',\n",
       " 'cxcr2',\n",
       " 'des',\n",
       " 'scg2',\n",
       " 'marco',\n",
       " 'faim3',\n",
       " 'prelp',\n",
       " 'lmod1',\n",
       " 'ptprc',\n",
       " 'glul',\n",
       " 'pappa2',\n",
       " 'fmo1',\n",
       " 'sele',\n",
       " 'atp1b1',\n",
       " 'cd247',\n",
       " 'fcgr2b',\n",
       " 'darc',\n",
       " 'hsd11b1',\n",
       " 'cd34',\n",
       " 'cnksr3',\n",
       " 'tcf21',\n",
       " 'oit3',\n",
       " 'prf1',\n",
       " 'neurog3',\n",
       " 'derl3',\n",
       " 'elane',\n",
       " 'stab2',\n",
       " 'igf1',\n",
       " 'hal',\n",
       " 'nudt4',\n",
       " 'dcn',\n",
       " 'lum',\n",
       " 'tspan8',\n",
       " 'ptprb',\n",
       " 'gpr182',\n",
       " 'rdh7',\n",
       " 'aebp1',\n",
       " 'ramp3',\n",
       " 'bcl11a',\n",
       " 'btnl9',\n",
       " 'flt4',\n",
       " 'gpx3',\n",
       " 'sparc',\n",
       " 'tnfrsf13b',\n",
       " 'mfap4',\n",
       " 'cd68',\n",
       " 'cldn7',\n",
       " 'serpinf1',\n",
       " 'vtn',\n",
       " 'ccl6',\n",
       " 'hnf1b',\n",
       " 'igfbp4',\n",
       " 'krt19',\n",
       " 'dnajc7',\n",
       " 'ptrf',\n",
       " 'cd300lg',\n",
       " 'cd79b',\n",
       " 'pecam1',\n",
       " 'colec11',\n",
       " 'tspan13',\n",
       " 'clec14a',\n",
       " 'dbpht2',\n",
       " 'arg2',\n",
       " 'calm1',\n",
       " 'chga',\n",
       " 'bcl11b',\n",
       " 'pld4',\n",
       " 'crip2',\n",
       " 'ptprn2',\n",
       " 'ero1lb',\n",
       " 'dcdc2a',\n",
       " 'foxc1',\n",
       " 'ly86',\n",
       " 'ogn',\n",
       " 'gas1',\n",
       " 'fam159b',\n",
       " 'gzmk',\n",
       " 'dnase1l3',\n",
       " 'kcnk16',\n",
       " 'stab1',\n",
       " 'mmrn2',\n",
       " 'lgals3',\n",
       " '1700011h14rik',\n",
       " 'rnase6',\n",
       " 'gzmb',\n",
       " 'blk',\n",
       " 'scara5',\n",
       " 'clu',\n",
       " 'gulo',\n",
       " 'il7r',\n",
       " 'prlr',\n",
       " 'slc30a8',\n",
       " 'ly6c2',\n",
       " 'gpihbp1',\n",
       " 'mafa',\n",
       " 'il2rb',\n",
       " 'tnfrsf13c',\n",
       " 'shank3',\n",
       " 'aqp2',\n",
       " 'cela1',\n",
       " 'krt7',\n",
       " 'krt5',\n",
       " 'krt8',\n",
       " 'krt18',\n",
       " 'igfbp6',\n",
       " 'ppp1r1a',\n",
       " 'myh11',\n",
       " 'cldn5',\n",
       " 'kng1',\n",
       " 'muc4',\n",
       " 'ccdc80',\n",
       " 'trat1',\n",
       " 'kcne1',\n",
       " 'slc9a3r2',\n",
       " 'notch3',\n",
       " 'h2-ab1',\n",
       " 'h2-aa',\n",
       " 'gpr116',\n",
       " 'trem1',\n",
       " 'trem2',\n",
       " 'emr1',\n",
       " 'ehd3',\n",
       " 'epas1',\n",
       " 'epcam',\n",
       " 'bambi',\n",
       " 'dsg2',\n",
       " 'synpo',\n",
       " 'pdgfrb',\n",
       " 'csf1r',\n",
       " 'tcf4',\n",
       " 'ctsw',\n",
       " 'cybasc3',\n",
       " 'cd6',\n",
       " 'ms4a1',\n",
       " 'ms4a6b',\n",
       " 'glyat',\n",
       " 'acta2',\n",
       " 'hhex',\n",
       " 'sfrp5',\n",
       " 'pnlip',\n",
       " 'pnliprp1',\n",
       " 'pnliprp2',\n",
       " 'vim',\n",
       " 'mrc1',\n",
       " 'npdc1',\n",
       " 'egfl7',\n",
       " 'cel',\n",
       " 'eng',\n",
       " 'gsn',\n",
       " 'g6pc2',\n",
       " 'serping1',\n",
       " 'cd44',\n",
       " 'wt1',\n",
       " 'bbox1',\n",
       " 'scg5',\n",
       " 'fbn1',\n",
       " 'hdc',\n",
       " 'mal',\n",
       " 'il1b',\n",
       " 'chgb',\n",
       " 'ism1',\n",
       " 'pcsk2',\n",
       " 'myl9',\n",
       " 'pltp',\n",
       " 'mmp9',\n",
       " 'ptgis',\n",
       " 'pck1',\n",
       " 'sox18',\n",
       " 'fabp4',\n",
       " 'cpb1',\n",
       " 'slc2a2',\n",
       " 'tm4sf1',\n",
       " 'tm4sf4',\n",
       " 'mme',\n",
       " 'sfrp2',\n",
       " 'cd5l',\n",
       " 's100a14',\n",
       " 's100a2',\n",
       " 'ctss',\n",
       " 'ecm1',\n",
       " 'pdzk1',\n",
       " 'hmgcs2',\n",
       " 'cd53',\n",
       " 'palmd',\n",
       " 'bank1',\n",
       " 'emcn',\n",
       " 'uox',\n",
       " 'eltd1',\n",
       " 'pax5',\n",
       " 'ak4',\n",
       " 'fam151a',\n",
       " 'tie1',\n",
       " 'csf3r',\n",
       " 'gja4',\n",
       " 'lck',\n",
       " 'tinagl1',\n",
       " 'sdc3',\n",
       " 'laptm5',\n",
       " 'sfn',\n",
       " 'c1qb',\n",
       " 'c1qc',\n",
       " 'c1qa',\n",
       " 'mxra8',\n",
       " 'reln',\n",
       " 'htra3',\n",
       " 'ldb2',\n",
       " 'sod3',\n",
       " 'txk',\n",
       " 'pdgfra',\n",
       " 'kdr',\n",
       " 'igj',\n",
       " 'plac8',\n",
       " 'nkx6-1',\n",
       " 'sparcl1',\n",
       " 'spp1',\n",
       " 'selplg',\n",
       " 'atp2a2',\n",
       " 'cldn3',\n",
       " 'pcolce',\n",
       " 'pdx1',\n",
       " 'flt1',\n",
       " 'alox5ap',\n",
       " 'col1a2',\n",
       " 'cav1',\n",
       " 'cpa1',\n",
       " 'podxl',\n",
       " '2210010c04rik',\n",
       " 'gimap4',\n",
       " 'aqp1',\n",
       " 'cd8b1',\n",
       " 'cd8a',\n",
       " 'clec4f',\n",
       " 'mxd1',\n",
       " 'adamts9',\n",
       " 'mfap5',\n",
       " 'ptpn6',\n",
       " 'cd4',\n",
       " 'scnn1a',\n",
       " 'vwf',\n",
       " 'klrb1c',\n",
       " 'klrb1f',\n",
       " 'klrk1',\n",
       " 'klra2',\n",
       " 'apold1',\n",
       " 'arhgdib',\n",
       " 'peg3',\n",
       " 'pglyrp1',\n",
       " 'cd79a',\n",
       " 'cyp2f2',\n",
       " 'actn4',\n",
       " 'aplp1',\n",
       " 'cd22',\n",
       " 'spib',\n",
       " 'napsa',\n",
       " 'cd37',\n",
       " 'abcc8',\n",
       " 'siglech',\n",
       " 'folr2',\n",
       " 'cd19',\n",
       " 'coro1a',\n",
       " 'prss53',\n",
       " 'itgax',\n",
       " 'oat',\n",
       " 'irf7',\n",
       " 'lsp1',\n",
       " 'cd81',\n",
       " 'col4a1',\n",
       " 'col4a2',\n",
       " 'cpe',\n",
       " 'plvap',\n",
       " 'klf2',\n",
       " 'cdh5',\n",
       " 'ces3a',\n",
       " 'cdh1',\n",
       " 'maf',\n",
       " 'crispld2',\n",
       " 'irf8',\n",
       " 'nrp1',\n",
       " 'kcnj1',\n",
       " 'esam',\n",
       " 'cd3g',\n",
       " 'cd3d',\n",
       " 'cd3e',\n",
       " 'loxl1',\n",
       " 'wdr72',\n",
       " 'scg3',\n",
       " 'atp1b3',\n",
       " 'hyal2',\n",
       " 'gnai2',\n",
       " 'dag1',\n",
       " 'pth1r',\n",
       " 'cx3cr1',\n",
       " 'cxcr6',\n",
       " 'ccr2',\n",
       " 'pcsk1n',\n",
       " 'cybb',\n",
       " 'cfp',\n",
       " 'bgn',\n",
       " 'f8',\n",
       " 'vsig4',\n",
       " 'tmem27',\n",
       " 'ace2',\n",
       " 'tlr7']"
      ]
     },
     "execution_count": 27,
     "metadata": {},
     "output_type": "execute_result"
    }
   ],
   "source": [
    "list(adata.var_names)"
   ]
  },
  {
   "cell_type": "code",
   "execution_count": 12,
   "metadata": {},
   "outputs": [
    {
     "data": {
      "text/plain": [
       "{'4631405k08rik'}"
      ]
     },
     "execution_count": 12,
     "metadata": {},
     "output_type": "execute_result"
    }
   ],
   "source": [
    "set(liver_adata.var_names).difference(adata.var_names)"
   ]
  },
  {
   "cell_type": "code",
   "execution_count": 28,
   "metadata": {},
   "outputs": [
    {
     "data": {
      "text/plain": [
       "set()"
      ]
     },
     "execution_count": 28,
     "metadata": {},
     "output_type": "execute_result"
    }
   ],
   "source": [
    "set(adata.var_names).difference(liver_adata.var_names)"
   ]
  },
  {
   "cell_type": "code",
   "execution_count": 118,
   "metadata": {},
   "outputs": [
    {
     "data": {
      "text/plain": [
       "AnnData object with n_obs × n_vars = 36714 × 306\n",
       "    obs: 'age', 'cell', 'cell_ontology_class', 'cell_ontology_id', 'free_annotation', 'method', 'mouse.id', 'n_genes', 'sex', 'subtissue', 'tissue', 'tissue_free_annotation', 'n_counts', 'fov', 'volume', 'center_x', 'center_y', 'min_x', 'max_x', 'min_y', 'max_y', 'median average DAPI', 'mean average DAPI', 'dataset', 'barcodeCount', 'tech', 'celltype_scanvi', '_scvi_batch', '_scvi_labels', 'predicted_cell_type'\n",
       "    var: 'n_cells-scRNA-seq'\n",
       "    uns: 'C_scANVI_colors', '_scvi', 'neighbors', 'tech_colors', 'umap'\n",
       "    obsm: 'X_scANVI', 'X_umap'\n",
       "    layers: 'counts'\n",
       "    obsp: 'connectivities', 'distances'"
      ]
     },
     "execution_count": 118,
     "metadata": {},
     "output_type": "execute_result"
    }
   ],
   "source": [
    "#Kidney scANVI 36,714 cells by 306 genes\n",
    "adata = scp.read_h5ad(os.path.join(stem,'cell_gene_counts','scVI_kidney_object.h5ad'))\n",
    "adata"
   ]
  },
  {
   "cell_type": "code",
   "execution_count": 119,
   "metadata": {},
   "outputs": [
    {
     "data": {
      "text/plain": [
       "AnnData object with n_obs × n_vars = 19698 × 306\n",
       "    obs: 'age', 'cell', 'cell_ontology_class', 'cell_ontology_id', 'free_annotation', 'method', 'mouse.id', 'n_genes', 'sex', 'subtissue', 'tissue', 'tissue_free_annotation', 'integrated_manually_annotated', 'batch', 'n_counts', 'fov', 'volume', 'center_x', 'center_y', 'min_x', 'max_x', 'min_y', 'max_y', 'median average DAPI', 'mean average DAPI', 'dataset', 'barcodeCount', 'tech', 'celltype_scanvi', '_scvi_batch', '_scvi_labels', 'predicted_cell_type'\n",
       "    var: 'n_cells-scRNA-seq'\n",
       "    uns: 'C_scANVI_colors', '_scvi', 'neighbors', 'tech_colors', 'umap'\n",
       "    obsm: 'X_scANVI', 'X_umap', 'spatial'\n",
       "    layers: 'counts'\n",
       "    obsp: 'connectivities', 'distances'"
      ]
     },
     "execution_count": 119,
     "metadata": {},
     "output_type": "execute_result"
    }
   ],
   "source": [
    "#Liver scANVI 19,698 cells by 306 genes\n",
    "adata = scp.read_h5ad(os.path.join(stem,'cell_gene_counts','scANVI_liver_object.h5ad'))\n",
    "adata"
   ]
  },
  {
   "cell_type": "code",
   "execution_count": 120,
   "metadata": {},
   "outputs": [
    {
     "data": {
      "text/plain": [
       "AnnData object with n_obs × n_vars = 22019 × 306\n",
       "    obs: 'age', 'cell', 'cell_ontology_class', 'cell_ontology_id', 'free_annotation', 'method', 'mouse.id', 'n_genes', 'sex', 'subtissue', 'tissue', 'tissue_free_annotation', 'integrated_manually_annotated', 'batch', 'n_counts', 'fov', 'volume', 'center_x', 'center_y', 'min_x', 'max_x', 'min_y', 'max_y', 'median average DAPI', 'mean average DAPI', 'dataset', 'barcodeCount', 'tech', 'celltype_scanvi', '_scvi_batch', '_scvi_labels', 'predicted_cell_type'\n",
       "    var: 'n_cells-scRNA-seq'\n",
       "    uns: 'C_scANVI_colors', '_scvi', 'neighbors', 'tech_colors', 'umap'\n",
       "    obsm: 'X_scANVI', 'X_umap'\n",
       "    layers: 'counts'\n",
       "    obsp: 'connectivities', 'distances'"
      ]
     },
     "execution_count": 120,
     "metadata": {},
     "output_type": "execute_result"
    }
   ],
   "source": [
    "#Liver scANVI 22,019 cells by 306 genes\n",
    "adata = scp.read_h5ad(os.path.join(stem,'cell_gene_counts','scVI_liver_object.h5ad'))\n",
    "adata"
   ]
  },
  {
   "cell_type": "markdown",
   "metadata": {},
   "source": [
    "# Testing if gene-vars were correctly assigned"
   ]
  },
  {
   "cell_type": "code",
   "execution_count": 39,
   "metadata": {},
   "outputs": [
    {
     "data": {
      "text/plain": [
       "<KeysViewHDF5 ['cell_ids', 'cells', 'genes']>"
      ]
     },
     "execution_count": 39,
     "metadata": {},
     "output_type": "execute_result"
    }
   ],
   "source": [
    "f = h5py.File(\n",
    "    '/oak/stanford/groups/horence/rob/isoform_localizations/SRRS/preprocessing/KidneyLiver_preprocessing/finished_outputs/liver_gv_filt.hdf5',\n",
    "    'r',\n",
    ")\n",
    "f.keys()"
   ]
  },
  {
   "cell_type": "code",
   "execution_count": 40,
   "metadata": {},
   "outputs": [
    {
     "name": "stdout",
     "output_type": "stream",
     "text": [
      "<HDF5 dataset \"cell_ids\": shape (16175,), type \"|S39\">\n"
     ]
    },
    {
     "data": {
      "text/plain": [
       "array([b'100005199661550619447465419803033850982'], dtype='|S39')"
      ]
     },
     "execution_count": 40,
     "metadata": {},
     "output_type": "execute_result"
    }
   ],
   "source": [
    "print(f['cell_ids'])\n",
    "f['cell_ids'][:1]"
   ]
  },
  {
   "cell_type": "code",
   "execution_count": 41,
   "metadata": {},
   "outputs": [
    {
     "data": {
      "text/plain": [
       "<KeysViewHDF5 ['boundaries', 'gene_vars', 'spot_coords', 'spot_genes']>"
      ]
     },
     "execution_count": 41,
     "metadata": {},
     "output_type": "execute_result"
    }
   ],
   "source": [
    "cell = f['cells']['100005199661550619447465419803033850982']\n",
    "cell.keys()"
   ]
  },
  {
   "cell_type": "code",
   "execution_count": 50,
   "metadata": {},
   "outputs": [
    {
     "data": {
      "text/plain": [
       "Counter({b'100.0': 1,\n",
       "         b'123.0': 2,\n",
       "         b'126.0': 36,\n",
       "         b'128.0': 1,\n",
       "         b'142.0': 11,\n",
       "         b'143.0': 75,\n",
       "         b'144.0': 3,\n",
       "         b'145.0': 5,\n",
       "         b'146.0': 7,\n",
       "         b'147.0': 9,\n",
       "         b'148.0': 3,\n",
       "         b'149.0': 5,\n",
       "         b'150.0': 1,\n",
       "         b'153.0': 13,\n",
       "         b'154.0': 14,\n",
       "         b'169.0': 1,\n",
       "         b'178.0': 1,\n",
       "         b'183.0': 1,\n",
       "         b'200.0': 1,\n",
       "         b'202.0': 1,\n",
       "         b'22.0': 2,\n",
       "         b'238.0': 2,\n",
       "         b'247.0': 1,\n",
       "         b'25.0': 3,\n",
       "         b'252.0': 8,\n",
       "         b'256.0': 1,\n",
       "         b'258.0': 1,\n",
       "         b'259.0': 1,\n",
       "         b'262.0': 1,\n",
       "         b'268.0': 2,\n",
       "         b'271.0': 5,\n",
       "         b'276.0': 4,\n",
       "         b'279.0': 2,\n",
       "         b'280.0': 3,\n",
       "         b'283.0': 2,\n",
       "         b'284.0': 23,\n",
       "         b'285.0': 2,\n",
       "         b'286.0': 2,\n",
       "         b'29.0': 1,\n",
       "         b'291.0': 11,\n",
       "         b'294.0': 1,\n",
       "         b'3.0': 1,\n",
       "         b'303.0': 19,\n",
       "         b'31.0': 3,\n",
       "         b'43.0': 1,\n",
       "         b'46.0': 5,\n",
       "         b'54.0': 1,\n",
       "         b'61.0': 6,\n",
       "         b'63.0': 1,\n",
       "         b'67.0': 1,\n",
       "         b'72.0': 1,\n",
       "         b'80.0': 2,\n",
       "         b'81.0': 1,\n",
       "         b'98.0': 2,\n",
       "         b'99.0': 1})"
      ]
     },
     "execution_count": 50,
     "metadata": {},
     "output_type": "execute_result"
    }
   ],
   "source": [
    "import collections\n",
    "collections.Counter([g for z in cell['spot_genes'] for g in cell['spot_genes'][z]])"
   ]
  },
  {
   "cell_type": "code",
   "execution_count": 46,
   "metadata": {},
   "outputs": [
    {
     "data": {
      "text/plain": [
       "array([0.33546326, 0.16719575, 0.02288674, 0.33546326, 0.07494129,\n",
       "       0.00997997, 0.19999183, 0.14193265, 0.10967755, 0.08915158,\n",
       "       0.19999183, 0.14193265, 0.33546326, 0.06452041, 0.0562678 ,\n",
       "       0.33546326, 0.33546326, 0.33546326, 0.33546326, 0.33546326,\n",
       "       0.16719575, 0.16719575, 0.33546326, 0.19999183, 0.08745624,\n",
       "       0.33546326, 0.33546326, 0.33546326, 0.33546326, 0.16719575,\n",
       "       0.14193265, 0.13289918, 0.16719575, 0.19999183, 0.16719575,\n",
       "       0.03742612, 0.16719575, 0.16719575, 0.33546326, 0.07494129,\n",
       "       0.33546326, 0.33546326, 0.04516735, 0.19999183, 0.33546326,\n",
       "       0.14193265, 0.33546326, 0.10610499, 0.33546326, 0.33546326,\n",
       "       0.33546326, 0.16719575, 0.33546326, 0.16719575, 0.33546326])"
      ]
     },
     "execution_count": 46,
     "metadata": {},
     "output_type": "execute_result"
    }
   ],
   "source": [
    "cell['gene_vars'][:]"
   ]
  },
  {
   "cell_type": "code",
   "execution_count": 51,
   "metadata": {
    "collapsed": true
   },
   "outputs": [],
   "source": [
    "f.close()"
   ]
  },
  {
   "cell_type": "code",
   "execution_count": 52,
   "metadata": {},
   "outputs": [
    {
     "data": {
      "text/plain": [
       "Counter()"
      ]
     },
     "execution_count": 52,
     "metadata": {},
     "output_type": "execute_result"
    }
   ],
   "source": [
    "a = collections.Counter()\n",
    "a"
   ]
  },
  {
   "cell_type": "code",
   "execution_count": null,
   "metadata": {
    "collapsed": true
   },
   "outputs": [],
   "source": [
    "a"
   ]
  },
  {
   "cell_type": "markdown",
   "metadata": {},
   "source": [
    "# SLRRP hdf5 format"
   ]
  },
  {
   "cell_type": "code",
   "execution_count": 128,
   "metadata": {
    "collapsed": true
   },
   "outputs": [],
   "source": [
    "f = h5py.File('../inputs/m1s1_subset.hdf5','r')"
   ]
  },
  {
   "cell_type": "code",
   "execution_count": 131,
   "metadata": {},
   "outputs": [
    {
     "data": {
      "text/plain": [
       "{}"
      ]
     },
     "execution_count": 131,
     "metadata": {},
     "output_type": "execute_result"
    }
   ],
   "source": [
    "dict(f.attrs)"
   ]
  },
  {
   "cell_type": "code",
   "execution_count": 132,
   "metadata": {},
   "outputs": [
    {
     "data": {
      "text/plain": [
       "<KeysViewHDF5 ['cell_ids', 'cells', 'genes']>"
      ]
     },
     "execution_count": 132,
     "metadata": {},
     "output_type": "execute_result"
    }
   ],
   "source": [
    "f.keys()"
   ]
  },
  {
   "cell_type": "code",
   "execution_count": 134,
   "metadata": {},
   "outputs": [
    {
     "data": {
      "text/plain": [
       "<KeysViewHDF5 ['100090299132393774825374529480599642352', '102762322167228082486052775619884277102', '103963394979214788325793179983943807873', '104773525917171323315032845506736864421', '104887114217211410540888577620028568901', '106736575396305345683133461207739252997', '106771113274834466403933341586053551462', '111300904473796808480218743996654298162', '114601597319929030309061287706907914361', '114794480420405132420944298037591232478', '116545673785912319834287485202909229480', '116958434959714719022853807486346359847', '117278462105927683058902716691567767060', '118363099495240822175959718080964460592', '120885533126383545294034624420296038166', '131839580702053878622895713282850418670', '135221636419407451803412415350214899881', '140363262818590467334221980287927834774', '142291509029169734847215347686657429197', '142822951347518090322234372274331862666', '145531913712168956084196484724954151860', '145731456902179856722061144755427589556', '146025486461166202107668746869803359700', '146370137422914542517516725136788244816', '146707684147666991848060113567353950554', '149896872730513381096381256475262241166', '150537613207659193932392440925160580041', '151735444953849276323160630265966633005', '153574902909606797263225640054098791527', '15386704535582157047180644442310829560', '155087628397105777651717036232311900142', '157420930959627176143288546953971211456', '158867912844100742794517458941271544004', '159928885008689225367961143284563265325', '160319057339783769848409392476819226612', '163723997222791972202889993229243613705', '164903801701924972276167783383060740859', '165567751877072214245787577036668377316', '168039408689496511103396603469076116904', '169529711031306948027019870520400341300', '169963043683130966745212405196693146902', '170461304396062737809488079373412925663', '176351202411847843353319394890668822481', '176917516030699674826853842685812401267', '179279602163169035500433874621460649020', '188284001941538527852081068204432785212', '188674004503684300943123002165596451414', '190891496276723677581968315771395761807', '192601425482211844401886537091258840166', '192673060725426879238258828219608356068', '198004348190796800004491104523741448277', '198710268910353776464671074845587413413', '20097748913261143660275569073856226091', '202420016732156428605824468727428765415', '203289142038488417665421213743694563803', '204781171555531641677017512656753673123', '206362072683257422189473030371605569983', '207396823697032045723454552383404860710', '207630641906973024538541272101450671946', '208052851024382185755601498554541544024', '209042815853715691320538504971888744632', '2091746402134611273998957136115643336', '210118576374989883729350818476592035308', '211483768619903172805291825301463304159', '21265630341693527975951161331398688970', '212804350368494375744161771042618127794', '21483705929581420397172182987773287171', '215382260743971484328207017552164523882', '215513314008077208478393015593194130814', '216544628882692092695216092382594223728', '21965133743419957738322472584790298232', '223963560107196067456311000500221286921', '224236545717958973520184653641873630673', '227377764856751832426990996508398169170', '230281961637161750462705897586903059676', '230413198002167877513357508757711281490', '236005388971250141580355891416722619189', '23898448437889408552917595250430911774', '249188635842766903577860524183089680745', '251136767741713801501829056180375199401', '253713209923867098588930890408439850691', '258532203231860561659290517231998632412', '263227959853766427030310687142193846204', '266304171641243356671431474620179660938', '26631210756196382135405502011431056393', '268248276201256706339864570049994477165', '274009881461819436940060508265959357362', '274480018658256728864955018731900228813', '283260612933350944561962994366856725558', '284380497817025700586485735047403357663', '292720616499045446957756557917412482340', '297412238774411790074837875008959181706', '302840273698235844834801851004687174984', '303144293438173728067028345333193179049', '307174356918466242988249974962870861335', '308383248576257523468607680419480291312', '309119177094907288946059241731552994378', '315535920703851308869354446893627316911', '319935150908441870851579648406300781679', '324484570058950232763657409699197385298', '325012769234189022156764856031074035404', '325612711295243025862859974934831868928', '326419898190227493876698484120813764325', '327808788277278855993274518897426814873', '331226047632887603094427646993688334456', '332332812942310667610954529983476161566', '334684955882968904601928246630505422907', '334851650629895369418441715171921381815', '335032534198293099935436038661093486990', '337555235093910624330180298608128555705', '337993994839956755676152433261297908747', '338210797609069618359974334079019784685', '339398882267170848644275240015010812271', '34759461388789595384259666422202214717', '36935502193416889048299326152872824608', '38149691415946128423673206865490809521', '3838869468361394300711994977648954902', '39138555383375682974052551142137114503', '39547968243231955260608447259054685600', '40321741522461195602245913969777975640', '42995186182767754794784789477474585522', '45658673345231609047533636925998768682', '47357765327095341865409735991251610490', '48821179877767549728717041232082549382', '49141718629265380906138494595363349128', '50389351407127278266897082731443326139', '50477222992042282786575851123260669747', '51303718832559967164731958800747740276', '52838348513653549369421659531990503038', '53488023186133262948706754407448267623', '54809571496923628434769286590549208718', '58228767058573387510348922981393762015', '5910834397172060383205813048302051083', '61520084507932088502903804029058152372', '63589125944806071752271430590684868343', '64776091526677735301859901546686373128', '66419263354037114631332919283771557520', '68886535248461671249873113523315842442', '7064272926680401947541403283988436672', '73357006026418838588874101361439346442', '7539199027256571733102585980002016147', '79670646272020242667527419013798002774', '7973318325035700141523338287728614297', '81364015369994808182817980961545716644', '82460361320467449093970848566235989057', '8389253868957679768196899728194336837', '92293830186579894147406250918364359546', '92413895377328810281342127579511590514', '93176865524418152477988526453129798332', '96988767657194301862816726916181404211', '98094925393968329130254909503130262661', '99310474131739966831110248192079896073']>"
      ]
     },
     "execution_count": 134,
     "metadata": {},
     "output_type": "execute_result"
    }
   ],
   "source": [
    "f['cells'].keys()"
   ]
  },
  {
   "cell_type": "code",
   "execution_count": 136,
   "metadata": {},
   "outputs": [
    {
     "data": {
      "text/plain": [
       "{'annotation': 'unannotated',\n",
       " 'num_genes': 90,\n",
       " 'num_spots': 690,\n",
       " 'zslices': array(['0', '1', '2', '3', '4', '5', '6'], dtype=object)}"
      ]
     },
     "execution_count": 136,
     "metadata": {},
     "output_type": "execute_result"
    }
   ],
   "source": [
    "dict(f['cells']['7973318325035700141523338287728614297'].attrs)"
   ]
  },
  {
   "cell_type": "code",
   "execution_count": 137,
   "metadata": {},
   "outputs": [
    {
     "data": {
      "text/plain": [
       "<KeysViewHDF5 ['boundaries', 'gene_vars', 'spot_coords', 'spot_genes']>"
      ]
     },
     "execution_count": 137,
     "metadata": {},
     "output_type": "execute_result"
    }
   ],
   "source": [
    "f['cells']['7973318325035700141523338287728614297'].keys()"
   ]
  },
  {
   "cell_type": "code",
   "execution_count": 139,
   "metadata": {},
   "outputs": [
    {
     "data": {
      "text/plain": [
       "<KeysViewHDF5 ['0', '1', '2', '3', '4', '5', '6']>"
      ]
     },
     "execution_count": 139,
     "metadata": {},
     "output_type": "execute_result"
    }
   ],
   "source": [
    "f['cells']['7973318325035700141523338287728614297']['spot_genes'].keys()"
   ]
  },
  {
   "cell_type": "markdown",
   "metadata": {},
   "source": [
    "# Checking the outputs of the nextflow preprocessing pipeline"
   ]
  },
  {
   "cell_type": "code",
   "execution_count": 19,
   "metadata": {},
   "outputs": [
    {
     "data": {
      "text/plain": [
       "<HDF5 file \"spot_assigned_fov.hdf5\" (mode r)>"
      ]
     },
     "execution_count": 19,
     "metadata": {},
     "output_type": "execute_result"
    }
   ],
   "source": [
    "p = '/scratch/groups/horence/rob/nextflow_workdirs/SLRRP_preprocessing/work/d2/4c88757de2f4c0c70c87023f58f238/spot_assigned_fov.hdf5'\n",
    "f = h5py.File(p,'r')\n",
    "f"
   ]
  },
  {
   "cell_type": "code",
   "execution_count": 20,
   "metadata": {},
   "outputs": [
    {
     "data": {
      "text/plain": [
       "<KeysViewHDF5 ['cell_ids', 'cells', 'genes']>"
      ]
     },
     "execution_count": 20,
     "metadata": {},
     "output_type": "execute_result"
    }
   ],
   "source": [
    "f.keys()"
   ]
  },
  {
   "cell_type": "code",
   "execution_count": 21,
   "metadata": {},
   "outputs": [
    {
     "data": {
      "text/plain": [
       "<HDF5 dataset \"cell_ids\": shape (150,), type \"|S39\">"
      ]
     },
     "execution_count": 21,
     "metadata": {},
     "output_type": "execute_result"
    }
   ],
   "source": [
    "f['cell_ids']"
   ]
  },
  {
   "cell_type": "code",
   "execution_count": 24,
   "metadata": {},
   "outputs": [
    {
     "data": {
      "text/plain": [
       "<HDF5 dataset \"genes\": shape (237,), type \"|S5\">"
      ]
     },
     "execution_count": 24,
     "metadata": {},
     "output_type": "execute_result"
    }
   ],
   "source": [
    "f['genes']"
   ]
  },
  {
   "cell_type": "code",
   "execution_count": 25,
   "metadata": {},
   "outputs": [
    {
     "data": {
      "text/plain": [
       "<HDF5 group \"/cells\" (150 members)>"
      ]
     },
     "execution_count": 25,
     "metadata": {},
     "output_type": "execute_result"
    }
   ],
   "source": [
    "f['cells']"
   ]
  },
  {
   "cell_type": "code",
   "execution_count": 8,
   "metadata": {
    "collapsed": true
   },
   "outputs": [],
   "source": [
    "import sys\n",
    "sys.path.append('../src')\n",
    "import SRRS\n",
    "from SRRS import plotting"
   ]
  },
  {
   "cell_type": "code",
   "execution_count": 9,
   "metadata": {},
   "outputs": [
    {
     "name": "stdout",
     "output_type": "stream",
     "text": [
      "[b'100000222430101374100391121528960078468'\n",
      " b'100000783039738485473312644488737466057'\n",
      " b'10000222689749012490717425983950550438'\n",
      " b'100002504640472824010172472150784375491'\n",
      " b'100004026149747681099870395997198489814'\n",
      " b'100004715045048587245450788542846239999'\n",
      " b'100007061634038421457970264400927510654'\n",
      " b'100009304100132105464367326809954691600'\n",
      " b'10001144928722482217347219933810834687'\n",
      " b'100014336385983327798512994984153957143']\n"
     ]
    }
   ],
   "source": [
    "f = h5py.File('/scratch/groups/horence/rob/nextflow_workdirs/SLRRP_preprocessing/work/05/7902be37621764b57a6bc0610157fa/kidney_111921.hdf5','r')\n",
    "\n",
    "print(f['cell_ids'][:10])"
   ]
  },
  {
   "cell_type": "code",
   "execution_count": null,
   "metadata": {
    "collapsed": true
   },
   "outputs": [],
   "source": [
    "print('hello')"
   ]
  },
  {
   "cell_type": "code",
   "execution_count": 10,
   "metadata": {},
   "outputs": [
    {
     "data": {
      "text/plain": [
       "HDF5 /scratch/groups/horence/rob/nextflow_workdirs/SLRRP_preprocessing/work/05/7902be37621764b57a6bc0610157fa/kidney_111921.hdf5"
      ]
     },
     "execution_count": 10,
     "metadata": {},
     "output_type": "execute_result"
    }
   ],
   "source": [
    "sample = SRRS.HDF5('/scratch/groups/horence/rob/nextflow_workdirs/SLRRP_preprocessing/work/05/7902be37621764b57a6bc0610157fa/kidney_111921.hdf5')\n",
    "sampl"
   ]
  },
  {
   "cell_type": "code",
   "execution_count": null,
   "metadata": {
    "collapsed": true
   },
   "outputs": [],
   "source": [
    "f.close()"
   ]
  },
  {
   "cell_type": "code",
   "execution_count": null,
   "metadata": {
    "collapsed": true
   },
   "outputs": [],
   "source": [
    "sample"
   ]
  },
  {
   "cell_type": "code",
   "execution_count": 32,
   "metadata": {
    "collapsed": true
   },
   "outputs": [],
   "source": [
    "sample = SRRS.HDF5(p)\n",
    "cells = sample.cells()"
   ]
  },
  {
   "cell_type": "code",
   "execution_count": 33,
   "metadata": {},
   "outputs": [
    {
     "data": {
      "text/plain": [
       "150"
      ]
     },
     "execution_count": 33,
     "metadata": {},
     "output_type": "execute_result"
    }
   ],
   "source": [
    "len(cells)"
   ]
  },
  {
   "cell_type": "code",
   "execution_count": 34,
   "metadata": {},
   "outputs": [
    {
     "data": {
      "text/plain": [
       "Cell-10145035887587753334848824676025236727-10145035887587753334848824676025236727"
      ]
     },
     "execution_count": 34,
     "metadata": {},
     "output_type": "execute_result"
    }
   ],
   "source": [
    "cells[0]"
   ]
  },
  {
   "cell_type": "code",
   "execution_count": 38,
   "metadata": {},
   "outputs": [
    {
     "data": {
      "image/png": "[encoded data removed]",
      "text/plain": [
       "<Figure size 432x432 with 1 Axes>"
      ]
     },
     "execution_count": 38,
     "metadata": {},
     "output_type": "execute_result"
    }
   ],
   "source": [
    "plotting.plot_cell_3D(cells[2])"
   ]
  },
  {
   "cell_type": "code",
   "execution_count": 43,
   "metadata": {},
   "outputs": [
    {
     "data": {
      "text/plain": [
       "AnnData object with n_obs × n_vars = 19695 × 307\n",
       "    obs: 'fov', 'volume', 'center_x', 'center_y', 'min_x', 'max_x', 'min_y', 'max_y', 'median average DAPI', 'mean average DAPI', 'dataset', 'barcodeCount', 'n_counts', 'leiden', 'tentative_annot'\n",
       "    uns: 'QC_filter', 'leiden', 'leiden_colors', 'neighbors', 'pca', 'rank_genes_groups', 'tentative_annot_colors', 'umap'\n",
       "    obsm: 'X_pca', 'X_umap', 'spatial'\n",
       "    varm: 'PCs'\n",
       "    layers: 'counts'\n",
       "    obsp: 'connectivities', 'distances'"
      ]
     },
     "execution_count": 43,
     "metadata": {},
     "output_type": "execute_result"
    }
   ],
   "source": [
    "liver_adata = scp.read_h5ad(os.path.join(stem,'cell_gene_counts','MERFISH_liver_object.h5ad'))\n",
    "liver_adata"
   ]
  },
  {
   "cell_type": "code",
   "execution_count": 46,
   "metadata": {},
   "outputs": [
    {
     "data": {
      "text/plain": [
       "Index(['112379695218366873860549882516470536890',\n",
       "       '12559338600922861474440709337722075912',\n",
       "       '136424294865630680170129609768335163649',\n",
       "       '156821392620653799987123725353752218857',\n",
       "       '16787838303036923982065738606329983132',\n",
       "       '177687241039648906384826541466275797252',\n",
       "       '179752882524441916760885748558278411476',\n",
       "       '185193162525487633276499622913202709421',\n",
       "       '196140021005548455577090968378522944009',\n",
       "       '197461061844490892926834628814209104026',\n",
       "       ...\n",
       "       '336769639109948512799847633774530280492',\n",
       "       '37369705082198867184324452098992169813',\n",
       "       '47465432549609365207146527811917312477',\n",
       "       '5116214556185582295358355847744904350',\n",
       "       '51816046343979775662564279617477546548',\n",
       "       '56292141057567723530971261659166166639',\n",
       "       '68121793071604327723635322621389293215',\n",
       "       '71391041289612676296610859221534152213',\n",
       "       '72333849092538517334192547046627660966',\n",
       "       '89792734333654089648605667575363628015'],\n",
       "      dtype='object', length=19695)"
      ]
     },
     "execution_count": 46,
     "metadata": {},
     "output_type": "execute_result"
    }
   ],
   "source": [
    "liver_adata.obs_names"
   ]
  },
  {
   "cell_type": "code",
   "execution_count": 64,
   "metadata": {},
   "outputs": [
    {
     "name": "stdout",
     "output_type": "stream",
     "text": [
      "105072068019172264044024400942929587455 105072068019172264044024400942929587455    True\n",
      "dtype: bool\n",
      "106420718922401016279740802697270530490 106420718922401016279740802697270530490    True\n",
      "dtype: bool\n",
      "114672465362754693578076179962521408813 114672465362754693578076179962521408813    True\n",
      "dtype: bool\n",
      "119324351733658147365996489012828089009 119324351733658147365996489012828089009    True\n",
      "dtype: bool\n",
      "124189722950252031134545162381540081661 124189722950252031134545162381540081661    True\n",
      "dtype: bool\n",
      "127151027040526450129980854552097627892 127151027040526450129980854552097627892    True\n",
      "dtype: bool\n",
      "139282426161430924261881899485944713693 139282426161430924261881899485944713693    True\n",
      "dtype: bool\n",
      "16430047309196349380728681407054680553 16430047309196349380728681407054680553    True\n",
      "dtype: bool\n",
      "191286158648681877001834682777961615159 191286158648681877001834682777961615159    True\n",
      "dtype: bool\n",
      "191780889780920221110799740927987565734 191780889780920221110799740927987565734    True\n",
      "dtype: bool\n",
      "206140837186727587304052108595163601769 206140837186727587304052108595163601769    True\n",
      "dtype: bool\n",
      "220917498811461286067762145772211278261 220917498811461286067762145772211278261    True\n",
      "dtype: bool\n",
      "228956852244141831320757170231299331249 228956852244141831320757170231299331249    True\n",
      "dtype: bool\n",
      "237743979132541934038394635647621333133 237743979132541934038394635647621333133    True\n",
      "dtype: bool\n",
      "237939049727872979971140522538934283818 237939049727872979971140522538934283818    True\n",
      "dtype: bool\n",
      "272806936634028010792675933456453114018 272806936634028010792675933456453114018    True\n",
      "dtype: bool\n",
      "28414948405764893700627653958780405228 28414948405764893700627653958780405228    True\n",
      "dtype: bool\n",
      "320763630884179998367596281883263571721 320763630884179998367596281883263571721    True\n",
      "dtype: bool\n",
      "329188242435250756303898445776310028222 329188242435250756303898445776310028222    True\n",
      "dtype: bool\n",
      "339670833786660226083198694857437964216 339670833786660226083198694857437964216    True\n",
      "dtype: bool\n",
      "39371714248918602432250997918470953459 39371714248918602432250997918470953459    True\n",
      "dtype: bool\n",
      "4963478690422106867334477456077307369 4963478690422106867334477456077307369    True\n",
      "dtype: bool\n",
      "52752187815667582748743662194329847935 52752187815667582748743662194329847935    True\n",
      "dtype: bool\n",
      "74245970272442986490363566542092833331 74245970272442986490363566542092833331    True\n",
      "dtype: bool\n",
      "84865586535524661181841118601348651325 84865586535524661181841118601348651325    True\n",
      "dtype: bool\n"
     ]
    }
   ],
   "source": [
    "for cell in cells:\n",
    "    if cell.cell_id not in liver_adata.obs_names:\n",
    "        continue\n",
    "    \n",
    "    cell_row_counts = liver_adata[cell.cell_id]\n",
    "    ann_num_nonzero_genes = cell_row_counts.to_df().gt(0).sum(axis=1) #number of non-zero genes\n",
    "    print(cell.cell_id,ann_num_nonzero_genes == len(cell.genes))\n",
    "    "
   ]
  },
  {
   "cell_type": "markdown",
   "metadata": {},
   "source": [
    "# Testing another run of the nextflow pipeline"
   ]
  },
  {
   "cell_type": "code",
   "execution_count": 66,
   "metadata": {},
   "outputs": [
    {
     "data": {
      "text/plain": [
       "<HDF5 file \"spot_assigned_fov.hdf5\" (mode r)>"
      ]
     },
     "execution_count": 66,
     "metadata": {},
     "output_type": "execute_result"
    }
   ],
   "source": [
    "f = h5py.File('/scratch/groups/horence/rob/nextflow_workdirs/SLRRP_preprocessing/work/0e/8e7a7cd2949e4c7da536d8bdac682d/spot_assigned_fov.hdf5','r')\n",
    "f"
   ]
  },
  {
   "cell_type": "code",
   "execution_count": 67,
   "metadata": {},
   "outputs": [
    {
     "data": {
      "text/plain": [
       "<HDF5 dataset \"cell_ids\": shape (221,), type \"|S39\">"
      ]
     },
     "execution_count": 67,
     "metadata": {},
     "output_type": "execute_result"
    }
   ],
   "source": [
    "f['cell_ids']"
   ]
  },
  {
   "cell_type": "code",
   "execution_count": 68,
   "metadata": {},
   "outputs": [
    {
     "data": {
      "text/plain": [
       "<HDF5 dataset \"genes\": shape (232,), type \"|S5\">"
      ]
     },
     "execution_count": 68,
     "metadata": {},
     "output_type": "execute_result"
    }
   ],
   "source": [
    "f['genes']"
   ]
  },
  {
   "cell_type": "code",
   "execution_count": 69,
   "metadata": {},
   "outputs": [
    {
     "data": {
      "text/plain": [
       "<HDF5 group \"/cells\" (221 members)>"
      ]
     },
     "execution_count": 69,
     "metadata": {},
     "output_type": "execute_result"
    }
   ],
   "source": [
    "f['cells']"
   ]
  },
  {
   "cell_type": "code",
   "execution_count": 70,
   "metadata": {
    "collapsed": true
   },
   "outputs": [],
   "source": [
    "f.close()"
   ]
  },
  {
   "cell_type": "code",
   "execution_count": 71,
   "metadata": {},
   "outputs": [
    {
     "data": {
      "text/plain": [
       "HDF5 /scratch/groups/horence/rob/nextflow_workdirs/SLRRP_preprocessing/work/0e/8e7a7cd2949e4c7da536d8bdac682d/spot_assigned_fov.hdf5"
      ]
     },
     "execution_count": 71,
     "metadata": {},
     "output_type": "execute_result"
    }
   ],
   "source": [
    "sample = SRRS.HDF5('/scratch/groups/horence/rob/nextflow_workdirs/SLRRP_preprocessing/work/0e/8e7a7cd2949e4c7da536d8bdac682d/spot_assigned_fov.hdf5')\n",
    "sample"
   ]
  },
  {
   "cell_type": "code",
   "execution_count": 76,
   "metadata": {},
   "outputs": [
    {
     "data": {
      "text/plain": [
       "AnnData object with n_obs × n_vars = 34404 × 307\n",
       "    obs: 'fov', 'volume', 'center_x', 'center_y', 'min_x', 'max_x', 'min_y', 'max_y', 'median average DAPI', 'mean average DAPI', 'dataset', 'barcodeCount', 'n_counts', 'leiden', 'tentative_annot'\n",
       "    uns: 'QC_filter', 'leiden', 'leiden_colors', 'neighbors', 'pca', 'rank_genes_groups', 'tentative_annot_colors', 'umap'\n",
       "    obsm: 'X_pca', 'X_umap', 'spatial'\n",
       "    varm: 'PCs'\n",
       "    layers: 'counts'\n",
       "    obsp: 'connectivities', 'distances'"
      ]
     },
     "execution_count": 76,
     "metadata": {},
     "output_type": "execute_result"
    }
   ],
   "source": [
    "kidney_adata = scp.read_h5ad(os.path.join(stem,'cell_gene_counts','MERFISH_kidney_object.h5ad'))\n",
    "kidney_adata"
   ]
  },
  {
   "cell_type": "code",
   "execution_count": 78,
   "metadata": {},
   "outputs": [
    {
     "data": {
      "text/plain": [
       "Index(['41624037509864934454151605501754497245',\n",
       "       '169867365247332354866338405383324588459',\n",
       "       '286321852523267750287432641871621919039',\n",
       "       '102904096940674507421759112800363656347',\n",
       "       '110601490635990138731130117445235281343',\n",
       "       '130111078907057673898458323220900242022',\n",
       "       '141829986921435969513858317181928347056',\n",
       "       '143565540405990028059553549376138818162',\n",
       "       '191832012212214254667595309182848622442',\n",
       "       '206828641344153432208509069691929367647',\n",
       "       ...\n",
       "       '22525327933065938095508494974612763642',\n",
       "       '34465437466992934621007519512373953651',\n",
       "       '55532683820604546734781766088050308783',\n",
       "       '247958200157401124897312778666993222858',\n",
       "       '27439505866825689506051923766571061629',\n",
       "       '47593230811091457288739115988178061488',\n",
       "       '80315115277251954840364542894774491563',\n",
       "       '99057219388376948313953996768424102821',\n",
       "       '326129378277075365827788779468604261567',\n",
       "       '98699552266223429585360149923005216399'],\n",
       "      dtype='object', length=34404)"
      ]
     },
     "execution_count": 78,
     "metadata": {},
     "output_type": "execute_result"
    }
   ],
   "source": [
    "kidney_adata.obs_names"
   ]
  },
  {
   "cell_type": "code",
   "execution_count": 79,
   "metadata": {},
   "outputs": [
    {
     "data": {
      "text/plain": [
       "'99769558201619195399176670171329075266'"
      ]
     },
     "execution_count": 79,
     "metadata": {},
     "output_type": "execute_result"
    }
   ],
   "source": [
    "cell.cell_id"
   ]
  },
  {
   "cell_type": "code",
   "execution_count": 77,
   "metadata": {
    "collapsed": true
   },
   "outputs": [],
   "source": [
    "for cell in sample.cells():\n",
    "    if cell.cell_id not in kidney_adata.obs_names:\n",
    "        continue\n",
    "    \n",
    "    cell_row_counts = kidney_adata[cell.cell_id]\n",
    "    ann_num_nonzero_genes = cell_row_counts.to_df().gt(0).sum(axis=1) #number of non-zero genes\n",
    "    print(cell.cell_id,ann_num_nonzero_genes == len(cell.genes))\n",
    "    "
   ]
  },
  {
   "cell_type": "code",
   "execution_count": 75,
   "metadata": {},
   "outputs": [
    {
     "data": {
      "image/png": "[encoded data removed]",
      "text/plain": [
       "<Figure size 432x432 with 1 Axes>"
      ]
     },
     "execution_count": 75,
     "metadata": {},
     "output_type": "execute_result"
    }
   ],
   "source": [
    "plotting.plot_cell_3D(cell)"
   ]
  },
  {
   "cell_type": "code",
   "execution_count": null,
   "metadata": {
    "collapsed": true
   },
   "outputs": [],
   "source": []
  },
  {
   "cell_type": "markdown",
   "metadata": {},
   "source": [
    "# Debugging nextflow preprocess"
   ]
  },
  {
   "cell_type": "code",
   "execution_count": 34,
   "metadata": {},
   "outputs": [
    {
     "data": {
      "text/plain": [
       "<HDF5 file \"feature_data_115.hdf5\" (mode r)>"
      ]
     },
     "execution_count": 34,
     "metadata": {},
     "output_type": "execute_result"
    }
   ],
   "source": [
    "f = h5py.File('/oak/stanford/groups/horence/rob/isoform_localizations/SRRS/preprocessing/KidneyLiver_preprocessing/data/VZG116/MsLiver_Cellbound_VZG116_V1_JH_09-18-2021/features/feature_data_115.hdf5','r')\n",
    "f"
   ]
  },
  {
   "cell_type": "code",
   "execution_count": 35,
   "metadata": {},
   "outputs": [
    {
     "data": {
      "text/plain": [
       "<KeysViewHDF5 ['featuredata']>"
      ]
     },
     "execution_count": 35,
     "metadata": {},
     "output_type": "execute_result"
    }
   ],
   "source": [
    "f.keys()"
   ]
  },
  {
   "cell_type": "code",
   "execution_count": 36,
   "metadata": {},
   "outputs": [
    {
     "data": {
      "text/plain": [
       "<HDF5 group \"/featuredata\" (211 members)>"
      ]
     },
     "execution_count": 36,
     "metadata": {},
     "output_type": "execute_result"
    }
   ],
   "source": [
    "f['featuredata']"
   ]
  },
  {
   "cell_type": "code",
   "execution_count": 38,
   "metadata": {
    "collapsed": true
   },
   "outputs": [],
   "source": [
    "f.close()"
   ]
  },
  {
   "cell_type": "code",
   "execution_count": 2,
   "metadata": {
    "collapsed": true
   },
   "outputs": [],
   "source": [
    "from rtree import index\n",
    "import collections\n",
    "import shapely.geometry\n",
    "import sys\n",
    "\n",
    "in_f = h5py.File('/oak/stanford/groups/horence/rob/isoform_localizations/SRRS/preprocessing/KidneyLiver_preprocessing/data/VZG116/MsLiver_Cellbound_VZG116_V1_JH_09-18-2021/features/feature_data_115.hdf5','r')\n",
    "\n",
    "#Create the HDF5 file to prepare to write out\n",
    "out_f = h5py.File('testest.hdf5','w')\n",
    "out_cells_grp = out_f.create_group('cells')\n",
    "all_cell_ids = []\n",
    "all_genes = set()\n",
    "\n",
    "#Read in the 3D RTree of the spots\n",
    "p = index.Property()\n",
    "p.dimension = 3\n",
    "idx = index.Rtree('/scratch/groups/horence/rob/nextflow_workdirs/SLRRP_preprocessing/work/ee/c0d16ff8bce3e13ad0a87166f19ee3/rtree', properties=p)\n"
   ]
  },
  {
   "cell_type": "code",
   "execution_count": 16,
   "metadata": {},
   "outputs": [
    {
     "name": "stdout",
     "output_type": "stream",
     "text": [
      "0\n",
      "cell 10145035887587753334848824676025236727 did not have z-slice 0\n",
      "1\n"
     ]
    }
   ],
   "source": [
    "for cell_id in in_f['featuredata']:\n",
    "    in_cell = in_f['featuredata'][cell_id]\n",
    "    min_x,min_y,max_x,max_y = in_cell.attrs['bounding_box']\n",
    "\n",
    "    cell_genes = collections.defaultdict(list)\n",
    "    cell_spots = collections.defaultdict(list)\n",
    "\n",
    "    polys = {}\n",
    "\n",
    "    for z,_ in enumerate(in_cell['z_coordinates']):\n",
    "        print(z)\n",
    "        #Check if z_slice has any p_0 levels\n",
    "        z_slice_grp = in_cell['zIndex_{}'.format(z)]\n",
    "        if 'p_0' not in z_slice_grp:\n",
    "            sys.stdout.write('cell {} did not have z-slice {}\\n'.format(cell_id,z))\n",
    "            continue\n",
    "\n",
    "        #Find which spots are in this cell boundary box\n",
    "        boundary_hits = idx.intersection((min_x, min_y, z, max_x, max_y, z), objects=True)\n",
    "\n",
    "        #Create a Shapely polygon from the x,y coords at the given z-slice\n",
    "        xy_s = z_slice_grp['p_0']['coordinates'][0,:,:]\n",
    "        poly = shapely.geometry.Polygon(xy_s)\n",
    "        polys[z] = poly\n",
    "\n",
    "        for hit in boundary_hits:\n",
    "            gene = hit.object\n",
    "            x,y = hit.bbox[:2]\n",
    "            \n",
    "            point = shapely.geometry.Point(x,y)\n",
    "\n",
    "            if poly.contains(point):\n",
    "                cell_genes[z].append(gene.encode()) #TODO need to convert barcode_id to gene name\n",
    "                cell_spots[z].append([x,y])\n",
    "\n",
    "\n",
    "        break\n",
    "    break"
   ]
  },
  {
   "cell_type": "code",
   "execution_count": 17,
   "metadata": {},
   "outputs": [
    {
     "data": {
      "image/svg+xml": [
       "<svg xmlns=\"http://www.w3.org/2000/svg\" xmlns:xlink=\"http://www.w3.org/1999/xlink\" width=\"100.0\" height=\"100.0\" viewBox=\"1880.5209148275326 5557.5579347447465 5.3156386566327 6.861359988627555\" preserveAspectRatio=\"xMinYMin meet\"><g transform=\"matrix(1,0,0,-1,0,11121.977229478121)\"><path fill-rule=\"evenodd\" fill=\"#66cc99\" stroke=\"#555555\" stroke-width=\"0.1372271997725511\" opacity=\"0.6\" d=\"M 1884.6960982592957,5562.629973821474 L 1884.8588512901374,5562.732859104229 L 1885.0615699778493,5563.038980301116 L 1885.582429040142,5563.5980042328465 L 1885.096584294394,5561.378543034131 L 1885.093672786508,5561.150132387847 L 1885.109955741432,5561.025465674851 L 1885.1643628426689,5560.997743872138 L 1885.1590526221662,5560.875473103598 L 1885.2039447304496,5560.8449644583125 L 1885.2468326007242,5560.811697216068 L 1885.2136158848018,5560.697074053667 L 1885.2471985559214,5560.663491382547 L 1885.278606285944,5560.627866305791 L 1885.307715122908,5560.590339419301 L 1885.243222769213,5560.493189529194 L 1885.2639450026936,5560.458150145957 L 1885.2824262045026,5560.421878745132 L 1885.2985934377796,5560.384518473368 L 1885.2096687914168,5560.312842938332 L 1885.2191331798722,5560.280266299594 L 1885.2265333884482,5560.247159669542 L 1885.2318402119022,5560.213653704922 L 1885.2350327066265,5560.179880638467 L 1885.2360982733028,5560.145973757041 L 1885.1272458171604,5560.118848251901 L 1885.0175434308596,5560.105365788313 L 1885.0143593367873,5560.085262209541 L 1885.0099192116418,5560.06539823151 L 1885.0042405785684,5560.045852248267 L 1884.896929985457,5560.066458851599 L 1884.793819583497,5560.09998959236 L 1884.7907393831954,5560.093944358889 L 1884.2508802442915,5557.81205918877 L 1884.105211072065,5557.844620106504 L 1883.961873861616,5557.886263415709 L 1883.821434299429,5557.936824769267 L 1883.638462471614,5557.898383300415 L 1883.4473927036338,5557.87458678345 L 1883.3072351706844,5557.957475717372 L 1883.1725588458346,5558.049001653228 L 1883.112737027689,5558.23201881234 L 1882.9956832040618,5558.335215639557 L 1882.8853401418116,5558.445558701807 L 1882.8653587469728,5558.631454318113 L 1882.7738738308003,5558.7493959613685 L 1882.6899750562661,5558.872849259147 L 1882.7086346574033,5559.053356395837 L 1882.546229126871,5559.134322134041 L 1882.486949271522,5559.271309797175 L 1882.4363879179637,5559.411749359361 L 1882.394744608759,5559.555086569811 L 1882.362183691025,5559.700755742037 L 1882.231685277306,5559.834645996792 L 1882.1092129121084,5559.9832207262 L 1881.9960981892602,5560.145973757041 L 1881.893639133176,5560.322289540453 L 1881.803091715221,5560.511445475595 L 1881.513487484381,5560.753089232047 L 1881.244067783491,5561.032304537887 L 1881.1011045344494,5561.314058026078 L 1880.9807113253128,5561.616999507726 L 1880.9826879396528,5561.89337201495 L 1880.9104533033103,5562.2271496831445 L 1880.775039271556,5562.63435345747 L 1881.7759810501616,5564.1651702893505 L 1883.7021619412653,5562.656370334057 L 1883.8951261890995,5562.611112311221 L 1884.0783525635545,5562.551934391693 L 1884.2508802442915,5562.4798883253125 L 1884.3983064886224,5562.5032383485095 L 1884.5401266047393,5562.625072214762 L 1884.6960982592957,5562.629973821474 z\" /></g></svg>"
      ],
      "text/plain": [
       "<shapely.geometry.polygon.Polygon at 0x7f5ad543e5c0>"
      ]
     },
     "execution_count": 17,
     "metadata": {},
     "output_type": "execute_result"
    }
   ],
   "source": [
    "poly"
   ]
  },
  {
   "cell_type": "code",
   "execution_count": 18,
   "metadata": {},
   "outputs": [
    {
     "data": {
      "text/plain": [
       "defaultdict(list,\n",
       "            {1: [[1883.5884, 5559.1025],\n",
       "              [1883.7167, 5560.130999999999],\n",
       "              [1884.2994, 5560.2207]]})"
      ]
     },
     "execution_count": 18,
     "metadata": {},
     "output_type": "execute_result"
    }
   ],
   "source": [
    "cell_spots"
   ]
  },
  {
   "cell_type": "code",
   "execution_count": 11,
   "metadata": {},
   "outputs": [
    {
     "name": "stdout",
     "output_type": "stream",
     "text": [
      "1877.2942830642169 5553.6764906754015 1889.4160529466478 5565.988532325224\n"
     ]
    }
   ],
   "source": [
    "print(min_x,min_y,max_x,max_y)"
   ]
  }
 ],
 "metadata": {
  "kernelspec": {
   "display_name": "Python 3",
   "language": "python",
   "name": "python3"
  },
  "language_info": {
   "codemirror_mode": {
    "name": "ipython",
    "version": 3
   },
   "file_extension": ".py",
   "mimetype": "text/x-python",
   "name": "python",
   "nbconvert_exporter": "python",
   "pygments_lexer": "ipython3",
   "version": "3.6.1"
  }
 },
 "nbformat": 4,
 "nbformat_minor": 2
}
