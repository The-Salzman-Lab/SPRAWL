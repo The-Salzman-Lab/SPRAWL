{
 "cells": [
  {
   "cell_type": "code",
   "execution_count": 39,
   "metadata": {
    "collapsed": true
   },
   "outputs": [],
   "source": [
    "import pandas as pd\n",
    "import numpy as np\n",
    "import seaborn as sns\n",
    "import matplotlib.pyplot as plt\n",
    "import scipy as scp"
   ]
  },
  {
   "cell_type": "code",
   "execution_count": 2,
   "metadata": {},
   "outputs": [
    {
     "data": {
      "text/html": [
       "<div>\n",
       "<style scoped>\n",
       "    .dataframe tbody tr th:only-of-type {\n",
       "        vertical-align: middle;\n",
       "    }\n",
       "\n",
       "    .dataframe tbody tr th {\n",
       "        vertical-align: top;\n",
       "    }\n",
       "\n",
       "    .dataframe thead th {\n",
       "        text-align: right;\n",
       "    }\n",
       "</style>\n",
       "<table border=\"1\" class=\"dataframe\">\n",
       "  <thead>\n",
       "    <tr style=\"text-align: right;\">\n",
       "      <th></th>\n",
       "      <th>gene</th>\n",
       "      <th>origin</th>\n",
       "      <th>feature</th>\n",
       "      <th>start</th>\n",
       "      <th>end</th>\n",
       "      <th>score</th>\n",
       "      <th>dot1</th>\n",
       "      <th>dot2</th>\n",
       "      <th>evidence</th>\n",
       "    </tr>\n",
       "  </thead>\n",
       "  <tbody>\n",
       "    <tr>\n",
       "      <th>0</th>\n",
       "      <td>Xkr4</td>\n",
       "      <td>DeepSig</td>\n",
       "      <td>Chain</td>\n",
       "      <td>1</td>\n",
       "      <td>647</td>\n",
       "      <td>.</td>\n",
       "      <td>.</td>\n",
       "      <td>.</td>\n",
       "      <td>evidence=ECO:0000256</td>\n",
       "    </tr>\n",
       "    <tr>\n",
       "      <th>1</th>\n",
       "      <td>Sox17</td>\n",
       "      <td>DeepSig</td>\n",
       "      <td>Chain</td>\n",
       "      <td>1</td>\n",
       "      <td>419</td>\n",
       "      <td>.</td>\n",
       "      <td>.</td>\n",
       "      <td>.</td>\n",
       "      <td>evidence=ECO:0000256</td>\n",
       "    </tr>\n",
       "    <tr>\n",
       "      <th>2</th>\n",
       "      <td>Oprk1</td>\n",
       "      <td>DeepSig</td>\n",
       "      <td>Chain</td>\n",
       "      <td>1</td>\n",
       "      <td>409</td>\n",
       "      <td>.</td>\n",
       "      <td>.</td>\n",
       "      <td>.</td>\n",
       "      <td>evidence=ECO:0000256</td>\n",
       "    </tr>\n",
       "    <tr>\n",
       "      <th>3</th>\n",
       "      <td>Npbwr1</td>\n",
       "      <td>DeepSig</td>\n",
       "      <td>Chain</td>\n",
       "      <td>1</td>\n",
       "      <td>329</td>\n",
       "      <td>.</td>\n",
       "      <td>.</td>\n",
       "      <td>.</td>\n",
       "      <td>evidence=ECO:0000256</td>\n",
       "    </tr>\n",
       "    <tr>\n",
       "      <th>4</th>\n",
       "      <td>Rb1cc1</td>\n",
       "      <td>DeepSig</td>\n",
       "      <td>Chain</td>\n",
       "      <td>1</td>\n",
       "      <td>1588</td>\n",
       "      <td>.</td>\n",
       "      <td>.</td>\n",
       "      <td>.</td>\n",
       "      <td>evidence=ECO:0000256</td>\n",
       "    </tr>\n",
       "  </tbody>\n",
       "</table>\n",
       "</div>"
      ],
      "text/plain": [
       "     gene   origin feature  start   end score dot1 dot2              evidence\n",
       "0    Xkr4  DeepSig   Chain      1   647     .    .    .  evidence=ECO:0000256\n",
       "1   Sox17  DeepSig   Chain      1   419     .    .    .  evidence=ECO:0000256\n",
       "2   Oprk1  DeepSig   Chain      1   409     .    .    .  evidence=ECO:0000256\n",
       "3  Npbwr1  DeepSig   Chain      1   329     .    .    .  evidence=ECO:0000256\n",
       "4  Rb1cc1  DeepSig   Chain      1  1588     .    .    .  evidence=ECO:0000256"
      ]
     },
     "execution_count": 2,
     "metadata": {},
     "output_type": "execute_result"
    }
   ],
   "source": [
    "#Deepsig was used to make these predictions\n",
    "#https://academic.oup.com/bioinformatics/article/34/10/1690/4769493\n",
    "sig_pep_df = pd.read_csv(\n",
    "    '../inputs/deepsig_results.csv',\n",
    "    sep = '\\t',\n",
    "    header = None,\n",
    "    names = ['gene','origin','feature','start','end','score','dot1','dot2','evidence'],\n",
    ")\n",
    "sig_pep_df.head()"
   ]
  },
  {
   "cell_type": "code",
   "execution_count": 3,
   "metadata": {},
   "outputs": [
    {
     "data": {
      "text/plain": [
       "True"
      ]
     },
     "execution_count": 3,
     "metadata": {},
     "output_type": "execute_result"
    }
   ],
   "source": [
    "sig_pep_df['gene'].duplicated().any()"
   ]
  },
  {
   "cell_type": "code",
   "execution_count": 4,
   "metadata": {},
   "outputs": [
    {
     "data": {
      "text/html": [
       "<div>\n",
       "<style scoped>\n",
       "    .dataframe tbody tr th:only-of-type {\n",
       "        vertical-align: middle;\n",
       "    }\n",
       "\n",
       "    .dataframe tbody tr th {\n",
       "        vertical-align: top;\n",
       "    }\n",
       "\n",
       "    .dataframe thead th {\n",
       "        text-align: right;\n",
       "    }\n",
       "</style>\n",
       "<table border=\"1\" class=\"dataframe\">\n",
       "  <thead>\n",
       "    <tr style=\"text-align: right;\">\n",
       "      <th></th>\n",
       "      <th>gene</th>\n",
       "      <th>origin</th>\n",
       "      <th>feature</th>\n",
       "      <th>start</th>\n",
       "      <th>end</th>\n",
       "      <th>score</th>\n",
       "      <th>dot1</th>\n",
       "      <th>dot2</th>\n",
       "      <th>evidence</th>\n",
       "    </tr>\n",
       "  </thead>\n",
       "  <tbody>\n",
       "    <tr>\n",
       "      <th>16</th>\n",
       "      <td>Sulf1</td>\n",
       "      <td>DeepSig</td>\n",
       "      <td>Signal peptide</td>\n",
       "      <td>1</td>\n",
       "      <td>27</td>\n",
       "      <td>0.97</td>\n",
       "      <td>.</td>\n",
       "      <td>.</td>\n",
       "      <td>evidence=ECO:0000256</td>\n",
       "    </tr>\n",
       "    <tr>\n",
       "      <th>17</th>\n",
       "      <td>Sulf1</td>\n",
       "      <td>DeepSig</td>\n",
       "      <td>Chain</td>\n",
       "      <td>28</td>\n",
       "      <td>870</td>\n",
       "      <td>.</td>\n",
       "      <td>.</td>\n",
       "      <td>.</td>\n",
       "      <td>evidence=ECO:0000256</td>\n",
       "    </tr>\n",
       "    <tr>\n",
       "      <th>29</th>\n",
       "      <td>Pi15</td>\n",
       "      <td>DeepSig</td>\n",
       "      <td>Signal peptide</td>\n",
       "      <td>1</td>\n",
       "      <td>32</td>\n",
       "      <td>0.82</td>\n",
       "      <td>.</td>\n",
       "      <td>.</td>\n",
       "      <td>evidence=ECO:0000256</td>\n",
       "    </tr>\n",
       "    <tr>\n",
       "      <th>30</th>\n",
       "      <td>Pi15</td>\n",
       "      <td>DeepSig</td>\n",
       "      <td>Chain</td>\n",
       "      <td>33</td>\n",
       "      <td>269</td>\n",
       "      <td>.</td>\n",
       "      <td>.</td>\n",
       "      <td>.</td>\n",
       "      <td>evidence=ECO:0000256</td>\n",
       "    </tr>\n",
       "    <tr>\n",
       "      <th>31</th>\n",
       "      <td>Crispld1</td>\n",
       "      <td>DeepSig</td>\n",
       "      <td>Signal peptide</td>\n",
       "      <td>1</td>\n",
       "      <td>23</td>\n",
       "      <td>0.87</td>\n",
       "      <td>.</td>\n",
       "      <td>.</td>\n",
       "      <td>evidence=ECO:0000256</td>\n",
       "    </tr>\n",
       "    <tr>\n",
       "      <th>...</th>\n",
       "      <td>...</td>\n",
       "      <td>...</td>\n",
       "      <td>...</td>\n",
       "      <td>...</td>\n",
       "      <td>...</td>\n",
       "      <td>...</td>\n",
       "      <td>...</td>\n",
       "      <td>...</td>\n",
       "      <td>...</td>\n",
       "    </tr>\n",
       "    <tr>\n",
       "      <th>11386</th>\n",
       "      <td>Glra2</td>\n",
       "      <td>DeepSig</td>\n",
       "      <td>Chain</td>\n",
       "      <td>19</td>\n",
       "      <td>452</td>\n",
       "      <td>.</td>\n",
       "      <td>.</td>\n",
       "      <td>.</td>\n",
       "      <td>evidence=ECO:0000256</td>\n",
       "    </tr>\n",
       "    <tr>\n",
       "      <th>11389</th>\n",
       "      <td>Egfl6</td>\n",
       "      <td>DeepSig</td>\n",
       "      <td>Signal peptide</td>\n",
       "      <td>1</td>\n",
       "      <td>18</td>\n",
       "      <td>0.94</td>\n",
       "      <td>.</td>\n",
       "      <td>.</td>\n",
       "      <td>evidence=ECO:0000256</td>\n",
       "    </tr>\n",
       "    <tr>\n",
       "      <th>11390</th>\n",
       "      <td>Egfl6</td>\n",
       "      <td>DeepSig</td>\n",
       "      <td>Chain</td>\n",
       "      <td>19</td>\n",
       "      <td>550</td>\n",
       "      <td>.</td>\n",
       "      <td>.</td>\n",
       "      <td>.</td>\n",
       "      <td>evidence=ECO:0000256</td>\n",
       "    </tr>\n",
       "    <tr>\n",
       "      <th>11392</th>\n",
       "      <td>Tlr7</td>\n",
       "      <td>DeepSig</td>\n",
       "      <td>Signal peptide</td>\n",
       "      <td>1</td>\n",
       "      <td>26</td>\n",
       "      <td>0.84</td>\n",
       "      <td>.</td>\n",
       "      <td>.</td>\n",
       "      <td>evidence=ECO:0000256</td>\n",
       "    </tr>\n",
       "    <tr>\n",
       "      <th>11393</th>\n",
       "      <td>Tlr7</td>\n",
       "      <td>DeepSig</td>\n",
       "      <td>Chain</td>\n",
       "      <td>27</td>\n",
       "      <td>1050</td>\n",
       "      <td>.</td>\n",
       "      <td>.</td>\n",
       "      <td>.</td>\n",
       "      <td>evidence=ECO:0000256</td>\n",
       "    </tr>\n",
       "  </tbody>\n",
       "</table>\n",
       "<p>2856 rows × 9 columns</p>\n",
       "</div>"
      ],
      "text/plain": [
       "           gene   origin         feature  start   end score dot1 dot2  \\\n",
       "16        Sulf1  DeepSig  Signal peptide      1    27  0.97    .    .   \n",
       "17        Sulf1  DeepSig           Chain     28   870     .    .    .   \n",
       "29         Pi15  DeepSig  Signal peptide      1    32  0.82    .    .   \n",
       "30         Pi15  DeepSig           Chain     33   269     .    .    .   \n",
       "31     Crispld1  DeepSig  Signal peptide      1    23  0.87    .    .   \n",
       "...         ...      ...             ...    ...   ...   ...  ...  ...   \n",
       "11386     Glra2  DeepSig           Chain     19   452     .    .    .   \n",
       "11389     Egfl6  DeepSig  Signal peptide      1    18  0.94    .    .   \n",
       "11390     Egfl6  DeepSig           Chain     19   550     .    .    .   \n",
       "11392      Tlr7  DeepSig  Signal peptide      1    26  0.84    .    .   \n",
       "11393      Tlr7  DeepSig           Chain     27  1050     .    .    .   \n",
       "\n",
       "                   evidence  \n",
       "16     evidence=ECO:0000256  \n",
       "17     evidence=ECO:0000256  \n",
       "29     evidence=ECO:0000256  \n",
       "30     evidence=ECO:0000256  \n",
       "31     evidence=ECO:0000256  \n",
       "...                     ...  \n",
       "11386  evidence=ECO:0000256  \n",
       "11389  evidence=ECO:0000256  \n",
       "11390  evidence=ECO:0000256  \n",
       "11392  evidence=ECO:0000256  \n",
       "11393  evidence=ECO:0000256  \n",
       "\n",
       "[2856 rows x 9 columns]"
      ]
     },
     "execution_count": 4,
     "metadata": {},
     "output_type": "execute_result"
    }
   ],
   "source": [
    "sig_pep_df.groupby('gene').filter(lambda g: len(g) > 1)"
   ]
  },
  {
   "cell_type": "code",
   "execution_count": 5,
   "metadata": {},
   "outputs": [
    {
     "data": {
      "text/plain": [
       "Chain             9974\n",
       "Signal peptide    1428\n",
       "Name: feature, dtype: int64"
      ]
     },
     "execution_count": 5,
     "metadata": {},
     "output_type": "execute_result"
    }
   ],
   "source": [
    "sig_pep_df['feature'].value_counts()"
   ]
  },
  {
   "cell_type": "code",
   "execution_count": 6,
   "metadata": {},
   "outputs": [
    {
     "data": {
      "text/plain": [
       "(1428, 9)"
      ]
     },
     "execution_count": 6,
     "metadata": {},
     "output_type": "execute_result"
    }
   ],
   "source": [
    "sig_pep_df = sig_pep_df[sig_pep_df['feature'].eq('Signal peptide')]\n",
    "sig_pep_df['score'] = sig_pep_df['score'].astype(float)\n",
    "sig_pep_df.shape"
   ]
  },
  {
   "cell_type": "code",
   "execution_count": 7,
   "metadata": {},
   "outputs": [
    {
     "data": {
      "image/png": "[encoded data removed]",
      "text/plain": [
       "<Figure size 432x288 with 1 Axes>"
      ]
     },
     "metadata": {},
     "output_type": "display_data"
    }
   ],
   "source": [
    "sig_pep_df['score'].plot.hist()\n",
    "plt.show()\n",
    "plt.close()"
   ]
  },
  {
   "cell_type": "code",
   "execution_count": 8,
   "metadata": {},
   "outputs": [
    {
     "data": {
      "text/plain": [
       "(1056, 9)"
      ]
     },
     "execution_count": 8,
     "metadata": {},
     "output_type": "execute_result"
    }
   ],
   "source": [
    "sig_pep_df = sig_pep_df[sig_pep_df['score'].ge(0.95)]\n",
    "sig_pep_df.shape"
   ]
  },
  {
   "cell_type": "code",
   "execution_count": 9,
   "metadata": {
    "collapsed": true
   },
   "outputs": [],
   "source": [
    "genes_with_sig_pep = set(sig_pep_df['gene'])"
   ]
  },
  {
   "cell_type": "markdown",
   "metadata": {},
   "source": [
    "# Testing if gene peripheralness over all ontologies is significantly different across all ontologies for the three datasets"
   ]
  },
  {
   "cell_type": "code",
   "execution_count": 16,
   "metadata": {},
   "outputs": [
    {
     "data": {
      "text/plain": [
       "(10006566, 14)"
      ]
     },
     "execution_count": 16,
     "metadata": {},
     "output_type": "execute_result"
    }
   ],
   "source": [
    "gc_datasets = {\n",
    "    'MERFISH MOp':'../outputs/gene_cell/Merfish_MOp_peripheral.csv',\n",
    "    'Vizgen Brainmap':'../outputs/gene_cell/Vizgen_Brainmap_peripheral.csv',\n",
    "    'SeqFISH+ Cortex':'../outputs/gene_cell/SeqFish_peripheral.csv',\n",
    "}\n",
    "\n",
    "gc_df = pd.DataFrame()\n",
    "for dataset,path in gc_datasets.items():\n",
    "    dataset_df = pd.read_csv(path)\n",
    "    dataset_df = dataset_df[\n",
    "        dataset_df['num_gene_spots'].ge(5)\n",
    "    ]\n",
    "    dataset_df['Dataset'] = dataset\n",
    "    dataset_df['Signal Peptide'] = dataset_df['gene'].isin(genes_with_sig_pep)\n",
    "    gc_df = pd.concat((gc_df, dataset_df))\n",
    "    \n",
    "gc_df.shape"
   ]
  },
  {
   "cell_type": "code",
   "execution_count": 17,
   "metadata": {},
   "outputs": [
    {
     "data": {
      "text/plain": [
       "Dataset          Signal Peptide\n",
       "MERFISH MOp      False             4514002\n",
       "                 True              1952889\n",
       "SeqFISH+ Cortex  False               43788\n",
       "                 True                 4903\n",
       "Vizgen Brainmap  False             2585582\n",
       "                 True               905402\n",
       "Name: Signal Peptide, dtype: int64"
      ]
     },
     "execution_count": 17,
     "metadata": {},
     "output_type": "execute_result"
    }
   ],
   "source": [
    "gc_df.groupby('Dataset')['Signal Peptide'].value_counts()"
   ]
  },
  {
   "cell_type": "code",
   "execution_count": 31,
   "metadata": {},
   "outputs": [
    {
     "data": {
      "text/plain": [
       "Dataset\n",
       "MERFISH MOp        6466891\n",
       "SeqFISH+ Cortex      48691\n",
       "Vizgen Brainmap    3490984\n",
       "dtype: int64"
      ]
     },
     "execution_count": 31,
     "metadata": {},
     "output_type": "execute_result"
    }
   ],
   "source": [
    "gc_df.groupby('Dataset').size()"
   ]
  },
  {
   "cell_type": "code",
   "execution_count": 35,
   "metadata": {},
   "outputs": [
    {
     "data": {
      "text/plain": [
       "Dataset\n",
       "MERFISH MOp        5000\n",
       "SeqFISH+ Cortex    5000\n",
       "Vizgen Brainmap    5000\n",
       "dtype: int64"
      ]
     },
     "execution_count": 35,
     "metadata": {},
     "output_type": "execute_result"
    }
   ],
   "source": [
    "downsampled_gc_df = gc_df.groupby('Dataset').sample(5000)\n",
    "downsampled_gc_df.groupby('Dataset').size()"
   ]
  },
  {
   "cell_type": "code",
   "execution_count": 37,
   "metadata": {},
   "outputs": [
    {
     "data": {
      "image/png": "[encoded data removed]",
      "text/plain": [
       "<Figure size 432x288 with 1 Axes>"
      ]
     },
     "metadata": {},
     "output_type": "display_data"
    }
   ],
   "source": [
    "sns.boxplot(\n",
    "    x = 'Dataset',\n",
    "    y = 'score',\n",
    "    hue = 'Signal Peptide',\n",
    "    hue_order = [True, False],\n",
    "    palette = 'Greys',\n",
    "    fliersize = 0,\n",
    "    data = gc_df,\n",
    ")\n",
    "\n",
    "sns.stripplot(\n",
    "    x = 'Dataset',\n",
    "    y = 'score',\n",
    "    hue = 'Signal Peptide',\n",
    "    hue_order = [True, False],\n",
    "    dodge = True,\n",
    "    color = 'black',\n",
    "    marker=\"$\\circ$\",\n",
    "    linewidth=1,\n",
    "    data = downsampled_gc_df,\n",
    ")\n",
    "plt.show()\n",
    "plt.close()"
   ]
  },
  {
   "cell_type": "code",
   "execution_count": 54,
   "metadata": {},
   "outputs": [
    {
     "data": {
      "image/png": "[encoded data removed]",
      "text/plain": [
       "<Figure size 432x288 with 1 Axes>"
      ]
     },
     "metadata": {},
     "output_type": "display_data"
    }
   ],
   "source": [
    "sns.violinplot(\n",
    "    x = 'Dataset',\n",
    "    y = 'score',\n",
    "    hue = 'Signal Peptide',\n",
    "    hue_order = [True, False],\n",
    "    split = True,\n",
    "    palette = 'Greys',\n",
    "    fliersize = 0,\n",
    "    data = gc_df,\n",
    ")\n",
    "plt.xlabel('')\n",
    "plt.ylabel('Per cell periphery score')\n",
    "plt.show()\n",
    "#plt.savefig('signal_peptide_peripheralness.svg')\n",
    "plt.close()"
   ]
  },
  {
   "cell_type": "code",
   "execution_count": 44,
   "metadata": {},
   "outputs": [
    {
     "data": {
      "image/png": "[encoded data removed]",
      "text/plain": [
       "<Figure size 432x288 with 1 Axes>"
      ]
     },
     "metadata": {},
     "output_type": "display_data"
    }
   ],
   "source": [
    "gc_df['z'] = gc_df['score'].div(gc_df['variance'])\n",
    "no_outlier_gc_df = gc_df[gc_df['z'].between(-10,10)]\n",
    "sns.violinplot(\n",
    "    x = 'Dataset',\n",
    "    y = 'z',\n",
    "    hue = 'Signal Peptide',\n",
    "    hue_order = [True, False],\n",
    "    split = True,\n",
    "    palette = 'Greys',\n",
    "    fliersize = 0,\n",
    "    data = no_outlier_gc_df,\n",
    ")\n",
    "plt.xlabel('')\n",
    "plt.ylabel('Per cell periphery z-score')\n",
    "plt.show()\n",
    "plt.close()"
   ]
  },
  {
   "cell_type": "code",
   "execution_count": 41,
   "metadata": {},
   "outputs": [
    {
     "data": {
      "text/html": [
       "<div>\n",
       "<style scoped>\n",
       "    .dataframe tbody tr th:only-of-type {\n",
       "        vertical-align: middle;\n",
       "    }\n",
       "\n",
       "    .dataframe tbody tr th {\n",
       "        vertical-align: top;\n",
       "    }\n",
       "\n",
       "    .dataframe thead th {\n",
       "        text-align: right;\n",
       "    }\n",
       "</style>\n",
       "<table border=\"1\" class=\"dataframe\">\n",
       "  <thead>\n",
       "    <tr style=\"text-align: right;\">\n",
       "      <th></th>\n",
       "      <th>dataset</th>\n",
       "      <th>sig_pep_more_central</th>\n",
       "      <th>med_periph_with_signal</th>\n",
       "      <th>med_periph_without_signal</th>\n",
       "      <th>num_genes_with_signal_pep</th>\n",
       "      <th>num_genes_without_signal_pep</th>\n",
       "      <th>p</th>\n",
       "      <th>statistic</th>\n",
       "    </tr>\n",
       "  </thead>\n",
       "  <tbody>\n",
       "    <tr>\n",
       "      <th>2</th>\n",
       "      <td>Vizgen Brainmap</td>\n",
       "      <td>False</td>\n",
       "      <td>-0.007481</td>\n",
       "      <td>-0.033457</td>\n",
       "      <td>905402</td>\n",
       "      <td>2585582</td>\n",
       "      <td>0.000000e+00</td>\n",
       "      <td>43.528026</td>\n",
       "    </tr>\n",
       "    <tr>\n",
       "      <th>0</th>\n",
       "      <td>MERFISH MOp</td>\n",
       "      <td>False</td>\n",
       "      <td>0.007421</td>\n",
       "      <td>-0.004149</td>\n",
       "      <td>1952889</td>\n",
       "      <td>4514002</td>\n",
       "      <td>2.142244e-278</td>\n",
       "      <td>35.654422</td>\n",
       "    </tr>\n",
       "    <tr>\n",
       "      <th>1</th>\n",
       "      <td>SeqFISH+ Cortex</td>\n",
       "      <td>True</td>\n",
       "      <td>-0.065003</td>\n",
       "      <td>0.009159</td>\n",
       "      <td>4903</td>\n",
       "      <td>43788</td>\n",
       "      <td>1.006116e-34</td>\n",
       "      <td>-12.301112</td>\n",
       "    </tr>\n",
       "  </tbody>\n",
       "</table>\n",
       "</div>"
      ],
      "text/plain": [
       "           dataset  sig_pep_more_central  med_periph_with_signal  \\\n",
       "2  Vizgen Brainmap                 False               -0.007481   \n",
       "0      MERFISH MOp                 False                0.007421   \n",
       "1  SeqFISH+ Cortex                  True               -0.065003   \n",
       "\n",
       "   med_periph_without_signal  num_genes_with_signal_pep  \\\n",
       "2                  -0.033457                     905402   \n",
       "0                  -0.004149                    1952889   \n",
       "1                   0.009159                       4903   \n",
       "\n",
       "   num_genes_without_signal_pep              p  statistic  \n",
       "2                       2585582   0.000000e+00  43.528026  \n",
       "0                       4514002  2.142244e-278  35.654422  \n",
       "1                         43788   1.006116e-34 -12.301112  "
      ]
     },
     "execution_count": 41,
     "metadata": {},
     "output_type": "execute_result"
    }
   ],
   "source": [
    "ttest_data = {\n",
    "    'dataset':[],\n",
    "    'sig_pep_more_central':[],\n",
    "    'med_periph_with_signal':[],\n",
    "    'med_periph_without_signal':[],\n",
    "    'num_genes_with_signal_pep':[],\n",
    "    'num_genes_without_signal_pep':[],\n",
    "    'p':[],\n",
    "    'statistic':[],\n",
    "}\n",
    "for dataset,g in gc_df.groupby('Dataset'):\n",
    "    v1 = g.loc[g['Signal Peptide'],'score'].values\n",
    "    v2 = g.loc[~g['Signal Peptide'],'score'].values\n",
    "    s,p = scp.stats.ttest_ind(v1,v2)\n",
    "    ttest_data['dataset'].append(dataset)\n",
    "    ttest_data['sig_pep_more_central'].append(np.median(v1) < np.median(v2))\n",
    "    ttest_data['med_periph_with_signal'].append(np.median(v1))\n",
    "    ttest_data['med_periph_without_signal'].append(np.median(v2))\n",
    "    ttest_data['num_genes_with_signal_pep'].append(len(v1))\n",
    "    ttest_data['num_genes_without_signal_pep'].append(len(v2))\n",
    "    ttest_data['p'].append(p)\n",
    "    ttest_data['statistic'].append(s)\n",
    "    \n",
    "ttest_df = pd.DataFrame(ttest_data).sort_values('p')\n",
    "ttest_df"
   ]
  },
  {
   "cell_type": "markdown",
   "metadata": {},
   "source": [
    "## Testing if median gene/ont peripheralness depends on presence of signal peptide per MOp ontology"
   ]
  },
  {
   "cell_type": "code",
   "execution_count": 67,
   "metadata": {},
   "outputs": [
    {
     "data": {
      "text/html": [
       "<div>\n",
       "<style scoped>\n",
       "    .dataframe tbody tr th:only-of-type {\n",
       "        vertical-align: middle;\n",
       "    }\n",
       "\n",
       "    .dataframe tbody tr th {\n",
       "        vertical-align: top;\n",
       "    }\n",
       "\n",
       "    .dataframe thead th {\n",
       "        text-align: right;\n",
       "    }\n",
       "</style>\n",
       "<table border=\"1\" class=\"dataframe\">\n",
       "  <thead>\n",
       "    <tr style=\"text-align: right;\">\n",
       "      <th></th>\n",
       "      <th>sample_id</th>\n",
       "      <th>gene</th>\n",
       "      <th>ontology</th>\n",
       "      <th>num_cells</th>\n",
       "      <th>med_gene_spots</th>\n",
       "      <th>med_spots</th>\n",
       "      <th>med_score</th>\n",
       "      <th>score_sum</th>\n",
       "      <th>var_sum</th>\n",
       "      <th>z</th>\n",
       "      <th>p</th>\n",
       "      <th>bh_p</th>\n",
       "    </tr>\n",
       "  </thead>\n",
       "  <tbody>\n",
       "    <tr>\n",
       "      <th>0</th>\n",
       "      <td>m1s1</td>\n",
       "      <td>Acta2</td>\n",
       "      <td>L2/3 IT</td>\n",
       "      <td>397</td>\n",
       "      <td>6.0</td>\n",
       "      <td>611.0</td>\n",
       "      <td>0.087413</td>\n",
       "      <td>26.992258</td>\n",
       "      <td>46.958252</td>\n",
       "      <td>3.938975</td>\n",
       "      <td>0.000082</td>\n",
       "      <td>0.000293</td>\n",
       "    </tr>\n",
       "    <tr>\n",
       "      <th>1</th>\n",
       "      <td>m1s1</td>\n",
       "      <td>Acta2</td>\n",
       "      <td>L5 ET</td>\n",
       "      <td>51</td>\n",
       "      <td>6.0</td>\n",
       "      <td>698.0</td>\n",
       "      <td>0.032479</td>\n",
       "      <td>2.767631</td>\n",
       "      <td>6.067670</td>\n",
       "      <td>1.123562</td>\n",
       "      <td>0.261199</td>\n",
       "      <td>0.367769</td>\n",
       "    </tr>\n",
       "    <tr>\n",
       "      <th>2</th>\n",
       "      <td>m1s1</td>\n",
       "      <td>Acta2</td>\n",
       "      <td>L5 IT</td>\n",
       "      <td>257</td>\n",
       "      <td>6.0</td>\n",
       "      <td>654.0</td>\n",
       "      <td>0.094270</td>\n",
       "      <td>25.067569</td>\n",
       "      <td>29.188310</td>\n",
       "      <td>4.639891</td>\n",
       "      <td>0.000003</td>\n",
       "      <td>0.000015</td>\n",
       "    </tr>\n",
       "    <tr>\n",
       "      <th>3</th>\n",
       "      <td>m1s1</td>\n",
       "      <td>Acta2</td>\n",
       "      <td>L6 CT</td>\n",
       "      <td>26</td>\n",
       "      <td>5.0</td>\n",
       "      <td>304.0</td>\n",
       "      <td>0.176217</td>\n",
       "      <td>4.241585</td>\n",
       "      <td>3.271222</td>\n",
       "      <td>2.345164</td>\n",
       "      <td>0.019019</td>\n",
       "      <td>0.040833</td>\n",
       "    </tr>\n",
       "    <tr>\n",
       "      <th>4</th>\n",
       "      <td>m1s1</td>\n",
       "      <td>Acta2</td>\n",
       "      <td>L6 IT</td>\n",
       "      <td>85</td>\n",
       "      <td>6.0</td>\n",
       "      <td>569.0</td>\n",
       "      <td>0.035714</td>\n",
       "      <td>2.599184</td>\n",
       "      <td>10.194193</td>\n",
       "      <td>0.814068</td>\n",
       "      <td>0.415606</td>\n",
       "      <td>0.527449</td>\n",
       "    </tr>\n",
       "  </tbody>\n",
       "</table>\n",
       "</div>"
      ],
      "text/plain": [
       "  sample_id   gene ontology  num_cells  med_gene_spots  med_spots  med_score  \\\n",
       "0      m1s1  Acta2  L2/3 IT        397             6.0      611.0   0.087413   \n",
       "1      m1s1  Acta2    L5 ET         51             6.0      698.0   0.032479   \n",
       "2      m1s1  Acta2    L5 IT        257             6.0      654.0   0.094270   \n",
       "3      m1s1  Acta2    L6 CT         26             5.0      304.0   0.176217   \n",
       "4      m1s1  Acta2    L6 IT         85             6.0      569.0   0.035714   \n",
       "\n",
       "   score_sum    var_sum         z         p      bh_p  \n",
       "0  26.992258  46.958252  3.938975  0.000082  0.000293  \n",
       "1   2.767631   6.067670  1.123562  0.261199  0.367769  \n",
       "2  25.067569  29.188310  4.639891  0.000003  0.000015  \n",
       "3   4.241585   3.271222  2.345164  0.019019  0.040833  \n",
       "4   2.599184  10.194193  0.814068  0.415606  0.527449  "
      ]
     },
     "execution_count": 67,
     "metadata": {},
     "output_type": "execute_result"
    }
   ],
   "source": [
    "mop_df = pd.read_csv('../outputs/gene_ontology/MOp_peripheral_ReadZs_gene_ontology.csv')\n",
    "mop_df.head()"
   ]
  },
  {
   "cell_type": "code",
   "execution_count": 68,
   "metadata": {},
   "outputs": [
    {
     "data": {
      "text/html": [
       "<div>\n",
       "<style scoped>\n",
       "    .dataframe tbody tr th:only-of-type {\n",
       "        vertical-align: middle;\n",
       "    }\n",
       "\n",
       "    .dataframe tbody tr th {\n",
       "        vertical-align: top;\n",
       "    }\n",
       "\n",
       "    .dataframe thead th {\n",
       "        text-align: right;\n",
       "    }\n",
       "</style>\n",
       "<table border=\"1\" class=\"dataframe\">\n",
       "  <thead>\n",
       "    <tr style=\"text-align: right;\">\n",
       "      <th></th>\n",
       "      <th>sample_id</th>\n",
       "      <th>gene</th>\n",
       "      <th>ontology</th>\n",
       "      <th>num_cells</th>\n",
       "      <th>med_gene_spots</th>\n",
       "      <th>med_spots</th>\n",
       "      <th>med_score</th>\n",
       "      <th>score_sum</th>\n",
       "      <th>var_sum</th>\n",
       "      <th>z</th>\n",
       "      <th>p</th>\n",
       "      <th>bh_p</th>\n",
       "      <th>has_sig_pep</th>\n",
       "    </tr>\n",
       "  </thead>\n",
       "  <tbody>\n",
       "    <tr>\n",
       "      <th>0</th>\n",
       "      <td>m1s1</td>\n",
       "      <td>Acta2</td>\n",
       "      <td>L2/3 IT</td>\n",
       "      <td>397</td>\n",
       "      <td>6.0</td>\n",
       "      <td>611.0</td>\n",
       "      <td>0.087413</td>\n",
       "      <td>26.992258</td>\n",
       "      <td>46.958252</td>\n",
       "      <td>3.938975</td>\n",
       "      <td>0.000082</td>\n",
       "      <td>0.000293</td>\n",
       "      <td>False</td>\n",
       "    </tr>\n",
       "    <tr>\n",
       "      <th>1</th>\n",
       "      <td>m1s1</td>\n",
       "      <td>Acta2</td>\n",
       "      <td>L5 ET</td>\n",
       "      <td>51</td>\n",
       "      <td>6.0</td>\n",
       "      <td>698.0</td>\n",
       "      <td>0.032479</td>\n",
       "      <td>2.767631</td>\n",
       "      <td>6.067670</td>\n",
       "      <td>1.123562</td>\n",
       "      <td>0.261199</td>\n",
       "      <td>0.367769</td>\n",
       "      <td>False</td>\n",
       "    </tr>\n",
       "    <tr>\n",
       "      <th>2</th>\n",
       "      <td>m1s1</td>\n",
       "      <td>Acta2</td>\n",
       "      <td>L5 IT</td>\n",
       "      <td>257</td>\n",
       "      <td>6.0</td>\n",
       "      <td>654.0</td>\n",
       "      <td>0.094270</td>\n",
       "      <td>25.067569</td>\n",
       "      <td>29.188310</td>\n",
       "      <td>4.639891</td>\n",
       "      <td>0.000003</td>\n",
       "      <td>0.000015</td>\n",
       "      <td>False</td>\n",
       "    </tr>\n",
       "    <tr>\n",
       "      <th>3</th>\n",
       "      <td>m1s1</td>\n",
       "      <td>Acta2</td>\n",
       "      <td>L6 CT</td>\n",
       "      <td>26</td>\n",
       "      <td>5.0</td>\n",
       "      <td>304.0</td>\n",
       "      <td>0.176217</td>\n",
       "      <td>4.241585</td>\n",
       "      <td>3.271222</td>\n",
       "      <td>2.345164</td>\n",
       "      <td>0.019019</td>\n",
       "      <td>0.040833</td>\n",
       "      <td>False</td>\n",
       "    </tr>\n",
       "    <tr>\n",
       "      <th>4</th>\n",
       "      <td>m1s1</td>\n",
       "      <td>Acta2</td>\n",
       "      <td>L6 IT</td>\n",
       "      <td>85</td>\n",
       "      <td>6.0</td>\n",
       "      <td>569.0</td>\n",
       "      <td>0.035714</td>\n",
       "      <td>2.599184</td>\n",
       "      <td>10.194193</td>\n",
       "      <td>0.814068</td>\n",
       "      <td>0.415606</td>\n",
       "      <td>0.527449</td>\n",
       "      <td>False</td>\n",
       "    </tr>\n",
       "  </tbody>\n",
       "</table>\n",
       "</div>"
      ],
      "text/plain": [
       "  sample_id   gene ontology  num_cells  med_gene_spots  med_spots  med_score  \\\n",
       "0      m1s1  Acta2  L2/3 IT        397             6.0      611.0   0.087413   \n",
       "1      m1s1  Acta2    L5 ET         51             6.0      698.0   0.032479   \n",
       "2      m1s1  Acta2    L5 IT        257             6.0      654.0   0.094270   \n",
       "3      m1s1  Acta2    L6 CT         26             5.0      304.0   0.176217   \n",
       "4      m1s1  Acta2    L6 IT         85             6.0      569.0   0.035714   \n",
       "\n",
       "   score_sum    var_sum         z         p      bh_p  has_sig_pep  \n",
       "0  26.992258  46.958252  3.938975  0.000082  0.000293        False  \n",
       "1   2.767631   6.067670  1.123562  0.261199  0.367769        False  \n",
       "2  25.067569  29.188310  4.639891  0.000003  0.000015        False  \n",
       "3   4.241585   3.271222  2.345164  0.019019  0.040833        False  \n",
       "4   2.599184  10.194193  0.814068  0.415606  0.527449        False  "
      ]
     },
     "execution_count": 68,
     "metadata": {},
     "output_type": "execute_result"
    }
   ],
   "source": [
    "mop_df['has_sig_pep'] = mop_df['gene'].isin(genes_with_sig_pep)\n",
    "mop_df.head()"
   ]
  },
  {
   "cell_type": "code",
   "execution_count": 69,
   "metadata": {},
   "outputs": [
    {
     "data": {
      "text/plain": [
       "False    7897\n",
       "True     3643\n",
       "Name: has_sig_pep, dtype: int64"
      ]
     },
     "execution_count": 69,
     "metadata": {},
     "output_type": "execute_result"
    }
   ],
   "source": [
    "mop_df['has_sig_pep'].value_counts()"
   ]
  },
  {
   "cell_type": "code",
   "execution_count": 70,
   "metadata": {
    "scrolled": true
   },
   "outputs": [
    {
     "data": {
      "text/plain": [
       "Ptprt       175\n",
       "Igfbp5      165\n",
       "Shisa9      143\n",
       "Cdh13       136\n",
       "Parm1       133\n",
       "Spon1       128\n",
       "Sema5a      122\n",
       "Grin3a      119\n",
       "Ptprm       117\n",
       "Cxcl14      116\n",
       "Ptpru       108\n",
       "Igfbp4      102\n",
       "Prss12       98\n",
       "Olfm3        96\n",
       "Grm1         95\n",
       "Ptprk        91\n",
       "Timp3        91\n",
       "Cdh12        80\n",
       "Npnt         80\n",
       "Pcdh8        75\n",
       "Flrt3        73\n",
       "Ramp1        70\n",
       "Rxfp1        67\n",
       "C1ql3        67\n",
       "Ntng2        65\n",
       "Ccdc3        63\n",
       "Cntnap5b     61\n",
       "Nxph1        59\n",
       "Tmtc2        53\n",
       "Lypd1        52\n",
       "Elfn1        51\n",
       "Sulf1        50\n",
       "Cbln4        45\n",
       "Gpc6         44\n",
       "Egfr         43\n",
       "Pdgfra       39\n",
       "Alk          37\n",
       "Thbs2        37\n",
       "Sema3e       37\n",
       "Unc5b        34\n",
       "Moxd1        31\n",
       "Vtn          31\n",
       "Serpinf1     29\n",
       "Bgn          25\n",
       "Ccdc80       25\n",
       "Fst          23\n",
       "Il1rapl2     22\n",
       "Pdgfc        21\n",
       "Mrc1         21\n",
       "Rspo1        18\n",
       "Rxfp2        16\n",
       "Nxph4        16\n",
       "Egfem1       14\n",
       "Cd14         12\n",
       "Tnfaip6      11\n",
       "Hpse          8\n",
       "Ror1          2\n",
       "Chodl         1\n",
       "Name: gene, dtype: int64"
      ]
     },
     "execution_count": 70,
     "metadata": {},
     "output_type": "execute_result"
    }
   ],
   "source": [
    "mop_df[mop_df['has_sig_pep']]['gene'].value_counts()"
   ]
  },
  {
   "cell_type": "code",
   "execution_count": 71,
   "metadata": {},
   "outputs": [
    {
     "data": {
      "text/plain": [
       "True"
      ]
     },
     "execution_count": 71,
     "metadata": {},
     "output_type": "execute_result"
    }
   ],
   "source": [
    "'Ptprt' in genes_with_sig_pep"
   ]
  },
  {
   "cell_type": "code",
   "execution_count": 72,
   "metadata": {},
   "outputs": [
    {
     "data": {
      "text/html": [
       "<div>\n",
       "<style scoped>\n",
       "    .dataframe tbody tr th:only-of-type {\n",
       "        vertical-align: middle;\n",
       "    }\n",
       "\n",
       "    .dataframe tbody tr th {\n",
       "        vertical-align: top;\n",
       "    }\n",
       "\n",
       "    .dataframe thead th {\n",
       "        text-align: right;\n",
       "    }\n",
       "</style>\n",
       "<table border=\"1\" class=\"dataframe\">\n",
       "  <thead>\n",
       "    <tr style=\"text-align: right;\">\n",
       "      <th></th>\n",
       "      <th>ont</th>\n",
       "      <th>sig_pep_more_central</th>\n",
       "      <th>med_periph_with_signal</th>\n",
       "      <th>med_periph_without_signal</th>\n",
       "      <th>num_genes_with_signal_pep</th>\n",
       "      <th>num_genes_without_signal_pep</th>\n",
       "      <th>p</th>\n",
       "      <th>statistic</th>\n",
       "      <th>bh_p</th>\n",
       "      <th>significant</th>\n",
       "    </tr>\n",
       "  </thead>\n",
       "  <tbody>\n",
       "    <tr>\n",
       "      <th>14</th>\n",
       "      <td>SMC</td>\n",
       "      <td>False</td>\n",
       "      <td>0.011496</td>\n",
       "      <td>-0.063407</td>\n",
       "      <td>165</td>\n",
       "      <td>316</td>\n",
       "      <td>0.000009</td>\n",
       "      <td>4.477702</td>\n",
       "      <td>0.000179</td>\n",
       "      <td>True</td>\n",
       "    </tr>\n",
       "    <tr>\n",
       "      <th>0</th>\n",
       "      <td>Astro</td>\n",
       "      <td>False</td>\n",
       "      <td>0.065594</td>\n",
       "      <td>-0.004152</td>\n",
       "      <td>119</td>\n",
       "      <td>301</td>\n",
       "      <td>0.000735</td>\n",
       "      <td>3.401529</td>\n",
       "      <td>0.006979</td>\n",
       "      <td>True</td>\n",
       "    </tr>\n",
       "    <tr>\n",
       "      <th>10</th>\n",
       "      <td>Lamp5</td>\n",
       "      <td>True</td>\n",
       "      <td>-0.017430</td>\n",
       "      <td>0.008144</td>\n",
       "      <td>156</td>\n",
       "      <td>324</td>\n",
       "      <td>0.011945</td>\n",
       "      <td>-2.523434</td>\n",
       "      <td>0.075649</td>\n",
       "      <td>False</td>\n",
       "    </tr>\n",
       "    <tr>\n",
       "      <th>17</th>\n",
       "      <td>VLMC</td>\n",
       "      <td>False</td>\n",
       "      <td>-0.015719</td>\n",
       "      <td>-0.048852</td>\n",
       "      <td>178</td>\n",
       "      <td>292</td>\n",
       "      <td>0.019206</td>\n",
       "      <td>2.349636</td>\n",
       "      <td>0.078537</td>\n",
       "      <td>False</td>\n",
       "    </tr>\n",
       "    <tr>\n",
       "      <th>12</th>\n",
       "      <td>Oligo</td>\n",
       "      <td>False</td>\n",
       "      <td>0.028928</td>\n",
       "      <td>0.013873</td>\n",
       "      <td>122</td>\n",
       "      <td>387</td>\n",
       "      <td>0.020668</td>\n",
       "      <td>2.321272</td>\n",
       "      <td>0.078537</td>\n",
       "      <td>False</td>\n",
       "    </tr>\n",
       "    <tr>\n",
       "      <th>3</th>\n",
       "      <td>L5 ET</td>\n",
       "      <td>False</td>\n",
       "      <td>0.006742</td>\n",
       "      <td>-0.006370</td>\n",
       "      <td>293</td>\n",
       "      <td>605</td>\n",
       "      <td>0.035149</td>\n",
       "      <td>2.109842</td>\n",
       "      <td>0.111304</td>\n",
       "      <td>False</td>\n",
       "    </tr>\n",
       "    <tr>\n",
       "      <th>7</th>\n",
       "      <td>L6 IT</td>\n",
       "      <td>True</td>\n",
       "      <td>0.003681</td>\n",
       "      <td>0.019550</td>\n",
       "      <td>319</td>\n",
       "      <td>778</td>\n",
       "      <td>0.074643</td>\n",
       "      <td>-1.784355</td>\n",
       "      <td>0.202602</td>\n",
       "      <td>False</td>\n",
       "    </tr>\n",
       "    <tr>\n",
       "      <th>4</th>\n",
       "      <td>L5 IT</td>\n",
       "      <td>True</td>\n",
       "      <td>-0.014318</td>\n",
       "      <td>0.014333</td>\n",
       "      <td>370</td>\n",
       "      <td>800</td>\n",
       "      <td>0.113458</td>\n",
       "      <td>-1.584027</td>\n",
       "      <td>0.247132</td>\n",
       "      <td>False</td>\n",
       "    </tr>\n",
       "    <tr>\n",
       "      <th>13</th>\n",
       "      <td>Pvalb</td>\n",
       "      <td>False</td>\n",
       "      <td>0.000168</td>\n",
       "      <td>0.000000</td>\n",
       "      <td>233</td>\n",
       "      <td>551</td>\n",
       "      <td>0.117063</td>\n",
       "      <td>1.568957</td>\n",
       "      <td>0.247132</td>\n",
       "      <td>False</td>\n",
       "    </tr>\n",
       "    <tr>\n",
       "      <th>8</th>\n",
       "      <td>L6 IT Car3</td>\n",
       "      <td>False</td>\n",
       "      <td>0.018706</td>\n",
       "      <td>0.013009</td>\n",
       "      <td>165</td>\n",
       "      <td>304</td>\n",
       "      <td>0.384585</td>\n",
       "      <td>0.870297</td>\n",
       "      <td>0.671945</td>\n",
       "      <td>False</td>\n",
       "    </tr>\n",
       "    <tr>\n",
       "      <th>11</th>\n",
       "      <td>OPC</td>\n",
       "      <td>True</td>\n",
       "      <td>0.006020</td>\n",
       "      <td>0.015541</td>\n",
       "      <td>161</td>\n",
       "      <td>226</td>\n",
       "      <td>0.389021</td>\n",
       "      <td>-0.862370</td>\n",
       "      <td>0.671945</td>\n",
       "      <td>False</td>\n",
       "    </tr>\n",
       "    <tr>\n",
       "      <th>2</th>\n",
       "      <td>L2/3 IT</td>\n",
       "      <td>True</td>\n",
       "      <td>0.012524</td>\n",
       "      <td>0.023042</td>\n",
       "      <td>360</td>\n",
       "      <td>825</td>\n",
       "      <td>0.495280</td>\n",
       "      <td>0.682146</td>\n",
       "      <td>0.730852</td>\n",
       "      <td>False</td>\n",
       "    </tr>\n",
       "    <tr>\n",
       "      <th>5</th>\n",
       "      <td>L5/6 NP</td>\n",
       "      <td>True</td>\n",
       "      <td>0.002703</td>\n",
       "      <td>0.005338</td>\n",
       "      <td>145</td>\n",
       "      <td>416</td>\n",
       "      <td>0.500057</td>\n",
       "      <td>-0.674840</td>\n",
       "      <td>0.730852</td>\n",
       "      <td>False</td>\n",
       "    </tr>\n",
       "    <tr>\n",
       "      <th>1</th>\n",
       "      <td>Endo</td>\n",
       "      <td>False</td>\n",
       "      <td>-0.024480</td>\n",
       "      <td>-0.031187</td>\n",
       "      <td>80</td>\n",
       "      <td>121</td>\n",
       "      <td>0.560397</td>\n",
       "      <td>-0.583233</td>\n",
       "      <td>0.760538</td>\n",
       "      <td>False</td>\n",
       "    </tr>\n",
       "    <tr>\n",
       "      <th>18</th>\n",
       "      <td>Vip</td>\n",
       "      <td>True</td>\n",
       "      <td>0.001548</td>\n",
       "      <td>0.008372</td>\n",
       "      <td>111</td>\n",
       "      <td>200</td>\n",
       "      <td>0.772293</td>\n",
       "      <td>0.289631</td>\n",
       "      <td>0.867409</td>\n",
       "      <td>False</td>\n",
       "    </tr>\n",
       "    <tr>\n",
       "      <th>6</th>\n",
       "      <td>L6 CT</td>\n",
       "      <td>True</td>\n",
       "      <td>0.011361</td>\n",
       "      <td>0.016677</td>\n",
       "      <td>254</td>\n",
       "      <td>649</td>\n",
       "      <td>0.775322</td>\n",
       "      <td>-0.285506</td>\n",
       "      <td>0.867409</td>\n",
       "      <td>False</td>\n",
       "    </tr>\n",
       "    <tr>\n",
       "      <th>16</th>\n",
       "      <td>Sst</td>\n",
       "      <td>True</td>\n",
       "      <td>-0.005602</td>\n",
       "      <td>-0.003802</td>\n",
       "      <td>216</td>\n",
       "      <td>401</td>\n",
       "      <td>0.790902</td>\n",
       "      <td>-0.265255</td>\n",
       "      <td>0.867409</td>\n",
       "      <td>False</td>\n",
       "    </tr>\n",
       "    <tr>\n",
       "      <th>15</th>\n",
       "      <td>Sncg</td>\n",
       "      <td>False</td>\n",
       "      <td>0.016379</td>\n",
       "      <td>-0.002154</td>\n",
       "      <td>5</td>\n",
       "      <td>10</td>\n",
       "      <td>0.821756</td>\n",
       "      <td>-0.229889</td>\n",
       "      <td>0.867409</td>\n",
       "      <td>False</td>\n",
       "    </tr>\n",
       "    <tr>\n",
       "      <th>9</th>\n",
       "      <td>L6b</td>\n",
       "      <td>False</td>\n",
       "      <td>-0.006887</td>\n",
       "      <td>-0.019052</td>\n",
       "      <td>191</td>\n",
       "      <td>391</td>\n",
       "      <td>0.928936</td>\n",
       "      <td>0.089222</td>\n",
       "      <td>0.928936</td>\n",
       "      <td>False</td>\n",
       "    </tr>\n",
       "  </tbody>\n",
       "</table>\n",
       "</div>"
      ],
      "text/plain": [
       "           ont  sig_pep_more_central  med_periph_with_signal  \\\n",
       "14         SMC                 False                0.011496   \n",
       "0        Astro                 False                0.065594   \n",
       "10       Lamp5                  True               -0.017430   \n",
       "17        VLMC                 False               -0.015719   \n",
       "12       Oligo                 False                0.028928   \n",
       "3        L5 ET                 False                0.006742   \n",
       "7        L6 IT                  True                0.003681   \n",
       "4        L5 IT                  True               -0.014318   \n",
       "13       Pvalb                 False                0.000168   \n",
       "8   L6 IT Car3                 False                0.018706   \n",
       "11         OPC                  True                0.006020   \n",
       "2      L2/3 IT                  True                0.012524   \n",
       "5      L5/6 NP                  True                0.002703   \n",
       "1         Endo                 False               -0.024480   \n",
       "18         Vip                  True                0.001548   \n",
       "6        L6 CT                  True                0.011361   \n",
       "16         Sst                  True               -0.005602   \n",
       "15        Sncg                 False                0.016379   \n",
       "9          L6b                 False               -0.006887   \n",
       "\n",
       "    med_periph_without_signal  num_genes_with_signal_pep  \\\n",
       "14                  -0.063407                        165   \n",
       "0                   -0.004152                        119   \n",
       "10                   0.008144                        156   \n",
       "17                  -0.048852                        178   \n",
       "12                   0.013873                        122   \n",
       "3                   -0.006370                        293   \n",
       "7                    0.019550                        319   \n",
       "4                    0.014333                        370   \n",
       "13                   0.000000                        233   \n",
       "8                    0.013009                        165   \n",
       "11                   0.015541                        161   \n",
       "2                    0.023042                        360   \n",
       "5                    0.005338                        145   \n",
       "1                   -0.031187                         80   \n",
       "18                   0.008372                        111   \n",
       "6                    0.016677                        254   \n",
       "16                  -0.003802                        216   \n",
       "15                  -0.002154                          5   \n",
       "9                   -0.019052                        191   \n",
       "\n",
       "    num_genes_without_signal_pep         p  statistic      bh_p  significant  \n",
       "14                           316  0.000009   4.477702  0.000179         True  \n",
       "0                            301  0.000735   3.401529  0.006979         True  \n",
       "10                           324  0.011945  -2.523434  0.075649        False  \n",
       "17                           292  0.019206   2.349636  0.078537        False  \n",
       "12                           387  0.020668   2.321272  0.078537        False  \n",
       "3                            605  0.035149   2.109842  0.111304        False  \n",
       "7                            778  0.074643  -1.784355  0.202602        False  \n",
       "4                            800  0.113458  -1.584027  0.247132        False  \n",
       "13                           551  0.117063   1.568957  0.247132        False  \n",
       "8                            304  0.384585   0.870297  0.671945        False  \n",
       "11                           226  0.389021  -0.862370  0.671945        False  \n",
       "2                            825  0.495280   0.682146  0.730852        False  \n",
       "5                            416  0.500057  -0.674840  0.730852        False  \n",
       "1                            121  0.560397  -0.583233  0.760538        False  \n",
       "18                           200  0.772293   0.289631  0.867409        False  \n",
       "6                            649  0.775322  -0.285506  0.867409        False  \n",
       "16                           401  0.790902  -0.265255  0.867409        False  \n",
       "15                            10  0.821756  -0.229889  0.867409        False  \n",
       "9                            391  0.928936   0.089222  0.928936        False  "
      ]
     },
     "execution_count": 72,
     "metadata": {},
     "output_type": "execute_result"
    }
   ],
   "source": [
    "import scipy as scp\n",
    "\n",
    "ttest_data = {\n",
    "    'ont':[],\n",
    "    'sig_pep_more_central':[],\n",
    "    'med_periph_with_signal':[],\n",
    "    'med_periph_without_signal':[],\n",
    "    'num_genes_with_signal_pep':[],\n",
    "    'num_genes_without_signal_pep':[],\n",
    "    'p':[],\n",
    "    'statistic':[],\n",
    "}\n",
    "for ont,g in mop_df.groupby('ontology'):\n",
    "    v1 = g.loc[g['has_sig_pep'],'med_score'].values\n",
    "    v2 = g.loc[~g['has_sig_pep'],'med_score'].values\n",
    "    s,p = scp.stats.ttest_ind(v1,v2)\n",
    "    ttest_data['ont'].append(ont)\n",
    "    ttest_data['sig_pep_more_central'].append(np.median(v1) < np.median(v2))\n",
    "    ttest_data['med_periph_with_signal'].append(np.median(v1))\n",
    "    ttest_data['med_periph_without_signal'].append(np.median(v2))\n",
    "    ttest_data['num_genes_with_signal_pep'].append(len(v1))\n",
    "    ttest_data['num_genes_without_signal_pep'].append(len(v2))\n",
    "    ttest_data['p'].append(p)\n",
    "    ttest_data['statistic'].append(s)\n",
    "    \n",
    "ttest_df = pd.DataFrame(ttest_data).sort_values('p')\n",
    "\n",
    "\n",
    "#perform BH correction\n",
    "from statsmodels.stats import multitest\n",
    "\n",
    "_,adj_p,_,_ = multitest.multipletests(\n",
    "    ttest_df['p'],\n",
    "    alpha = 0.05,\n",
    "    method = 'fdr_bh',\n",
    ")\n",
    "ttest_df['bh_p'] = adj_p\n",
    "ttest_df['significant'] = adj_p <= .05\n",
    "ttest_df"
   ]
  },
  {
   "cell_type": "code",
   "execution_count": 73,
   "metadata": {},
   "outputs": [
    {
     "data": {
      "text/plain": [
       "(11540, 13)"
      ]
     },
     "execution_count": 73,
     "metadata": {},
     "output_type": "execute_result"
    }
   ],
   "source": [
    "mop_df.shape"
   ]
  },
  {
   "cell_type": "code",
   "execution_count": 74,
   "metadata": {},
   "outputs": [
    {
     "data": {
      "image/png": "[encoded data removed]",
      "text/plain": [
       "<Figure size 1148.88x360 with 1 Axes>"
      ]
     },
     "metadata": {},
     "output_type": "display_data"
    }
   ],
   "source": [
    "#Tried sorting by increasing score for visualization, but didn't help much\n",
    "#mop_df['ont_med_score'] = mop_df.groupby('ontology')['med_score'].transform('median')\n",
    "\n",
    "g = sns.catplot(\n",
    "    kind = 'box',\n",
    "    x = 'ontology',\n",
    "    y = 'med_score',\n",
    "    order = ttest_df['ont'],\n",
    "    hue = 'has_sig_pep',\n",
    "    hue_order = [True,False],\n",
    "    palette = 'Greys',\n",
    "    fliersize = 0,\n",
    "    aspect = 3,\n",
    "    data = mop_df.sample(5000), #too many spots making figure very large!\n",
    ")\n",
    "g.map_dataframe(\n",
    "    sns.stripplot,\n",
    "    x = 'ontology',\n",
    "    y = 'med_score',\n",
    "    order = ttest_df['ont'],\n",
    "    hue = 'has_sig_pep',\n",
    "    hue_order = [True,False],\n",
    "    palette = 'Greys',\n",
    "    alpha=0.6,\n",
    "    linewidth = 1,\n",
    "    dodge=True,\n",
    ")\n",
    "plt.xlabel('')\n",
    "plt.ylabel('Median periphery score per gene/ontology')\n",
    "plt.show()\n",
    "g.savefig('MOp_signal_peptide_peripheralness_by_ontology.svg')\n",
    "plt.close()"
   ]
  },
  {
   "cell_type": "markdown",
   "metadata": {},
   "source": [
    "## Testing if median gene/ont peripheralness depends on presence of signal peptide per SeqFISH ontology"
   ]
  },
  {
   "cell_type": "code",
   "execution_count": 56,
   "metadata": {},
   "outputs": [
    {
     "data": {
      "text/plain": [
       "False    449\n",
       "True      58\n",
       "Name: has_sig_pep, dtype: int64"
      ]
     },
     "execution_count": 56,
     "metadata": {},
     "output_type": "execute_result"
    }
   ],
   "source": [
    "seq_df = pd.read_csv('../outputs/gene_ontology/SeqFish_peripheral.csv')\n",
    "seq_df['has_sig_pep'] = seq_df['gene'].isin(genes_with_sig_pep)\n",
    "seq_df['has_sig_pep'].value_counts()"
   ]
  },
  {
   "cell_type": "code",
   "execution_count": 61,
   "metadata": {},
   "outputs": [
    {
     "data": {
      "text/plain": [
       "(507, 13)"
      ]
     },
     "execution_count": 61,
     "metadata": {},
     "output_type": "execute_result"
    }
   ],
   "source": [
    "seq_df.shape"
   ]
  },
  {
   "cell_type": "code",
   "execution_count": 60,
   "metadata": {},
   "outputs": [
    {
     "data": {
      "text/html": [
       "<div>\n",
       "<style scoped>\n",
       "    .dataframe tbody tr th:only-of-type {\n",
       "        vertical-align: middle;\n",
       "    }\n",
       "\n",
       "    .dataframe tbody tr th {\n",
       "        vertical-align: top;\n",
       "    }\n",
       "\n",
       "    .dataframe thead th {\n",
       "        text-align: right;\n",
       "    }\n",
       "</style>\n",
       "<table border=\"1\" class=\"dataframe\">\n",
       "  <thead>\n",
       "    <tr style=\"text-align: right;\">\n",
       "      <th></th>\n",
       "      <th>ont</th>\n",
       "      <th>sig_pep_more_central</th>\n",
       "      <th>med_periph_with_signal</th>\n",
       "      <th>med_periph_without_signal</th>\n",
       "      <th>num_genes_with_signal_pep</th>\n",
       "      <th>num_genes_without_signal_pep</th>\n",
       "      <th>p</th>\n",
       "      <th>statistic</th>\n",
       "      <th>bh_p</th>\n",
       "      <th>significant</th>\n",
       "    </tr>\n",
       "  </thead>\n",
       "  <tbody>\n",
       "    <tr>\n",
       "      <th>2</th>\n",
       "      <td>Excitatory layer 5/6</td>\n",
       "      <td>True</td>\n",
       "      <td>-0.042286</td>\n",
       "      <td>0.034350</td>\n",
       "      <td>19</td>\n",
       "      <td>217</td>\n",
       "      <td>0.003092</td>\n",
       "      <td>-2.989539</td>\n",
       "      <td>0.012369</td>\n",
       "      <td>True</td>\n",
       "    </tr>\n",
       "    <tr>\n",
       "      <th>3</th>\n",
       "      <td>choroid plexus</td>\n",
       "      <td>False</td>\n",
       "      <td>0.013215</td>\n",
       "      <td>-0.046668</td>\n",
       "      <td>7</td>\n",
       "      <td>24</td>\n",
       "      <td>0.007183</td>\n",
       "      <td>2.892184</td>\n",
       "      <td>0.014366</td>\n",
       "      <td>True</td>\n",
       "    </tr>\n",
       "    <tr>\n",
       "      <th>1</th>\n",
       "      <td>Excitatory layer 3</td>\n",
       "      <td>True</td>\n",
       "      <td>-0.052997</td>\n",
       "      <td>-0.024234</td>\n",
       "      <td>11</td>\n",
       "      <td>99</td>\n",
       "      <td>0.070560</td>\n",
       "      <td>-1.826348</td>\n",
       "      <td>0.094080</td>\n",
       "      <td>False</td>\n",
       "    </tr>\n",
       "    <tr>\n",
       "      <th>0</th>\n",
       "      <td>Excitatory 5/6</td>\n",
       "      <td>True</td>\n",
       "      <td>0.014672</td>\n",
       "      <td>0.040281</td>\n",
       "      <td>8</td>\n",
       "      <td>52</td>\n",
       "      <td>0.257838</td>\n",
       "      <td>-1.142749</td>\n",
       "      <td>0.257838</td>\n",
       "      <td>False</td>\n",
       "    </tr>\n",
       "  </tbody>\n",
       "</table>\n",
       "</div>"
      ],
      "text/plain": [
       "                    ont  sig_pep_more_central  med_periph_with_signal  \\\n",
       "2  Excitatory layer 5/6                  True               -0.042286   \n",
       "3        choroid plexus                 False                0.013215   \n",
       "1    Excitatory layer 3                  True               -0.052997   \n",
       "0        Excitatory 5/6                  True                0.014672   \n",
       "\n",
       "   med_periph_without_signal  num_genes_with_signal_pep  \\\n",
       "2                   0.034350                         19   \n",
       "3                  -0.046668                          7   \n",
       "1                  -0.024234                         11   \n",
       "0                   0.040281                          8   \n",
       "\n",
       "   num_genes_without_signal_pep         p  statistic      bh_p  significant  \n",
       "2                           217  0.003092  -2.989539  0.012369         True  \n",
       "3                            24  0.007183   2.892184  0.014366         True  \n",
       "1                            99  0.070560  -1.826348  0.094080        False  \n",
       "0                            52  0.257838  -1.142749  0.257838        False  "
      ]
     },
     "execution_count": 60,
     "metadata": {},
     "output_type": "execute_result"
    }
   ],
   "source": [
    "ttest_data = {\n",
    "    'ont':[],\n",
    "    'sig_pep_more_central':[],\n",
    "    'med_periph_with_signal':[],\n",
    "    'med_periph_without_signal':[],\n",
    "    'num_genes_with_signal_pep':[],\n",
    "    'num_genes_without_signal_pep':[],\n",
    "    'p':[],\n",
    "    'statistic':[],\n",
    "}\n",
    "for ont,g in seq_df.groupby('annotation'):\n",
    "    v1 = g.loc[g['has_sig_pep'],'med_score'].values\n",
    "    v2 = g.loc[~g['has_sig_pep'],'med_score'].values\n",
    "    \n",
    "    #Don't test ontologies with too few SRP genes\n",
    "    if len(v1) < 5:\n",
    "        continue\n",
    "    \n",
    "    s,p = scp.stats.ttest_ind(v1,v2)\n",
    "    ttest_data['ont'].append(ont)\n",
    "    ttest_data['sig_pep_more_central'].append(np.median(v1) < np.median(v2))\n",
    "    ttest_data['med_periph_with_signal'].append(np.median(v1))\n",
    "    ttest_data['med_periph_without_signal'].append(np.median(v2))\n",
    "    ttest_data['num_genes_with_signal_pep'].append(len(v1))\n",
    "    ttest_data['num_genes_without_signal_pep'].append(len(v2))\n",
    "    ttest_data['p'].append(p)\n",
    "    ttest_data['statistic'].append(s)\n",
    "    \n",
    "ttest_df = pd.DataFrame(ttest_data).sort_values('p')\n",
    "\n",
    "\n",
    "#perform BH correction\n",
    "from statsmodels.stats import multitest\n",
    "\n",
    "_,adj_p,_,_ = multitest.multipletests(\n",
    "    ttest_df['p'],\n",
    "    alpha = 0.05,\n",
    "    method = 'fdr_bh',\n",
    ")\n",
    "ttest_df['bh_p'] = adj_p\n",
    "ttest_df['significant'] = adj_p <= .05\n",
    "ttest_df"
   ]
  },
  {
   "cell_type": "code",
   "execution_count": 65,
   "metadata": {},
   "outputs": [
    {
     "data": {
      "image/png": "[encoded data removed]",
      "text/plain": [
       "<Figure size 1148.88x360 with 1 Axes>"
      ]
     },
     "metadata": {},
     "output_type": "display_data"
    }
   ],
   "source": [
    "#Tried sorting by increasing score for visualization, but didn't help much\n",
    "#mop_df['ont_med_score'] = mop_df.groupby('ontology')['med_score'].transform('median')\n",
    "\n",
    "g = sns.catplot(\n",
    "    kind = 'box',\n",
    "    x = 'annotation',\n",
    "    y = 'med_score',\n",
    "    order = ttest_df['ont'],\n",
    "    hue = 'has_sig_pep',\n",
    "    hue_order = [True,False],\n",
    "    palette = 'Greys',\n",
    "    fliersize = 0,\n",
    "    aspect = 3,\n",
    "    data = seq_df,\n",
    ")\n",
    "g.map_dataframe(\n",
    "    sns.stripplot,\n",
    "    x = 'annotation',\n",
    "    y = 'med_score',\n",
    "    order = ttest_df['ont'],\n",
    "    hue = 'has_sig_pep',\n",
    "    hue_order = [True,False],\n",
    "    palette = 'Greys',\n",
    "    alpha=0.8,\n",
    "    linewidth = 1,\n",
    "    dodge=True,\n",
    ")\n",
    "plt.xlabel('')\n",
    "plt.ylabel('Median periphery score per gene/ontology')\n",
    "plt.show()\n",
    "g.savefig('Seq_signal_peptide_peripheralness_by_ontology.svg')\n",
    "plt.close()"
   ]
  },
  {
   "cell_type": "markdown",
   "metadata": {},
   "source": [
    "# Getting the protein sequences to run DeepSig with\n",
    "\n",
    "Downloaded the translated amino-acid sequence fasta from https://ftp.ebi.ac.uk/pub/databases/gencode/Gencode_mouse/release_M28/gencode.vM28.pc_translations.fa.gz on 3/8/2022"
   ]
  },
  {
   "cell_type": "code",
   "execution_count": 114,
   "metadata": {},
   "outputs": [
    {
     "name": "stdout",
     "output_type": "stream",
     "text": [
      "10375\n"
     ]
    }
   ],
   "source": [
    "with open('../preprocessing/MOP_preprocessing/mop_genes.txt') as mop_gene_f:\n",
    "    mop_genes = set([g.strip() for g in mop_gene_f.readlines()])\n",
    "    \n",
    "with open('../preprocessing/Vizgen_preprocessing/vizgen_genes.txt') as viz_gene_f:\n",
    "    viz_genes = set([g.strip() for g in viz_gene_f.readlines()])\n",
    "\n",
    "with open('../preprocessing/SeqFishplus_preprocessing/seq_fish_plus_genes.txt') as seq_gene_f:\n",
    "    seq_genes = set([g.strip() for g in seq_gene_f.readlines()])\n",
    "\n",
    "    \n",
    "genes = mop_genes.union(viz_genes).union(seq_genes)\n",
    "print(len(genes))"
   ]
  },
  {
   "cell_type": "code",
   "execution_count": 128,
   "metadata": {},
   "outputs": [
    {
     "data": {
      "text/plain": [
       "9974"
      ]
     },
     "execution_count": 128,
     "metadata": {},
     "output_type": "execute_result"
    }
   ],
   "source": [
    "import pysam\n",
    "\n",
    "path = '/oak/stanford/groups/horence/rob/isoform_localizations/deepsig/gencode.vM28.pc_translations.fa'\n",
    "\n",
    "seqs = {}\n",
    "\n",
    "with pysam.FastaFile(path) as fa:\n",
    "    for ref in fa.references:\n",
    "        gene = ref.split('|')[-2]\n",
    "        if gene not in genes:\n",
    "            continue\n",
    "        \n",
    "        seq = fa.fetch(reference=ref)\n",
    "        \n",
    "        #use the longest isoform for the signal peptide prediction        \n",
    "        if (gene not in seqs) or (len(seq) > len(seqs[gene])):\n",
    "            seqs[gene] = seq\n",
    "            \n",
    "        \n",
    "len(seqs)"
   ]
  },
  {
   "cell_type": "code",
   "execution_count": 129,
   "metadata": {},
   "outputs": [
    {
     "name": "stdout",
     "output_type": "stream",
     "text": [
      "252\n"
     ]
    },
    {
     "data": {
      "text/plain": [
       "238"
      ]
     },
     "execution_count": 129,
     "metadata": {},
     "output_type": "execute_result"
    }
   ],
   "source": [
    "#Nearly all the MOp genes were found\n",
    "print(len(mop_genes))\n",
    "len(mop_genes.intersection(seqs.keys()))"
   ]
  },
  {
   "cell_type": "code",
   "execution_count": 130,
   "metadata": {},
   "outputs": [
    {
     "name": "stdout",
     "output_type": "stream",
     "text": [
      "649\n"
     ]
    },
    {
     "data": {
      "text/plain": [
       "478"
      ]
     },
     "execution_count": 130,
     "metadata": {},
     "output_type": "execute_result"
    }
   ],
   "source": [
    "#Most of the Viz genes were found\n",
    "print(len(viz_genes))\n",
    "len(viz_genes.intersection(seqs.keys()))"
   ]
  },
  {
   "cell_type": "code",
   "execution_count": 132,
   "metadata": {},
   "outputs": [
    {
     "name": "stdout",
     "output_type": "stream",
     "text": [
      "10000\n"
     ]
    },
    {
     "data": {
      "text/plain": [
       "9772"
      ]
     },
     "execution_count": 132,
     "metadata": {},
     "output_type": "execute_result"
    }
   ],
   "source": [
    "#Most of the Seq genes were found\n",
    "print(len(seq_genes))\n",
    "len(seq_genes.intersection(seqs.keys()))"
   ]
  },
  {
   "cell_type": "code",
   "execution_count": 133,
   "metadata": {
    "collapsed": true
   },
   "outputs": [],
   "source": [
    "with open('/oak/stanford/groups/horence/rob/isoform_localizations/deepsig/sub_prots.fa','w') as fa:\n",
    "    for gene,seq in seqs.items():\n",
    "        fa.write('>{}\\n{}\\n'.format(gene,seq))"
   ]
  },
  {
   "cell_type": "markdown",
   "metadata": {
    "collapsed": true
   },
   "source": [
    "# Notes on running Deepsig"
   ]
  },
  {
   "cell_type": "markdown",
   "metadata": {},
   "source": [
    "Working in this directory: /oak/stanford/groups/horence/rob/isoform_localizations/deepsig\n",
    "\n",
    "Have a virtualenv with deepsig installed: source .venv/bin/activate\n",
    "\n",
    "(need to ml python/3.9.0 too)\n",
    "\n",
    "then deepsig -h to get the help menu\n",
    "\n",
    "I ran deepsig with: deepsig -f sub_prots.fa -k euk -o results.txt\n",
    "\n",
    "Then copied the outputs to SRRS/inputs/deepsig_results.csv"
   ]
  }
 ],
 "metadata": {
  "kernelspec": {
   "display_name": "Python 3",
   "language": "python",
   "name": "python3"
  },
  "language_info": {
   "codemirror_mode": {
    "name": "ipython",
    "version": 3
   },
   "file_extension": ".py",
   "mimetype": "text/x-python",
   "name": "python",
   "nbconvert_exporter": "python",
   "pygments_lexer": "ipython3",
   "version": "3.6.1"
  }
 },
 "nbformat": 4,
 "nbformat_minor": 2
}
