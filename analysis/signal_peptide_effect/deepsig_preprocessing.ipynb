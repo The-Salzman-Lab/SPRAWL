{
 "cells": [
  {
   "cell_type": "code",
   "execution_count": 6,
   "metadata": {},
   "outputs": [
    {
     "data": {
      "text/html": [
       "<div>\n",
       "<style scoped>\n",
       "    .dataframe tbody tr th:only-of-type {\n",
       "        vertical-align: middle;\n",
       "    }\n",
       "\n",
       "    .dataframe tbody tr th {\n",
       "        vertical-align: top;\n",
       "    }\n",
       "\n",
       "    .dataframe thead th {\n",
       "        text-align: right;\n",
       "    }\n",
       "</style>\n",
       "<table border=\"1\" class=\"dataframe\">\n",
       "  <thead>\n",
       "    <tr style=\"text-align: right;\">\n",
       "      <th></th>\n",
       "      <th>Home</th>\n",
       "      <th>Price</th>\n",
       "      <th>High</th>\n",
       "      <th>Low</th>\n",
       "      <th>Median</th>\n",
       "      <th>Suggest</th>\n",
       "    </tr>\n",
       "  </thead>\n",
       "  <tbody>\n",
       "    <tr>\n",
       "      <th>0</th>\n",
       "      <td>house_1</td>\n",
       "      <td>137</td>\n",
       "      <td>1006</td>\n",
       "      <td>590</td>\n",
       "      <td>798.0</td>\n",
       "      <td>Buy</td>\n",
       "    </tr>\n",
       "    <tr>\n",
       "      <th>1</th>\n",
       "      <td>house_2</td>\n",
       "      <td>335</td>\n",
       "      <td>1077</td>\n",
       "      <td>768</td>\n",
       "      <td>922.5</td>\n",
       "      <td>Buy</td>\n",
       "    </tr>\n",
       "    <tr>\n",
       "      <th>2</th>\n",
       "      <td>house_3</td>\n",
       "      <td>172</td>\n",
       "      <td>862</td>\n",
       "      <td>498</td>\n",
       "      <td>680.0</td>\n",
       "      <td>Buy</td>\n",
       "    </tr>\n",
       "    <tr>\n",
       "      <th>3</th>\n",
       "      <td>house_4</td>\n",
       "      <td>867</td>\n",
       "      <td>1490</td>\n",
       "      <td>662</td>\n",
       "      <td>1076.0</td>\n",
       "      <td>Review</td>\n",
       "    </tr>\n",
       "    <tr>\n",
       "      <th>4</th>\n",
       "      <td>house_5</td>\n",
       "      <td>815</td>\n",
       "      <td>1433</td>\n",
       "      <td>680</td>\n",
       "      <td>1056.5</td>\n",
       "      <td>Review</td>\n",
       "    </tr>\n",
       "    <tr>\n",
       "      <th>5</th>\n",
       "      <td>house_6</td>\n",
       "      <td>745</td>\n",
       "      <td>1042</td>\n",
       "      <td>315</td>\n",
       "      <td>678.5</td>\n",
       "      <td>Hold</td>\n",
       "    </tr>\n",
       "    <tr>\n",
       "      <th>6</th>\n",
       "      <td>house_7</td>\n",
       "      <td>947</td>\n",
       "      <td>1384</td>\n",
       "      <td>853</td>\n",
       "      <td>1118.5</td>\n",
       "      <td>Review</td>\n",
       "    </tr>\n",
       "    <tr>\n",
       "      <th>7</th>\n",
       "      <td>house_8</td>\n",
       "      <td>244</td>\n",
       "      <td>1336</td>\n",
       "      <td>603</td>\n",
       "      <td>969.5</td>\n",
       "      <td>Buy</td>\n",
       "    </tr>\n",
       "    <tr>\n",
       "      <th>8</th>\n",
       "      <td>house_9</td>\n",
       "      <td>229</td>\n",
       "      <td>1134</td>\n",
       "      <td>578</td>\n",
       "      <td>856.0</td>\n",
       "      <td>Buy</td>\n",
       "    </tr>\n",
       "    <tr>\n",
       "      <th>9</th>\n",
       "      <td>house_10</td>\n",
       "      <td>683</td>\n",
       "      <td>1606</td>\n",
       "      <td>964</td>\n",
       "      <td>1285.0</td>\n",
       "      <td>Buy</td>\n",
       "    </tr>\n",
       "    <tr>\n",
       "      <th>10</th>\n",
       "      <td>house_11</td>\n",
       "      <td>849</td>\n",
       "      <td>357</td>\n",
       "      <td>186</td>\n",
       "      <td>271.5</td>\n",
       "      <td>Sell</td>\n",
       "    </tr>\n",
       "    <tr>\n",
       "      <th>11</th>\n",
       "      <td>house_12</td>\n",
       "      <td>608</td>\n",
       "      <td>728</td>\n",
       "      <td>241</td>\n",
       "      <td>484.5</td>\n",
       "      <td>Hold</td>\n",
       "    </tr>\n",
       "    <tr>\n",
       "      <th>12</th>\n",
       "      <td>house_13</td>\n",
       "      <td>490</td>\n",
       "      <td>1047</td>\n",
       "      <td>493</td>\n",
       "      <td>770.0</td>\n",
       "      <td>Buy</td>\n",
       "    </tr>\n",
       "    <tr>\n",
       "      <th>13</th>\n",
       "      <td>house_14</td>\n",
       "      <td>381</td>\n",
       "      <td>768</td>\n",
       "      <td>107</td>\n",
       "      <td>437.5</td>\n",
       "      <td>Review</td>\n",
       "    </tr>\n",
       "    <tr>\n",
       "      <th>14</th>\n",
       "      <td>house_15</td>\n",
       "      <td>278</td>\n",
       "      <td>832</td>\n",
       "      <td>419</td>\n",
       "      <td>625.5</td>\n",
       "      <td>Buy</td>\n",
       "    </tr>\n",
       "    <tr>\n",
       "      <th>15</th>\n",
       "      <td>house_16</td>\n",
       "      <td>376</td>\n",
       "      <td>1544</td>\n",
       "      <td>929</td>\n",
       "      <td>1236.5</td>\n",
       "      <td>Buy</td>\n",
       "    </tr>\n",
       "    <tr>\n",
       "      <th>16</th>\n",
       "      <td>house_17</td>\n",
       "      <td>354</td>\n",
       "      <td>1526</td>\n",
       "      <td>634</td>\n",
       "      <td>1080.0</td>\n",
       "      <td>Buy</td>\n",
       "    </tr>\n",
       "    <tr>\n",
       "      <th>17</th>\n",
       "      <td>house_18</td>\n",
       "      <td>457</td>\n",
       "      <td>1010</td>\n",
       "      <td>413</td>\n",
       "      <td>711.5</td>\n",
       "      <td>Review</td>\n",
       "    </tr>\n",
       "    <tr>\n",
       "      <th>18</th>\n",
       "      <td>house_19</td>\n",
       "      <td>568</td>\n",
       "      <td>756</td>\n",
       "      <td>613</td>\n",
       "      <td>684.5</td>\n",
       "      <td>Buy</td>\n",
       "    </tr>\n",
       "    <tr>\n",
       "      <th>19</th>\n",
       "      <td>house_20</td>\n",
       "      <td>352</td>\n",
       "      <td>1684</td>\n",
       "      <td>996</td>\n",
       "      <td>1340.0</td>\n",
       "      <td>Buy</td>\n",
       "    </tr>\n",
       "  </tbody>\n",
       "</table>\n",
       "</div>"
      ],
      "text/plain": [
       "        Home  Price  High  Low  Median Suggest\n",
       "0    house_1    137  1006  590   798.0     Buy\n",
       "1    house_2    335  1077  768   922.5     Buy\n",
       "2    house_3    172   862  498   680.0     Buy\n",
       "3    house_4    867  1490  662  1076.0  Review\n",
       "4    house_5    815  1433  680  1056.5  Review\n",
       "5    house_6    745  1042  315   678.5    Hold\n",
       "6    house_7    947  1384  853  1118.5  Review\n",
       "7    house_8    244  1336  603   969.5     Buy\n",
       "8    house_9    229  1134  578   856.0     Buy\n",
       "9   house_10    683  1606  964  1285.0     Buy\n",
       "10  house_11    849   357  186   271.5    Sell\n",
       "11  house_12    608   728  241   484.5    Hold\n",
       "12  house_13    490  1047  493   770.0     Buy\n",
       "13  house_14    381   768  107   437.5  Review\n",
       "14  house_15    278   832  419   625.5     Buy\n",
       "15  house_16    376  1544  929  1236.5     Buy\n",
       "16  house_17    354  1526  634  1080.0     Buy\n",
       "17  house_18    457  1010  413   711.5  Review\n",
       "18  house_19    568   756  613   684.5     Buy\n",
       "19  house_20    352  1684  996  1340.0     Buy"
      ]
     },
     "execution_count": 6,
     "metadata": {},
     "output_type": "execute_result"
    }
   ],
   "source": [
    "import pandas as pd\n",
    "import numpy as np\n",
    "\n",
    "#Create example data\n",
    "np.random.seed(1)\n",
    "num_houses = 20\n",
    "\n",
    "house_names = ['house_{}'.format(i+1) for i in range(num_houses)]\n",
    "house_prices = np.random.randint(100,1000,num_houses)\n",
    "low_prices = np.random.randint(100,1000,num_houses)\n",
    "high_prices = low_prices + np.random.randint(100,1000,num_houses)\n",
    "med_prices = (low_prices+high_prices)/2\n",
    "\n",
    "Target_Frame = pd.DataFrame({\n",
    "    'Home':house_names,\n",
    "    'Price':house_prices,\n",
    "    'High':high_prices,\n",
    "    'Low':low_prices,\n",
    "    'Median':med_prices,\n",
    "})\n",
    "\n",
    "\n",
    "\n",
    "#First suggest to buy everything\n",
    "Target_Frame['Suggest'] = 'Buy'\n",
    "\n",
    "#If the price is more than the low, overwrite these rows with 'Review'\n",
    "Target_Frame.loc[Target_Frame['Price'] > Target_Frame['Low'], 'Suggest'] = 'Review'\n",
    "\n",
    "#If the price is more than the median, overwrite these rows with 'Hold'\n",
    "Target_Frame.loc[Target_Frame['Price'] > Target_Frame['Median'], 'Suggest'] = 'Hold'\n",
    "\n",
    "#If the price is more than the High, overwrite these rows with 'Sell'\n",
    "Target_Frame.loc[Target_Frame['Price'] > Target_Frame['High'], 'Suggest'] = 'Sell'\n",
    "\n",
    "Target_Frame\n"
   ]
  },
  {
   "cell_type": "code",
   "execution_count": 3,
   "metadata": {},
   "outputs": [
    {
     "data": {
      "text/html": [
       "<div>\n",
       "<style scoped>\n",
       "    .dataframe tbody tr th:only-of-type {\n",
       "        vertical-align: middle;\n",
       "    }\n",
       "\n",
       "    .dataframe tbody tr th {\n",
       "        vertical-align: top;\n",
       "    }\n",
       "\n",
       "    .dataframe thead th {\n",
       "        text-align: right;\n",
       "    }\n",
       "</style>\n",
       "<table border=\"1\" class=\"dataframe\">\n",
       "  <thead>\n",
       "    <tr style=\"text-align: right;\">\n",
       "      <th></th>\n",
       "      <th>Home</th>\n",
       "      <th>Price</th>\n",
       "      <th>High</th>\n",
       "      <th>Low</th>\n",
       "      <th>Median</th>\n",
       "      <th>Suggest</th>\n",
       "    </tr>\n",
       "  </thead>\n",
       "  <tbody>\n",
       "    <tr>\n",
       "      <th>0</th>\n",
       "      <td>house_1</td>\n",
       "      <td>882</td>\n",
       "      <td>1101</td>\n",
       "      <td>711</td>\n",
       "      <td>906.0</td>\n",
       "      <td>Review</td>\n",
       "    </tr>\n",
       "    <tr>\n",
       "      <th>1</th>\n",
       "      <td>house_2</td>\n",
       "      <td>526</td>\n",
       "      <td>755</td>\n",
       "      <td>210</td>\n",
       "      <td>482.5</td>\n",
       "      <td>Hold</td>\n",
       "    </tr>\n",
       "    <tr>\n",
       "      <th>2</th>\n",
       "      <td>house_3</td>\n",
       "      <td>389</td>\n",
       "      <td>1288</td>\n",
       "      <td>947</td>\n",
       "      <td>1117.5</td>\n",
       "      <td>Buy</td>\n",
       "    </tr>\n",
       "    <tr>\n",
       "      <th>3</th>\n",
       "      <td>house_4</td>\n",
       "      <td>675</td>\n",
       "      <td>943</td>\n",
       "      <td>281</td>\n",
       "      <td>612.0</td>\n",
       "      <td>Hold</td>\n",
       "    </tr>\n",
       "    <tr>\n",
       "      <th>4</th>\n",
       "      <td>house_5</td>\n",
       "      <td>542</td>\n",
       "      <td>1003</td>\n",
       "      <td>782</td>\n",
       "      <td>892.5</td>\n",
       "      <td>Buy</td>\n",
       "    </tr>\n",
       "    <tr>\n",
       "      <th>5</th>\n",
       "      <td>house_6</td>\n",
       "      <td>614</td>\n",
       "      <td>1518</td>\n",
       "      <td>945</td>\n",
       "      <td>1231.5</td>\n",
       "      <td>Buy</td>\n",
       "    </tr>\n",
       "    <tr>\n",
       "      <th>6</th>\n",
       "      <td>house_7</td>\n",
       "      <td>386</td>\n",
       "      <td>1872</td>\n",
       "      <td>927</td>\n",
       "      <td>1399.5</td>\n",
       "      <td>Buy</td>\n",
       "    </tr>\n",
       "    <tr>\n",
       "      <th>7</th>\n",
       "      <td>house_8</td>\n",
       "      <td>858</td>\n",
       "      <td>1388</td>\n",
       "      <td>420</td>\n",
       "      <td>904.0</td>\n",
       "      <td>Review</td>\n",
       "    </tr>\n",
       "    <tr>\n",
       "      <th>8</th>\n",
       "      <td>house_9</td>\n",
       "      <td>325</td>\n",
       "      <td>1300</td>\n",
       "      <td>325</td>\n",
       "      <td>812.5</td>\n",
       "      <td>Buy</td>\n",
       "    </tr>\n",
       "    <tr>\n",
       "      <th>9</th>\n",
       "      <td>house_10</td>\n",
       "      <td>794</td>\n",
       "      <td>1310</td>\n",
       "      <td>680</td>\n",
       "      <td>995.0</td>\n",
       "      <td>Review</td>\n",
       "    </tr>\n",
       "  </tbody>\n",
       "</table>\n",
       "</div>"
      ],
      "text/plain": [
       "       Home  Price  High  Low  Median Suggest\n",
       "0   house_1    882  1101  711   906.0  Review\n",
       "1   house_2    526   755  210   482.5    Hold\n",
       "2   house_3    389  1288  947  1117.5     Buy\n",
       "3   house_4    675   943  281   612.0    Hold\n",
       "4   house_5    542  1003  782   892.5     Buy\n",
       "5   house_6    614  1518  945  1231.5     Buy\n",
       "6   house_7    386  1872  927  1399.5     Buy\n",
       "7   house_8    858  1388  420   904.0  Review\n",
       "8   house_9    325  1300  325   812.5     Buy\n",
       "9  house_10    794  1310  680   995.0  Review"
      ]
     },
     "execution_count": 3,
     "metadata": {},
     "output_type": "execute_result"
    }
   ],
   "source": []
  },
  {
   "cell_type": "code",
   "execution_count": 39,
   "metadata": {
    "collapsed": true
   },
   "outputs": [],
   "source": [
    "import pandas as pd\n",
    "import numpy as np\n",
    "import seaborn as sns\n",
    "import matplotlib.pyplot as plt\n",
    "import scipy as scp"
   ]
  },
  {
   "cell_type": "markdown",
   "metadata": {},
   "source": [
    "# Getting the protein sequences to run DeepSig with\n",
    "\n",
    "Downloaded the translated amino-acid sequence fasta from https://ftp.ebi.ac.uk/pub/databases/gencode/Gencode_mouse/release_M28/gencode.vM28.pc_translations.fa.gz on 3/8/2022"
   ]
  },
  {
   "cell_type": "code",
   "execution_count": 114,
   "metadata": {},
   "outputs": [
    {
     "name": "stdout",
     "output_type": "stream",
     "text": [
      "10375\n"
     ]
    }
   ],
   "source": [
    "with open('../preprocessing/MOP_preprocessing/mop_genes.txt') as mop_gene_f:\n",
    "    mop_genes = set([g.strip() for g in mop_gene_f.readlines()])\n",
    "    \n",
    "with open('../preprocessing/Vizgen_preprocessing/vizgen_genes.txt') as viz_gene_f:\n",
    "    viz_genes = set([g.strip() for g in viz_gene_f.readlines()])\n",
    "\n",
    "with open('../preprocessing/SeqFishplus_preprocessing/seq_fish_plus_genes.txt') as seq_gene_f:\n",
    "    seq_genes = set([g.strip() for g in seq_gene_f.readlines()])\n",
    "\n",
    "    \n",
    "genes = mop_genes.union(viz_genes).union(seq_genes)\n",
    "print(len(genes))"
   ]
  },
  {
   "cell_type": "code",
   "execution_count": 128,
   "metadata": {},
   "outputs": [
    {
     "data": {
      "text/plain": [
       "9974"
      ]
     },
     "execution_count": 128,
     "metadata": {},
     "output_type": "execute_result"
    }
   ],
   "source": [
    "import pysam\n",
    "\n",
    "path = '/oak/stanford/groups/horence/rob/isoform_localizations/deepsig/gencode.vM28.pc_translations.fa'\n",
    "\n",
    "seqs = {}\n",
    "\n",
    "with pysam.FastaFile(path) as fa:\n",
    "    for ref in fa.references:\n",
    "        gene = ref.split('|')[-2]\n",
    "        if gene not in genes:\n",
    "            continue\n",
    "        \n",
    "        seq = fa.fetch(reference=ref)\n",
    "        \n",
    "        #use the longest isoform for the signal peptide prediction        \n",
    "        if (gene not in seqs) or (len(seq) > len(seqs[gene])):\n",
    "            seqs[gene] = seq\n",
    "            \n",
    "        \n",
    "len(seqs)"
   ]
  },
  {
   "cell_type": "code",
   "execution_count": 129,
   "metadata": {},
   "outputs": [
    {
     "name": "stdout",
     "output_type": "stream",
     "text": [
      "252\n"
     ]
    },
    {
     "data": {
      "text/plain": [
       "238"
      ]
     },
     "execution_count": 129,
     "metadata": {},
     "output_type": "execute_result"
    }
   ],
   "source": [
    "#Nearly all the MOp genes were found\n",
    "print(len(mop_genes))\n",
    "len(mop_genes.intersection(seqs.keys()))"
   ]
  },
  {
   "cell_type": "code",
   "execution_count": 130,
   "metadata": {},
   "outputs": [
    {
     "name": "stdout",
     "output_type": "stream",
     "text": [
      "649\n"
     ]
    },
    {
     "data": {
      "text/plain": [
       "478"
      ]
     },
     "execution_count": 130,
     "metadata": {},
     "output_type": "execute_result"
    }
   ],
   "source": [
    "#Most of the Viz genes were found\n",
    "print(len(viz_genes))\n",
    "len(viz_genes.intersection(seqs.keys()))"
   ]
  },
  {
   "cell_type": "code",
   "execution_count": 132,
   "metadata": {},
   "outputs": [
    {
     "name": "stdout",
     "output_type": "stream",
     "text": [
      "10000\n"
     ]
    },
    {
     "data": {
      "text/plain": [
       "9772"
      ]
     },
     "execution_count": 132,
     "metadata": {},
     "output_type": "execute_result"
    }
   ],
   "source": [
    "#Most of the Seq genes were found\n",
    "print(len(seq_genes))\n",
    "len(seq_genes.intersection(seqs.keys()))"
   ]
  },
  {
   "cell_type": "code",
   "execution_count": 133,
   "metadata": {
    "collapsed": true
   },
   "outputs": [],
   "source": [
    "with open('/oak/stanford/groups/horence/rob/isoform_localizations/deepsig/sub_prots.fa','w') as fa:\n",
    "    for gene,seq in seqs.items():\n",
    "        fa.write('>{}\\n{}\\n'.format(gene,seq))"
   ]
  },
  {
   "cell_type": "markdown",
   "metadata": {
    "collapsed": true
   },
   "source": [
    "# Notes on running Deepsig"
   ]
  },
  {
   "cell_type": "markdown",
   "metadata": {},
   "source": [
    "Working in this directory: /oak/stanford/groups/horence/rob/isoform_localizations/deepsig\n",
    "\n",
    "Have a virtualenv with deepsig installed: source .venv/bin/activate\n",
    "\n",
    "(need to ml python/3.9.0 too)\n",
    "\n",
    "then deepsig -h to get the help menu\n",
    "\n",
    "I ran deepsig with: deepsig -f sub_prots.fa -k euk -o results.txt\n",
    "\n",
    "Then copied the outputs to SRRS/inputs/deepsig_results.csv"
   ]
  }
 ],
 "metadata": {
  "kernelspec": {
   "display_name": "Python 3",
   "language": "python",
   "name": "python3"
  },
  "language_info": {
   "codemirror_mode": {
    "name": "ipython",
    "version": 3
   },
   "file_extension": ".py",
   "mimetype": "text/x-python",
   "name": "python",
   "nbconvert_exporter": "python",
   "pygments_lexer": "ipython3",
   "version": "3.6.8"
  }
 },
 "nbformat": 4,
 "nbformat_minor": 2
}
