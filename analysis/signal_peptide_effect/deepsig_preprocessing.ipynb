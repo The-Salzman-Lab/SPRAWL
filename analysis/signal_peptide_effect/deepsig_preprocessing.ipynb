{
 "cells": [
  {
   "cell_type": "code",
   "execution_count": 39,
   "metadata": {
    "collapsed": true
   },
   "outputs": [],
   "source": [
    "import pandas as pd\n",
    "import numpy as np\n",
    "import seaborn as sns\n",
    "import matplotlib.pyplot as plt\n",
    "import scipy as scp"
   ]
  },
  {
   "cell_type": "markdown",
   "metadata": {},
   "source": [
    "# Getting the protein sequences to run DeepSig with\n",
    "\n",
    "Downloaded the translated amino-acid sequence fasta from https://ftp.ebi.ac.uk/pub/databases/gencode/Gencode_mouse/release_M28/gencode.vM28.pc_translations.fa.gz on 3/8/2022"
   ]
  },
  {
   "cell_type": "code",
   "execution_count": 114,
   "metadata": {},
   "outputs": [
    {
     "name": "stdout",
     "output_type": "stream",
     "text": [
      "10375\n"
     ]
    }
   ],
   "source": [
    "with open('../preprocessing/MOP_preprocessing/mop_genes.txt') as mop_gene_f:\n",
    "    mop_genes = set([g.strip() for g in mop_gene_f.readlines()])\n",
    "    \n",
    "with open('../preprocessing/Vizgen_preprocessing/vizgen_genes.txt') as viz_gene_f:\n",
    "    viz_genes = set([g.strip() for g in viz_gene_f.readlines()])\n",
    "\n",
    "with open('../preprocessing/SeqFishplus_preprocessing/seq_fish_plus_genes.txt') as seq_gene_f:\n",
    "    seq_genes = set([g.strip() for g in seq_gene_f.readlines()])\n",
    "\n",
    "    \n",
    "genes = mop_genes.union(viz_genes).union(seq_genes)\n",
    "print(len(genes))"
   ]
  },
  {
   "cell_type": "code",
   "execution_count": 128,
   "metadata": {},
   "outputs": [
    {
     "data": {
      "text/plain": [
       "9974"
      ]
     },
     "execution_count": 128,
     "metadata": {},
     "output_type": "execute_result"
    }
   ],
   "source": [
    "import pysam\n",
    "\n",
    "path = '/oak/stanford/groups/horence/rob/isoform_localizations/deepsig/gencode.vM28.pc_translations.fa'\n",
    "\n",
    "seqs = {}\n",
    "\n",
    "with pysam.FastaFile(path) as fa:\n",
    "    for ref in fa.references:\n",
    "        gene = ref.split('|')[-2]\n",
    "        if gene not in genes:\n",
    "            continue\n",
    "        \n",
    "        seq = fa.fetch(reference=ref)\n",
    "        \n",
    "        #use the longest isoform for the signal peptide prediction        \n",
    "        if (gene not in seqs) or (len(seq) > len(seqs[gene])):\n",
    "            seqs[gene] = seq\n",
    "            \n",
    "        \n",
    "len(seqs)"
   ]
  },
  {
   "cell_type": "code",
   "execution_count": 129,
   "metadata": {},
   "outputs": [
    {
     "name": "stdout",
     "output_type": "stream",
     "text": [
      "252\n"
     ]
    },
    {
     "data": {
      "text/plain": [
       "238"
      ]
     },
     "execution_count": 129,
     "metadata": {},
     "output_type": "execute_result"
    }
   ],
   "source": [
    "#Nearly all the MOp genes were found\n",
    "print(len(mop_genes))\n",
    "len(mop_genes.intersection(seqs.keys()))"
   ]
  },
  {
   "cell_type": "code",
   "execution_count": 130,
   "metadata": {},
   "outputs": [
    {
     "name": "stdout",
     "output_type": "stream",
     "text": [
      "649\n"
     ]
    },
    {
     "data": {
      "text/plain": [
       "478"
      ]
     },
     "execution_count": 130,
     "metadata": {},
     "output_type": "execute_result"
    }
   ],
   "source": [
    "#Most of the Viz genes were found\n",
    "print(len(viz_genes))\n",
    "len(viz_genes.intersection(seqs.keys()))"
   ]
  },
  {
   "cell_type": "code",
   "execution_count": 132,
   "metadata": {},
   "outputs": [
    {
     "name": "stdout",
     "output_type": "stream",
     "text": [
      "10000\n"
     ]
    },
    {
     "data": {
      "text/plain": [
       "9772"
      ]
     },
     "execution_count": 132,
     "metadata": {},
     "output_type": "execute_result"
    }
   ],
   "source": [
    "#Most of the Seq genes were found\n",
    "print(len(seq_genes))\n",
    "len(seq_genes.intersection(seqs.keys()))"
   ]
  },
  {
   "cell_type": "code",
   "execution_count": 133,
   "metadata": {
    "collapsed": true
   },
   "outputs": [],
   "source": [
    "with open('/oak/stanford/groups/horence/rob/isoform_localizations/deepsig/sub_prots.fa','w') as fa:\n",
    "    for gene,seq in seqs.items():\n",
    "        fa.write('>{}\\n{}\\n'.format(gene,seq))"
   ]
  },
  {
   "cell_type": "markdown",
   "metadata": {
    "collapsed": true
   },
   "source": [
    "# Notes on running Deepsig"
   ]
  },
  {
   "cell_type": "markdown",
   "metadata": {},
   "source": [
    "Working in this directory: /oak/stanford/groups/horence/rob/isoform_localizations/deepsig\n",
    "\n",
    "Have a virtualenv with deepsig installed: source .venv/bin/activate\n",
    "\n",
    "(need to ml python/3.9.0 too)\n",
    "\n",
    "then deepsig -h to get the help menu\n",
    "\n",
    "I ran deepsig with: deepsig -f sub_prots.fa -k euk -o results.txt\n",
    "\n",
    "Then copied the outputs to SRRS/inputs/deepsig_results.csv"
   ]
  }
 ],
 "metadata": {
  "kernelspec": {
   "display_name": "Python 3",
   "language": "python",
   "name": "python3"
  },
  "language_info": {
   "codemirror_mode": {
    "name": "ipython",
    "version": 3
   },
   "file_extension": ".py",
   "mimetype": "text/x-python",
   "name": "python",
   "nbconvert_exporter": "python",
   "pygments_lexer": "ipython3",
   "version": "3.6.8"
  }
 },
 "nbformat": 4,
 "nbformat_minor": 2
}
