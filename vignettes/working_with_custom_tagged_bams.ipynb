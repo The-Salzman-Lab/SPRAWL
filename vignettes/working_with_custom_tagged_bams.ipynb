{
 "cells": [
  {
   "cell_type": "markdown",
   "id": "e711bd8d",
   "metadata": {},
   "source": [
    "# SPRAWL usage with custom Tagged BAM files for ReadZS analysis"
   ]
  },
  {
   "cell_type": "code",
   "execution_count": 1,
   "id": "9a5ccffa",
   "metadata": {},
   "outputs": [],
   "source": [
    "from sprawl import vignette, utils\n",
    "import pysam"
   ]
  },
  {
   "cell_type": "markdown",
   "id": "5ca502f9",
   "metadata": {},
   "source": [
    "## BAM files used in SPRAWL paper have a custom 'XO' tag to specify cell-type\n",
    "\n",
    "We need to calculate ReadZS-proxy scores per gene per cell-type from the 10X single-cell RNA seq data\n",
    "\n",
    "Normally cell-type metadata is stored in a separate .csv/.tsv file from the aligned .bam file from the scRNAseq dataset, and cross-referenced with the cell-barcode, but we've made the decision to directly include the cell-type info inside the .bam\n",
    "\n",
    "This is possible because the .sam/.bam standard, [described here](https://samtools.github.io/hts-specs/SAMv1.pdf), allows for the use of \"end-user defined tags\" which start with 'X?'. We've used the `XO` tag to include the `cell-type` data.\n",
    "\n",
    "**What are .bam tags?**\n",
    "They are fields for extra information at the end of each read alignment line which provide direct and metadata info for things such as:\n",
    "* `NH` Number of alignments\n",
    "* `AS` Alignment score\n",
    "* `CB` cellular barcode (applicable for scRNAseq, but not bulk sequencing)\n",
    "* `RG` read-group\n",
    "* ...\n",
    "\n",
    ".bam tags work as key-value pairs like a python `dict` with a two-letter key and then a value.\n",
    "For a full list of reserved and user-definable tags refer to [here](https://samtools.github.io/hts-specs/SAMtags.pdf).\n",
    "\n",
    "**How do I work with .bam tags in python?**\n",
    "One option, and the one used by `SPRAWL`, is to use the `pysam` package which makes it easy to access and modify tags from .bam `AlignmentFiles`. Below is an example of how to view .bam tags in pysam. These files are included as vignette data in the `SPRAWL` package and shouldn't need to be downloaded separately.\n",
    "\n",
    "\n",
    "**Description of subsequent code**\n",
    "1. Create a helper function `summarize_read` which takes a `pysam` read object as input and prints out mapping information and also .bam tag info in a nice table.\n",
    "  \n",
    "2. Read in a .bam file which **DOES NOT** have `XO` tags for the mappings and print out the 1st read to show this\n",
    "\n",
    "3. Read in an identical .bam file which **DOES** have `XO` tags for the mappings and print out the 1st read to show this. The 1st read is from an `L5_IT` typed cell"
   ]
  },
  {
   "cell_type": "code",
   "execution_count": 2,
   "id": "f9c9e13b",
   "metadata": {},
   "outputs": [
    {
     "name": "stdout",
     "output_type": "stream",
     "text": [
      "There are 3441 reads in the UNTAGGED bam\n",
      "Read name  : A00177:68:HJW2TDSXX:3:1373:10357:10755\n",
      "Read seq   : GGCTTTTTTTTTTTTTTTTTTTTTTTTTGGAGTCCACCTTCTTGAGTTCTTTATATATATTGGATATTAGTCCCCTATCCGATTTGGGATA\n",
      "Map flag   : 16\n",
      "Map pos    : 3000094\n",
      "Map contig : chr1\n",
      "Map quality: 255\n",
      "CIGAR      : 22M15932N69M\n",
      "\n",
      "      Meaning       Tag       Value\n",
      "------------------|----|---------------------\n",
      "Num alignments    | NH | 1\n",
      "Alignment score   | AS | 80\n",
      "Sample barcode    | BC | TCGGCGTC\n",
      "Cellular barcode  | CB | TACCTCGTCAGCTTCC-1\n",
      "Cell-type         | XO | [TAG ABSENT]\n",
      "\n",
      "\n",
      "There are 3441 reads in the TAGGED bam\n",
      "Read name  : A00177:68:HJW2TDSXX:3:1373:10357:10755\n",
      "Read seq   : GGCTTTTTTTTTTTTTTTTTTTTTTTTTGGAGTCCACCTTCTTGAGTTCTTTATATATATTGGATATTAGTCCCCTATCCGATTTGGGATA\n",
      "Map flag   : 16\n",
      "Map pos    : 3000094\n",
      "Map contig : chr1\n",
      "Map quality: 255\n",
      "CIGAR      : 22M15932N69M\n",
      "\n",
      "      Meaning       Tag       Value\n",
      "------------------|----|---------------------\n",
      "Num alignments    | NH | 1\n",
      "Alignment score   | AS | 80\n",
      "Sample barcode    | BC | TCGGCGTC\n",
      "Cellular barcode  | CB | TACCTCGTCAGCTTCC-1\n",
      "Cell-type         | XO | L5_IT\n"
     ]
    }
   ],
   "source": [
    "def summarize_read(r):\n",
    "    \"\"\"\n",
    "    Function to pretty print fields from a pysam read\n",
    "    \"\"\"\n",
    "    #only printing a subset of the tags\n",
    "    #meanings for all tags taken from https://samtools.github.io/hts-specs/SAMtags.pdf\n",
    "    tag_meanings = {\n",
    "        'NH':'Num alignments  ',\n",
    "        'AS':'Alignment score ',\n",
    "        'BC':'Sample barcode  ',\n",
    "        'CB':'Cellular barcode',\n",
    "        'XO':'Cell-type       ',\n",
    "    }\n",
    "    \n",
    "    print('Read name  :',r.qname)\n",
    "    print('Read seq   :',r.seq)\n",
    "    print('Map flag   :',r.flag)\n",
    "    print('Map pos    :',r.pos)\n",
    "    print('Map contig :',r.reference_name)\n",
    "    print('Map quality:',r.mapq)\n",
    "    print('CIGAR      :',r.cigarstring)\n",
    "    \n",
    "    print('\\n      Meaning       Tag       Value')\n",
    "    print('------------------|----|---------------------')\n",
    "    \n",
    "    for tag,meaning in tag_meanings.items():\n",
    "        #pysam read object `has_tag` and `get_tag` accessors are helpful\n",
    "        if r.has_tag(tag):\n",
    "            v = r.get_tag(tag)\n",
    "        else:\n",
    "            v = '[TAG ABSENT]'\n",
    "        print(f'{meaning}  | {tag} | {v}')\n",
    "        \n",
    "        \n",
    "#path to bam file WITHOUT cell-type annotations in the included vignette data\n",
    "untagged_bam_path = vignette.get_data_path('no_ont.bam')\n",
    "\n",
    "with pysam.AlignmentFile(untagged_bam_path) as bam:\n",
    "    print('There are',bam.count(),'reads in the UNTAGGED bam')\n",
    "\n",
    "    #extract the first read from the bam to show what fields it has\n",
    "    r = next(bam.fetch())\n",
    "    summarize_read(r)\n",
    "    \n",
    "print('')\n",
    "print('')\n",
    "    \n",
    "#path to the same bam file WITH cell-type annotations in the included vignette data\n",
    "tagged_bam_path = vignette.get_data_path('ont_ann.bam')\n",
    "\n",
    "with pysam.AlignmentFile(tagged_bam_path) as bam:\n",
    "    print('There are',bam.count(),'reads in the TAGGED bam')\n",
    "\n",
    "    #extract the first read from the bam to show what fields it has\n",
    "    r = next(bam.fetch())\n",
    "    summarize_read(r)\n",
    "    "
   ]
  },
  {
   "cell_type": "markdown",
   "id": "4c11d0e3",
   "metadata": {},
   "source": [
    "## How to add tags to bam files using `pysam`\n",
    "\n",
    "Small example showing how the 'XO' tag was added to the .bam files for SPRAWL. The organization of your cell-type metadata might be different, but there needs to be some mapping from cell-barcode to cell-type"
   ]
  },
  {
   "cell_type": "code",
   "execution_count": 3,
   "id": "6c73f2b8",
   "metadata": {},
   "outputs": [
    {
     "name": "stdout",
     "output_type": "stream",
     "text": [
      "CPU times: user 158 ms, sys: 6.75 ms, total: 165 ms\n",
      "Wall time: 677 ms\n"
     ]
    },
    {
     "data": {
      "text/plain": [
       "''"
      ]
     },
     "execution_count": 3,
     "metadata": {},
     "output_type": "execute_result"
    }
   ],
   "source": [
    "%%time\n",
    "#path to bam file WITHOUT cell-type annotations in the included vignette data\n",
    "untagged_bam_path = vignette.get_data_path('no_ont.bam')\n",
    "in_bam = pysam.AlignmentFile(untagged_bam_path)\n",
    "\n",
    "#create an output bam which will have the XO tag added for each read\n",
    "tagged_out_bam_path = 'out.bam'\n",
    "out_bam = pysam.AlignmentFile('out.bam', 'wb', template=in_bam)\n",
    "\n",
    "#need to have some mapping from Cell-barcode to cell-type (maybe a .csv/.tsv?)\n",
    "#this is just an example, so I'm creating fake data as a dict\n",
    "barcode_to_celltype = {\n",
    "    'ACATCCCAGACTGGGT-1':'L5_CT',\n",
    "    'CAACGGCCAGAGATTA-1':'L6_CT',\n",
    "    'CACACAAAGCTATCTG-1':'Oligodendrocyte',\n",
    "    'GGTTCTCCAGCTACCG-1':'Astrocyte',\n",
    "    'TACCTCGTCAGCTTCC-1':'L5_IT',\n",
    "    'TATTGGGAGATGCTAA-1':'PVALB',\n",
    "}\n",
    "\n",
    "\n",
    "#iterate through the reads in the input bam\n",
    "#  1. Get the cell barcode from the read\n",
    "#  2. Get the associated celltype from our mapping above (or 'no_celltype' if no match)\n",
    "#  3. Set the 'XO' tag to be the cell_type on our read\n",
    "#  4. Write out the read to the new .bam file\n",
    "for r in in_bam.fetch():\n",
    "    barcode = r.get_tag('CB')\n",
    "    cell_type = barcode_to_celltype.get(barcode,'no_celltype')\n",
    "    r.set_tag('XO',cell_type)\n",
    "\n",
    "    out_bam.write(r)\n",
    "    \n",
    "\n",
    "#close the file handles\n",
    "out_bam.close()\n",
    "in_bam.close()\n",
    "\n",
    "\n",
    "#create a .bam.bai index for the new file (needed for .fetch access)\n",
    "#don't need to sort because the reads were already sorted in the in_bam file\n",
    "pysam.index(tagged_out_bam_path)\n",
    "\n",
    "#very fast for this example dataset which only has 3,441 reads\n",
    "#can be slow on large .bam files since it processes one read at a time"
   ]
  },
  {
   "cell_type": "code",
   "execution_count": 4,
   "id": "50ccc977",
   "metadata": {},
   "outputs": [
    {
     "name": "stdout",
     "output_type": "stream",
     "text": [
      "Read name  : A00177:68:HJW2TDSXX:3:1373:10357:10755\n",
      "Read seq   : GGCTTTTTTTTTTTTTTTTTTTTTTTTTGGAGTCCACCTTCTTGAGTTCTTTATATATATTGGATATTAGTCCCCTATCCGATTTGGGATA\n",
      "Map flag   : 16\n",
      "Map pos    : 3000094\n",
      "Map contig : chr1\n",
      "Map quality: 255\n",
      "CIGAR      : 22M15932N69M\n",
      "\n",
      "      Meaning       Tag       Value\n",
      "------------------|----|---------------------\n",
      "Num alignments    | NH | 1\n",
      "Alignment score   | AS | 80\n",
      "Sample barcode    | BC | TCGGCGTC\n",
      "Cellular barcode  | CB | TACCTCGTCAGCTTCC-1\n",
      "Cell-type         | XO | L5_IT\n"
     ]
    }
   ],
   "source": [
    "#read in the created output file and make sure that there is now an XO tag (just checking the first read)\n",
    "with pysam.AlignmentFile(tagged_out_bam_path) as bam:\n",
    "    r = next(bam.fetch())\n",
    "    summarize_read(r)"
   ]
  },
  {
   "cell_type": "markdown",
   "id": "34403907",
   "metadata": {},
   "source": [
    "## Calculating ReadZS proxy scores from the example bam with the 'XO' tag"
   ]
  },
  {
   "cell_type": "code",
   "execution_count": 5,
   "id": "5c60be21",
   "metadata": {},
   "outputs": [
    {
     "data": {
      "text/html": [
       "<div>\n",
       "<style scoped>\n",
       "    .dataframe tbody tr th:only-of-type {\n",
       "        vertical-align: middle;\n",
       "    }\n",
       "\n",
       "    .dataframe tbody tr th {\n",
       "        vertical-align: top;\n",
       "    }\n",
       "\n",
       "    .dataframe thead th {\n",
       "        text-align: right;\n",
       "    }\n",
       "</style>\n",
       "<table border=\"1\" class=\"dataframe\">\n",
       "  <thead>\n",
       "    <tr style=\"text-align: right;\">\n",
       "      <th></th>\n",
       "      <th>chrom</th>\n",
       "      <th>pos</th>\n",
       "      <th>cell_type</th>\n",
       "    </tr>\n",
       "  </thead>\n",
       "  <tbody>\n",
       "    <tr>\n",
       "      <th>0</th>\n",
       "      <td>chr1</td>\n",
       "      <td>3000094</td>\n",
       "      <td>L5_IT</td>\n",
       "    </tr>\n",
       "    <tr>\n",
       "      <th>1</th>\n",
       "      <td>chr1</td>\n",
       "      <td>3000097</td>\n",
       "      <td>L6_IT</td>\n",
       "    </tr>\n",
       "    <tr>\n",
       "      <th>2</th>\n",
       "      <td>chr1</td>\n",
       "      <td>3000255</td>\n",
       "      <td>L6_IT</td>\n",
       "    </tr>\n",
       "    <tr>\n",
       "      <th>3</th>\n",
       "      <td>chr1</td>\n",
       "      <td>3000264</td>\n",
       "      <td>L6_IT</td>\n",
       "    </tr>\n",
       "    <tr>\n",
       "      <th>4</th>\n",
       "      <td>chr1</td>\n",
       "      <td>3000333</td>\n",
       "      <td>L5_IT</td>\n",
       "    </tr>\n",
       "    <tr>\n",
       "      <th>...</th>\n",
       "      <td>...</td>\n",
       "      <td>...</td>\n",
       "      <td>...</td>\n",
       "    </tr>\n",
       "    <tr>\n",
       "      <th>3436</th>\n",
       "      <td>JH584295.1</td>\n",
       "      <td>69</td>\n",
       "      <td>L56_NP</td>\n",
       "    </tr>\n",
       "    <tr>\n",
       "      <th>3437</th>\n",
       "      <td>JH584295.1</td>\n",
       "      <td>69</td>\n",
       "      <td>L6_CT</td>\n",
       "    </tr>\n",
       "    <tr>\n",
       "      <th>3438</th>\n",
       "      <td>JH584295.1</td>\n",
       "      <td>69</td>\n",
       "      <td>L23_IT</td>\n",
       "    </tr>\n",
       "    <tr>\n",
       "      <th>3439</th>\n",
       "      <td>JH584295.1</td>\n",
       "      <td>69</td>\n",
       "      <td>L23_IT</td>\n",
       "    </tr>\n",
       "    <tr>\n",
       "      <th>3440</th>\n",
       "      <td>JH584295.1</td>\n",
       "      <td>70</td>\n",
       "      <td>L5_IT</td>\n",
       "    </tr>\n",
       "  </tbody>\n",
       "</table>\n",
       "<p>3441 rows × 3 columns</p>\n",
       "</div>"
      ],
      "text/plain": [
       "           chrom      pos cell_type\n",
       "0           chr1  3000094     L5_IT\n",
       "1           chr1  3000097     L6_IT\n",
       "2           chr1  3000255     L6_IT\n",
       "3           chr1  3000264     L6_IT\n",
       "4           chr1  3000333     L5_IT\n",
       "...          ...      ...       ...\n",
       "3436  JH584295.1       69    L56_NP\n",
       "3437  JH584295.1       69     L6_CT\n",
       "3438  JH584295.1       69    L23_IT\n",
       "3439  JH584295.1       69    L23_IT\n",
       "3440  JH584295.1       70     L5_IT\n",
       "\n",
       "[3441 rows x 3 columns]"
      ]
     },
     "execution_count": 5,
     "metadata": {},
     "output_type": "execute_result"
    }
   ],
   "source": [
    "#visualizing the read buildup of the example data\n",
    "import pandas as pd\n",
    "import matplotlib.pyplot as plt\n",
    "import seaborn as sns\n",
    "\n",
    "data = {\n",
    "    'chrom':[],\n",
    "    'pos':[],\n",
    "    'cell_type':[],\n",
    "}\n",
    "\n",
    "tagged_bam_path = vignette.get_data_path('ont_ann.bam')\n",
    "\n",
    "with pysam.AlignmentFile(tagged_bam_path) as bam:\n",
    "    for r in bam.fetch():\n",
    "        data['chrom'].append(r.reference_name)\n",
    "        data['pos'].append(r.pos)\n",
    "        data['cell_type'].append(r.get_tag('XO'))\n",
    "        \n",
    "read_pos_df = pd.DataFrame(data)\n",
    "read_pos_df"
   ]
  },
  {
   "cell_type": "code",
   "execution_count": 6,
   "id": "39f31258",
   "metadata": {},
   "outputs": [
    {
     "data": {
      "text/html": [
       "<div>\n",
       "<style scoped>\n",
       "    .dataframe tbody tr th:only-of-type {\n",
       "        vertical-align: middle;\n",
       "    }\n",
       "\n",
       "    .dataframe tbody tr th {\n",
       "        vertical-align: top;\n",
       "    }\n",
       "\n",
       "    .dataframe thead th {\n",
       "        text-align: right;\n",
       "    }\n",
       "</style>\n",
       "<table border=\"1\" class=\"dataframe\">\n",
       "  <thead>\n",
       "    <tr style=\"text-align: right;\">\n",
       "      <th></th>\n",
       "      <th>chrom</th>\n",
       "      <th>cell_type</th>\n",
       "      <th>num_reads</th>\n",
       "      <th>chrom_sum</th>\n",
       "    </tr>\n",
       "  </thead>\n",
       "  <tbody>\n",
       "    <tr>\n",
       "      <th>392</th>\n",
       "      <td>chr5</td>\n",
       "      <td>L23_IT</td>\n",
       "      <td>36</td>\n",
       "      <td>73</td>\n",
       "    </tr>\n",
       "    <tr>\n",
       "      <th>393</th>\n",
       "      <td>chr5</td>\n",
       "      <td>L5_IT</td>\n",
       "      <td>24</td>\n",
       "      <td>73</td>\n",
       "    </tr>\n",
       "    <tr>\n",
       "      <th>394</th>\n",
       "      <td>chr5</td>\n",
       "      <td>L6_CT</td>\n",
       "      <td>5</td>\n",
       "      <td>73</td>\n",
       "    </tr>\n",
       "    <tr>\n",
       "      <th>396</th>\n",
       "      <td>chr5</td>\n",
       "      <td>Sst</td>\n",
       "      <td>1</td>\n",
       "      <td>73</td>\n",
       "    </tr>\n",
       "    <tr>\n",
       "      <th>395</th>\n",
       "      <td>chr5</td>\n",
       "      <td>L6_IT</td>\n",
       "      <td>7</td>\n",
       "      <td>73</td>\n",
       "    </tr>\n",
       "    <tr>\n",
       "      <th>288</th>\n",
       "      <td>chr1</td>\n",
       "      <td>L56_NP</td>\n",
       "      <td>3</td>\n",
       "      <td>71</td>\n",
       "    </tr>\n",
       "  </tbody>\n",
       "</table>\n",
       "</div>"
      ],
      "text/plain": [
       "    chrom cell_type  num_reads  chrom_sum\n",
       "392  chr5    L23_IT         36         73\n",
       "393  chr5     L5_IT         24         73\n",
       "394  chr5     L6_CT          5         73\n",
       "396  chr5       Sst          1         73\n",
       "395  chr5     L6_IT          7         73\n",
       "288  chr1    L56_NP          3         71"
      ]
     },
     "execution_count": 6,
     "metadata": {},
     "output_type": "execute_result"
    }
   ],
   "source": [
    "#chr5 has the most number of reads (73) and 5 different cell-types with between 1 and 36 reads\n",
    "#(this is very sparse example data)\n",
    "reads_per_chrom_ct = read_pos_df.groupby(['chrom','cell_type']).size().reset_index(name='num_reads')\n",
    "reads_per_chrom_ct['chrom_sum'] = reads_per_chrom_ct.groupby('chrom')['num_reads'].transform('sum')\n",
    "\n",
    "reads_per_chrom_ct.sort_values('chrom_sum', ascending=False).head(6)"
   ]
  },
  {
   "cell_type": "code",
   "execution_count": 7,
   "id": "e1c32803",
   "metadata": {},
   "outputs": [
    {
     "data": {
      "image/png": "[encoded data removed]",
      "text/plain": [
       "<Figure size 594.75x500 with 1 Axes>"
      ]
     },
     "metadata": {},
     "output_type": "display_data"
    }
   ],
   "source": [
    "#visualizing the distribution of reads for each cell-type on chr5 in the example data\n",
    "\n",
    "plot_df = read_pos_df[\n",
    "    read_pos_df['chrom'].eq('chr5') #select reads mapping to chr5\n",
    "    & read_pos_df['cell_type'].ne('Sst') #skip SST since it only has 1 read\n",
    "]\n",
    "\n",
    "sns.displot(\n",
    "    x = 'pos',\n",
    "    kind = 'kde',\n",
    "    hue = 'cell_type',\n",
    "    data = plot_df,\n",
    ")\n",
    "plt.show()\n",
    "plt.close()"
   ]
  },
  {
   "cell_type": "code",
   "execution_count": 8,
   "id": "004517a2",
   "metadata": {},
   "outputs": [
    {
     "data": {
      "text/plain": [
       "{'All': 0.4405743784489408}"
      ]
     },
     "execution_count": 8,
     "metadata": {},
     "output_type": "execute_result"
    }
   ],
   "source": [
    "#ReadZS proxy score for the region above, treating all reads as if they are from the same cell-type 'All'\n",
    "#the value of 0.44 makes intuitive sense since the 'read-mass' is shifted to the right of the middle of this region\n",
    "\n",
    "readzs_scores = utils.readzs_proxy_score(\n",
    "    bam_path = vignette.get_data_path('ont_ann.bam'),\n",
    "    locus = ('chr5',3002511,3019364), #this is the region for the graph above, would be gene 3' UTR in real analysis\n",
    "    #strand = '+', #select only reads on this specific strand, uses both strands if not specified\n",
    "    #stratify_tag = 'XO', #which .bam tag to stratify by? if not specified, all reads are considered part of 'All'\n",
    "    #min_tag_reads = 1, #require at least x reads for an ontology to be included (over any number of cells)\n",
    ")\n",
    "\n",
    "readzs_scores"
   ]
  },
  {
   "cell_type": "code",
   "execution_count": 9,
   "id": "e33ecd84",
   "metadata": {},
   "outputs": [
    {
     "data": {
      "text/plain": [
       "{'L23_IT': 0.4354714294190945,\n",
       " 'L5_IT': 0.450542930042129,\n",
       " 'L6_CT': 0.44603334717854387,\n",
       " 'L6_IT': 0.4955200854447279}"
      ]
     },
     "execution_count": 9,
     "metadata": {},
     "output_type": "execute_result"
    }
   ],
   "source": [
    "#ReadZS scores per cell-type (stratified by the 'XO' tag) are all similar\n",
    "#L6_CT has the largest ReadZS score meaning that it is the most 'right-shifted' which looks correct in the graph above\n",
    "\n",
    "readzs_scores = utils.readzs_proxy_score(\n",
    "    bam_path = vignette.get_data_path('ont_ann.bam'),\n",
    "    locus = ('chr5',3002511,3019364), #this is the region for the graph above\n",
    "    stratify_tag = 'XO', #stratify by the 'XO' .bam tag\n",
    "    min_tag_reads = 2, #require at least 2 reads for a cell-type to be included\n",
    ")\n",
    "\n",
    "readzs_scores"
   ]
  },
  {
   "cell_type": "markdown",
   "id": "60287352",
   "metadata": {},
   "source": [
    "## Closing thoughts\n",
    "\n",
    "* The .bam files used by SPRAWL for ReadZS-proxy analysis have an extra 'XO' tag which stores the cell-type data directly in the .bam file, which is arguably a good idea or not\n",
    "\n",
    "* `pysam` can be used to create a new .bam file with 'XO' tags from an existing .bam (with cell-barcode to cell-type mapping)\n",
    "\n",
    "* the `utils.readzs_proxy_score` function can be run on bams that don't have 'XO' tags, in which case it assumes all reads originate from the same cell-type `'All'`. Can also be run on files with 'XO' tags to get a cell-type specific\n",
    "\n",
    "* the notebook analysis/localization_regulation_by_cis_element/merfish_BICCN.ipynb shows how `utils.readzs_proxy_score` in the SPRAWL paper"
   ]
  }
 ],
 "metadata": {
  "kernelspec": {
   "display_name": "Python 3 (ipykernel)",
   "language": "python",
   "name": "python3"
  },
  "language_info": {
   "codemirror_mode": {
    "name": "ipython",
    "version": 3
   },
   "file_extension": ".py",
   "mimetype": "text/x-python",
   "name": "python",
   "nbconvert_exporter": "python",
   "pygments_lexer": "ipython3",
   "version": "3.9.0"
  }
 },
 "nbformat": 4,
 "nbformat_minor": 5
}
