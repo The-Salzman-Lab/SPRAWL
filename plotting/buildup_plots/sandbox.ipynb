{
 "cells": [
  {
   "cell_type": "code",
   "execution_count": 77,
   "metadata": {
    "collapsed": true
   },
   "outputs": [],
   "source": []
  },
  {
   "cell_type": "code",
   "execution_count": 98,
   "metadata": {},
   "outputs": [
    {
     "data": {
      "text/html": [
       "<strong>png:</strong> 2"
      ],
      "text/latex": [
       "\\textbf{png:} 2"
      ],
      "text/markdown": [
       "**png:** 2"
      ],
      "text/plain": [
       "png \n",
       "  2 "
      ]
     },
     "metadata": {},
     "output_type": "display_data"
    }
   ],
   "source": [
    "library(Gviz)\n",
    "library(GenomicFeatures)\n",
    "library(data.table)\n",
    "\n",
    "options(ucscChromosomeNames=FALSE)\n",
    "\n",
    "#Manually setting gene and cell-types to plot\n",
    "gene_name = \"Timp3\"\n",
    "cell_types = c(\"L6_IT\",\"Astro\",\"SMC\")\n",
    "colors = c(\"#2777B1\",\"#9667BA\",\"#3EBECD\")\n",
    "\n",
    "txdb_path = \"txdb.mm10.sqlite\"\n",
    "bed_path = \"MERFISH_genes.bed\"\n",
    "bam_stem = \"/scratch/groups/horence/rob/data/MERFISH_scRNAseq/10X_mapping/merged_by_celltype/\"        \n",
    "bam_paths = Sys.glob(paste(bam_stem,\"*.bam\",sep=\"\"))\n",
    "                                         \n",
    "gene_locs = fread(bed_path)\n",
    "gene_row = gene_locs[gene == gene_name]\n",
    "\n",
    "\n",
    "chr = gene_row[, get(\"#chr\")]\n",
    "window_start = gene_row$start\n",
    "window_end   = gene_row$end\n",
    "gene_strand  = gene_row$strand\n",
    "outfile = paste(gene_name,\"correct_strand_only.png\",sep=\"\")\n",
    "tracks = list()\n",
    "\n",
    "\n",
    "                                         \n",
    "####################################\n",
    "#                                  #\n",
    "#                                  #\n",
    "#            Gene Track            #\n",
    "#                                  #\n",
    "#                                  #\n",
    "####################################\n",
    "txdb = loadDb(txdb_path)\n",
    "\n",
    "geneTrack = GeneRegionTrack(\n",
    "    range = txdb,\n",
    "    chromosome = chr,\n",
    "    start = window_start,\n",
    "    end = window_end,\n",
    "    strand = gene_strand,\n",
    "    name = gene_name,\n",
    ")\n",
    "\n",
    "geneTrack <- geneTrack[\n",
    "    gene(geneTrack) == gene_name\n",
    "]\n",
    "tracks = append(tracks,geneTrack)\n",
    "\n",
    "####################################\n",
    "#                                  #\n",
    "#                                  #\n",
    "#            Data Tracks           #\n",
    "#                                  #\n",
    "#                                  #\n",
    "####################################\n",
    "data_tracks = list()\n",
    "\n",
    "for(i in 1:length(cell_types)){\n",
    "    ct = cell_types[[i]]\n",
    "    ct = sub(\" \",\"_\",ct)\n",
    "        \n",
    "    cov_track = AlignmentsTrack(\n",
    "        range = paste(bam_stem,ct,\".bam\",sep=\"\"),\n",
    "        name = ct,\n",
    "        chromosome = chr,\n",
    "        col = colors[[i]],\n",
    "        fill = colors[[i]],\n",
    "        strand = gene_strand,\n",
    "        legend = TRUE,\n",
    "        type = \"coverage\",\n",
    "    )\n",
    "    data_tracks = append(data_tracks,cov_track)\n",
    "}\n",
    "tracks = append(tracks, data_tracks)\n",
    "\n",
    "####################################\n",
    "#                                  #\n",
    "#                                  #\n",
    "#            Plotting              #\n",
    "#                                  #\n",
    "#                                  #\n",
    "####################################\n",
    "png(outfile, width = 800, height = 400)\n",
    "par(mar=c(5,6,4,1)+.1)\n",
    "\n",
    "plotTracks(\n",
    "    tracks,\n",
    "    sizes = rep(1/length(tracks),length(tracks)), #give equal vertical space to each plot\n",
    "    from = window_start, \n",
    "    to = window_end,\n",
    "    thinBoxFeature = \"UTR\",\n",
    "    collapse = F,\n",
    "    transcriptAnnotation = \"gene\",\n",
    "    fontcolor.exon = \"black\"\n",
    ")\n",
    "\n",
    "dev.off()"
   ]
  },
  {
   "cell_type": "code",
   "execution_count": 96,
   "metadata": {},
   "outputs": [
    {
     "data": {
      "text/html": [
       "<style>\n",
       ".list-inline {list-style: none; margin:0; padding: 0}\n",
       ".list-inline>li {display: inline-block}\n",
       ".list-inline>li:not(:last-child)::after {content: \"\\00b7\"; padding: 0 .5ex}\n",
       "</style>\n",
       "<ol class=list-inline><li>0.25</li><li>0.25</li><li>0.25</li><li>0.25</li></ol>\n"
      ],
      "text/latex": [
       "\\begin{enumerate*}\n",
       "\\item 0.25\n",
       "\\item 0.25\n",
       "\\item 0.25\n",
       "\\item 0.25\n",
       "\\end{enumerate*}\n"
      ],
      "text/markdown": [
       "1. 0.25\n",
       "2. 0.25\n",
       "3. 0.25\n",
       "4. 0.25\n",
       "\n",
       "\n"
      ],
      "text/plain": [
       "[1] 0.25 0.25 0.25 0.25"
      ]
     },
     "metadata": {},
     "output_type": "display_data"
    }
   ],
   "source": []
  },
  {
   "cell_type": "code",
   "execution_count": 57,
   "metadata": {},
   "outputs": [
    {
     "data": {
      "text/html": [
       "<ol>\n",
       "\t<li>'L6_IT'</li>\n",
       "</ol>\n"
      ],
      "text/latex": [
       "\\begin{enumerate}\n",
       "\\item 'L6\\_IT'\n",
       "\\end{enumerate}\n"
      ],
      "text/markdown": [
       "1. 'L6_IT'\n",
       "\n",
       "\n"
      ],
      "text/plain": [
       "[[1]]\n",
       "[1] \"L6_IT\"\n"
      ]
     },
     "metadata": {},
     "output_type": "display_data"
    }
   ],
   "source": [
    "list(ct)"
   ]
  },
  {
   "cell_type": "code",
   "execution_count": 68,
   "metadata": {},
   "outputs": [
    {
     "ename": "ERROR",
     "evalue": "Error in parse(text = x, srcfile = src): <text>:2:0: unexpected end of input\n1: cov_track$\n   ^\n",
     "output_type": "error",
     "traceback": [
      "Error in parse(text = x, srcfile = src): <text>:2:0: unexpected end of input\n1: cov_track$\n   ^\nTraceback:\n"
     ]
    }
   ],
   "source": [
    "cov_track"
   ]
  },
  {
   "cell_type": "code",
   "execution_count": 66,
   "metadata": {},
   "outputs": [
    {
     "data": {
      "text/html": [
       "0"
      ],
      "text/latex": [
       "0"
      ],
      "text/markdown": [
       "0"
      ],
      "text/plain": [
       "[1] 0"
      ]
     },
     "metadata": {},
     "output_type": "display_data"
    }
   ],
   "source": [
    "sum(values(cov_track))"
   ]
  },
  {
   "cell_type": "code",
   "execution_count": 65,
   "metadata": {},
   "outputs": [
    {
     "data": {
      "text/html": [],
      "text/latex": [],
      "text/markdown": [],
      "text/plain": [
       "<0 x 0 matrix>"
      ]
     },
     "metadata": {},
     "output_type": "display_data"
    }
   ],
   "source": [
    "values(cov_track)/100"
   ]
  },
  {
   "cell_type": "code",
   "execution_count": 54,
   "metadata": {},
   "outputs": [
    {
     "name": "stderr",
     "output_type": "stream",
     "text": [
      "Warning message in min(x, na.rm = na.rm):\n",
      "\"no non-missing arguments to min; returning Inf\"\n",
      "Warning message in max(x, na.rm = na.rm):\n",
      "\"no non-missing arguments to max; returning -Inf\"\n"
     ]
    },
    {
     "data": {
      "text/html": [
       "<style>\n",
       ".list-inline {list-style: none; margin:0; padding: 0}\n",
       ".list-inline>li {display: inline-block}\n",
       ".list-inline>li:not(:last-child)::after {content: \"\\00b7\"; padding: 0 .5ex}\n",
       "</style>\n",
       "<ol class=list-inline><li>Inf</li><li>-Inf</li></ol>\n"
      ],
      "text/latex": [
       "\\begin{enumerate*}\n",
       "\\item Inf\n",
       "\\item -Inf\n",
       "\\end{enumerate*}\n"
      ],
      "text/markdown": [
       "1. Inf\n",
       "2. -Inf\n",
       "\n",
       "\n"
      ],
      "text/plain": [
       "[1]  Inf -Inf"
      ]
     },
     "metadata": {},
     "output_type": "display_data"
    }
   ],
   "source": [
    "range(values(cov_track))"
   ]
  },
  {
   "cell_type": "code",
   "execution_count": 23,
   "metadata": {},
   "outputs": [
    {
     "data": {
      "text/html": [
       "<strong>png:</strong> 3"
      ],
      "text/latex": [
       "\\textbf{png:} 3"
      ],
      "text/markdown": [
       "**png:** 3"
      ],
      "text/plain": [
       "png \n",
       "  3 "
      ]
     },
     "metadata": {},
     "output_type": "display_data"
    }
   ],
   "source": [
    "dev.off()"
   ]
  },
  {
   "cell_type": "code",
   "execution_count": 17,
   "metadata": {
    "collapsed": true
   },
   "outputs": [],
   "source": [
    "data(twoGroups)"
   ]
  },
  {
   "cell_type": "code",
   "execution_count": 18,
   "metadata": {},
   "outputs": [
    {
     "data": {
      "text/plain": [
       "GRanges object with 25 ranges and 6 metadata columns:\n",
       "       seqnames    ranges strand |           control          control.1\n",
       "          <Rle> <IRanges>  <Rle> |         <numeric>          <numeric>\n",
       "   [1]     chrX      1-30      * | -8.96125989500433  -7.65790161676705\n",
       "   [2]     chrX     42-71      * |  -4.2114706709981    4.6882571419701\n",
       "   [3]     chrX    84-113      * |  2.28711236733943   8.01326935179532\n",
       "   [4]     chrX   125-154      * |  9.20983788557351  -6.23242623638362\n",
       "   [5]     chrX   167-196      * | 0.406841854564846  -7.05442394595593\n",
       "   ...      ...       ...    ... .               ...                ...\n",
       "  [21]     chrX   833-862      * |  2.71242363378406   7.53853759262711\n",
       "  [22]     chrX   875-904      * | 0.727043347433209 -0.950022372417152\n",
       "  [23]     chrX   916-945      * |   7.3868807638064    4.8170017497614\n",
       "  [24]     chrX   958-987      * | -5.54162500426173  -2.23117967601866\n",
       "  [25]     chrX 1000-1029      * | -1.13912807777524   2.86112546455115\n",
       "                control.2           treated         treated.1         treated.2\n",
       "                <numeric>         <numeric>         <numeric>         <numeric>\n",
       "   [1]   9.87956526689231 -5.84375557024032  9.71352839842439  9.99328563921154\n",
       "   [2]   -1.0533055011183  1.03083667811006 -6.77430204115808 0.593712376430631\n",
       "   [3]   -7.1219984581694 -4.46718293242157 -4.05887754634023  8.05319488979876\n",
       "   [4]   8.59682233538479 -6.32041404955089 -1.56806231010705   3.5114610241726\n",
       "   [5] -0.551973707042634  9.36362744309008 -4.88056596834213  1.55288028530777\n",
       "   ...                ...               ...               ...               ...\n",
       "  [21]   6.56280730385333 -3.42396105173975 -25.0159116648138 -14.8638874059543\n",
       "  [22]  -7.63786241877824 -28.9633466186933 -15.0660670618527 -26.3618095312268\n",
       "  [23]   3.64003846421838 -7.59088161867112  5.14691891148686 -5.80431585200131\n",
       "  [24]  -4.65625441167504  7.04729768447578 -7.55597376730293 -8.46893921960145\n",
       "  [25]    8.1775445304811 -5.34924863371998 0.874496018514037 -6.32030902896076\n",
       "  -------\n",
       "  seqinfo: 1 sequence from hg19 genome; no seqlengths"
      ]
     },
     "metadata": {},
     "output_type": "display_data"
    }
   ],
   "source": [
    "twoGroups"
   ]
  }
 ],
 "metadata": {
  "kernelspec": {
   "display_name": "R",
   "language": "R",
   "name": "ir"
  },
  "language_info": {
   "codemirror_mode": "r",
   "file_extension": ".r",
   "mimetype": "text/x-r-source",
   "name": "R",
   "pygments_lexer": "r",
   "version": "3.6.1"
  }
 },
 "nbformat": 4,
 "nbformat_minor": 2
}
